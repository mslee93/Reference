{
 "cells": [
  {
   "cell_type": "code",
   "execution_count": 6,
   "metadata": {},
   "outputs": [
    {
     "name": "stderr",
     "output_type": "stream",
     "text": [
      "IOPub data rate exceeded.\n",
      "The notebook server will temporarily stop sending output\n",
      "to the client in order to avoid crashing it.\n",
      "To change this limit, set the config variable\n",
      "`--NotebookApp.iopub_data_rate_limit`.\n",
      "\n",
      "Current values:\n",
      "NotebookApp.iopub_data_rate_limit=1000000.0 (bytes/sec)\n",
      "NotebookApp.rate_limit_window=3.0 (secs)\n",
      "\n"
     ]
    }
   ],
   "source": [
    "import requests\n",
    "import xmltodict\n",
    "import json\n",
    "from pprint import pprint as pp\n",
    "import pandas as pd\n",
    "\n",
    "url = 'http://apis.data.go.kr/1262000/CountrySafetyService/getCountrySafetyList'\n",
    "# url = 'http://openapigw.0404.go.kr/openapi/service/CountrySafetyService/getCountrySafetyList'\n",
    "# url = 'http://apis.data.go.kr/1262000/CountrySafetyService'\n",
    "\n",
    "# param = {'serviceKey': 'DVakyFImg2nnG8BxbxduLbQTyAIbxMdop2A9ZapOUHe9smaaVOWkRFHm5aDTOzI5kBeHfCsKziumYj5Tm7Qy9Q==',\n",
    "#          'numOfRows': '10',\n",
    "#          'pageNo': '1',\n",
    "#          'title': '소식',\n",
    "#          'content': '안전여행'}\n",
    "\n",
    "param = {'serviceKey': 'DVakyFImg2nnG8BxbxduLbQTyAIbxMdop2A9ZapOUHe9smaaVOWkRFHm5aDTOzI5kBeHfCsKziumYj5Tm7Qy9Q==',\n",
    "         'numOfRows': '5600',\n",
    "#          'numOfRows': '10',\n",
    "         'pageNo': '1'}\n",
    "\n",
    "s = requests.session()\n",
    "\n",
    "r = s.get(url=url, params=param)\n",
    "\n",
    "content = r.content\n",
    "content = content.decode('utf-8').encode('utf-8')\n",
    "\n",
    "xml = xmltodict.parse(content)\n",
    "dic = json.dumps(xml)\n",
    "dic = json.loads(dic)\n",
    "print(dic)\n",
    "# pp(dic)\n",
    "l = dic['response']['body']['items']['item']\n",
    "total_counts = dic['response']['body']['totalCount']\n",
    "\n",
    "# for ele in l:\n",
    "#     pp(ele)\n",
    "\n",
    "print(total_counts)\n",
    "\n",
    "df = pd.DataFrame(l)\n",
    "df.to_excel(\"test_all.xlsx\", index=False)"
   ]
  },
  {
   "cell_type": "code",
   "execution_count": null,
   "metadata": {},
   "outputs": [],
   "source": []
  }
 ],
 "metadata": {
  "kernelspec": {
   "display_name": "Python 3",
   "language": "python",
   "name": "python3"
  },
  "language_info": {
   "codemirror_mode": {
    "name": "ipython",
    "version": 3
   },
   "file_extension": ".py",
   "mimetype": "text/x-python",
   "name": "python",
   "nbconvert_exporter": "python",
   "pygments_lexer": "ipython3",
   "version": "3.7.7"
  }
 },
 "nbformat": 4,
 "nbformat_minor": 2
}
