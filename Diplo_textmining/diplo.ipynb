{
 "cells": [
  {
   "cell_type": "code",
   "execution_count": 1,
   "metadata": {
    "scrolled": true
   },
   "outputs": [
    {
     "name": "stderr",
     "output_type": "stream",
     "text": [
      "Using TensorFlow backend.\n"
     ]
    }
   ],
   "source": [
    "import pandas as pd\n",
    "import numpy as np\n",
    "from bs4 import BeautifulSoup as bs\n",
    "import konlpy\n",
    "from konlpy.tag import Okt\n",
    "from keras.layers import Embedding, Dense, LSTM, Activation\n",
    "from keras.models import Sequential\n",
    "from keras.preprocessing.sequence import pad_sequences\n",
    "from keras.preprocessing.text import Tokenizer\n",
    "from keras.callbacks import EarlyStopping, ModelCheckpoint\n",
    "from tensorflow.keras.utils import to_categorical\n",
    "from keras import optimizers\n",
    "from keras.wrappers.scikit_learn import KerasClassifier\n",
    "from sklearn.model_selection import train_test_split\n",
    "from sklearn.metrics import accuracy_score\n",
    "import re"
   ]
  },
  {
   "cell_type": "code",
   "execution_count": 7,
   "metadata": {},
   "outputs": [],
   "source": [
    "df = pd.read_excel(\"외교부_알람_input_v0.0.3_요약.xlsx\")"
   ]
  },
  {
   "cell_type": "code",
   "execution_count": 8,
   "metadata": {},
   "outputs": [
    {
     "data": {
      "text/html": [
       "<div>\n",
       "<style scoped>\n",
       "    .dataframe tbody tr th:only-of-type {\n",
       "        vertical-align: middle;\n",
       "    }\n",
       "\n",
       "    .dataframe tbody tr th {\n",
       "        vertical-align: top;\n",
       "    }\n",
       "\n",
       "    .dataframe thead th {\n",
       "        text-align: right;\n",
       "    }\n",
       "</style>\n",
       "<table border=\"1\" class=\"dataframe\">\n",
       "  <thead>\n",
       "    <tr style=\"text-align: right;\">\n",
       "      <th></th>\n",
       "      <th>wrtDt</th>\n",
       "      <th>id</th>\n",
       "      <th>countryName</th>\n",
       "      <th>title</th>\n",
       "      <th>content</th>\n",
       "      <th>Div</th>\n",
       "      <th>Label</th>\n",
       "    </tr>\n",
       "  </thead>\n",
       "  <tbody>\n",
       "    <tr>\n",
       "      <th>0</th>\n",
       "      <td>2020-05-27</td>\n",
       "      <td>ATC0000000007885</td>\n",
       "      <td>미국</td>\n",
       "      <td>미국 입국 전 14일 이상 브라질 체류한 모든 외국인 입국 규제 관련 안내</td>\n",
       "      <td>&amp;nbsp;&amp;nbsp;미국, 입국 전 14일 이상 브라질 체류한 모든 외국인 입국 ...</td>\n",
       "      <td>정보</td>\n",
       "      <td>0</td>\n",
       "    </tr>\n",
       "    <tr>\n",
       "      <th>1</th>\n",
       "      <td>2020-05-26</td>\n",
       "      <td>ATC0000000007884</td>\n",
       "      <td>홍콩(중국)</td>\n",
       "      <td>홍콩 시위 관련 안전공지(5.26)</td>\n",
       "      <td>홍콩 시위 관련 안전공지1. 현재 홍콩에서 보안법 이슈 쟁점화로 시위 빈도 및 강도...</td>\n",
       "      <td>치안</td>\n",
       "      <td>1</td>\n",
       "    </tr>\n",
       "    <tr>\n",
       "      <th>2</th>\n",
       "      <td>2020-05-23</td>\n",
       "      <td>ATC0000000007881</td>\n",
       "      <td>호주</td>\n",
       "      <td>호주 열대성 폭풍 Manga 관련 안전 공지</td>\n",
       "      <td>ㅇ 열대성 폭풍 Manga가 5.24.(일)~5.25.(월) 호두 대륙을 통과할 예...</td>\n",
       "      <td>자연재해</td>\n",
       "      <td>1</td>\n",
       "    </tr>\n",
       "    <tr>\n",
       "      <th>3</th>\n",
       "      <td>2020-05-19</td>\n",
       "      <td>ATC0000000007857</td>\n",
       "      <td>태국</td>\n",
       "      <td>태국 뎅기열 유행에 따른 유의사항</td>\n",
       "      <td>태국 뎅기열 유행에 따른 유의사항 안내○ 최근 태국 동북부 지역에서 뎅기열 환자가 ...</td>\n",
       "      <td>질병</td>\n",
       "      <td>0</td>\n",
       "    </tr>\n",
       "    <tr>\n",
       "      <th>4</th>\n",
       "      <td>2020-05-19</td>\n",
       "      <td>ATC0000000007855</td>\n",
       "      <td>헝가리</td>\n",
       "      <td>‘우리 기업인 대상’ 헝가리 입국 허용 관련 안내</td>\n",
       "      <td>‘우리 기업인 대상’ 헝가리 입국 허용 관련 안내&amp;nbsp;○ 헝가리 정부는 4.3...</td>\n",
       "      <td>정보</td>\n",
       "      <td>0</td>\n",
       "    </tr>\n",
       "  </tbody>\n",
       "</table>\n",
       "</div>"
      ],
      "text/plain": [
       "        wrtDt                id countryName  \\\n",
       "0  2020-05-27  ATC0000000007885          미국   \n",
       "1  2020-05-26  ATC0000000007884      홍콩(중국)   \n",
       "2  2020-05-23  ATC0000000007881          호주   \n",
       "3  2020-05-19  ATC0000000007857          태국   \n",
       "4  2020-05-19  ATC0000000007855         헝가리   \n",
       "\n",
       "                                       title  \\\n",
       "0  미국 입국 전 14일 이상 브라질 체류한 모든 외국인 입국 규제 관련 안내   \n",
       "1                        홍콩 시위 관련 안전공지(5.26)   \n",
       "2                   호주 열대성 폭풍 Manga 관련 안전 공지   \n",
       "3                         태국 뎅기열 유행에 따른 유의사항   \n",
       "4                ‘우리 기업인 대상’ 헝가리 입국 허용 관련 안내   \n",
       "\n",
       "                                             content   Div  Label  \n",
       "0  &nbsp;&nbsp;미국, 입국 전 14일 이상 브라질 체류한 모든 외국인 입국 ...    정보      0  \n",
       "1  홍콩 시위 관련 안전공지1. 현재 홍콩에서 보안법 이슈 쟁점화로 시위 빈도 및 강도...    치안      1  \n",
       "2  ㅇ 열대성 폭풍 Manga가 5.24.(일)~5.25.(월) 호두 대륙을 통과할 예...  자연재해      1  \n",
       "3  태국 뎅기열 유행에 따른 유의사항 안내○ 최근 태국 동북부 지역에서 뎅기열 환자가 ...    질병      0  \n",
       "4  ‘우리 기업인 대상’ 헝가리 입국 허용 관련 안내&nbsp;○ 헝가리 정부는 4.3...    정보      0  "
      ]
     },
     "execution_count": 8,
     "metadata": {},
     "output_type": "execute_result"
    }
   ],
   "source": [
    "df.head()"
   ]
  },
  {
   "cell_type": "code",
   "execution_count": 9,
   "metadata": {},
   "outputs": [
    {
     "data": {
      "text/plain": [
       "4903"
      ]
     },
     "execution_count": 9,
     "metadata": {},
     "output_type": "execute_result"
    }
   ],
   "source": [
    "len(df)"
   ]
  },
  {
   "cell_type": "code",
   "execution_count": 10,
   "metadata": {},
   "outputs": [
    {
     "name": "stdout",
     "output_type": "stream",
     "text": [
      "4903\n"
     ]
    }
   ],
   "source": [
    "df = df.loc[pd.notnull(df['Label'])]\n",
    "print(len(df))"
   ]
  },
  {
   "cell_type": "code",
   "execution_count": 11,
   "metadata": {},
   "outputs": [],
   "source": [
    "df['Content'] = df.apply(lambda x: np.nan if pd.isnull(x['title']) and pd.isnull(x['content']) else x['title'] if pd.isnull(x['content']) else x['title'] + ' ' + x['content'] , axis=1)"
   ]
  },
  {
   "cell_type": "code",
   "execution_count": 7,
   "metadata": {},
   "outputs": [],
   "source": [
    "# df = df[['Content']]"
   ]
  },
  {
   "cell_type": "code",
   "execution_count": 12,
   "metadata": {},
   "outputs": [
    {
     "data": {
      "text/html": [
       "<div>\n",
       "<style scoped>\n",
       "    .dataframe tbody tr th:only-of-type {\n",
       "        vertical-align: middle;\n",
       "    }\n",
       "\n",
       "    .dataframe tbody tr th {\n",
       "        vertical-align: top;\n",
       "    }\n",
       "\n",
       "    .dataframe thead th {\n",
       "        text-align: right;\n",
       "    }\n",
       "</style>\n",
       "<table border=\"1\" class=\"dataframe\">\n",
       "  <thead>\n",
       "    <tr style=\"text-align: right;\">\n",
       "      <th></th>\n",
       "      <th>wrtDt</th>\n",
       "      <th>id</th>\n",
       "      <th>countryName</th>\n",
       "      <th>title</th>\n",
       "      <th>content</th>\n",
       "      <th>Div</th>\n",
       "      <th>Label</th>\n",
       "      <th>Content</th>\n",
       "    </tr>\n",
       "  </thead>\n",
       "  <tbody>\n",
       "    <tr>\n",
       "      <th>0</th>\n",
       "      <td>2020-05-27</td>\n",
       "      <td>ATC0000000007885</td>\n",
       "      <td>미국</td>\n",
       "      <td>미국 입국 전 14일 이상 브라질 체류한 모든 외국인 입국 규제 관련 안내</td>\n",
       "      <td>&amp;nbsp;&amp;nbsp;미국, 입국 전 14일 이상 브라질 체류한 모든 외국인 입국 ...</td>\n",
       "      <td>정보</td>\n",
       "      <td>0</td>\n",
       "      <td>미국 입국 전 14일 이상 브라질 체류한 모든 외국인 입국 규제 관련 안내 &amp;nbs...</td>\n",
       "    </tr>\n",
       "    <tr>\n",
       "      <th>1</th>\n",
       "      <td>2020-05-26</td>\n",
       "      <td>ATC0000000007884</td>\n",
       "      <td>홍콩(중국)</td>\n",
       "      <td>홍콩 시위 관련 안전공지(5.26)</td>\n",
       "      <td>홍콩 시위 관련 안전공지1. 현재 홍콩에서 보안법 이슈 쟁점화로 시위 빈도 및 강도...</td>\n",
       "      <td>치안</td>\n",
       "      <td>1</td>\n",
       "      <td>홍콩 시위 관련 안전공지(5.26) 홍콩 시위 관련 안전공지1. 현재 홍콩에서 보안...</td>\n",
       "    </tr>\n",
       "    <tr>\n",
       "      <th>2</th>\n",
       "      <td>2020-05-23</td>\n",
       "      <td>ATC0000000007881</td>\n",
       "      <td>호주</td>\n",
       "      <td>호주 열대성 폭풍 Manga 관련 안전 공지</td>\n",
       "      <td>ㅇ 열대성 폭풍 Manga가 5.24.(일)~5.25.(월) 호두 대륙을 통과할 예...</td>\n",
       "      <td>자연재해</td>\n",
       "      <td>1</td>\n",
       "      <td>호주 열대성 폭풍 Manga 관련 안전 공지 ㅇ 열대성 폭풍 Manga가 5.24....</td>\n",
       "    </tr>\n",
       "    <tr>\n",
       "      <th>3</th>\n",
       "      <td>2020-05-19</td>\n",
       "      <td>ATC0000000007857</td>\n",
       "      <td>태국</td>\n",
       "      <td>태국 뎅기열 유행에 따른 유의사항</td>\n",
       "      <td>태국 뎅기열 유행에 따른 유의사항 안내○ 최근 태국 동북부 지역에서 뎅기열 환자가 ...</td>\n",
       "      <td>질병</td>\n",
       "      <td>0</td>\n",
       "      <td>태국 뎅기열 유행에 따른 유의사항 태국 뎅기열 유행에 따른 유의사항 안내○ 최근 태...</td>\n",
       "    </tr>\n",
       "    <tr>\n",
       "      <th>4</th>\n",
       "      <td>2020-05-19</td>\n",
       "      <td>ATC0000000007855</td>\n",
       "      <td>헝가리</td>\n",
       "      <td>‘우리 기업인 대상’ 헝가리 입국 허용 관련 안내</td>\n",
       "      <td>‘우리 기업인 대상’ 헝가리 입국 허용 관련 안내&amp;nbsp;○ 헝가리 정부는 4.3...</td>\n",
       "      <td>정보</td>\n",
       "      <td>0</td>\n",
       "      <td>‘우리 기업인 대상’ 헝가리 입국 허용 관련 안내 ‘우리 기업인 대상’ 헝가리 입국...</td>\n",
       "    </tr>\n",
       "  </tbody>\n",
       "</table>\n",
       "</div>"
      ],
      "text/plain": [
       "        wrtDt                id countryName  \\\n",
       "0  2020-05-27  ATC0000000007885          미국   \n",
       "1  2020-05-26  ATC0000000007884      홍콩(중국)   \n",
       "2  2020-05-23  ATC0000000007881          호주   \n",
       "3  2020-05-19  ATC0000000007857          태국   \n",
       "4  2020-05-19  ATC0000000007855         헝가리   \n",
       "\n",
       "                                       title  \\\n",
       "0  미국 입국 전 14일 이상 브라질 체류한 모든 외국인 입국 규제 관련 안내   \n",
       "1                        홍콩 시위 관련 안전공지(5.26)   \n",
       "2                   호주 열대성 폭풍 Manga 관련 안전 공지   \n",
       "3                         태국 뎅기열 유행에 따른 유의사항   \n",
       "4                ‘우리 기업인 대상’ 헝가리 입국 허용 관련 안내   \n",
       "\n",
       "                                             content   Div  Label  \\\n",
       "0  &nbsp;&nbsp;미국, 입국 전 14일 이상 브라질 체류한 모든 외국인 입국 ...    정보      0   \n",
       "1  홍콩 시위 관련 안전공지1. 현재 홍콩에서 보안법 이슈 쟁점화로 시위 빈도 및 강도...    치안      1   \n",
       "2  ㅇ 열대성 폭풍 Manga가 5.24.(일)~5.25.(월) 호두 대륙을 통과할 예...  자연재해      1   \n",
       "3  태국 뎅기열 유행에 따른 유의사항 안내○ 최근 태국 동북부 지역에서 뎅기열 환자가 ...    질병      0   \n",
       "4  ‘우리 기업인 대상’ 헝가리 입국 허용 관련 안내&nbsp;○ 헝가리 정부는 4.3...    정보      0   \n",
       "\n",
       "                                             Content  \n",
       "0  미국 입국 전 14일 이상 브라질 체류한 모든 외국인 입국 규제 관련 안내 &nbs...  \n",
       "1  홍콩 시위 관련 안전공지(5.26) 홍콩 시위 관련 안전공지1. 현재 홍콩에서 보안...  \n",
       "2  호주 열대성 폭풍 Manga 관련 안전 공지 ㅇ 열대성 폭풍 Manga가 5.24....  \n",
       "3  태국 뎅기열 유행에 따른 유의사항 태국 뎅기열 유행에 따른 유의사항 안내○ 최근 태...  \n",
       "4  ‘우리 기업인 대상’ 헝가리 입국 허용 관련 안내 ‘우리 기업인 대상’ 헝가리 입국...  "
      ]
     },
     "execution_count": 12,
     "metadata": {},
     "output_type": "execute_result"
    }
   ],
   "source": [
    "df.head()"
   ]
  },
  {
   "cell_type": "code",
   "execution_count": 13,
   "metadata": {},
   "outputs": [],
   "source": [
    "from konlpy.tag import Okt\n",
    "\n",
    "stopwords = ['콜센터', '등', '및', '번호', '전', '하다', '하여', '월', '화', '수', '목', '금', '토', '일']\n",
    "\n",
    "X = []\n",
    "okt = Okt()\n",
    "\n",
    "for i in range(len(df)):\n",
    "    _x = df.iloc[i]['Content']\n",
    "    \n",
    "    okt_morphs = okt.pos(_x)  # 튜플반환\n",
    "    temp_x = []\n",
    "    for word, pos in okt_morphs:\n",
    "        if pos == 'Noun' or pos == 'Verb':\n",
    "            temp_x.append(word)\n",
    "            \n",
    "    temp_x = [word for word in temp_x if not word in stopwords]\n",
    "    X.append(temp_x)\n",
    "    \n",
    "\n",
    "max_words = 35000\n",
    "tokenizer = Tokenizer(num_words = max_words)\n",
    "tokenizer.fit_on_texts(X)\n",
    "X = tokenizer.texts_to_sequences(X)"
   ]
  },
  {
   "cell_type": "code",
   "execution_count": 14,
   "metadata": {},
   "outputs": [
    {
     "name": "stdout",
     "output_type": "stream",
     "text": [
      "제목의 최대 길이 :  1728\n",
      "제목의 평균 길이 :  134.84356516418518\n"
     ]
    },
    {
     "data": {
      "image/png": "[encoded data removed]",
      "text/plain": [
       "<Figure size 432x288 with 1 Axes>"
      ]
     },
     "metadata": {
      "needs_background": "light"
     },
     "output_type": "display_data"
    }
   ],
   "source": [
    "%matplotlib inline\n",
    "import matplotlib.pyplot as plt\n",
    "\n",
    "print(\"제목의 최대 길이 : \", max(len(l) for l in X))\n",
    "print(\"제목의 평균 길이 : \", sum(map(len, X))/ len(X))\n",
    "plt.hist([len(s) for s in X], bins=50)\n",
    "plt.xlabel('length of Data')\n",
    "plt.ylabel('number of Data')\n",
    "plt.show()"
   ]
  },
  {
   "cell_type": "code",
   "execution_count": 15,
   "metadata": {},
   "outputs": [],
   "source": [
    "from keras.layers import Embedding, Dense, LSTM\n",
    "from keras.models import Sequential\n",
    "from keras.preprocessing.sequence import pad_sequences\n",
    "\n",
    "max_len = max(len(l) for l in X) # 전체 데이터의 길이를 20로 맞춘다\n",
    "# max_len = 1728\n",
    "X = pad_sequences(X, maxlen=max_len)"
   ]
  },
  {
   "cell_type": "code",
   "execution_count": 16,
   "metadata": {},
   "outputs": [
    {
     "data": {
      "text/plain": [
       "array([[   0,    0,    0, ...,  146,  466,   26],\n",
       "       [   0,    0,    0, ..., 1705,   48,  287],\n",
       "       [   0,    0,    0, ...,   31,   19,    4],\n",
       "       ...,\n",
       "       [   0,    0,    0, ...,   19,    4, 2630],\n",
       "       [   0,    0,    0, ...,  425,   35,    4],\n",
       "       [   0,    0,    0, ...,    7,    2, 2630]])"
      ]
     },
     "execution_count": 16,
     "metadata": {},
     "output_type": "execute_result"
    }
   ],
   "source": [
    "X"
   ]
  },
  {
   "cell_type": "code",
   "execution_count": 17,
   "metadata": {},
   "outputs": [
    {
     "data": {
      "text/plain": [
       "<matplotlib.axes._subplots.AxesSubplot at 0x233140b0d08>"
      ]
     },
     "execution_count": 17,
     "metadata": {},
     "output_type": "execute_result"
    },
    {
     "data": {
      "image/png": "[encoded data removed]",
      "text/plain": [
       "<Figure size 432x288 with 1 Axes>"
      ]
     },
     "metadata": {
      "needs_background": "light"
     },
     "output_type": "display_data"
    }
   ],
   "source": [
    "df['Label'].value_counts().plot(kind='bar')"
   ]
  },
  {
   "cell_type": "code",
   "execution_count": 18,
   "metadata": {},
   "outputs": [
    {
     "data": {
      "text/plain": [
       "0    4250\n",
       "2     458\n",
       "1     195\n",
       "Name: Label, dtype: int64"
      ]
     },
     "execution_count": 18,
     "metadata": {},
     "output_type": "execute_result"
    }
   ],
   "source": [
    "df['Label'].value_counts()"
   ]
  },
  {
   "cell_type": "code",
   "execution_count": 19,
   "metadata": {},
   "outputs": [],
   "source": [
    "Y = to_categorical(df['Label'])"
   ]
  },
  {
   "cell_type": "code",
   "execution_count": 20,
   "metadata": {},
   "outputs": [
    {
     "data": {
      "text/plain": [
       "array([[1., 0., 0.],\n",
       "       [0., 1., 0.],\n",
       "       [0., 1., 0.],\n",
       "       ...,\n",
       "       [1., 0., 0.],\n",
       "       [1., 0., 0.],\n",
       "       [1., 0., 0.]], dtype=float32)"
      ]
     },
     "execution_count": 20,
     "metadata": {},
     "output_type": "execute_result"
    }
   ],
   "source": [
    "Y"
   ]
  },
  {
   "cell_type": "code",
   "execution_count": 21,
   "metadata": {},
   "outputs": [],
   "source": [
    "x_train, x_test, y_train, y_test = train_test_split(X, Y, test_size=0.2)"
   ]
  },
  {
   "cell_type": "code",
   "execution_count": null,
   "metadata": {},
   "outputs": [],
   "source": []
  },
  {
   "cell_type": "code",
   "execution_count": 24,
   "metadata": {},
   "outputs": [
    {
     "name": "stdout",
     "output_type": "stream",
     "text": [
      "Train on 3529 samples, validate on 393 samples\n",
      "Epoch 1/10\n",
      "3529/3529 [==============================] - 495s 140ms/step - loss: 0.4491 - accuracy: 0.8674 - val_loss: 0.3825 - val_accuracy: 0.8957\n",
      "Epoch 2/10\n",
      "3529/3529 [==============================] - 492s 140ms/step - loss: 0.2952 - accuracy: 0.8960 - val_loss: 0.3923 - val_accuracy: 0.8906\n",
      "Epoch 3/10\n",
      "3529/3529 [==============================] - 507s 144ms/step - loss: 0.3078 - accuracy: 0.8932 - val_loss: 0.5216 - val_accuracy: 0.8830\n",
      "Epoch 4/10\n",
      "3529/3529 [==============================] - 493s 140ms/step - loss: 0.3215 - accuracy: 0.8767 - val_loss: 0.3897 - val_accuracy: 0.8830\n",
      "Epoch 5/10\n",
      "3529/3529 [==============================] - 495s 140ms/step - loss: 0.2971 - accuracy: 0.8892 - val_loss: 0.4056 - val_accuracy: 0.8753\n",
      "Epoch 6/10\n",
      "3529/3529 [==============================] - 499s 141ms/step - loss: 0.2084 - accuracy: 0.9260 - val_loss: 0.4012 - val_accuracy: 0.8626\n",
      "Epoch 7/10\n",
      "3529/3529 [==============================] - 493s 140ms/step - loss: 0.1519 - accuracy: 0.9450 - val_loss: 0.5261 - val_accuracy: 0.8550\n",
      "Epoch 8/10\n",
      "3529/3529 [==============================] - 494s 140ms/step - loss: 0.1134 - accuracy: 0.9626 - val_loss: 0.5134 - val_accuracy: 0.8677\n",
      "Epoch 9/10\n",
      "3529/3529 [==============================] - 504s 143ms/step - loss: 0.0966 - accuracy: 0.9683 - val_loss: 0.5638 - val_accuracy: 0.8728\n",
      "Epoch 10/10\n",
      "3529/3529 [==============================] - 502s 142ms/step - loss: 0.0780 - accuracy: 0.9756 - val_loss: 0.6035 - val_accuracy: 0.8626\n",
      "981/981 [==============================] - 20s 20ms/step\n",
      "0.8297655453618756\n"
     ]
    }
   ],
   "source": [
    "# 다층 LSTM을 구현하기 위한 함수\n",
    "def stacked_lstm():\n",
    "    model = Sequential()\n",
    "    model.add(Embedding(max_words, 100))\n",
    "    model.add(LSTM(50, return_sequences = True))\n",
    "    model.add(LSTM(50, return_sequences = False))\n",
    "    model.add(Dense(3))\n",
    "    model.add(Activation('softmax'))\n",
    "    \n",
    "    adam = optimizers.Adam(lr = 0.001)\n",
    "    model.compile(loss = 'categorical_crossentropy', optimizer = adam, metrics = ['accuracy'])\n",
    "    \n",
    "    return model\n",
    "\n",
    "# model = KerasClassifier(build_fn = stacked_lstm, epochs = 200, batch_size = 50, verbose = 1)\n",
    "model = KerasClassifier(build_fn = stacked_lstm, epochs = 10, batch_size = 10, verbose = 1, validation_split=0.1)\n",
    "model.fit(x_train, y_train)\n",
    "y_pred = model.predict(x_test)\n",
    "y_test_ = np.argmax(y_test, axis = 1)\n",
    "print(accuracy_score(y_pred, y_test_))"
   ]
  },
  {
   "cell_type": "code",
   "execution_count": 25,
   "metadata": {},
   "outputs": [
    {
     "name": "stdout",
     "output_type": "stream",
     "text": [
      "4903/4903 [==============================] - 105s 21ms/step\n"
     ]
    }
   ],
   "source": [
    "y_output = model.predict(X)"
   ]
  },
  {
   "cell_type": "code",
   "execution_count": 26,
   "metadata": {},
   "outputs": [
    {
     "data": {
      "text/plain": [
       "array([0, 0, 1, ..., 0, 1, 0])"
      ]
     },
     "execution_count": 26,
     "metadata": {},
     "output_type": "execute_result"
    }
   ],
   "source": [
    "y_output"
   ]
  },
  {
   "cell_type": "code",
   "execution_count": 56,
   "metadata": {},
   "outputs": [
    {
     "data": {
      "text/plain": [
       "4903"
      ]
     },
     "execution_count": 56,
     "metadata": {},
     "output_type": "execute_result"
    }
   ],
   "source": [
    "len(df)"
   ]
  },
  {
   "cell_type": "code",
   "execution_count": 27,
   "metadata": {},
   "outputs": [
    {
     "data": {
      "text/html": [
       "<div>\n",
       "<style scoped>\n",
       "    .dataframe tbody tr th:only-of-type {\n",
       "        vertical-align: middle;\n",
       "    }\n",
       "\n",
       "    .dataframe tbody tr th {\n",
       "        vertical-align: top;\n",
       "    }\n",
       "\n",
       "    .dataframe thead th {\n",
       "        text-align: right;\n",
       "    }\n",
       "</style>\n",
       "<table border=\"1\" class=\"dataframe\">\n",
       "  <thead>\n",
       "    <tr style=\"text-align: right;\">\n",
       "      <th></th>\n",
       "      <th>wrtDt</th>\n",
       "      <th>id</th>\n",
       "      <th>countryName</th>\n",
       "      <th>title</th>\n",
       "      <th>content</th>\n",
       "      <th>Div</th>\n",
       "      <th>Label</th>\n",
       "      <th>Content</th>\n",
       "    </tr>\n",
       "  </thead>\n",
       "  <tbody>\n",
       "    <tr>\n",
       "      <th>0</th>\n",
       "      <td>2020-05-27</td>\n",
       "      <td>ATC0000000007885</td>\n",
       "      <td>미국</td>\n",
       "      <td>미국 입국 전 14일 이상 브라질 체류한 모든 외국인 입국 규제 관련 안내</td>\n",
       "      <td>&amp;nbsp;&amp;nbsp;미국, 입국 전 14일 이상 브라질 체류한 모든 외국인 입국 ...</td>\n",
       "      <td>정보</td>\n",
       "      <td>0</td>\n",
       "      <td>미국 입국 전 14일 이상 브라질 체류한 모든 외국인 입국 규제 관련 안내 &amp;nbs...</td>\n",
       "    </tr>\n",
       "    <tr>\n",
       "      <th>1</th>\n",
       "      <td>2020-05-26</td>\n",
       "      <td>ATC0000000007884</td>\n",
       "      <td>홍콩(중국)</td>\n",
       "      <td>홍콩 시위 관련 안전공지(5.26)</td>\n",
       "      <td>홍콩 시위 관련 안전공지1. 현재 홍콩에서 보안법 이슈 쟁점화로 시위 빈도 및 강도...</td>\n",
       "      <td>치안</td>\n",
       "      <td>1</td>\n",
       "      <td>홍콩 시위 관련 안전공지(5.26) 홍콩 시위 관련 안전공지1. 현재 홍콩에서 보안...</td>\n",
       "    </tr>\n",
       "    <tr>\n",
       "      <th>2</th>\n",
       "      <td>2020-05-23</td>\n",
       "      <td>ATC0000000007881</td>\n",
       "      <td>호주</td>\n",
       "      <td>호주 열대성 폭풍 Manga 관련 안전 공지</td>\n",
       "      <td>ㅇ 열대성 폭풍 Manga가 5.24.(일)~5.25.(월) 호두 대륙을 통과할 예...</td>\n",
       "      <td>자연재해</td>\n",
       "      <td>1</td>\n",
       "      <td>호주 열대성 폭풍 Manga 관련 안전 공지 ㅇ 열대성 폭풍 Manga가 5.24....</td>\n",
       "    </tr>\n",
       "    <tr>\n",
       "      <th>3</th>\n",
       "      <td>2020-05-19</td>\n",
       "      <td>ATC0000000007857</td>\n",
       "      <td>태국</td>\n",
       "      <td>태국 뎅기열 유행에 따른 유의사항</td>\n",
       "      <td>태국 뎅기열 유행에 따른 유의사항 안내○ 최근 태국 동북부 지역에서 뎅기열 환자가 ...</td>\n",
       "      <td>질병</td>\n",
       "      <td>0</td>\n",
       "      <td>태국 뎅기열 유행에 따른 유의사항 태국 뎅기열 유행에 따른 유의사항 안내○ 최근 태...</td>\n",
       "    </tr>\n",
       "    <tr>\n",
       "      <th>4</th>\n",
       "      <td>2020-05-19</td>\n",
       "      <td>ATC0000000007855</td>\n",
       "      <td>헝가리</td>\n",
       "      <td>‘우리 기업인 대상’ 헝가리 입국 허용 관련 안내</td>\n",
       "      <td>‘우리 기업인 대상’ 헝가리 입국 허용 관련 안내&amp;nbsp;○ 헝가리 정부는 4.3...</td>\n",
       "      <td>정보</td>\n",
       "      <td>0</td>\n",
       "      <td>‘우리 기업인 대상’ 헝가리 입국 허용 관련 안내 ‘우리 기업인 대상’ 헝가리 입국...</td>\n",
       "    </tr>\n",
       "  </tbody>\n",
       "</table>\n",
       "</div>"
      ],
      "text/plain": [
       "        wrtDt                id countryName  \\\n",
       "0  2020-05-27  ATC0000000007885          미국   \n",
       "1  2020-05-26  ATC0000000007884      홍콩(중국)   \n",
       "2  2020-05-23  ATC0000000007881          호주   \n",
       "3  2020-05-19  ATC0000000007857          태국   \n",
       "4  2020-05-19  ATC0000000007855         헝가리   \n",
       "\n",
       "                                       title  \\\n",
       "0  미국 입국 전 14일 이상 브라질 체류한 모든 외국인 입국 규제 관련 안내   \n",
       "1                        홍콩 시위 관련 안전공지(5.26)   \n",
       "2                   호주 열대성 폭풍 Manga 관련 안전 공지   \n",
       "3                         태국 뎅기열 유행에 따른 유의사항   \n",
       "4                ‘우리 기업인 대상’ 헝가리 입국 허용 관련 안내   \n",
       "\n",
       "                                             content   Div  Label  \\\n",
       "0  &nbsp;&nbsp;미국, 입국 전 14일 이상 브라질 체류한 모든 외국인 입국 ...    정보      0   \n",
       "1  홍콩 시위 관련 안전공지1. 현재 홍콩에서 보안법 이슈 쟁점화로 시위 빈도 및 강도...    치안      1   \n",
       "2  ㅇ 열대성 폭풍 Manga가 5.24.(일)~5.25.(월) 호두 대륙을 통과할 예...  자연재해      1   \n",
       "3  태국 뎅기열 유행에 따른 유의사항 안내○ 최근 태국 동북부 지역에서 뎅기열 환자가 ...    질병      0   \n",
       "4  ‘우리 기업인 대상’ 헝가리 입국 허용 관련 안내&nbsp;○ 헝가리 정부는 4.3...    정보      0   \n",
       "\n",
       "                                             Content  \n",
       "0  미국 입국 전 14일 이상 브라질 체류한 모든 외국인 입국 규제 관련 안내 &nbs...  \n",
       "1  홍콩 시위 관련 안전공지(5.26) 홍콩 시위 관련 안전공지1. 현재 홍콩에서 보안...  \n",
       "2  호주 열대성 폭풍 Manga 관련 안전 공지 ㅇ 열대성 폭풍 Manga가 5.24....  \n",
       "3  태국 뎅기열 유행에 따른 유의사항 태국 뎅기열 유행에 따른 유의사항 안내○ 최근 태...  \n",
       "4  ‘우리 기업인 대상’ 헝가리 입국 허용 관련 안내 ‘우리 기업인 대상’ 헝가리 입국...  "
      ]
     },
     "execution_count": 27,
     "metadata": {},
     "output_type": "execute_result"
    }
   ],
   "source": [
    "df.head()"
   ]
  },
  {
   "cell_type": "code",
   "execution_count": 28,
   "metadata": {},
   "outputs": [],
   "source": [
    "df['New_Label'] = y_output"
   ]
  },
  {
   "cell_type": "code",
   "execution_count": 37,
   "metadata": {},
   "outputs": [],
   "source": [
    "df = df.drop(columns=['Content'])"
   ]
  },
  {
   "cell_type": "code",
   "execution_count": 31,
   "metadata": {},
   "outputs": [],
   "source": [
    "df['Check'] = df['Label'] == df['New_Label']"
   ]
  },
  {
   "cell_type": "code",
   "execution_count": 32,
   "metadata": {},
   "outputs": [
    {
     "data": {
      "text/html": [
       "<div>\n",
       "<style scoped>\n",
       "    .dataframe tbody tr th:only-of-type {\n",
       "        vertical-align: middle;\n",
       "    }\n",
       "\n",
       "    .dataframe tbody tr th {\n",
       "        vertical-align: top;\n",
       "    }\n",
       "\n",
       "    .dataframe thead th {\n",
       "        text-align: right;\n",
       "    }\n",
       "</style>\n",
       "<table border=\"1\" class=\"dataframe\">\n",
       "  <thead>\n",
       "    <tr style=\"text-align: right;\">\n",
       "      <th></th>\n",
       "      <th>wrtDt</th>\n",
       "      <th>id</th>\n",
       "      <th>countryName</th>\n",
       "      <th>title</th>\n",
       "      <th>content</th>\n",
       "      <th>Div</th>\n",
       "      <th>Label</th>\n",
       "      <th>Content</th>\n",
       "      <th>New_Label</th>\n",
       "      <th>Check</th>\n",
       "    </tr>\n",
       "  </thead>\n",
       "  <tbody>\n",
       "    <tr>\n",
       "      <th>0</th>\n",
       "      <td>2020-05-27</td>\n",
       "      <td>ATC0000000007885</td>\n",
       "      <td>미국</td>\n",
       "      <td>미국 입국 전 14일 이상 브라질 체류한 모든 외국인 입국 규제 관련 안내</td>\n",
       "      <td>&amp;nbsp;&amp;nbsp;미국, 입국 전 14일 이상 브라질 체류한 모든 외국인 입국 ...</td>\n",
       "      <td>정보</td>\n",
       "      <td>0</td>\n",
       "      <td>미국 입국 전 14일 이상 브라질 체류한 모든 외국인 입국 규제 관련 안내 &amp;nbs...</td>\n",
       "      <td>0</td>\n",
       "      <td>True</td>\n",
       "    </tr>\n",
       "    <tr>\n",
       "      <th>1</th>\n",
       "      <td>2020-05-26</td>\n",
       "      <td>ATC0000000007884</td>\n",
       "      <td>홍콩(중국)</td>\n",
       "      <td>홍콩 시위 관련 안전공지(5.26)</td>\n",
       "      <td>홍콩 시위 관련 안전공지1. 현재 홍콩에서 보안법 이슈 쟁점화로 시위 빈도 및 강도...</td>\n",
       "      <td>치안</td>\n",
       "      <td>1</td>\n",
       "      <td>홍콩 시위 관련 안전공지(5.26) 홍콩 시위 관련 안전공지1. 현재 홍콩에서 보안...</td>\n",
       "      <td>0</td>\n",
       "      <td>False</td>\n",
       "    </tr>\n",
       "    <tr>\n",
       "      <th>2</th>\n",
       "      <td>2020-05-23</td>\n",
       "      <td>ATC0000000007881</td>\n",
       "      <td>호주</td>\n",
       "      <td>호주 열대성 폭풍 Manga 관련 안전 공지</td>\n",
       "      <td>ㅇ 열대성 폭풍 Manga가 5.24.(일)~5.25.(월) 호두 대륙을 통과할 예...</td>\n",
       "      <td>자연재해</td>\n",
       "      <td>1</td>\n",
       "      <td>호주 열대성 폭풍 Manga 관련 안전 공지 ㅇ 열대성 폭풍 Manga가 5.24....</td>\n",
       "      <td>1</td>\n",
       "      <td>True</td>\n",
       "    </tr>\n",
       "    <tr>\n",
       "      <th>3</th>\n",
       "      <td>2020-05-19</td>\n",
       "      <td>ATC0000000007857</td>\n",
       "      <td>태국</td>\n",
       "      <td>태국 뎅기열 유행에 따른 유의사항</td>\n",
       "      <td>태국 뎅기열 유행에 따른 유의사항 안내○ 최근 태국 동북부 지역에서 뎅기열 환자가 ...</td>\n",
       "      <td>질병</td>\n",
       "      <td>0</td>\n",
       "      <td>태국 뎅기열 유행에 따른 유의사항 태국 뎅기열 유행에 따른 유의사항 안내○ 최근 태...</td>\n",
       "      <td>0</td>\n",
       "      <td>True</td>\n",
       "    </tr>\n",
       "    <tr>\n",
       "      <th>4</th>\n",
       "      <td>2020-05-19</td>\n",
       "      <td>ATC0000000007855</td>\n",
       "      <td>헝가리</td>\n",
       "      <td>‘우리 기업인 대상’ 헝가리 입국 허용 관련 안내</td>\n",
       "      <td>‘우리 기업인 대상’ 헝가리 입국 허용 관련 안내&amp;nbsp;○ 헝가리 정부는 4.3...</td>\n",
       "      <td>정보</td>\n",
       "      <td>0</td>\n",
       "      <td>‘우리 기업인 대상’ 헝가리 입국 허용 관련 안내 ‘우리 기업인 대상’ 헝가리 입국...</td>\n",
       "      <td>0</td>\n",
       "      <td>True</td>\n",
       "    </tr>\n",
       "  </tbody>\n",
       "</table>\n",
       "</div>"
      ],
      "text/plain": [
       "        wrtDt                id countryName  \\\n",
       "0  2020-05-27  ATC0000000007885          미국   \n",
       "1  2020-05-26  ATC0000000007884      홍콩(중국)   \n",
       "2  2020-05-23  ATC0000000007881          호주   \n",
       "3  2020-05-19  ATC0000000007857          태국   \n",
       "4  2020-05-19  ATC0000000007855         헝가리   \n",
       "\n",
       "                                       title  \\\n",
       "0  미국 입국 전 14일 이상 브라질 체류한 모든 외국인 입국 규제 관련 안내   \n",
       "1                        홍콩 시위 관련 안전공지(5.26)   \n",
       "2                   호주 열대성 폭풍 Manga 관련 안전 공지   \n",
       "3                         태국 뎅기열 유행에 따른 유의사항   \n",
       "4                ‘우리 기업인 대상’ 헝가리 입국 허용 관련 안내   \n",
       "\n",
       "                                             content   Div  Label  \\\n",
       "0  &nbsp;&nbsp;미국, 입국 전 14일 이상 브라질 체류한 모든 외국인 입국 ...    정보      0   \n",
       "1  홍콩 시위 관련 안전공지1. 현재 홍콩에서 보안법 이슈 쟁점화로 시위 빈도 및 강도...    치안      1   \n",
       "2  ㅇ 열대성 폭풍 Manga가 5.24.(일)~5.25.(월) 호두 대륙을 통과할 예...  자연재해      1   \n",
       "3  태국 뎅기열 유행에 따른 유의사항 안내○ 최근 태국 동북부 지역에서 뎅기열 환자가 ...    질병      0   \n",
       "4  ‘우리 기업인 대상’ 헝가리 입국 허용 관련 안내&nbsp;○ 헝가리 정부는 4.3...    정보      0   \n",
       "\n",
       "                                             Content  New_Label  Check  \n",
       "0  미국 입국 전 14일 이상 브라질 체류한 모든 외국인 입국 규제 관련 안내 &nbs...          0   True  \n",
       "1  홍콩 시위 관련 안전공지(5.26) 홍콩 시위 관련 안전공지1. 현재 홍콩에서 보안...          0  False  \n",
       "2  호주 열대성 폭풍 Manga 관련 안전 공지 ㅇ 열대성 폭풍 Manga가 5.24....          1   True  \n",
       "3  태국 뎅기열 유행에 따른 유의사항 태국 뎅기열 유행에 따른 유의사항 안내○ 최근 태...          0   True  \n",
       "4  ‘우리 기업인 대상’ 헝가리 입국 허용 관련 안내 ‘우리 기업인 대상’ 헝가리 입국...          0   True  "
      ]
     },
     "execution_count": 32,
     "metadata": {},
     "output_type": "execute_result"
    }
   ],
   "source": [
    "df.head()"
   ]
  },
  {
   "cell_type": "code",
   "execution_count": 38,
   "metadata": {},
   "outputs": [],
   "source": [
    "df.to_excel(\"output.xlsx\", index=False, engine='xlsxwriter')"
   ]
  },
  {
   "cell_type": "code",
   "execution_count": 36,
   "metadata": {},
   "outputs": [
    {
     "data": {
      "text/plain": [
       "0    4250\n",
       "2     439\n",
       "1     214\n",
       "Name: New_Label, dtype: int64"
      ]
     },
     "execution_count": 36,
     "metadata": {},
     "output_type": "execute_result"
    }
   ],
   "source": [
    "df['New_Label'].value_counts()"
   ]
  },
  {
   "cell_type": "code",
   "execution_count": 40,
   "metadata": {},
   "outputs": [
    {
     "data": {
      "text/plain": [
       "0    4250\n",
       "2     458\n",
       "1     195\n",
       "Name: Label, dtype: int64"
      ]
     },
     "execution_count": 40,
     "metadata": {},
     "output_type": "execute_result"
    }
   ],
   "source": [
    "df['Label'].value_counts()"
   ]
  },
  {
   "cell_type": "code",
   "execution_count": 41,
   "metadata": {},
   "outputs": [
    {
     "data": {
      "text/plain": [
       "True     361\n",
       "False     78\n",
       "Name: Check, dtype: int64"
      ]
     },
     "execution_count": 41,
     "metadata": {},
     "output_type": "execute_result"
    }
   ],
   "source": [
    "df.loc[df['New_Label']==2]['Check'].value_counts()"
   ]
  },
  {
   "cell_type": "code",
   "execution_count": 52,
   "metadata": {},
   "outputs": [
    {
     "data": {
      "text/plain": [
       "2    361\n",
       "0     71\n",
       "1     26\n",
       "Name: New_Label, dtype: int64"
      ]
     },
     "execution_count": 52,
     "metadata": {},
     "output_type": "execute_result"
    }
   ],
   "source": [
    "df.loc[df['Label']==2]['New_Label'].value_counts()"
   ]
  },
  {
   "cell_type": "code",
   "execution_count": 53,
   "metadata": {},
   "outputs": [
    {
     "data": {
      "text/plain": [
       "2    361\n",
       "0     46\n",
       "1     32\n",
       "Name: Label, dtype: int64"
      ]
     },
     "execution_count": 53,
     "metadata": {},
     "output_type": "execute_result"
    }
   ],
   "source": [
    "df.loc[df['New_Label']==2]['Label'].value_counts()"
   ]
  },
  {
   "cell_type": "code",
   "execution_count": 44,
   "metadata": {},
   "outputs": [
    {
     "data": {
      "text/plain": [
       "94.12604527840098"
      ]
     },
     "execution_count": 44,
     "metadata": {},
     "output_type": "execute_result"
    }
   ],
   "source": [
    "len(df.loc[df['Label']==df['New_Label']])/len(df)*100"
   ]
  },
  {
   "cell_type": "code",
   "execution_count": 55,
   "metadata": {},
   "outputs": [
    {
     "data": {
      "text/plain": [
       "86.68162349581888"
      ]
     },
     "execution_count": 55,
     "metadata": {},
     "output_type": "execute_result"
    }
   ],
   "source": [
    "len(df.loc[df['Label']==0])/len(df)*100"
   ]
  },
  {
   "cell_type": "code",
   "execution_count": null,
   "metadata": {},
   "outputs": [],
   "source": []
  },
  {
   "cell_type": "code",
   "execution_count": 42,
   "metadata": {},
   "outputs": [
    {
     "name": "stderr",
     "output_type": "stream",
     "text": [
      "C:\\Users\\min-sung.lee\\AppData\\Roaming\\Python\\Python37\\site-packages\\tensorflow\\python\\framework\\indexed_slices.py:434: UserWarning: Converting sparse IndexedSlices to a dense Tensor of unknown shape. This may consume a large amount of memory.\n",
      "  \"Converting sparse IndexedSlices to a dense Tensor of unknown shape. \"\n"
     ]
    },
    {
     "name": "stdout",
     "output_type": "stream",
     "text": [
      "Train on 3137 samples, validate on 785 samples\n",
      "Epoch 1/10\n",
      "3137/3137 [==============================] - 134s 43ms/step - loss: 0.5672 - accuracy: 0.8655 - val_loss: 0.4713 - val_accuracy: 0.8662\n",
      "Epoch 2/10\n",
      "3137/3137 [==============================] - 141s 45ms/step - loss: 0.3945 - accuracy: 0.8731 - val_loss: 0.4342 - val_accuracy: 0.8752\n",
      "Epoch 3/10\n",
      "3137/3137 [==============================] - 162s 52ms/step - loss: 0.2557 - accuracy: 0.9060 - val_loss: 0.4630 - val_accuracy: 0.8739\n",
      "Epoch 4/10\n",
      "3137/3137 [==============================] - 146s 46ms/step - loss: 0.1727 - accuracy: 0.9318 - val_loss: 0.5788 - val_accuracy: 0.8650\n",
      "Epoch 5/10\n",
      "3137/3137 [==============================] - 144s 46ms/step - loss: 0.1320 - accuracy: 0.9493 - val_loss: 0.5514 - val_accuracy: 0.8561\n",
      "Epoch 6/10\n",
      "3137/3137 [==============================] - 147s 47ms/step - loss: 0.1171 - accuracy: 0.9512 - val_loss: 0.6163 - val_accuracy: 0.8522\n",
      "Epoch 7/10\n",
      "3137/3137 [==============================] - 155s 50ms/step - loss: 0.0792 - accuracy: 0.9742 - val_loss: 0.6974 - val_accuracy: 0.8548\n",
      "Epoch 8/10\n",
      "3137/3137 [==============================] - 145s 46ms/step - loss: 0.0566 - accuracy: 0.9844 - val_loss: 0.6615 - val_accuracy: 0.8561\n",
      "Epoch 9/10\n",
      "3137/3137 [==============================] - 146s 47ms/step - loss: 0.0413 - accuracy: 0.9885 - val_loss: 0.6683 - val_accuracy: 0.8459\n",
      "Epoch 10/10\n",
      "3137/3137 [==============================] - 148s 47ms/step - loss: 0.0685 - accuracy: 0.9809 - val_loss: 0.7389 - val_accuracy: 0.8510\n",
      "981/981 [==============================] - 10s 11ms/step\n",
      "0.8583078491335372\n"
     ]
    }
   ],
   "source": [
    "# 다층 LSTM을 구현하기 위한 함수\n",
    "def stacked_lstm():\n",
    "    model = Sequential()\n",
    "    model.add(Embedding(max_words, 100))\n",
    "    model.add(LSTM(50, return_sequences = True))\n",
    "    model.add(LSTM(50, return_sequences = False))\n",
    "    model.add(Dense(3))\n",
    "    model.add(Activation('softmax'))\n",
    "    \n",
    "    adam = optimizers.Adam(lr = 0.001)\n",
    "    model.compile(loss = 'categorical_crossentropy', optimizer = adam, metrics = ['accuracy'])\n",
    "    \n",
    "    return model\n",
    "\n",
    "# model = KerasClassifier(build_fn = stacked_lstm, epochs = 200, batch_size = 50, verbose = 1)\n",
    "model2 = KerasClassifier(build_fn = stacked_lstm, epochs = 10, batch_size = 50, verbose = 1, validation_split=0.2)\n",
    "model2.fit(x_train, y_train)\n",
    "y_pred = model2.predict(x_test)\n",
    "y_test_ = np.argmax(y_test, axis = 1)\n",
    "print(accuracy_score(y_pred, y_test_))"
   ]
  },
  {
   "cell_type": "code",
   "execution_count": 43,
   "metadata": {},
   "outputs": [
    {
     "name": "stdout",
     "output_type": "stream",
     "text": [
      "4903/4903 [==============================] - 70s 14ms/step\n"
     ]
    }
   ],
   "source": [
    "y_output = model2.predict(X)"
   ]
  },
  {
   "cell_type": "code",
   "execution_count": 45,
   "metadata": {},
   "outputs": [],
   "source": [
    "df['New_Label2'] = y_output"
   ]
  },
  {
   "cell_type": "code",
   "execution_count": 46,
   "metadata": {},
   "outputs": [
    {
     "data": {
      "text/plain": [
       "0    4281\n",
       "2     454\n",
       "1     168\n",
       "Name: New_Label2, dtype: int64"
      ]
     },
     "execution_count": 46,
     "metadata": {},
     "output_type": "execute_result"
    }
   ],
   "source": [
    "df['New_Label2'].value_counts()"
   ]
  },
  {
   "cell_type": "code",
   "execution_count": 47,
   "metadata": {},
   "outputs": [],
   "source": [
    "df['Check2'] = df['Label'] == df['New_Label2']"
   ]
  },
  {
   "cell_type": "code",
   "execution_count": 48,
   "metadata": {},
   "outputs": [
    {
     "data": {
      "text/plain": [
       "True     351\n",
       "False    103\n",
       "Name: Check2, dtype: int64"
      ]
     },
     "execution_count": 48,
     "metadata": {},
     "output_type": "execute_result"
    }
   ],
   "source": [
    "df.loc[df['New_Label2']==2]['Check2'].value_counts()"
   ]
  },
  {
   "cell_type": "code",
   "execution_count": 49,
   "metadata": {},
   "outputs": [
    {
     "data": {
      "text/plain": [
       "94.10564960228432"
      ]
     },
     "execution_count": 49,
     "metadata": {},
     "output_type": "execute_result"
    }
   ],
   "source": [
    "len(df.loc[df['Label']==df['New_Label2']])/len(df)*100"
   ]
  },
  {
   "cell_type": "code",
   "execution_count": 50,
   "metadata": {},
   "outputs": [
    {
     "data": {
      "text/plain": [
       "2    351\n",
       "0     82\n",
       "1     21\n",
       "Name: Label, dtype: int64"
      ]
     },
     "execution_count": 50,
     "metadata": {},
     "output_type": "execute_result"
    }
   ],
   "source": [
    "df.loc[df['New_Label2']==2]['Label'].value_counts()"
   ]
  },
  {
   "cell_type": "code",
   "execution_count": 51,
   "metadata": {},
   "outputs": [
    {
     "data": {
      "text/plain": [
       "2    351\n",
       "0     96\n",
       "1     11\n",
       "Name: New_Label2, dtype: int64"
      ]
     },
     "execution_count": 51,
     "metadata": {},
     "output_type": "execute_result"
    }
   ],
   "source": [
    "df.loc[df['Label']==2]['New_Label2'].value_counts()"
   ]
  },
  {
   "cell_type": "code",
   "execution_count": 54,
   "metadata": {},
   "outputs": [],
   "source": [
    "df.to_excel(\"output2.xlsx\", index=False, engine='xlsxwriter')"
   ]
  },
  {
   "cell_type": "code",
   "execution_count": 57,
   "metadata": {},
   "outputs": [],
   "source": [
    "# saving model\n",
    "json_model = model.model.to_json()\n",
    "open('model_architecture.json', 'w').write(json_model)\n",
    "# saving weights\n",
    "model.model.save_weights('model_weights.h5', overwrite=True)"
   ]
  },
  {
   "cell_type": "code",
   "execution_count": 60,
   "metadata": {},
   "outputs": [],
   "source": [
    "model.model.save('model')"
   ]
  },
  {
   "cell_type": "code",
   "execution_count": 61,
   "metadata": {},
   "outputs": [],
   "source": [
    "model.model.save('model2')"
   ]
  },
  {
   "cell_type": "code",
   "execution_count": null,
   "metadata": {},
   "outputs": [],
   "source": [
    "# https://www.tensorflow.org/guide/keras/save_and_serialize"
   ]
  },
  {
   "cell_type": "code",
   "execution_count": 67,
   "metadata": {},
   "outputs": [],
   "source": [
    "from tensorflow import keras\n",
    "model = keras.models.load_model('model')"
   ]
  },
  {
   "cell_type": "code",
   "execution_count": 68,
   "metadata": {},
   "outputs": [],
   "source": [
    "y_output = model.predict(X)"
   ]
  },
  {
   "cell_type": "code",
   "execution_count": 74,
   "metadata": {},
   "outputs": [
    {
     "data": {
      "text/plain": [
       "array([[9.7805917e-01, 1.5291702e-02, 6.6490890e-03],\n",
       "       [9.9926251e-01, 4.4769785e-04, 2.8988029e-04],\n",
       "       [2.4220429e-01, 7.0450735e-01, 5.3288355e-02],\n",
       "       ...,\n",
       "       [9.9950802e-01, 2.9016371e-04, 2.0180874e-04],\n",
       "       [2.3570819e-02, 9.4342440e-01, 3.3004791e-02],\n",
       "       [9.9948347e-01, 3.0709896e-04, 2.0951158e-04]], dtype=float32)"
      ]
     },
     "execution_count": 74,
     "metadata": {},
     "output_type": "execute_result"
    }
   ],
   "source": [
    "y_output"
   ]
  },
  {
   "cell_type": "code",
   "execution_count": 75,
   "metadata": {},
   "outputs": [],
   "source": [
    "y_output_ = np.argmax(y_output, axis = 1)"
   ]
  },
  {
   "cell_type": "code",
   "execution_count": 76,
   "metadata": {},
   "outputs": [
    {
     "data": {
      "text/plain": [
       "array([0, 0, 1, ..., 0, 1, 0], dtype=int64)"
      ]
     },
     "execution_count": 76,
     "metadata": {},
     "output_type": "execute_result"
    }
   ],
   "source": [
    "y_output_"
   ]
  },
  {
   "cell_type": "code",
   "execution_count": 78,
   "metadata": {},
   "outputs": [
    {
     "data": {
      "text/plain": [
       "array([[1., 0., 0.],\n",
       "       [0., 1., 0.],\n",
       "       [0., 1., 0.],\n",
       "       ...,\n",
       "       [1., 0., 0.],\n",
       "       [1., 0., 0.],\n",
       "       [1., 0., 0.]], dtype=float32)"
      ]
     },
     "execution_count": 78,
     "metadata": {},
     "output_type": "execute_result"
    }
   ],
   "source": []
  },
  {
   "cell_type": "code",
   "execution_count": 79,
   "metadata": {},
   "outputs": [
    {
     "name": "stdout",
     "output_type": "stream",
     "text": [
      "0.9412604527840098\n"
     ]
    }
   ],
   "source": [
    "print(accuracy_score(df['Label'], y_output_))"
   ]
  },
  {
   "cell_type": "code",
   "execution_count": 82,
   "metadata": {},
   "outputs": [
    {
     "ename": "IndexError",
     "evalue": "only integers, slices (`:`), ellipsis (`...`), numpy.newaxis (`None`) and integer or boolean arrays are valid indices",
     "output_type": "error",
     "traceback": [
      "\u001b[1;31m---------------------------------------------------------------------------\u001b[0m",
      "\u001b[1;31mIndexError\u001b[0m                                Traceback (most recent call last)",
      "\u001b[1;32m<ipython-input-82-573fa2184cac>\u001b[0m in \u001b[0;36m<module>\u001b[1;34m\u001b[0m\n\u001b[1;32m----> 1\u001b[1;33m \u001b[0mdf\u001b[0m \u001b[1;33m=\u001b[0m \u001b[0mdf\u001b[0m\u001b[1;33m[\u001b[0m\u001b[1;34m'new_Label1'\u001b[0m\u001b[1;33m]\u001b[0m \u001b[1;33m=\u001b[0m \u001b[0my_output_\u001b[0m\u001b[1;33m\u001b[0m\u001b[1;33m\u001b[0m\u001b[0m\n\u001b[0m",
      "\u001b[1;31mIndexError\u001b[0m: only integers, slices (`:`), ellipsis (`...`), numpy.newaxis (`None`) and integer or boolean arrays are valid indices"
     ]
    }
   ],
   "source": [
    "df['New_Label1'] = y_output_"
   ]
  },
  {
   "cell_type": "code",
   "execution_count": 85,
   "metadata": {},
   "outputs": [],
   "source": [
    "df = pd.read_excel('output.xlsx')"
   ]
  },
  {
   "cell_type": "code",
   "execution_count": 86,
   "metadata": {},
   "outputs": [],
   "source": [
    "df['New_Label1'] = y_output_"
   ]
  },
  {
   "cell_type": "code",
   "execution_count": 87,
   "metadata": {},
   "outputs": [
    {
     "data": {
      "text/html": [
       "<div>\n",
       "<style scoped>\n",
       "    .dataframe tbody tr th:only-of-type {\n",
       "        vertical-align: middle;\n",
       "    }\n",
       "\n",
       "    .dataframe tbody tr th {\n",
       "        vertical-align: top;\n",
       "    }\n",
       "\n",
       "    .dataframe thead th {\n",
       "        text-align: right;\n",
       "    }\n",
       "</style>\n",
       "<table border=\"1\" class=\"dataframe\">\n",
       "  <thead>\n",
       "    <tr style=\"text-align: right;\">\n",
       "      <th></th>\n",
       "      <th>wrtDt</th>\n",
       "      <th>id</th>\n",
       "      <th>countryName</th>\n",
       "      <th>title</th>\n",
       "      <th>content</th>\n",
       "      <th>Div</th>\n",
       "      <th>Label</th>\n",
       "      <th>New_Label</th>\n",
       "      <th>Check</th>\n",
       "      <th>New_Label1</th>\n",
       "    </tr>\n",
       "  </thead>\n",
       "  <tbody>\n",
       "    <tr>\n",
       "      <th>0</th>\n",
       "      <td>2020-05-27</td>\n",
       "      <td>ATC0000000007885</td>\n",
       "      <td>미국</td>\n",
       "      <td>미국 입국 전 14일 이상 브라질 체류한 모든 외국인 입국 규제 관련 안내</td>\n",
       "      <td>&amp;nbsp;&amp;nbsp;미국, 입국 전 14일 이상 브라질 체류한 모든 외국인 입국 ...</td>\n",
       "      <td>정보</td>\n",
       "      <td>0</td>\n",
       "      <td>0</td>\n",
       "      <td>True</td>\n",
       "      <td>0</td>\n",
       "    </tr>\n",
       "    <tr>\n",
       "      <th>1</th>\n",
       "      <td>2020-05-26</td>\n",
       "      <td>ATC0000000007884</td>\n",
       "      <td>홍콩(중국)</td>\n",
       "      <td>홍콩 시위 관련 안전공지(5.26)</td>\n",
       "      <td>홍콩 시위 관련 안전공지1. 현재 홍콩에서 보안법 이슈 쟁점화로 시위 빈도 및 강도...</td>\n",
       "      <td>치안</td>\n",
       "      <td>1</td>\n",
       "      <td>0</td>\n",
       "      <td>False</td>\n",
       "      <td>0</td>\n",
       "    </tr>\n",
       "    <tr>\n",
       "      <th>2</th>\n",
       "      <td>2020-05-23</td>\n",
       "      <td>ATC0000000007881</td>\n",
       "      <td>호주</td>\n",
       "      <td>호주 열대성 폭풍 Manga 관련 안전 공지</td>\n",
       "      <td>ㅇ 열대성 폭풍 Manga가 5.24.(일)~5.25.(월) 호두 대륙을 통과할 예...</td>\n",
       "      <td>자연재해</td>\n",
       "      <td>1</td>\n",
       "      <td>1</td>\n",
       "      <td>True</td>\n",
       "      <td>1</td>\n",
       "    </tr>\n",
       "    <tr>\n",
       "      <th>3</th>\n",
       "      <td>2020-05-19</td>\n",
       "      <td>ATC0000000007857</td>\n",
       "      <td>태국</td>\n",
       "      <td>태국 뎅기열 유행에 따른 유의사항</td>\n",
       "      <td>태국 뎅기열 유행에 따른 유의사항 안내○ 최근 태국 동북부 지역에서 뎅기열 환자가 ...</td>\n",
       "      <td>질병</td>\n",
       "      <td>0</td>\n",
       "      <td>0</td>\n",
       "      <td>True</td>\n",
       "      <td>0</td>\n",
       "    </tr>\n",
       "    <tr>\n",
       "      <th>4</th>\n",
       "      <td>2020-05-19</td>\n",
       "      <td>ATC0000000007855</td>\n",
       "      <td>헝가리</td>\n",
       "      <td>‘우리 기업인 대상’ 헝가리 입국 허용 관련 안내</td>\n",
       "      <td>‘우리 기업인 대상’ 헝가리 입국 허용 관련 안내&amp;nbsp;○ 헝가리 정부는 4.3...</td>\n",
       "      <td>정보</td>\n",
       "      <td>0</td>\n",
       "      <td>0</td>\n",
       "      <td>True</td>\n",
       "      <td>0</td>\n",
       "    </tr>\n",
       "    <tr>\n",
       "      <th>...</th>\n",
       "      <td>...</td>\n",
       "      <td>...</td>\n",
       "      <td>...</td>\n",
       "      <td>...</td>\n",
       "      <td>...</td>\n",
       "      <td>...</td>\n",
       "      <td>...</td>\n",
       "      <td>...</td>\n",
       "      <td>...</td>\n",
       "      <td>...</td>\n",
       "    </tr>\n",
       "    <tr>\n",
       "      <th>4898</th>\n",
       "      <td>2011-07-05</td>\n",
       "      <td>10822</td>\n",
       "      <td>아프가니스탄</td>\n",
       "      <td>리비아, 이라크, 소말리아, 아프간 여행금지국 지정 연장</td>\n",
       "      <td>리비아․이라크․소말리아․아프간 여행금지국 지정 연장  1. 외교통상부는 7.4(월)...</td>\n",
       "      <td>NaN</td>\n",
       "      <td>2</td>\n",
       "      <td>2</td>\n",
       "      <td>True</td>\n",
       "      <td>2</td>\n",
       "    </tr>\n",
       "    <tr>\n",
       "      <th>4899</th>\n",
       "      <td>2011-07-05</td>\n",
       "      <td>10820</td>\n",
       "      <td>이라크</td>\n",
       "      <td>리비아, 이라크, 소말리아, 아프간 여행금지국 지정 연장</td>\n",
       "      <td>리비아․이라크․소말리아․아프간 여행금지국 지정 연장  1. 외교통상부는 7.4(월)...</td>\n",
       "      <td>NaN</td>\n",
       "      <td>2</td>\n",
       "      <td>2</td>\n",
       "      <td>True</td>\n",
       "      <td>2</td>\n",
       "    </tr>\n",
       "    <tr>\n",
       "      <th>4900</th>\n",
       "      <td>2011-05-18</td>\n",
       "      <td>10811</td>\n",
       "      <td>체코</td>\n",
       "      <td>[체코] 여행시 안전유의사항 안내</td>\n",
       "      <td>[체코] 여행시 안전유의사항 안내    (가짜 사복경찰 주의 안내)여행철 관광객을 ...</td>\n",
       "      <td>NaN</td>\n",
       "      <td>0</td>\n",
       "      <td>0</td>\n",
       "      <td>True</td>\n",
       "      <td>0</td>\n",
       "    </tr>\n",
       "    <tr>\n",
       "      <th>4901</th>\n",
       "      <td>2011-02-16</td>\n",
       "      <td>10721</td>\n",
       "      <td>예멘</td>\n",
       "      <td>[예멘]중동지역 시위발생에 따른 신변안전유의 안내</td>\n",
       "      <td>중동지역 사위발생에 따른 신변안전유의 안내   o 최근 알제리를 비롯하여, 바레인,...</td>\n",
       "      <td>치안</td>\n",
       "      <td>0</td>\n",
       "      <td>1</td>\n",
       "      <td>False</td>\n",
       "      <td>1</td>\n",
       "    </tr>\n",
       "    <tr>\n",
       "      <th>4902</th>\n",
       "      <td>2010-03-26</td>\n",
       "      <td>10475</td>\n",
       "      <td>캄보디아</td>\n",
       "      <td>[캄보디아] 인신매매, 성매매, 도박 및 마약거래 강력단속</td>\n",
       "      <td>캄보디아 인신매매, 성매매, 도박 및 마약거래 강력단속\\r\\n\\r\\n1. 훈센 캄보...</td>\n",
       "      <td>치안</td>\n",
       "      <td>0</td>\n",
       "      <td>0</td>\n",
       "      <td>True</td>\n",
       "      <td>0</td>\n",
       "    </tr>\n",
       "  </tbody>\n",
       "</table>\n",
       "<p>4903 rows × 10 columns</p>\n",
       "</div>"
      ],
      "text/plain": [
       "           wrtDt                id countryName  \\\n",
       "0     2020-05-27  ATC0000000007885          미국   \n",
       "1     2020-05-26  ATC0000000007884      홍콩(중국)   \n",
       "2     2020-05-23  ATC0000000007881          호주   \n",
       "3     2020-05-19  ATC0000000007857          태국   \n",
       "4     2020-05-19  ATC0000000007855         헝가리   \n",
       "...          ...               ...         ...   \n",
       "4898  2011-07-05             10822      아프가니스탄   \n",
       "4899  2011-07-05             10820         이라크   \n",
       "4900  2011-05-18             10811          체코   \n",
       "4901  2011-02-16             10721          예멘   \n",
       "4902  2010-03-26             10475        캄보디아   \n",
       "\n",
       "                                          title  \\\n",
       "0     미국 입국 전 14일 이상 브라질 체류한 모든 외국인 입국 규제 관련 안내   \n",
       "1                           홍콩 시위 관련 안전공지(5.26)   \n",
       "2                      호주 열대성 폭풍 Manga 관련 안전 공지   \n",
       "3                            태국 뎅기열 유행에 따른 유의사항   \n",
       "4                   ‘우리 기업인 대상’ 헝가리 입국 허용 관련 안내   \n",
       "...                                         ...   \n",
       "4898            리비아, 이라크, 소말리아, 아프간 여행금지국 지정 연장   \n",
       "4899            리비아, 이라크, 소말리아, 아프간 여행금지국 지정 연장   \n",
       "4900                         [체코] 여행시 안전유의사항 안내   \n",
       "4901                [예멘]중동지역 시위발생에 따른 신변안전유의 안내   \n",
       "4902           [캄보디아] 인신매매, 성매매, 도박 및 마약거래 강력단속   \n",
       "\n",
       "                                                content   Div  Label  \\\n",
       "0     &nbsp;&nbsp;미국, 입국 전 14일 이상 브라질 체류한 모든 외국인 입국 ...    정보      0   \n",
       "1     홍콩 시위 관련 안전공지1. 현재 홍콩에서 보안법 이슈 쟁점화로 시위 빈도 및 강도...    치안      1   \n",
       "2     ㅇ 열대성 폭풍 Manga가 5.24.(일)~5.25.(월) 호두 대륙을 통과할 예...  자연재해      1   \n",
       "3     태국 뎅기열 유행에 따른 유의사항 안내○ 최근 태국 동북부 지역에서 뎅기열 환자가 ...    질병      0   \n",
       "4     ‘우리 기업인 대상’ 헝가리 입국 허용 관련 안내&nbsp;○ 헝가리 정부는 4.3...    정보      0   \n",
       "...                                                 ...   ...    ...   \n",
       "4898  리비아․이라크․소말리아․아프간 여행금지국 지정 연장  1. 외교통상부는 7.4(월)...   NaN      2   \n",
       "4899  리비아․이라크․소말리아․아프간 여행금지국 지정 연장  1. 외교통상부는 7.4(월)...   NaN      2   \n",
       "4900  [체코] 여행시 안전유의사항 안내    (가짜 사복경찰 주의 안내)여행철 관광객을 ...   NaN      0   \n",
       "4901  중동지역 사위발생에 따른 신변안전유의 안내   o 최근 알제리를 비롯하여, 바레인,...    치안      0   \n",
       "4902  캄보디아 인신매매, 성매매, 도박 및 마약거래 강력단속\\r\\n\\r\\n1. 훈센 캄보...    치안      0   \n",
       "\n",
       "      New_Label  Check  New_Label1  \n",
       "0             0   True           0  \n",
       "1             0  False           0  \n",
       "2             1   True           1  \n",
       "3             0   True           0  \n",
       "4             0   True           0  \n",
       "...         ...    ...         ...  \n",
       "4898          2   True           2  \n",
       "4899          2   True           2  \n",
       "4900          0   True           0  \n",
       "4901          1  False           1  \n",
       "4902          0   True           0  \n",
       "\n",
       "[4903 rows x 10 columns]"
      ]
     },
     "execution_count": 87,
     "metadata": {},
     "output_type": "execute_result"
    }
   ],
   "source": [
    "df"
   ]
  },
  {
   "cell_type": "code",
   "execution_count": 89,
   "metadata": {},
   "outputs": [
    {
     "data": {
      "text/html": [
       "<div>\n",
       "<style scoped>\n",
       "    .dataframe tbody tr th:only-of-type {\n",
       "        vertical-align: middle;\n",
       "    }\n",
       "\n",
       "    .dataframe tbody tr th {\n",
       "        vertical-align: top;\n",
       "    }\n",
       "\n",
       "    .dataframe thead th {\n",
       "        text-align: right;\n",
       "    }\n",
       "</style>\n",
       "<table border=\"1\" class=\"dataframe\">\n",
       "  <thead>\n",
       "    <tr style=\"text-align: right;\">\n",
       "      <th></th>\n",
       "      <th>wrtDt</th>\n",
       "      <th>id</th>\n",
       "      <th>countryName</th>\n",
       "      <th>title</th>\n",
       "      <th>content</th>\n",
       "      <th>Div</th>\n",
       "      <th>Label</th>\n",
       "      <th>New_Label</th>\n",
       "      <th>Check</th>\n",
       "      <th>New_Label1</th>\n",
       "    </tr>\n",
       "  </thead>\n",
       "  <tbody>\n",
       "    <tr>\n",
       "      <th>0</th>\n",
       "      <td>2020-05-27</td>\n",
       "      <td>ATC0000000007885</td>\n",
       "      <td>미국</td>\n",
       "      <td>미국 입국 전 14일 이상 브라질 체류한 모든 외국인 입국 규제 관련 안내</td>\n",
       "      <td>&amp;nbsp;&amp;nbsp;미국, 입국 전 14일 이상 브라질 체류한 모든 외국인 입국 ...</td>\n",
       "      <td>정보</td>\n",
       "      <td>0</td>\n",
       "      <td>0</td>\n",
       "      <td>True</td>\n",
       "      <td>0</td>\n",
       "    </tr>\n",
       "    <tr>\n",
       "      <th>1</th>\n",
       "      <td>2020-05-26</td>\n",
       "      <td>ATC0000000007884</td>\n",
       "      <td>홍콩(중국)</td>\n",
       "      <td>홍콩 시위 관련 안전공지(5.26)</td>\n",
       "      <td>홍콩 시위 관련 안전공지1. 현재 홍콩에서 보안법 이슈 쟁점화로 시위 빈도 및 강도...</td>\n",
       "      <td>치안</td>\n",
       "      <td>1</td>\n",
       "      <td>0</td>\n",
       "      <td>False</td>\n",
       "      <td>0</td>\n",
       "    </tr>\n",
       "    <tr>\n",
       "      <th>2</th>\n",
       "      <td>2020-05-23</td>\n",
       "      <td>ATC0000000007881</td>\n",
       "      <td>호주</td>\n",
       "      <td>호주 열대성 폭풍 Manga 관련 안전 공지</td>\n",
       "      <td>ㅇ 열대성 폭풍 Manga가 5.24.(일)~5.25.(월) 호두 대륙을 통과할 예...</td>\n",
       "      <td>자연재해</td>\n",
       "      <td>1</td>\n",
       "      <td>1</td>\n",
       "      <td>True</td>\n",
       "      <td>1</td>\n",
       "    </tr>\n",
       "    <tr>\n",
       "      <th>3</th>\n",
       "      <td>2020-05-19</td>\n",
       "      <td>ATC0000000007857</td>\n",
       "      <td>태국</td>\n",
       "      <td>태국 뎅기열 유행에 따른 유의사항</td>\n",
       "      <td>태국 뎅기열 유행에 따른 유의사항 안내○ 최근 태국 동북부 지역에서 뎅기열 환자가 ...</td>\n",
       "      <td>질병</td>\n",
       "      <td>0</td>\n",
       "      <td>0</td>\n",
       "      <td>True</td>\n",
       "      <td>0</td>\n",
       "    </tr>\n",
       "    <tr>\n",
       "      <th>4</th>\n",
       "      <td>2020-05-19</td>\n",
       "      <td>ATC0000000007855</td>\n",
       "      <td>헝가리</td>\n",
       "      <td>‘우리 기업인 대상’ 헝가리 입국 허용 관련 안내</td>\n",
       "      <td>‘우리 기업인 대상’ 헝가리 입국 허용 관련 안내&amp;nbsp;○ 헝가리 정부는 4.3...</td>\n",
       "      <td>정보</td>\n",
       "      <td>0</td>\n",
       "      <td>0</td>\n",
       "      <td>True</td>\n",
       "      <td>0</td>\n",
       "    </tr>\n",
       "    <tr>\n",
       "      <th>...</th>\n",
       "      <td>...</td>\n",
       "      <td>...</td>\n",
       "      <td>...</td>\n",
       "      <td>...</td>\n",
       "      <td>...</td>\n",
       "      <td>...</td>\n",
       "      <td>...</td>\n",
       "      <td>...</td>\n",
       "      <td>...</td>\n",
       "      <td>...</td>\n",
       "    </tr>\n",
       "    <tr>\n",
       "      <th>4898</th>\n",
       "      <td>2011-07-05</td>\n",
       "      <td>10822</td>\n",
       "      <td>아프가니스탄</td>\n",
       "      <td>리비아, 이라크, 소말리아, 아프간 여행금지국 지정 연장</td>\n",
       "      <td>리비아․이라크․소말리아․아프간 여행금지국 지정 연장  1. 외교통상부는 7.4(월)...</td>\n",
       "      <td>NaN</td>\n",
       "      <td>2</td>\n",
       "      <td>2</td>\n",
       "      <td>True</td>\n",
       "      <td>2</td>\n",
       "    </tr>\n",
       "    <tr>\n",
       "      <th>4899</th>\n",
       "      <td>2011-07-05</td>\n",
       "      <td>10820</td>\n",
       "      <td>이라크</td>\n",
       "      <td>리비아, 이라크, 소말리아, 아프간 여행금지국 지정 연장</td>\n",
       "      <td>리비아․이라크․소말리아․아프간 여행금지국 지정 연장  1. 외교통상부는 7.4(월)...</td>\n",
       "      <td>NaN</td>\n",
       "      <td>2</td>\n",
       "      <td>2</td>\n",
       "      <td>True</td>\n",
       "      <td>2</td>\n",
       "    </tr>\n",
       "    <tr>\n",
       "      <th>4900</th>\n",
       "      <td>2011-05-18</td>\n",
       "      <td>10811</td>\n",
       "      <td>체코</td>\n",
       "      <td>[체코] 여행시 안전유의사항 안내</td>\n",
       "      <td>[체코] 여행시 안전유의사항 안내    (가짜 사복경찰 주의 안내)여행철 관광객을 ...</td>\n",
       "      <td>NaN</td>\n",
       "      <td>0</td>\n",
       "      <td>0</td>\n",
       "      <td>True</td>\n",
       "      <td>0</td>\n",
       "    </tr>\n",
       "    <tr>\n",
       "      <th>4901</th>\n",
       "      <td>2011-02-16</td>\n",
       "      <td>10721</td>\n",
       "      <td>예멘</td>\n",
       "      <td>[예멘]중동지역 시위발생에 따른 신변안전유의 안내</td>\n",
       "      <td>중동지역 사위발생에 따른 신변안전유의 안내   o 최근 알제리를 비롯하여, 바레인,...</td>\n",
       "      <td>치안</td>\n",
       "      <td>0</td>\n",
       "      <td>1</td>\n",
       "      <td>False</td>\n",
       "      <td>1</td>\n",
       "    </tr>\n",
       "    <tr>\n",
       "      <th>4902</th>\n",
       "      <td>2010-03-26</td>\n",
       "      <td>10475</td>\n",
       "      <td>캄보디아</td>\n",
       "      <td>[캄보디아] 인신매매, 성매매, 도박 및 마약거래 강력단속</td>\n",
       "      <td>캄보디아 인신매매, 성매매, 도박 및 마약거래 강력단속\\r\\n\\r\\n1. 훈센 캄보...</td>\n",
       "      <td>치안</td>\n",
       "      <td>0</td>\n",
       "      <td>0</td>\n",
       "      <td>True</td>\n",
       "      <td>0</td>\n",
       "    </tr>\n",
       "  </tbody>\n",
       "</table>\n",
       "<p>4903 rows × 10 columns</p>\n",
       "</div>"
      ],
      "text/plain": [
       "           wrtDt                id countryName  \\\n",
       "0     2020-05-27  ATC0000000007885          미국   \n",
       "1     2020-05-26  ATC0000000007884      홍콩(중국)   \n",
       "2     2020-05-23  ATC0000000007881          호주   \n",
       "3     2020-05-19  ATC0000000007857          태국   \n",
       "4     2020-05-19  ATC0000000007855         헝가리   \n",
       "...          ...               ...         ...   \n",
       "4898  2011-07-05             10822      아프가니스탄   \n",
       "4899  2011-07-05             10820         이라크   \n",
       "4900  2011-05-18             10811          체코   \n",
       "4901  2011-02-16             10721          예멘   \n",
       "4902  2010-03-26             10475        캄보디아   \n",
       "\n",
       "                                          title  \\\n",
       "0     미국 입국 전 14일 이상 브라질 체류한 모든 외국인 입국 규제 관련 안내   \n",
       "1                           홍콩 시위 관련 안전공지(5.26)   \n",
       "2                      호주 열대성 폭풍 Manga 관련 안전 공지   \n",
       "3                            태국 뎅기열 유행에 따른 유의사항   \n",
       "4                   ‘우리 기업인 대상’ 헝가리 입국 허용 관련 안내   \n",
       "...                                         ...   \n",
       "4898            리비아, 이라크, 소말리아, 아프간 여행금지국 지정 연장   \n",
       "4899            리비아, 이라크, 소말리아, 아프간 여행금지국 지정 연장   \n",
       "4900                         [체코] 여행시 안전유의사항 안내   \n",
       "4901                [예멘]중동지역 시위발생에 따른 신변안전유의 안내   \n",
       "4902           [캄보디아] 인신매매, 성매매, 도박 및 마약거래 강력단속   \n",
       "\n",
       "                                                content   Div  Label  \\\n",
       "0     &nbsp;&nbsp;미국, 입국 전 14일 이상 브라질 체류한 모든 외국인 입국 ...    정보      0   \n",
       "1     홍콩 시위 관련 안전공지1. 현재 홍콩에서 보안법 이슈 쟁점화로 시위 빈도 및 강도...    치안      1   \n",
       "2     ㅇ 열대성 폭풍 Manga가 5.24.(일)~5.25.(월) 호두 대륙을 통과할 예...  자연재해      1   \n",
       "3     태국 뎅기열 유행에 따른 유의사항 안내○ 최근 태국 동북부 지역에서 뎅기열 환자가 ...    질병      0   \n",
       "4     ‘우리 기업인 대상’ 헝가리 입국 허용 관련 안내&nbsp;○ 헝가리 정부는 4.3...    정보      0   \n",
       "...                                                 ...   ...    ...   \n",
       "4898  리비아․이라크․소말리아․아프간 여행금지국 지정 연장  1. 외교통상부는 7.4(월)...   NaN      2   \n",
       "4899  리비아․이라크․소말리아․아프간 여행금지국 지정 연장  1. 외교통상부는 7.4(월)...   NaN      2   \n",
       "4900  [체코] 여행시 안전유의사항 안내    (가짜 사복경찰 주의 안내)여행철 관광객을 ...   NaN      0   \n",
       "4901  중동지역 사위발생에 따른 신변안전유의 안내   o 최근 알제리를 비롯하여, 바레인,...    치안      0   \n",
       "4902  캄보디아 인신매매, 성매매, 도박 및 마약거래 강력단속\\r\\n\\r\\n1. 훈센 캄보...    치안      0   \n",
       "\n",
       "      New_Label  Check  New_Label1  \n",
       "0             0   True           0  \n",
       "1             0  False           0  \n",
       "2             1   True           1  \n",
       "3             0   True           0  \n",
       "4             0   True           0  \n",
       "...         ...    ...         ...  \n",
       "4898          2   True           2  \n",
       "4899          2   True           2  \n",
       "4900          0   True           0  \n",
       "4901          1  False           1  \n",
       "4902          0   True           0  \n",
       "\n",
       "[4903 rows x 10 columns]"
      ]
     },
     "execution_count": 89,
     "metadata": {},
     "output_type": "execute_result"
    }
   ],
   "source": [
    "df.loc[df['New_Label']==df['New_Label1']]"
   ]
  },
  {
   "cell_type": "code",
   "execution_count": null,
   "metadata": {},
   "outputs": [],
   "source": []
  }
 ],
 "metadata": {
  "kernelspec": {
   "display_name": "Python 3",
   "language": "python",
   "name": "python3"
  },
  "language_info": {
   "codemirror_mode": {
    "name": "ipython",
    "version": 3
   },
   "file_extension": ".py",
   "mimetype": "text/x-python",
   "name": "python",
   "nbconvert_exporter": "python",
   "pygments_lexer": "ipython3",
   "version": "3.7.2"
  }
 },
 "nbformat": 4,
 "nbformat_minor": 2
}
