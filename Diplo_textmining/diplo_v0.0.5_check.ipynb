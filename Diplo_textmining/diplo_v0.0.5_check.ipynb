{
 "cells": [
  {
   "cell_type": "code",
   "execution_count": 12,
   "metadata": {
    "scrolled": true
   },
   "outputs": [],
   "source": [
    "import pandas as pd\n",
    "import numpy as np\n",
    "from bs4 import BeautifulSoup as bs\n",
    "import konlpy\n",
    "from konlpy.tag import Okt\n",
    "from keras.layers import Embedding, Dense, LSTM, Activation\n",
    "from keras.models import Sequential\n",
    "from keras.preprocessing.sequence import pad_sequences\n",
    "from keras.preprocessing.text import Tokenizer\n",
    "from keras.callbacks import EarlyStopping, ModelCheckpoint\n",
    "from tensorflow.keras.utils import to_categorical\n",
    "from keras import optimizers\n",
    "from keras.wrappers.scikit_learn import KerasClassifier\n",
    "from sklearn.model_selection import train_test_split\n",
    "from sklearn.metrics import accuracy_score\n",
    "import re"
   ]
  },
  {
   "cell_type": "code",
   "execution_count": 13,
   "metadata": {},
   "outputs": [],
   "source": [
    "df = pd.read_excel(\"test_all3.xlsx\")"
   ]
  },
  {
   "cell_type": "code",
   "execution_count": 14,
   "metadata": {},
   "outputs": [
    {
     "data": {
      "text/html": [
       "<div>\n",
       "<style scoped>\n",
       "    .dataframe tbody tr th:only-of-type {\n",
       "        vertical-align: middle;\n",
       "    }\n",
       "\n",
       "    .dataframe tbody tr th {\n",
       "        vertical-align: top;\n",
       "    }\n",
       "\n",
       "    .dataframe thead th {\n",
       "        text-align: right;\n",
       "    }\n",
       "</style>\n",
       "<table border=\"1\" class=\"dataframe\">\n",
       "  <thead>\n",
       "    <tr style=\"text-align: right;\">\n",
       "      <th></th>\n",
       "      <th>content</th>\n",
       "      <th>countryEnName</th>\n",
       "      <th>countryName</th>\n",
       "      <th>fileUrl</th>\n",
       "      <th>id</th>\n",
       "      <th>title</th>\n",
       "      <th>wrtDt</th>\n",
       "      <th>Div</th>\n",
       "    </tr>\n",
       "  </thead>\n",
       "  <tbody>\n",
       "    <tr>\n",
       "      <th>0</th>\n",
       "      <td>&amp;nbsp;&amp;nbsp;미국, 입국 전 14일 이상 브라질 체류한 모든 외국인 입국 ...</td>\n",
       "      <td>United States of America</td>\n",
       "      <td>미국</td>\n",
       "      <td>NaN</td>\n",
       "      <td>ATC0000000007885</td>\n",
       "      <td>미국 입국 전 14일 이상 브라질 체류한 모든 외국인 입국 규제 관련 안내</td>\n",
       "      <td>2020-05-27</td>\n",
       "      <td>정보</td>\n",
       "    </tr>\n",
       "    <tr>\n",
       "      <th>1</th>\n",
       "      <td>홍콩 시위 관련 안전공지1. 현재 홍콩에서 보안법 이슈 쟁점화로 시위 빈도 및 강도...</td>\n",
       "      <td>hongkong</td>\n",
       "      <td>홍콩(중국)</td>\n",
       "      <td>NaN</td>\n",
       "      <td>ATC0000000007884</td>\n",
       "      <td>홍콩 시위 관련 안전공지(5.26)</td>\n",
       "      <td>2020-05-26</td>\n",
       "      <td>치안</td>\n",
       "    </tr>\n",
       "    <tr>\n",
       "      <th>2</th>\n",
       "      <td>ㅇ 열대성 폭풍 Manga가 5.24.(일)~5.25.(월) 호두 대륙을 통과할 예...</td>\n",
       "      <td>Australia</td>\n",
       "      <td>호주</td>\n",
       "      <td>NaN</td>\n",
       "      <td>ATC0000000007881</td>\n",
       "      <td>호주 열대성 폭풍 Manga 관련 안전 공지</td>\n",
       "      <td>2020-05-23</td>\n",
       "      <td>자연재해</td>\n",
       "    </tr>\n",
       "    <tr>\n",
       "      <th>3</th>\n",
       "      <td>태국 뎅기열 유행에 따른 유의사항 안내&amp;nbsp;○ 최근 태국 동북부 지역에서 뎅기...</td>\n",
       "      <td>Thailand</td>\n",
       "      <td>태국</td>\n",
       "      <td>NaN</td>\n",
       "      <td>ATC0000000007857</td>\n",
       "      <td>태국 뎅기열 유행에 따른 유의사항</td>\n",
       "      <td>2020-05-19</td>\n",
       "      <td>질병</td>\n",
       "    </tr>\n",
       "    <tr>\n",
       "      <th>4</th>\n",
       "      <td>‘우리 기업인 대상’ 헝가리 입국 허용 관련 안내&amp;nbsp;○ 헝가리 정부는 4.3...</td>\n",
       "      <td>Hungary</td>\n",
       "      <td>헝가리</td>\n",
       "      <td>http://www.0404.go.kr/dev/fileDownload.mofa?at...</td>\n",
       "      <td>ATC0000000007855</td>\n",
       "      <td>‘우리 기업인 대상’ 헝가리 입국 허용 관련 안내</td>\n",
       "      <td>2020-05-19</td>\n",
       "      <td>정보</td>\n",
       "    </tr>\n",
       "  </tbody>\n",
       "</table>\n",
       "</div>"
      ],
      "text/plain": [
       "                                             content  \\\n",
       "0  &nbsp;&nbsp;미국, 입국 전 14일 이상 브라질 체류한 모든 외국인 입국 ...   \n",
       "1  홍콩 시위 관련 안전공지1. 현재 홍콩에서 보안법 이슈 쟁점화로 시위 빈도 및 강도...   \n",
       "2  ㅇ 열대성 폭풍 Manga가 5.24.(일)~5.25.(월) 호두 대륙을 통과할 예...   \n",
       "3  태국 뎅기열 유행에 따른 유의사항 안내&nbsp;○ 최근 태국 동북부 지역에서 뎅기...   \n",
       "4  ‘우리 기업인 대상’ 헝가리 입국 허용 관련 안내&nbsp;○ 헝가리 정부는 4.3...   \n",
       "\n",
       "              countryEnName countryName  \\\n",
       "0  United States of America          미국   \n",
       "1                  hongkong      홍콩(중국)   \n",
       "2                 Australia          호주   \n",
       "3                  Thailand          태국   \n",
       "4                   Hungary         헝가리   \n",
       "\n",
       "                                             fileUrl                id  \\\n",
       "0                                                NaN  ATC0000000007885   \n",
       "1                                                NaN  ATC0000000007884   \n",
       "2                                                NaN  ATC0000000007881   \n",
       "3                                                NaN  ATC0000000007857   \n",
       "4  http://www.0404.go.kr/dev/fileDownload.mofa?at...  ATC0000000007855   \n",
       "\n",
       "                                       title       wrtDt   Div  \n",
       "0  미국 입국 전 14일 이상 브라질 체류한 모든 외국인 입국 규제 관련 안내  2020-05-27    정보  \n",
       "1                        홍콩 시위 관련 안전공지(5.26)  2020-05-26    치안  \n",
       "2                   호주 열대성 폭풍 Manga 관련 안전 공지  2020-05-23  자연재해  \n",
       "3                         태국 뎅기열 유행에 따른 유의사항  2020-05-19    질병  \n",
       "4                ‘우리 기업인 대상’ 헝가리 입국 허용 관련 안내  2020-05-19    정보  "
      ]
     },
     "execution_count": 14,
     "metadata": {},
     "output_type": "execute_result"
    }
   ],
   "source": [
    "df.head()"
   ]
  },
  {
   "cell_type": "code",
   "execution_count": 15,
   "metadata": {},
   "outputs": [
    {
     "data": {
      "text/plain": [
       "5574"
      ]
     },
     "execution_count": 15,
     "metadata": {},
     "output_type": "execute_result"
    }
   ],
   "source": [
    "len(df)"
   ]
  },
  {
   "cell_type": "code",
   "execution_count": 16,
   "metadata": {},
   "outputs": [],
   "source": [
    "# df = df.dropna(how='any', subset=['Div'])\n",
    "# print(len(df))"
   ]
  },
  {
   "cell_type": "code",
   "execution_count": 17,
   "metadata": {},
   "outputs": [],
   "source": [
    "df['Content'] = df.apply(lambda x: np.nan if pd.isnull(x['title']) and pd.isnull(x['content']) else x['title'] if pd.isnull(x['content']) else x['title'] + ' ' + x['content'] , axis=1)"
   ]
  },
  {
   "cell_type": "code",
   "execution_count": 7,
   "metadata": {},
   "outputs": [],
   "source": [
    "# df = df[['Content','Div']]"
   ]
  },
  {
   "cell_type": "code",
   "execution_count": 18,
   "metadata": {},
   "outputs": [
    {
     "data": {
      "text/html": [
       "<div>\n",
       "<style scoped>\n",
       "    .dataframe tbody tr th:only-of-type {\n",
       "        vertical-align: middle;\n",
       "    }\n",
       "\n",
       "    .dataframe tbody tr th {\n",
       "        vertical-align: top;\n",
       "    }\n",
       "\n",
       "    .dataframe thead th {\n",
       "        text-align: right;\n",
       "    }\n",
       "</style>\n",
       "<table border=\"1\" class=\"dataframe\">\n",
       "  <thead>\n",
       "    <tr style=\"text-align: right;\">\n",
       "      <th></th>\n",
       "      <th>content</th>\n",
       "      <th>countryEnName</th>\n",
       "      <th>countryName</th>\n",
       "      <th>fileUrl</th>\n",
       "      <th>id</th>\n",
       "      <th>title</th>\n",
       "      <th>wrtDt</th>\n",
       "      <th>Div</th>\n",
       "      <th>Content</th>\n",
       "    </tr>\n",
       "  </thead>\n",
       "  <tbody>\n",
       "    <tr>\n",
       "      <th>0</th>\n",
       "      <td>&amp;nbsp;&amp;nbsp;미국, 입국 전 14일 이상 브라질 체류한 모든 외국인 입국 ...</td>\n",
       "      <td>United States of America</td>\n",
       "      <td>미국</td>\n",
       "      <td>NaN</td>\n",
       "      <td>ATC0000000007885</td>\n",
       "      <td>미국 입국 전 14일 이상 브라질 체류한 모든 외국인 입국 규제 관련 안내</td>\n",
       "      <td>2020-05-27</td>\n",
       "      <td>정보</td>\n",
       "      <td>미국 입국 전 14일 이상 브라질 체류한 모든 외국인 입국 규제 관련 안내 &amp;nbs...</td>\n",
       "    </tr>\n",
       "    <tr>\n",
       "      <th>1</th>\n",
       "      <td>홍콩 시위 관련 안전공지1. 현재 홍콩에서 보안법 이슈 쟁점화로 시위 빈도 및 강도...</td>\n",
       "      <td>hongkong</td>\n",
       "      <td>홍콩(중국)</td>\n",
       "      <td>NaN</td>\n",
       "      <td>ATC0000000007884</td>\n",
       "      <td>홍콩 시위 관련 안전공지(5.26)</td>\n",
       "      <td>2020-05-26</td>\n",
       "      <td>치안</td>\n",
       "      <td>홍콩 시위 관련 안전공지(5.26) 홍콩 시위 관련 안전공지1. 현재 홍콩에서 보안...</td>\n",
       "    </tr>\n",
       "    <tr>\n",
       "      <th>2</th>\n",
       "      <td>ㅇ 열대성 폭풍 Manga가 5.24.(일)~5.25.(월) 호두 대륙을 통과할 예...</td>\n",
       "      <td>Australia</td>\n",
       "      <td>호주</td>\n",
       "      <td>NaN</td>\n",
       "      <td>ATC0000000007881</td>\n",
       "      <td>호주 열대성 폭풍 Manga 관련 안전 공지</td>\n",
       "      <td>2020-05-23</td>\n",
       "      <td>자연재해</td>\n",
       "      <td>호주 열대성 폭풍 Manga 관련 안전 공지 ㅇ 열대성 폭풍 Manga가 5.24....</td>\n",
       "    </tr>\n",
       "    <tr>\n",
       "      <th>3</th>\n",
       "      <td>태국 뎅기열 유행에 따른 유의사항 안내&amp;nbsp;○ 최근 태국 동북부 지역에서 뎅기...</td>\n",
       "      <td>Thailand</td>\n",
       "      <td>태국</td>\n",
       "      <td>NaN</td>\n",
       "      <td>ATC0000000007857</td>\n",
       "      <td>태국 뎅기열 유행에 따른 유의사항</td>\n",
       "      <td>2020-05-19</td>\n",
       "      <td>질병</td>\n",
       "      <td>태국 뎅기열 유행에 따른 유의사항 태국 뎅기열 유행에 따른 유의사항 안내&amp;nbsp;...</td>\n",
       "    </tr>\n",
       "    <tr>\n",
       "      <th>4</th>\n",
       "      <td>‘우리 기업인 대상’ 헝가리 입국 허용 관련 안내&amp;nbsp;○ 헝가리 정부는 4.3...</td>\n",
       "      <td>Hungary</td>\n",
       "      <td>헝가리</td>\n",
       "      <td>http://www.0404.go.kr/dev/fileDownload.mofa?at...</td>\n",
       "      <td>ATC0000000007855</td>\n",
       "      <td>‘우리 기업인 대상’ 헝가리 입국 허용 관련 안내</td>\n",
       "      <td>2020-05-19</td>\n",
       "      <td>정보</td>\n",
       "      <td>‘우리 기업인 대상’ 헝가리 입국 허용 관련 안내 ‘우리 기업인 대상’ 헝가리 입국...</td>\n",
       "    </tr>\n",
       "  </tbody>\n",
       "</table>\n",
       "</div>"
      ],
      "text/plain": [
       "                                             content  \\\n",
       "0  &nbsp;&nbsp;미국, 입국 전 14일 이상 브라질 체류한 모든 외국인 입국 ...   \n",
       "1  홍콩 시위 관련 안전공지1. 현재 홍콩에서 보안법 이슈 쟁점화로 시위 빈도 및 강도...   \n",
       "2  ㅇ 열대성 폭풍 Manga가 5.24.(일)~5.25.(월) 호두 대륙을 통과할 예...   \n",
       "3  태국 뎅기열 유행에 따른 유의사항 안내&nbsp;○ 최근 태국 동북부 지역에서 뎅기...   \n",
       "4  ‘우리 기업인 대상’ 헝가리 입국 허용 관련 안내&nbsp;○ 헝가리 정부는 4.3...   \n",
       "\n",
       "              countryEnName countryName  \\\n",
       "0  United States of America          미국   \n",
       "1                  hongkong      홍콩(중국)   \n",
       "2                 Australia          호주   \n",
       "3                  Thailand          태국   \n",
       "4                   Hungary         헝가리   \n",
       "\n",
       "                                             fileUrl                id  \\\n",
       "0                                                NaN  ATC0000000007885   \n",
       "1                                                NaN  ATC0000000007884   \n",
       "2                                                NaN  ATC0000000007881   \n",
       "3                                                NaN  ATC0000000007857   \n",
       "4  http://www.0404.go.kr/dev/fileDownload.mofa?at...  ATC0000000007855   \n",
       "\n",
       "                                       title       wrtDt   Div  \\\n",
       "0  미국 입국 전 14일 이상 브라질 체류한 모든 외국인 입국 규제 관련 안내  2020-05-27    정보   \n",
       "1                        홍콩 시위 관련 안전공지(5.26)  2020-05-26    치안   \n",
       "2                   호주 열대성 폭풍 Manga 관련 안전 공지  2020-05-23  자연재해   \n",
       "3                         태국 뎅기열 유행에 따른 유의사항  2020-05-19    질병   \n",
       "4                ‘우리 기업인 대상’ 헝가리 입국 허용 관련 안내  2020-05-19    정보   \n",
       "\n",
       "                                             Content  \n",
       "0  미국 입국 전 14일 이상 브라질 체류한 모든 외국인 입국 규제 관련 안내 &nbs...  \n",
       "1  홍콩 시위 관련 안전공지(5.26) 홍콩 시위 관련 안전공지1. 현재 홍콩에서 보안...  \n",
       "2  호주 열대성 폭풍 Manga 관련 안전 공지 ㅇ 열대성 폭풍 Manga가 5.24....  \n",
       "3  태국 뎅기열 유행에 따른 유의사항 태국 뎅기열 유행에 따른 유의사항 안내&nbsp;...  \n",
       "4  ‘우리 기업인 대상’ 헝가리 입국 허용 관련 안내 ‘우리 기업인 대상’ 헝가리 입국...  "
      ]
     },
     "execution_count": 18,
     "metadata": {},
     "output_type": "execute_result"
    }
   ],
   "source": [
    "df.head()"
   ]
  },
  {
   "cell_type": "code",
   "execution_count": 19,
   "metadata": {},
   "outputs": [],
   "source": [
    "from konlpy.tag import Okt\n",
    "\n",
    "stopwords = ['콜센터', '등', '및', '번호', '전', '하다', '하여', '월', '화', '수', '목', '금', '토', '일']\n",
    "\n",
    "X = []\n",
    "okt = Okt()\n",
    "\n",
    "for i in range(len(df)):\n",
    "    _x = df.iloc[i]['Content']\n",
    "    \n",
    "    okt_morphs = okt.pos(_x)  # 튜플반환\n",
    "    temp_x = []\n",
    "    for word, pos in okt_morphs:\n",
    "        if pos == 'Noun' or pos == 'Verb':\n",
    "            temp_x.append(word)\n",
    "            \n",
    "    temp_x = [word for word in temp_x if not word in stopwords]\n",
    "    X.append(temp_x)\n",
    "    \n",
    "\n",
    "max_words = 35000\n",
    "tokenizer = Tokenizer(num_words = max_words)\n",
    "tokenizer.fit_on_texts(X)\n",
    "X = tokenizer.texts_to_sequences(X)"
   ]
  },
  {
   "cell_type": "code",
   "execution_count": 20,
   "metadata": {},
   "outputs": [
    {
     "name": "stdout",
     "output_type": "stream",
     "text": [
      "제목의 최대 길이 :  1728\n",
      "제목의 평균 길이 :  119.44581987800503\n"
     ]
    },
    {
     "data": {
      "image/png": "[encoded data removed]",
      "text/plain": [
       "<Figure size 432x288 with 1 Axes>"
      ]
     },
     "metadata": {
      "needs_background": "light"
     },
     "output_type": "display_data"
    }
   ],
   "source": [
    "%matplotlib inline\n",
    "import matplotlib.pyplot as plt\n",
    "\n",
    "print(\"제목의 최대 길이 : \", max(len(l) for l in X))\n",
    "print(\"제목의 평균 길이 : \", sum(map(len, X))/ len(X))\n",
    "plt.hist([len(s) for s in X], bins=50)\n",
    "plt.xlabel('length of Data')\n",
    "plt.ylabel('number of Data')\n",
    "plt.show()"
   ]
  },
  {
   "cell_type": "code",
   "execution_count": 21,
   "metadata": {},
   "outputs": [],
   "source": [
    "dic = {\n",
    "    '정보': 0,\n",
    "    '자연재해': 1,\n",
    "    '질병': 2,\n",
    "    '치안': 3\n",
    "}\n",
    "df['div'] = df['Div'].apply(lambda x: dic[x] if pd.notnull(x) else np.nan)\n",
    "# Y = to_categorical(df['Div'])"
   ]
  },
  {
   "cell_type": "code",
   "execution_count": 13,
   "metadata": {},
   "outputs": [],
   "source": [
    "# x_train, x_test, y_train, y_test = train_test_split(X, Y, test_size=0.2)"
   ]
  },
  {
   "cell_type": "code",
   "execution_count": 22,
   "metadata": {},
   "outputs": [],
   "source": [
    "from keras.layers import Embedding, Dense, LSTM\n",
    "from keras.models import Sequential\n",
    "from keras.preprocessing.sequence import pad_sequences\n",
    "\n",
    "# max_len = max(len(l) for l in X) # 전체 데이터의 길이를 20로 맞춘다\n",
    "max_len = 1728\n",
    "X = pad_sequences(X, maxlen=max_len)"
   ]
  },
  {
   "cell_type": "code",
   "execution_count": 23,
   "metadata": {},
   "outputs": [],
   "source": [
    "# loading model\n",
    "from keras.models import model_from_json\n",
    "\n",
    "model = model_from_json(open('model_architecture.json').read())\n",
    "model.load_weights('model_weights.h5')\n",
    "\n",
    "# dont forget to compile your model\n",
    "\n",
    "model.compile(loss='binary_crossentropy', optimizer='adam', metrics=['accuracy'])\n",
    "\n",
    "# score = model.evaluate(X, Y, verbose=0)"
   ]
  },
  {
   "cell_type": "code",
   "execution_count": 29,
   "metadata": {},
   "outputs": [
    {
     "data": {
      "text/plain": [
       "[0.045781337794683435, 0.9916911721229553]"
      ]
     },
     "execution_count": 29,
     "metadata": {},
     "output_type": "execute_result"
    }
   ],
   "source": [
    "score"
   ]
  },
  {
   "cell_type": "code",
   "execution_count": 30,
   "metadata": {},
   "outputs": [
    {
     "name": "stdout",
     "output_type": "stream",
     "text": [
      "Model: \"sequential_4\"\n",
      "_________________________________________________________________\n",
      "Layer (type)                 Output Shape              Param #   \n",
      "=================================================================\n",
      "embedding_4 (Embedding)      (None, None, 100)         3500000   \n",
      "_________________________________________________________________\n",
      "lstm_7 (LSTM)                (None, None, 50)          30200     \n",
      "_________________________________________________________________\n",
      "lstm_8 (LSTM)                (None, 50)                20200     \n",
      "_________________________________________________________________\n",
      "dense_4 (Dense)              (None, 4)                 204       \n",
      "_________________________________________________________________\n",
      "activation_4 (Activation)    (None, 4)                 0         \n",
      "=================================================================\n",
      "Total params: 3,550,604\n",
      "Trainable params: 3,550,604\n",
      "Non-trainable params: 0\n",
      "_________________________________________________________________\n"
     ]
    }
   ],
   "source": [
    "model.summary()"
   ]
  },
  {
   "cell_type": "code",
   "execution_count": 24,
   "metadata": {},
   "outputs": [
    {
     "name": "stdout",
     "output_type": "stream",
     "text": [
      "5574/5574 [==============================] - 71s 13ms/step\n"
     ]
    }
   ],
   "source": [
    "y_pred = model.predict_classes(X, verbose=1)"
   ]
  },
  {
   "cell_type": "code",
   "execution_count": 43,
   "metadata": {},
   "outputs": [
    {
     "data": {
      "text/plain": [
       "array([0, 3, 1, ..., 3, 3, 3], dtype=int64)"
      ]
     },
     "execution_count": 43,
     "metadata": {},
     "output_type": "execute_result"
    }
   ],
   "source": [
    "row_maxes = Y.argmax(axis=1)\n",
    "row_maxes"
   ]
  },
  {
   "cell_type": "code",
   "execution_count": 25,
   "metadata": {},
   "outputs": [
    {
     "data": {
      "text/plain": [
       "array([3, 3, 3, ..., 0, 0, 0], dtype=int64)"
      ]
     },
     "execution_count": 25,
     "metadata": {},
     "output_type": "execute_result"
    }
   ],
   "source": [
    "y_pred"
   ]
  },
  {
   "cell_type": "code",
   "execution_count": 44,
   "metadata": {},
   "outputs": [
    {
     "data": {
      "text/plain": [
       "3400"
      ]
     },
     "execution_count": 44,
     "metadata": {},
     "output_type": "execute_result"
    }
   ],
   "source": [
    "len(row_maxes)"
   ]
  },
  {
   "cell_type": "code",
   "execution_count": 45,
   "metadata": {},
   "outputs": [
    {
     "data": {
      "text/plain": [
       "3400"
      ]
     },
     "execution_count": 45,
     "metadata": {},
     "output_type": "execute_result"
    }
   ],
   "source": [
    "len(y_pred)"
   ]
  },
  {
   "cell_type": "code",
   "execution_count": 46,
   "metadata": {},
   "outputs": [],
   "source": [
    "count = 0\n",
    "for i in range(len(y_pred)):\n",
    "    if row_maxes[i] != y_pred[i]:\n",
    "        count+=1"
   ]
  },
  {
   "cell_type": "code",
   "execution_count": 47,
   "metadata": {},
   "outputs": [
    {
     "data": {
      "text/plain": [
       "57"
      ]
     },
     "execution_count": 47,
     "metadata": {},
     "output_type": "execute_result"
    }
   ],
   "source": [
    "count"
   ]
  },
  {
   "cell_type": "code",
   "execution_count": 26,
   "metadata": {},
   "outputs": [],
   "source": [
    "df['pred_Div'] = y_pred"
   ]
  },
  {
   "cell_type": "code",
   "execution_count": null,
   "metadata": {},
   "outputs": [],
   "source": []
  },
  {
   "cell_type": "code",
   "execution_count": 29,
   "metadata": {},
   "outputs": [],
   "source": [
    "df['Equal'] = (df['div']==df['pred_Div'])"
   ]
  },
  {
   "cell_type": "code",
   "execution_count": 30,
   "metadata": {},
   "outputs": [
    {
     "data": {
      "text/plain": [
       "False    3325\n",
       "True     2249\n",
       "Name: Equal, dtype: int64"
      ]
     },
     "execution_count": 30,
     "metadata": {},
     "output_type": "execute_result"
    }
   ],
   "source": [
    "df['Equal'].value_counts()"
   ]
  },
  {
   "cell_type": "code",
   "execution_count": null,
   "metadata": {},
   "outputs": [],
   "source": []
  },
  {
   "cell_type": "code",
   "execution_count": 33,
   "metadata": {},
   "outputs": [],
   "source": [
    "df2 = pd.read_excel(\"test_all3.xlsx\")"
   ]
  },
  {
   "cell_type": "code",
   "execution_count": 34,
   "metadata": {},
   "outputs": [
    {
     "name": "stdout",
     "output_type": "stream",
     "text": [
      "3583\n"
     ]
    }
   ],
   "source": [
    "df2 = df.dropna(how='any', subset=['Div'])\n",
    "print(len(df2))"
   ]
  },
  {
   "cell_type": "code",
   "execution_count": 35,
   "metadata": {},
   "outputs": [
    {
     "name": "stderr",
     "output_type": "stream",
     "text": [
      "C:\\Users\\min-sung.lee\\AppData\\Local\\Continuum\\anaconda3\\envs\\tensorflow\\lib\\site-packages\\ipykernel_launcher.py:1: SettingWithCopyWarning: \n",
      "A value is trying to be set on a copy of a slice from a DataFrame.\n",
      "Try using .loc[row_indexer,col_indexer] = value instead\n",
      "\n",
      "See the caveats in the documentation: https://pandas.pydata.org/pandas-docs/stable/user_guide/indexing.html#returning-a-view-versus-a-copy\n",
      "  \"\"\"Entry point for launching an IPython kernel.\n"
     ]
    }
   ],
   "source": [
    "df2['Content'] = df2.apply(lambda x: np.nan if pd.isnull(x['title']) and pd.isnull(x['content']) else x['title'] if pd.isnull(x['content']) else x['title'] + ' ' + x['content'] , axis=1)"
   ]
  },
  {
   "cell_type": "code",
   "execution_count": 37,
   "metadata": {},
   "outputs": [],
   "source": [
    "from konlpy.tag import Okt\n",
    "\n",
    "stopwords = ['콜센터', '등', '및', '번호', '전', '하다', '하여', '월', '화', '수', '목', '금', '토', '일']\n",
    "\n",
    "X = []\n",
    "okt = Okt()\n",
    "\n",
    "for i in range(len(df2)):\n",
    "    _x = df2.iloc[i]['Content']\n",
    "    \n",
    "    okt_morphs = okt.pos(_x)  # 튜플반환\n",
    "    temp_x = []\n",
    "    for word, pos in okt_morphs:\n",
    "        if pos == 'Noun' or pos == 'Verb':\n",
    "            temp_x.append(word)\n",
    "            \n",
    "    temp_x = [word for word in temp_x if not word in stopwords]\n",
    "    X.append(temp_x)\n",
    "    \n",
    "\n",
    "max_words = 35000\n",
    "tokenizer = Tokenizer(num_words = max_words)\n",
    "tokenizer.fit_on_texts(X)\n",
    "X = tokenizer.texts_to_sequences(X)"
   ]
  },
  {
   "cell_type": "code",
   "execution_count": 39,
   "metadata": {},
   "outputs": [
    {
     "name": "stderr",
     "output_type": "stream",
     "text": [
      "C:\\Users\\min-sung.lee\\AppData\\Local\\Continuum\\anaconda3\\envs\\tensorflow\\lib\\site-packages\\ipykernel_launcher.py:7: SettingWithCopyWarning: \n",
      "A value is trying to be set on a copy of a slice from a DataFrame.\n",
      "Try using .loc[row_indexer,col_indexer] = value instead\n",
      "\n",
      "See the caveats in the documentation: https://pandas.pydata.org/pandas-docs/stable/user_guide/indexing.html#returning-a-view-versus-a-copy\n",
      "  import sys\n"
     ]
    }
   ],
   "source": [
    "dic = {\n",
    "    '정보': 0,\n",
    "    '자연재해': 1,\n",
    "    '질병': 2,\n",
    "    '치안': 3\n",
    "}\n",
    "df2['div'] = df2['Div'].apply(lambda x: dic[x] if pd.notnull(x) else np.nan)\n",
    "Y = to_categorical(df2['div'])"
   ]
  },
  {
   "cell_type": "code",
   "execution_count": 40,
   "metadata": {},
   "outputs": [],
   "source": [
    "from keras.layers import Embedding, Dense, LSTM\n",
    "from keras.models import Sequential\n",
    "from keras.preprocessing.sequence import pad_sequences\n",
    "\n",
    "# max_len = max(len(l) for l in X) # 전체 데이터의 길이를 20로 맞춘다\n",
    "max_len = 1728\n",
    "X = pad_sequences(X, maxlen=max_len)"
   ]
  },
  {
   "cell_type": "code",
   "execution_count": 47,
   "metadata": {},
   "outputs": [
    {
     "name": "stdout",
     "output_type": "stream",
     "text": [
      "3583/3583 [==============================] - 46s 13ms/step\n"
     ]
    }
   ],
   "source": [
    "# loading model\n",
    "from keras.models import model_from_json\n",
    "from keras import optimizers\n",
    "\n",
    "model = model_from_json(open('model_architecture.json').read())\n",
    "model.load_weights('model_weights.h5')\n",
    "\n",
    "# dont forget to compile your model\n",
    "\n",
    "model.compile(loss='binary_crossentropy', optimizer=optimizers.Adam(lr = 0.001), metrics=['accuracy'])\n",
    "\n",
    "score = model.evaluate(X, Y, verbose=1)"
   ]
  },
  {
   "cell_type": "code",
   "execution_count": 77,
   "metadata": {},
   "outputs": [
    {
     "name": "stderr",
     "output_type": "stream",
     "text": [
      "C:\\Users\\min-sung.lee\\AppData\\Local\\Continuum\\anaconda3\\envs\\tensorflow\\lib\\site-packages\\keras\\engine\\sequential.py:111: UserWarning: `Sequential.model` is deprecated. `Sequential` is a subclass of `Model`, you can just use your `Sequential` instance directly.\n",
      "  warnings.warn('`Sequential.model` is deprecated. '\n"
     ]
    },
    {
     "ename": "TypeError",
     "evalue": "'Sequential' object is not subscriptable",
     "output_type": "error",
     "traceback": [
      "\u001b[1;31m---------------------------------------------------------------------------\u001b[0m",
      "\u001b[1;31mTypeError\u001b[0m                                 Traceback (most recent call last)",
      "\u001b[1;32m<ipython-input-77-22dd19af72b3>\u001b[0m in \u001b[0;36m<module>\u001b[1;34m\u001b[0m\n\u001b[1;32m----> 1\u001b[1;33m \u001b[0mmodel\u001b[0m\u001b[1;33m.\u001b[0m\u001b[0mmodel\u001b[0m\u001b[1;33m[\u001b[0m\u001b[1;34m'accuracy'\u001b[0m\u001b[1;33m]\u001b[0m\u001b[1;33m\u001b[0m\u001b[1;33m\u001b[0m\u001b[0m\n\u001b[0m",
      "\u001b[1;31mTypeError\u001b[0m: 'Sequential' object is not subscriptable"
     ]
    }
   ],
   "source": [
    "model.model['accuracy']"
   ]
  },
  {
   "cell_type": "code",
   "execution_count": 74,
   "metadata": {},
   "outputs": [
    {
     "data": {
      "text/plain": [
       "[1.363561906371611, 0.8101451396942139]"
      ]
     },
     "execution_count": 74,
     "metadata": {},
     "output_type": "execute_result"
    }
   ],
   "source": [
    "score"
   ]
  },
  {
   "cell_type": "code",
   "execution_count": 71,
   "metadata": {},
   "outputs": [
    {
     "data": {
      "text/plain": [
       "array([[1., 0., 0., 0.],\n",
       "       [0., 0., 0., 1.],\n",
       "       [0., 1., 0., 0.],\n",
       "       ...,\n",
       "       [0., 0., 0., 1.],\n",
       "       [0., 0., 0., 1.],\n",
       "       [0., 0., 0., 1.]], dtype=float32)"
      ]
     },
     "execution_count": 71,
     "metadata": {},
     "output_type": "execute_result"
    }
   ],
   "source": [
    "Y"
   ]
  },
  {
   "cell_type": "code",
   "execution_count": 49,
   "metadata": {},
   "outputs": [
    {
     "ename": "ValueError",
     "evalue": "`axis` must be fewer than the number of dimensions (1)",
     "output_type": "error",
     "traceback": [
      "\u001b[1;31m---------------------------------------------------------------------------\u001b[0m",
      "\u001b[1;31mValueError\u001b[0m                                Traceback (most recent call last)",
      "\u001b[1;32m<ipython-input-49-d8a7170f8ca6>\u001b[0m in \u001b[0;36m<module>\u001b[1;34m\u001b[0m\n\u001b[0;32m      1\u001b[0m \u001b[0my_pred_\u001b[0m \u001b[1;33m=\u001b[0m \u001b[0mmodel\u001b[0m\u001b[1;33m.\u001b[0m\u001b[0mpredict\u001b[0m\u001b[1;33m(\u001b[0m\u001b[0mX\u001b[0m\u001b[1;33m)\u001b[0m\u001b[1;33m\u001b[0m\u001b[1;33m\u001b[0m\u001b[0m\n\u001b[1;32m----> 2\u001b[1;33m \u001b[0my_test_\u001b[0m \u001b[1;33m=\u001b[0m \u001b[0mnp\u001b[0m\u001b[1;33m.\u001b[0m\u001b[0margmax\u001b[0m\u001b[1;33m(\u001b[0m\u001b[0mdf2\u001b[0m\u001b[1;33m[\u001b[0m\u001b[1;34m'div'\u001b[0m\u001b[1;33m]\u001b[0m\u001b[1;33m,\u001b[0m \u001b[0maxis\u001b[0m \u001b[1;33m=\u001b[0m \u001b[1;36m1\u001b[0m\u001b[1;33m)\u001b[0m\u001b[1;33m\u001b[0m\u001b[1;33m\u001b[0m\u001b[0m\n\u001b[0m\u001b[0;32m      3\u001b[0m \u001b[0mprint\u001b[0m\u001b[1;33m(\u001b[0m\u001b[0maccuracy_score\u001b[0m\u001b[1;33m(\u001b[0m\u001b[0my_pred_\u001b[0m\u001b[1;33m,\u001b[0m \u001b[0my_test_\u001b[0m\u001b[1;33m)\u001b[0m\u001b[1;33m)\u001b[0m\u001b[1;33m\u001b[0m\u001b[1;33m\u001b[0m\u001b[0m\n",
      "\u001b[1;32m<__array_function__ internals>\u001b[0m in \u001b[0;36margmax\u001b[1;34m(*args, **kwargs)\u001b[0m\n",
      "\u001b[1;32m~\\AppData\\Local\\Continuum\\anaconda3\\envs\\tensorflow\\lib\\site-packages\\numpy\\core\\fromnumeric.py\u001b[0m in \u001b[0;36margmax\u001b[1;34m(a, axis, out)\u001b[0m\n\u001b[0;32m   1184\u001b[0m \u001b[1;33m\u001b[0m\u001b[0m\n\u001b[0;32m   1185\u001b[0m     \"\"\"\n\u001b[1;32m-> 1186\u001b[1;33m     \u001b[1;32mreturn\u001b[0m \u001b[0m_wrapfunc\u001b[0m\u001b[1;33m(\u001b[0m\u001b[0ma\u001b[0m\u001b[1;33m,\u001b[0m \u001b[1;34m'argmax'\u001b[0m\u001b[1;33m,\u001b[0m \u001b[0maxis\u001b[0m\u001b[1;33m=\u001b[0m\u001b[0maxis\u001b[0m\u001b[1;33m,\u001b[0m \u001b[0mout\u001b[0m\u001b[1;33m=\u001b[0m\u001b[0mout\u001b[0m\u001b[1;33m)\u001b[0m\u001b[1;33m\u001b[0m\u001b[1;33m\u001b[0m\u001b[0m\n\u001b[0m\u001b[0;32m   1187\u001b[0m \u001b[1;33m\u001b[0m\u001b[0m\n\u001b[0;32m   1188\u001b[0m \u001b[1;33m\u001b[0m\u001b[0m\n",
      "\u001b[1;32m~\\AppData\\Local\\Continuum\\anaconda3\\envs\\tensorflow\\lib\\site-packages\\numpy\\core\\fromnumeric.py\u001b[0m in \u001b[0;36m_wrapfunc\u001b[1;34m(obj, method, *args, **kwds)\u001b[0m\n\u001b[0;32m     59\u001b[0m \u001b[1;33m\u001b[0m\u001b[0m\n\u001b[0;32m     60\u001b[0m     \u001b[1;32mtry\u001b[0m\u001b[1;33m:\u001b[0m\u001b[1;33m\u001b[0m\u001b[1;33m\u001b[0m\u001b[0m\n\u001b[1;32m---> 61\u001b[1;33m         \u001b[1;32mreturn\u001b[0m \u001b[0mbound\u001b[0m\u001b[1;33m(\u001b[0m\u001b[1;33m*\u001b[0m\u001b[0margs\u001b[0m\u001b[1;33m,\u001b[0m \u001b[1;33m**\u001b[0m\u001b[0mkwds\u001b[0m\u001b[1;33m)\u001b[0m\u001b[1;33m\u001b[0m\u001b[1;33m\u001b[0m\u001b[0m\n\u001b[0m\u001b[0;32m     62\u001b[0m     \u001b[1;32mexcept\u001b[0m \u001b[0mTypeError\u001b[0m\u001b[1;33m:\u001b[0m\u001b[1;33m\u001b[0m\u001b[1;33m\u001b[0m\u001b[0m\n\u001b[0;32m     63\u001b[0m         \u001b[1;31m# A TypeError occurs if the object does have such a method in its\u001b[0m\u001b[1;33m\u001b[0m\u001b[1;33m\u001b[0m\u001b[1;33m\u001b[0m\u001b[0m\n",
      "\u001b[1;32m~\\AppData\\Local\\Continuum\\anaconda3\\envs\\tensorflow\\lib\\site-packages\\pandas\\core\\base.py\u001b[0m in \u001b[0;36margmax\u001b[1;34m(self, axis, skipna, *args, **kwargs)\u001b[0m\n\u001b[0;32m    932\u001b[0m         \u001b[0mnumpy\u001b[0m\u001b[1;33m.\u001b[0m\u001b[0mndarray\u001b[0m\u001b[1;33m.\u001b[0m\u001b[0margmax\u001b[0m\u001b[1;33m\u001b[0m\u001b[1;33m\u001b[0m\u001b[0m\n\u001b[0;32m    933\u001b[0m         \"\"\"\n\u001b[1;32m--> 934\u001b[1;33m         \u001b[0mnv\u001b[0m\u001b[1;33m.\u001b[0m\u001b[0mvalidate_minmax_axis\u001b[0m\u001b[1;33m(\u001b[0m\u001b[0maxis\u001b[0m\u001b[1;33m)\u001b[0m\u001b[1;33m\u001b[0m\u001b[1;33m\u001b[0m\u001b[0m\n\u001b[0m\u001b[0;32m    935\u001b[0m         \u001b[0mnv\u001b[0m\u001b[1;33m.\u001b[0m\u001b[0mvalidate_argmax_with_skipna\u001b[0m\u001b[1;33m(\u001b[0m\u001b[0mskipna\u001b[0m\u001b[1;33m,\u001b[0m \u001b[0margs\u001b[0m\u001b[1;33m,\u001b[0m \u001b[0mkwargs\u001b[0m\u001b[1;33m)\u001b[0m\u001b[1;33m\u001b[0m\u001b[1;33m\u001b[0m\u001b[0m\n\u001b[0;32m    936\u001b[0m         \u001b[1;32mreturn\u001b[0m \u001b[0mnanops\u001b[0m\u001b[1;33m.\u001b[0m\u001b[0mnanargmax\u001b[0m\u001b[1;33m(\u001b[0m\u001b[0mself\u001b[0m\u001b[1;33m.\u001b[0m\u001b[0m_values\u001b[0m\u001b[1;33m,\u001b[0m \u001b[0mskipna\u001b[0m\u001b[1;33m=\u001b[0m\u001b[0mskipna\u001b[0m\u001b[1;33m)\u001b[0m\u001b[1;33m\u001b[0m\u001b[1;33m\u001b[0m\u001b[0m\n",
      "\u001b[1;32m~\\AppData\\Local\\Continuum\\anaconda3\\envs\\tensorflow\\lib\\site-packages\\pandas\\compat\\numpy\\function.py\u001b[0m in \u001b[0;36mvalidate_minmax_axis\u001b[1;34m(axis)\u001b[0m\n\u001b[0;32m    403\u001b[0m         \u001b[1;32mreturn\u001b[0m\u001b[1;33m\u001b[0m\u001b[1;33m\u001b[0m\u001b[0m\n\u001b[0;32m    404\u001b[0m     \u001b[1;32mif\u001b[0m \u001b[0maxis\u001b[0m \u001b[1;33m>=\u001b[0m \u001b[0mndim\u001b[0m \u001b[1;32mor\u001b[0m \u001b[1;33m(\u001b[0m\u001b[0maxis\u001b[0m \u001b[1;33m<\u001b[0m \u001b[1;36m0\u001b[0m \u001b[1;32mand\u001b[0m \u001b[0mndim\u001b[0m \u001b[1;33m+\u001b[0m \u001b[0maxis\u001b[0m \u001b[1;33m<\u001b[0m \u001b[1;36m0\u001b[0m\u001b[1;33m)\u001b[0m\u001b[1;33m:\u001b[0m\u001b[1;33m\u001b[0m\u001b[1;33m\u001b[0m\u001b[0m\n\u001b[1;32m--> 405\u001b[1;33m         \u001b[1;32mraise\u001b[0m \u001b[0mValueError\u001b[0m\u001b[1;33m(\u001b[0m\u001b[1;34mf\"`axis` must be fewer than the number of dimensions ({ndim})\"\u001b[0m\u001b[1;33m)\u001b[0m\u001b[1;33m\u001b[0m\u001b[1;33m\u001b[0m\u001b[0m\n\u001b[0m",
      "\u001b[1;31mValueError\u001b[0m: `axis` must be fewer than the number of dimensions (1)"
     ]
    }
   ],
   "source": [
    "y_pred_ = model.predict(X, verbose=1)"
   ]
  },
  {
   "cell_type": "code",
   "execution_count": 57,
   "metadata": {},
   "outputs": [
    {
     "data": {
      "text/plain": [
       "array([[2.3530187e-05, 1.2960217e-04, 7.4565993e-05, 9.9977225e-01],\n",
       "       [2.7260141e-05, 1.2955681e-04, 7.3832336e-05, 9.9976939e-01],\n",
       "       [3.6641143e-02, 2.4090162e-02, 9.3816805e-01, 1.1005460e-03],\n",
       "       ...,\n",
       "       [2.8912255e-01, 5.4362535e-02, 2.4620934e-01, 4.1030556e-01],\n",
       "       [8.2024330e-01, 6.1929308e-02, 6.4272970e-02, 5.3554323e-02],\n",
       "       [4.0017867e-01, 2.0145211e-02, 5.5721349e-01, 2.2462619e-02]],\n",
       "      dtype=float32)"
      ]
     },
     "execution_count": 57,
     "metadata": {},
     "output_type": "execute_result"
    }
   ],
   "source": [
    "y_pred_"
   ]
  },
  {
   "cell_type": "code",
   "execution_count": 58,
   "metadata": {},
   "outputs": [
    {
     "data": {
      "text/plain": [
       "array([3, 3, 2, ..., 3, 0, 2], dtype=int64)"
      ]
     },
     "execution_count": 58,
     "metadata": {},
     "output_type": "execute_result"
    }
   ],
   "source": [
    "row_maxes = y_pred_.argmax(axis=1)\n",
    "row_maxes"
   ]
  },
  {
   "cell_type": "code",
   "execution_count": 69,
   "metadata": {},
   "outputs": [
    {
     "ename": "AxisError",
     "evalue": "axis 1 is out of bounds for array of dimension 1",
     "output_type": "error",
     "traceback": [
      "\u001b[1;31m---------------------------------------------------------------------------\u001b[0m",
      "\u001b[1;31mAxisError\u001b[0m                                 Traceback (most recent call last)",
      "\u001b[1;32m<ipython-input-69-67ea4bf4fe50>\u001b[0m in \u001b[0;36m<module>\u001b[1;34m\u001b[0m\n\u001b[1;32m----> 1\u001b[1;33m \u001b[0my_test_\u001b[0m \u001b[1;33m=\u001b[0m \u001b[0mnp\u001b[0m\u001b[1;33m.\u001b[0m\u001b[0margmax\u001b[0m\u001b[1;33m(\u001b[0m\u001b[0mdf2\u001b[0m\u001b[1;33m[\u001b[0m\u001b[1;34m'div'\u001b[0m\u001b[1;33m]\u001b[0m\u001b[1;33m.\u001b[0m\u001b[0mtolist\u001b[0m\u001b[1;33m(\u001b[0m\u001b[1;33m)\u001b[0m\u001b[1;33m,\u001b[0m \u001b[0maxis\u001b[0m\u001b[1;33m=\u001b[0m\u001b[1;36m1\u001b[0m\u001b[1;33m)\u001b[0m\u001b[1;33m\u001b[0m\u001b[1;33m\u001b[0m\u001b[0m\n\u001b[0m\u001b[0;32m      2\u001b[0m \u001b[0my_test_\u001b[0m\u001b[1;33m\u001b[0m\u001b[1;33m\u001b[0m\u001b[0m\n",
      "\u001b[1;32m<__array_function__ internals>\u001b[0m in \u001b[0;36margmax\u001b[1;34m(*args, **kwargs)\u001b[0m\n",
      "\u001b[1;32m~\\AppData\\Local\\Continuum\\anaconda3\\envs\\tensorflow\\lib\\site-packages\\numpy\\core\\fromnumeric.py\u001b[0m in \u001b[0;36margmax\u001b[1;34m(a, axis, out)\u001b[0m\n\u001b[0;32m   1184\u001b[0m \u001b[1;33m\u001b[0m\u001b[0m\n\u001b[0;32m   1185\u001b[0m     \"\"\"\n\u001b[1;32m-> 1186\u001b[1;33m     \u001b[1;32mreturn\u001b[0m \u001b[0m_wrapfunc\u001b[0m\u001b[1;33m(\u001b[0m\u001b[0ma\u001b[0m\u001b[1;33m,\u001b[0m \u001b[1;34m'argmax'\u001b[0m\u001b[1;33m,\u001b[0m \u001b[0maxis\u001b[0m\u001b[1;33m=\u001b[0m\u001b[0maxis\u001b[0m\u001b[1;33m,\u001b[0m \u001b[0mout\u001b[0m\u001b[1;33m=\u001b[0m\u001b[0mout\u001b[0m\u001b[1;33m)\u001b[0m\u001b[1;33m\u001b[0m\u001b[1;33m\u001b[0m\u001b[0m\n\u001b[0m\u001b[0;32m   1187\u001b[0m \u001b[1;33m\u001b[0m\u001b[0m\n\u001b[0;32m   1188\u001b[0m \u001b[1;33m\u001b[0m\u001b[0m\n",
      "\u001b[1;32m~\\AppData\\Local\\Continuum\\anaconda3\\envs\\tensorflow\\lib\\site-packages\\numpy\\core\\fromnumeric.py\u001b[0m in \u001b[0;36m_wrapfunc\u001b[1;34m(obj, method, *args, **kwds)\u001b[0m\n\u001b[0;32m     56\u001b[0m     \u001b[0mbound\u001b[0m \u001b[1;33m=\u001b[0m \u001b[0mgetattr\u001b[0m\u001b[1;33m(\u001b[0m\u001b[0mobj\u001b[0m\u001b[1;33m,\u001b[0m \u001b[0mmethod\u001b[0m\u001b[1;33m,\u001b[0m \u001b[1;32mNone\u001b[0m\u001b[1;33m)\u001b[0m\u001b[1;33m\u001b[0m\u001b[1;33m\u001b[0m\u001b[0m\n\u001b[0;32m     57\u001b[0m     \u001b[1;32mif\u001b[0m \u001b[0mbound\u001b[0m \u001b[1;32mis\u001b[0m \u001b[1;32mNone\u001b[0m\u001b[1;33m:\u001b[0m\u001b[1;33m\u001b[0m\u001b[1;33m\u001b[0m\u001b[0m\n\u001b[1;32m---> 58\u001b[1;33m         \u001b[1;32mreturn\u001b[0m \u001b[0m_wrapit\u001b[0m\u001b[1;33m(\u001b[0m\u001b[0mobj\u001b[0m\u001b[1;33m,\u001b[0m \u001b[0mmethod\u001b[0m\u001b[1;33m,\u001b[0m \u001b[1;33m*\u001b[0m\u001b[0margs\u001b[0m\u001b[1;33m,\u001b[0m \u001b[1;33m**\u001b[0m\u001b[0mkwds\u001b[0m\u001b[1;33m)\u001b[0m\u001b[1;33m\u001b[0m\u001b[1;33m\u001b[0m\u001b[0m\n\u001b[0m\u001b[0;32m     59\u001b[0m \u001b[1;33m\u001b[0m\u001b[0m\n\u001b[0;32m     60\u001b[0m     \u001b[1;32mtry\u001b[0m\u001b[1;33m:\u001b[0m\u001b[1;33m\u001b[0m\u001b[1;33m\u001b[0m\u001b[0m\n",
      "\u001b[1;32m~\\AppData\\Local\\Continuum\\anaconda3\\envs\\tensorflow\\lib\\site-packages\\numpy\\core\\fromnumeric.py\u001b[0m in \u001b[0;36m_wrapit\u001b[1;34m(obj, method, *args, **kwds)\u001b[0m\n\u001b[0;32m     45\u001b[0m     \u001b[1;32mexcept\u001b[0m \u001b[0mAttributeError\u001b[0m\u001b[1;33m:\u001b[0m\u001b[1;33m\u001b[0m\u001b[1;33m\u001b[0m\u001b[0m\n\u001b[0;32m     46\u001b[0m         \u001b[0mwrap\u001b[0m \u001b[1;33m=\u001b[0m \u001b[1;32mNone\u001b[0m\u001b[1;33m\u001b[0m\u001b[1;33m\u001b[0m\u001b[0m\n\u001b[1;32m---> 47\u001b[1;33m     \u001b[0mresult\u001b[0m \u001b[1;33m=\u001b[0m \u001b[0mgetattr\u001b[0m\u001b[1;33m(\u001b[0m\u001b[0masarray\u001b[0m\u001b[1;33m(\u001b[0m\u001b[0mobj\u001b[0m\u001b[1;33m)\u001b[0m\u001b[1;33m,\u001b[0m \u001b[0mmethod\u001b[0m\u001b[1;33m)\u001b[0m\u001b[1;33m(\u001b[0m\u001b[1;33m*\u001b[0m\u001b[0margs\u001b[0m\u001b[1;33m,\u001b[0m \u001b[1;33m**\u001b[0m\u001b[0mkwds\u001b[0m\u001b[1;33m)\u001b[0m\u001b[1;33m\u001b[0m\u001b[1;33m\u001b[0m\u001b[0m\n\u001b[0m\u001b[0;32m     48\u001b[0m     \u001b[1;32mif\u001b[0m \u001b[0mwrap\u001b[0m\u001b[1;33m:\u001b[0m\u001b[1;33m\u001b[0m\u001b[1;33m\u001b[0m\u001b[0m\n\u001b[0;32m     49\u001b[0m         \u001b[1;32mif\u001b[0m \u001b[1;32mnot\u001b[0m \u001b[0misinstance\u001b[0m\u001b[1;33m(\u001b[0m\u001b[0mresult\u001b[0m\u001b[1;33m,\u001b[0m \u001b[0mmu\u001b[0m\u001b[1;33m.\u001b[0m\u001b[0mndarray\u001b[0m\u001b[1;33m)\u001b[0m\u001b[1;33m:\u001b[0m\u001b[1;33m\u001b[0m\u001b[1;33m\u001b[0m\u001b[0m\n",
      "\u001b[1;31mAxisError\u001b[0m: axis 1 is out of bounds for array of dimension 1"
     ]
    }
   ],
   "source": [
    "y_test_ = np.argmax(df2['div'].tolist(), axis=1)\n",
    "y_test_"
   ]
  },
  {
   "cell_type": "code",
   "execution_count": 73,
   "metadata": {},
   "outputs": [
    {
     "name": "stdout",
     "output_type": "stream",
     "text": [
      "0.6181970415852638\n"
     ]
    }
   ],
   "source": [
    "# y_test_ = np.argmax(df2['div'], axis=1)\n",
    "print(accuracy_score(row_maxes, df2['div']))"
   ]
  },
  {
   "cell_type": "code",
   "execution_count": null,
   "metadata": {},
   "outputs": [],
   "source": [
    "print(accuracy_score(row_maxes, df2['div']))"
   ]
  },
  {
   "cell_type": "code",
   "execution_count": null,
   "metadata": {},
   "outputs": [],
   "source": [
    "y_test_ = np.argmax(df2['div'], axis = 1)\n",
    "print(accuracy_score(y_pred_, y_test_))"
   ]
  },
  {
   "cell_type": "code",
   "execution_count": 52,
   "metadata": {},
   "outputs": [
    {
     "ename": "AxisError",
     "evalue": "axis 1 is out of bounds for array of dimension 1",
     "output_type": "error",
     "traceback": [
      "\u001b[1;31m---------------------------------------------------------------------------\u001b[0m",
      "\u001b[1;31mAxisError\u001b[0m                                 Traceback (most recent call last)",
      "\u001b[1;32m<ipython-input-52-296db671f374>\u001b[0m in \u001b[0;36m<module>\u001b[1;34m\u001b[0m\n\u001b[1;32m----> 1\u001b[1;33m \u001b[0my_test_\u001b[0m \u001b[1;33m=\u001b[0m \u001b[0mnp\u001b[0m\u001b[1;33m.\u001b[0m\u001b[0margmax\u001b[0m\u001b[1;33m(\u001b[0m\u001b[0mdf2\u001b[0m\u001b[1;33m[\u001b[0m\u001b[1;34m'div'\u001b[0m\u001b[1;33m]\u001b[0m\u001b[1;33m.\u001b[0m\u001b[0mtolist\u001b[0m\u001b[1;33m(\u001b[0m\u001b[1;33m)\u001b[0m\u001b[1;33m,\u001b[0m \u001b[0maxis\u001b[0m \u001b[1;33m=\u001b[0m \u001b[1;36m1\u001b[0m\u001b[1;33m)\u001b[0m\u001b[1;33m\u001b[0m\u001b[1;33m\u001b[0m\u001b[0m\n\u001b[0m\u001b[0;32m      2\u001b[0m \u001b[0mprint\u001b[0m\u001b[1;33m(\u001b[0m\u001b[0maccuracy_score\u001b[0m\u001b[1;33m(\u001b[0m\u001b[0my_pred_\u001b[0m\u001b[1;33m,\u001b[0m \u001b[0my_test_\u001b[0m\u001b[1;33m)\u001b[0m\u001b[1;33m)\u001b[0m\u001b[1;33m\u001b[0m\u001b[1;33m\u001b[0m\u001b[0m\n",
      "\u001b[1;32m<__array_function__ internals>\u001b[0m in \u001b[0;36margmax\u001b[1;34m(*args, **kwargs)\u001b[0m\n",
      "\u001b[1;32m~\\AppData\\Local\\Continuum\\anaconda3\\envs\\tensorflow\\lib\\site-packages\\numpy\\core\\fromnumeric.py\u001b[0m in \u001b[0;36margmax\u001b[1;34m(a, axis, out)\u001b[0m\n\u001b[0;32m   1184\u001b[0m \u001b[1;33m\u001b[0m\u001b[0m\n\u001b[0;32m   1185\u001b[0m     \"\"\"\n\u001b[1;32m-> 1186\u001b[1;33m     \u001b[1;32mreturn\u001b[0m \u001b[0m_wrapfunc\u001b[0m\u001b[1;33m(\u001b[0m\u001b[0ma\u001b[0m\u001b[1;33m,\u001b[0m \u001b[1;34m'argmax'\u001b[0m\u001b[1;33m,\u001b[0m \u001b[0maxis\u001b[0m\u001b[1;33m=\u001b[0m\u001b[0maxis\u001b[0m\u001b[1;33m,\u001b[0m \u001b[0mout\u001b[0m\u001b[1;33m=\u001b[0m\u001b[0mout\u001b[0m\u001b[1;33m)\u001b[0m\u001b[1;33m\u001b[0m\u001b[1;33m\u001b[0m\u001b[0m\n\u001b[0m\u001b[0;32m   1187\u001b[0m \u001b[1;33m\u001b[0m\u001b[0m\n\u001b[0;32m   1188\u001b[0m \u001b[1;33m\u001b[0m\u001b[0m\n",
      "\u001b[1;32m~\\AppData\\Local\\Continuum\\anaconda3\\envs\\tensorflow\\lib\\site-packages\\numpy\\core\\fromnumeric.py\u001b[0m in \u001b[0;36m_wrapfunc\u001b[1;34m(obj, method, *args, **kwds)\u001b[0m\n\u001b[0;32m     56\u001b[0m     \u001b[0mbound\u001b[0m \u001b[1;33m=\u001b[0m \u001b[0mgetattr\u001b[0m\u001b[1;33m(\u001b[0m\u001b[0mobj\u001b[0m\u001b[1;33m,\u001b[0m \u001b[0mmethod\u001b[0m\u001b[1;33m,\u001b[0m \u001b[1;32mNone\u001b[0m\u001b[1;33m)\u001b[0m\u001b[1;33m\u001b[0m\u001b[1;33m\u001b[0m\u001b[0m\n\u001b[0;32m     57\u001b[0m     \u001b[1;32mif\u001b[0m \u001b[0mbound\u001b[0m \u001b[1;32mis\u001b[0m \u001b[1;32mNone\u001b[0m\u001b[1;33m:\u001b[0m\u001b[1;33m\u001b[0m\u001b[1;33m\u001b[0m\u001b[0m\n\u001b[1;32m---> 58\u001b[1;33m         \u001b[1;32mreturn\u001b[0m \u001b[0m_wrapit\u001b[0m\u001b[1;33m(\u001b[0m\u001b[0mobj\u001b[0m\u001b[1;33m,\u001b[0m \u001b[0mmethod\u001b[0m\u001b[1;33m,\u001b[0m \u001b[1;33m*\u001b[0m\u001b[0margs\u001b[0m\u001b[1;33m,\u001b[0m \u001b[1;33m**\u001b[0m\u001b[0mkwds\u001b[0m\u001b[1;33m)\u001b[0m\u001b[1;33m\u001b[0m\u001b[1;33m\u001b[0m\u001b[0m\n\u001b[0m\u001b[0;32m     59\u001b[0m \u001b[1;33m\u001b[0m\u001b[0m\n\u001b[0;32m     60\u001b[0m     \u001b[1;32mtry\u001b[0m\u001b[1;33m:\u001b[0m\u001b[1;33m\u001b[0m\u001b[1;33m\u001b[0m\u001b[0m\n",
      "\u001b[1;32m~\\AppData\\Local\\Continuum\\anaconda3\\envs\\tensorflow\\lib\\site-packages\\numpy\\core\\fromnumeric.py\u001b[0m in \u001b[0;36m_wrapit\u001b[1;34m(obj, method, *args, **kwds)\u001b[0m\n\u001b[0;32m     45\u001b[0m     \u001b[1;32mexcept\u001b[0m \u001b[0mAttributeError\u001b[0m\u001b[1;33m:\u001b[0m\u001b[1;33m\u001b[0m\u001b[1;33m\u001b[0m\u001b[0m\n\u001b[0;32m     46\u001b[0m         \u001b[0mwrap\u001b[0m \u001b[1;33m=\u001b[0m \u001b[1;32mNone\u001b[0m\u001b[1;33m\u001b[0m\u001b[1;33m\u001b[0m\u001b[0m\n\u001b[1;32m---> 47\u001b[1;33m     \u001b[0mresult\u001b[0m \u001b[1;33m=\u001b[0m \u001b[0mgetattr\u001b[0m\u001b[1;33m(\u001b[0m\u001b[0masarray\u001b[0m\u001b[1;33m(\u001b[0m\u001b[0mobj\u001b[0m\u001b[1;33m)\u001b[0m\u001b[1;33m,\u001b[0m \u001b[0mmethod\u001b[0m\u001b[1;33m)\u001b[0m\u001b[1;33m(\u001b[0m\u001b[1;33m*\u001b[0m\u001b[0margs\u001b[0m\u001b[1;33m,\u001b[0m \u001b[1;33m**\u001b[0m\u001b[0mkwds\u001b[0m\u001b[1;33m)\u001b[0m\u001b[1;33m\u001b[0m\u001b[1;33m\u001b[0m\u001b[0m\n\u001b[0m\u001b[0;32m     48\u001b[0m     \u001b[1;32mif\u001b[0m \u001b[0mwrap\u001b[0m\u001b[1;33m:\u001b[0m\u001b[1;33m\u001b[0m\u001b[1;33m\u001b[0m\u001b[0m\n\u001b[0;32m     49\u001b[0m         \u001b[1;32mif\u001b[0m \u001b[1;32mnot\u001b[0m \u001b[0misinstance\u001b[0m\u001b[1;33m(\u001b[0m\u001b[0mresult\u001b[0m\u001b[1;33m,\u001b[0m \u001b[0mmu\u001b[0m\u001b[1;33m.\u001b[0m\u001b[0mndarray\u001b[0m\u001b[1;33m)\u001b[0m\u001b[1;33m:\u001b[0m\u001b[1;33m\u001b[0m\u001b[1;33m\u001b[0m\u001b[0m\n",
      "\u001b[1;31mAxisError\u001b[0m: axis 1 is out of bounds for array of dimension 1"
     ]
    }
   ],
   "source": [
    "y_test_ = np.argmax(df2['div'].tolist(), axis = 1)\n",
    "print(accuracy_score(y_pred_, y_test_))"
   ]
  },
  {
   "cell_type": "code",
   "execution_count": 43,
   "metadata": {},
   "outputs": [
    {
     "name": "stdout",
     "output_type": "stream",
     "text": [
      "3583/3583 [==============================] - 46s 13ms/step\n"
     ]
    }
   ],
   "source": [
    "y_pred = model.predict_classes(X, verbose=1)"
   ]
  },
  {
   "cell_type": "code",
   "execution_count": 44,
   "metadata": {},
   "outputs": [
    {
     "name": "stderr",
     "output_type": "stream",
     "text": [
      "C:\\Users\\min-sung.lee\\AppData\\Local\\Continuum\\anaconda3\\envs\\tensorflow\\lib\\site-packages\\ipykernel_launcher.py:1: SettingWithCopyWarning: \n",
      "A value is trying to be set on a copy of a slice from a DataFrame.\n",
      "Try using .loc[row_indexer,col_indexer] = value instead\n",
      "\n",
      "See the caveats in the documentation: https://pandas.pydata.org/pandas-docs/stable/user_guide/indexing.html#returning-a-view-versus-a-copy\n",
      "  \"\"\"Entry point for launching an IPython kernel.\n"
     ]
    }
   ],
   "source": [
    "df2['pred_Div'] = y_pred"
   ]
  },
  {
   "cell_type": "code",
   "execution_count": 45,
   "metadata": {},
   "outputs": [
    {
     "name": "stderr",
     "output_type": "stream",
     "text": [
      "C:\\Users\\min-sung.lee\\AppData\\Local\\Continuum\\anaconda3\\envs\\tensorflow\\lib\\site-packages\\ipykernel_launcher.py:1: SettingWithCopyWarning: \n",
      "A value is trying to be set on a copy of a slice from a DataFrame.\n",
      "Try using .loc[row_indexer,col_indexer] = value instead\n",
      "\n",
      "See the caveats in the documentation: https://pandas.pydata.org/pandas-docs/stable/user_guide/indexing.html#returning-a-view-versus-a-copy\n",
      "  \"\"\"Entry point for launching an IPython kernel.\n"
     ]
    }
   ],
   "source": [
    "df2['Equal'] = (df2['div']==df2['pred_Div'])"
   ]
  },
  {
   "cell_type": "code",
   "execution_count": 46,
   "metadata": {},
   "outputs": [
    {
     "data": {
      "text/plain": [
       "True     2215\n",
       "False    1368\n",
       "Name: Equal, dtype: int64"
      ]
     },
     "execution_count": 46,
     "metadata": {},
     "output_type": "execute_result"
    }
   ],
   "source": [
    "df2['Equal'].value_counts()"
   ]
  },
  {
   "cell_type": "code",
   "execution_count": null,
   "metadata": {},
   "outputs": [],
   "source": []
  },
  {
   "cell_type": "code",
   "execution_count": null,
   "metadata": {},
   "outputs": [],
   "source": []
  },
  {
   "cell_type": "code",
   "execution_count": 32,
   "metadata": {},
   "outputs": [
    {
     "data": {
      "text/plain": [
       "True     2249\n",
       "False    1334\n",
       "Name: Equal, dtype: int64"
      ]
     },
     "execution_count": 32,
     "metadata": {},
     "output_type": "execute_result"
    }
   ],
   "source": [
    "df2['Equal'].value_counts()"
   ]
  },
  {
   "cell_type": "code",
   "execution_count": 33,
   "metadata": {},
   "outputs": [
    {
     "data": {
      "text/plain": [
       "['정보',\n",
       " '치안',\n",
       " '자연재해',\n",
       " '질병',\n",
       " '정보',\n",
       " '정보',\n",
       " '정보',\n",
       " '정보',\n",
       " '정보',\n",
       " '정보',\n",
       " '정보',\n",
       " '자연재해',\n",
       " '질병',\n",
       " '치안',\n",
       " '치안',\n",
       " '치안',\n",
       " '치안',\n",
       " '치안',\n",
       " '치안',\n",
       " '치안',\n",
       " '질병',\n",
       " '질병',\n",
       " '질병',\n",
       " '정보',\n",
       " '질병',\n",
       " '질병',\n",
       " '질병',\n",
       " '질병',\n",
       " '질병',\n",
       " '정보',\n",
       " '정보',\n",
       " '치안',\n",
       " '정보',\n",
       " '정보',\n",
       " '질병',\n",
       " '정보',\n",
       " '질병',\n",
       " '질병',\n",
       " '정보',\n",
       " '질병',\n",
       " '질병',\n",
       " '질병',\n",
       " '질병',\n",
       " '정보',\n",
       " '치안',\n",
       " '치안',\n",
       " '질병',\n",
       " '치안',\n",
       " '치안',\n",
       " '질병',\n",
       " '질병',\n",
       " '정보',\n",
       " '질병',\n",
       " '정보',\n",
       " '질병',\n",
       " '정보',\n",
       " '치안',\n",
       " '치안',\n",
       " '정보',\n",
       " '정보',\n",
       " '정보',\n",
       " '정보',\n",
       " '질병',\n",
       " '질병',\n",
       " '자연재해',\n",
       " '질병',\n",
       " '질병',\n",
       " '질병',\n",
       " '질병',\n",
       " '치안',\n",
       " '질병',\n",
       " '질병',\n",
       " '질병',\n",
       " '질병',\n",
       " '질병',\n",
       " '치안',\n",
       " '치안',\n",
       " '질병',\n",
       " '질병',\n",
       " '질병',\n",
       " '질병',\n",
       " '질병',\n",
       " '치안',\n",
       " '질병',\n",
       " '질병',\n",
       " '질병',\n",
       " '치안',\n",
       " '치안',\n",
       " '질병',\n",
       " '자연재해',\n",
       " '치안',\n",
       " '질병',\n",
       " '치안',\n",
       " '질병',\n",
       " '정보',\n",
       " '질병',\n",
       " '질병',\n",
       " '정보',\n",
       " '질병',\n",
       " '질병',\n",
       " '질병',\n",
       " '치안',\n",
       " '질병',\n",
       " '치안',\n",
       " '질병',\n",
       " '질병',\n",
       " '치안',\n",
       " '질병',\n",
       " '질병',\n",
       " '자연재해',\n",
       " '질병',\n",
       " '자연재해',\n",
       " '정보',\n",
       " '질병',\n",
       " '질병',\n",
       " '질병',\n",
       " '질병',\n",
       " '정보',\n",
       " '치안',\n",
       " '자연재해',\n",
       " '치안',\n",
       " '치안',\n",
       " '치안',\n",
       " '치안',\n",
       " '질병',\n",
       " '질병',\n",
       " '자연재해',\n",
       " '치안',\n",
       " '치안',\n",
       " '정보',\n",
       " '치안',\n",
       " '치안',\n",
       " '치안',\n",
       " '치안',\n",
       " '치안',\n",
       " '자연재해',\n",
       " '정보',\n",
       " '치안',\n",
       " '치안',\n",
       " '치안',\n",
       " '치안',\n",
       " '질병',\n",
       " '정보',\n",
       " '정보',\n",
       " '치안',\n",
       " '치안',\n",
       " '치안',\n",
       " '질병',\n",
       " '치안',\n",
       " '치안',\n",
       " '치안',\n",
       " '치안',\n",
       " '치안',\n",
       " '치안',\n",
       " '치안',\n",
       " '치안',\n",
       " '치안',\n",
       " '치안',\n",
       " '질병',\n",
       " '치안',\n",
       " '질병',\n",
       " '치안',\n",
       " '치안',\n",
       " '치안',\n",
       " '자연재해',\n",
       " '질병',\n",
       " '치안',\n",
       " '치안',\n",
       " '치안',\n",
       " '자연재해',\n",
       " '자연재해',\n",
       " '질병',\n",
       " '자연재해',\n",
       " '치안',\n",
       " '치안',\n",
       " '정보',\n",
       " '치안',\n",
       " '정보',\n",
       " '치안',\n",
       " '정보',\n",
       " '자연재해',\n",
       " '치안',\n",
       " '치안',\n",
       " '치안',\n",
       " '치안',\n",
       " '질병',\n",
       " '치안',\n",
       " '질병',\n",
       " '치안',\n",
       " '치안',\n",
       " '치안',\n",
       " '자연재해',\n",
       " '치안',\n",
       " '치안',\n",
       " '질병',\n",
       " '치안',\n",
       " '질병',\n",
       " '치안',\n",
       " '치안',\n",
       " '질병',\n",
       " '정보',\n",
       " '치안',\n",
       " '자연재해',\n",
       " '자연재해',\n",
       " '정보',\n",
       " '자연재해',\n",
       " '치안',\n",
       " '치안',\n",
       " '질병',\n",
       " '치안',\n",
       " '치안',\n",
       " '질병',\n",
       " '질병',\n",
       " '질병',\n",
       " '치안',\n",
       " '질병',\n",
       " '치안',\n",
       " '치안',\n",
       " '정보',\n",
       " '치안',\n",
       " '치안',\n",
       " '치안',\n",
       " '치안',\n",
       " '자연재해',\n",
       " '자연재해',\n",
       " '치안',\n",
       " '치안',\n",
       " '치안',\n",
       " '자연재해',\n",
       " '치안',\n",
       " '자연재해',\n",
       " '질병',\n",
       " '치안',\n",
       " '질병',\n",
       " '자연재해',\n",
       " '자연재해',\n",
       " '질병',\n",
       " '질병',\n",
       " '정보',\n",
       " '정보',\n",
       " '치안',\n",
       " '치안',\n",
       " '치안',\n",
       " '치안',\n",
       " '자연재해',\n",
       " '질병',\n",
       " '치안',\n",
       " '치안',\n",
       " '자연재해',\n",
       " '치안',\n",
       " '치안',\n",
       " '치안',\n",
       " '자연재해',\n",
       " '질병',\n",
       " '정보',\n",
       " '치안',\n",
       " '치안',\n",
       " '치안',\n",
       " '치안',\n",
       " '질병',\n",
       " '치안',\n",
       " '질병',\n",
       " '치안',\n",
       " '질병',\n",
       " '정보',\n",
       " '치안',\n",
       " '치안',\n",
       " '치안',\n",
       " '질병',\n",
       " '치안',\n",
       " '정보',\n",
       " '정보',\n",
       " '질병',\n",
       " '치안',\n",
       " '치안',\n",
       " '자연재해',\n",
       " '자연재해',\n",
       " '정보',\n",
       " '치안',\n",
       " '정보',\n",
       " '치안',\n",
       " '질병',\n",
       " '치안',\n",
       " '치안',\n",
       " '치안',\n",
       " '자연재해',\n",
       " '정보',\n",
       " '정보',\n",
       " '치안',\n",
       " '치안',\n",
       " '자연재해',\n",
       " '치안',\n",
       " '질병',\n",
       " '정보',\n",
       " '정보',\n",
       " '치안',\n",
       " '치안',\n",
       " '치안',\n",
       " '치안',\n",
       " '치안',\n",
       " '치안',\n",
       " '치안',\n",
       " '치안',\n",
       " '자연재해',\n",
       " '자연재해',\n",
       " '치안',\n",
       " '치안',\n",
       " '치안',\n",
       " '치안',\n",
       " '질병',\n",
       " '치안',\n",
       " '치안',\n",
       " '정보',\n",
       " '정보',\n",
       " '정보',\n",
       " '치안',\n",
       " '치안',\n",
       " '치안',\n",
       " '치안',\n",
       " '정보',\n",
       " '자연재해',\n",
       " '치안',\n",
       " '정보',\n",
       " '치안',\n",
       " '자연재해',\n",
       " '질병',\n",
       " '치안',\n",
       " '치안',\n",
       " '자연재해',\n",
       " '치안',\n",
       " '치안',\n",
       " '치안',\n",
       " '치안',\n",
       " '치안',\n",
       " '정보',\n",
       " '질병',\n",
       " '정보',\n",
       " '정보',\n",
       " '치안',\n",
       " '치안',\n",
       " '치안',\n",
       " '치안',\n",
       " '정보',\n",
       " '치안',\n",
       " '자연재해',\n",
       " '치안',\n",
       " '치안',\n",
       " '치안',\n",
       " '치안',\n",
       " '치안',\n",
       " '질병',\n",
       " '질병',\n",
       " '치안',\n",
       " '정보',\n",
       " '질병',\n",
       " '자연재해',\n",
       " '자연재해',\n",
       " '정보',\n",
       " '치안',\n",
       " '질병',\n",
       " '자연재해',\n",
       " '정보',\n",
       " '정보',\n",
       " '정보',\n",
       " '자연재해',\n",
       " '정보',\n",
       " '치안',\n",
       " '치안',\n",
       " '치안',\n",
       " '질병',\n",
       " '치안',\n",
       " '치안',\n",
       " '치안',\n",
       " '질병',\n",
       " '치안',\n",
       " '질병',\n",
       " '질병',\n",
       " '치안',\n",
       " '치안',\n",
       " '치안',\n",
       " '질병',\n",
       " '질병',\n",
       " '질병',\n",
       " '질병',\n",
       " '치안',\n",
       " '질병',\n",
       " '질병',\n",
       " '치안',\n",
       " '질병',\n",
       " '정보',\n",
       " '치안',\n",
       " '자연재해',\n",
       " '치안',\n",
       " '치안',\n",
       " '자연재해',\n",
       " '치안',\n",
       " '치안',\n",
       " '치안',\n",
       " '정보',\n",
       " '정보',\n",
       " '자연재해',\n",
       " '치안',\n",
       " '자연재해',\n",
       " '치안',\n",
       " '치안',\n",
       " '자연재해',\n",
       " '치안',\n",
       " '정보',\n",
       " '정보',\n",
       " '질병',\n",
       " '정보',\n",
       " '치안',\n",
       " '질병',\n",
       " '자연재해',\n",
       " '치안',\n",
       " '정보',\n",
       " '치안',\n",
       " '정보',\n",
       " '질병',\n",
       " '정보',\n",
       " '치안',\n",
       " '질병',\n",
       " '치안',\n",
       " '질병',\n",
       " '질병',\n",
       " '치안',\n",
       " '치안',\n",
       " '정보',\n",
       " '치안',\n",
       " '정보',\n",
       " '치안',\n",
       " '치안',\n",
       " '질병',\n",
       " '질병',\n",
       " '자연재해',\n",
       " '자연재해',\n",
       " '자연재해',\n",
       " '치안',\n",
       " '자연재해',\n",
       " '치안',\n",
       " '자연재해',\n",
       " '정보',\n",
       " '치안',\n",
       " '정보',\n",
       " '치안',\n",
       " '치안',\n",
       " '치안',\n",
       " '치안',\n",
       " '치안',\n",
       " '치안',\n",
       " '질병',\n",
       " '치안',\n",
       " '치안',\n",
       " '치안',\n",
       " '정보',\n",
       " '질병',\n",
       " '정보',\n",
       " '치안',\n",
       " '자연재해',\n",
       " '질병',\n",
       " '치안',\n",
       " '치안',\n",
       " '치안',\n",
       " '정보',\n",
       " '정보',\n",
       " '치안',\n",
       " '자연재해',\n",
       " '치안',\n",
       " '치안',\n",
       " '치안',\n",
       " '질병',\n",
       " '질병',\n",
       " '치안',\n",
       " '치안',\n",
       " '자연재해',\n",
       " '치안',\n",
       " '치안',\n",
       " '치안',\n",
       " '정보',\n",
       " '치안',\n",
       " '치안',\n",
       " '자연재해',\n",
       " '질병',\n",
       " '정보',\n",
       " '치안',\n",
       " '치안',\n",
       " '치안',\n",
       " '자연재해',\n",
       " '질병',\n",
       " '치안',\n",
       " '질병',\n",
       " '치안',\n",
       " '치안',\n",
       " '치안',\n",
       " '치안',\n",
       " '자연재해',\n",
       " '치안',\n",
       " '치안',\n",
       " '치안',\n",
       " '자연재해',\n",
       " '치안',\n",
       " '자연재해',\n",
       " '치안',\n",
       " '치안',\n",
       " '치안',\n",
       " '치안',\n",
       " '치안',\n",
       " '치안',\n",
       " '자연재해',\n",
       " '자연재해',\n",
       " '정보',\n",
       " '치안',\n",
       " '치안',\n",
       " '치안',\n",
       " '정보',\n",
       " '치안',\n",
       " '치안',\n",
       " '치안',\n",
       " '치안',\n",
       " '치안',\n",
       " '치안',\n",
       " '자연재해',\n",
       " '자연재해',\n",
       " '치안',\n",
       " '치안',\n",
       " '정보',\n",
       " '치안',\n",
       " '치안',\n",
       " '치안',\n",
       " '치안',\n",
       " '치안',\n",
       " '정보',\n",
       " '치안',\n",
       " '치안',\n",
       " '질병',\n",
       " '질병',\n",
       " '자연재해',\n",
       " '치안',\n",
       " '치안',\n",
       " '치안',\n",
       " '치안',\n",
       " '치안',\n",
       " '치안',\n",
       " '질병',\n",
       " '치안',\n",
       " '치안',\n",
       " '치안',\n",
       " '치안',\n",
       " '치안',\n",
       " '치안',\n",
       " '자연재해',\n",
       " '치안',\n",
       " '치안',\n",
       " '자연재해',\n",
       " '치안',\n",
       " '치안',\n",
       " '치안',\n",
       " '치안',\n",
       " '치안',\n",
       " '치안',\n",
       " '치안',\n",
       " '치안',\n",
       " '자연재해',\n",
       " '치안',\n",
       " '자연재해',\n",
       " '치안',\n",
       " '치안',\n",
       " '치안',\n",
       " '자연재해',\n",
       " '질병',\n",
       " '치안',\n",
       " '치안',\n",
       " '치안',\n",
       " '치안',\n",
       " '치안',\n",
       " '치안',\n",
       " '질병',\n",
       " '자연재해',\n",
       " '자연재해',\n",
       " '치안',\n",
       " '치안',\n",
       " '질병',\n",
       " '치안',\n",
       " '치안',\n",
       " '질병',\n",
       " '치안',\n",
       " '치안',\n",
       " '질병',\n",
       " '치안',\n",
       " '치안',\n",
       " '질병',\n",
       " '치안',\n",
       " '치안',\n",
       " '자연재해',\n",
       " '자연재해',\n",
       " '자연재해',\n",
       " '치안',\n",
       " '치안',\n",
       " '치안',\n",
       " '치안',\n",
       " '질병',\n",
       " '치안',\n",
       " '자연재해',\n",
       " '치안',\n",
       " '치안',\n",
       " '치안',\n",
       " '치안',\n",
       " '질병',\n",
       " '치안',\n",
       " '치안',\n",
       " '치안',\n",
       " '질병',\n",
       " '자연재해',\n",
       " '자연재해',\n",
       " '치안',\n",
       " '자연재해',\n",
       " '자연재해',\n",
       " '치안',\n",
       " '치안',\n",
       " '치안',\n",
       " '치안',\n",
       " '치안',\n",
       " '자연재해',\n",
       " '치안',\n",
       " '치안',\n",
       " '치안',\n",
       " '치안',\n",
       " '치안',\n",
       " '치안',\n",
       " '치안',\n",
       " '치안',\n",
       " '자연재해',\n",
       " '치안',\n",
       " '치안',\n",
       " '질병',\n",
       " '치안',\n",
       " '치안',\n",
       " '치안',\n",
       " '치안',\n",
       " '자연재해',\n",
       " '치안',\n",
       " '치안',\n",
       " '치안',\n",
       " '자연재해',\n",
       " '치안',\n",
       " '치안',\n",
       " '자연재해',\n",
       " '자연재해',\n",
       " '자연재해',\n",
       " '자연재해',\n",
       " '치안',\n",
       " '질병',\n",
       " '치안',\n",
       " '질병',\n",
       " '치안',\n",
       " '치안',\n",
       " '치안',\n",
       " '치안',\n",
       " '치안',\n",
       " '질병',\n",
       " '치안',\n",
       " '치안',\n",
       " '질병',\n",
       " '치안',\n",
       " '질병',\n",
       " '치안',\n",
       " '질병',\n",
       " '치안',\n",
       " '질병',\n",
       " '질병',\n",
       " '치안',\n",
       " '치안',\n",
       " '치안',\n",
       " '치안',\n",
       " '자연재해',\n",
       " '치안',\n",
       " '치안',\n",
       " '치안',\n",
       " '치안',\n",
       " '질병',\n",
       " '치안',\n",
       " '질병',\n",
       " '치안',\n",
       " '치안',\n",
       " '치안',\n",
       " '치안',\n",
       " '치안',\n",
       " '자연재해',\n",
       " '자연재해',\n",
       " '치안',\n",
       " '치안',\n",
       " '자연재해',\n",
       " '자연재해',\n",
       " '치안',\n",
       " '치안',\n",
       " '자연재해',\n",
       " '치안',\n",
       " '자연재해',\n",
       " '치안',\n",
       " '치안',\n",
       " '치안',\n",
       " '치안',\n",
       " '치안',\n",
       " '치안',\n",
       " '치안',\n",
       " '치안',\n",
       " '치안',\n",
       " '질병',\n",
       " '자연재해',\n",
       " '치안',\n",
       " '치안',\n",
       " '치안',\n",
       " '치안',\n",
       " '치안',\n",
       " '치안',\n",
       " '치안',\n",
       " '치안',\n",
       " '치안',\n",
       " '자연재해',\n",
       " '질병',\n",
       " '치안',\n",
       " '치안',\n",
       " '치안',\n",
       " '치안',\n",
       " '질병',\n",
       " '자연재해',\n",
       " '자연재해',\n",
       " '치안',\n",
       " '치안',\n",
       " '치안',\n",
       " '치안',\n",
       " '치안',\n",
       " '치안',\n",
       " '치안',\n",
       " '치안',\n",
       " '치안',\n",
       " '치안',\n",
       " '치안',\n",
       " '치안',\n",
       " '치안',\n",
       " '치안',\n",
       " '치안',\n",
       " '치안',\n",
       " '자연재해',\n",
       " '치안',\n",
       " '치안',\n",
       " '치안',\n",
       " '질병',\n",
       " '치안',\n",
       " '치안',\n",
       " '자연재해',\n",
       " '치안',\n",
       " '치안',\n",
       " '자연재해',\n",
       " '치안',\n",
       " '치안',\n",
       " '자연재해',\n",
       " '치안',\n",
       " '치안',\n",
       " '자연재해',\n",
       " '치안',\n",
       " '치안',\n",
       " '자연재해',\n",
       " '치안',\n",
       " '치안',\n",
       " '질병',\n",
       " '질병',\n",
       " '자연재해',\n",
       " '자연재해',\n",
       " '자연재해',\n",
       " '자연재해',\n",
       " '치안',\n",
       " '자연재해',\n",
       " '자연재해',\n",
       " '자연재해',\n",
       " '자연재해',\n",
       " '자연재해',\n",
       " '치안',\n",
       " '자연재해',\n",
       " '질병',\n",
       " '치안',\n",
       " '치안',\n",
       " '자연재해',\n",
       " '치안',\n",
       " '질병',\n",
       " '치안',\n",
       " '자연재해',\n",
       " '치안',\n",
       " '치안',\n",
       " '질병',\n",
       " '자연재해',\n",
       " '자연재해',\n",
       " '치안',\n",
       " '치안',\n",
       " '자연재해',\n",
       " '자연재해',\n",
       " '자연재해',\n",
       " '치안',\n",
       " '질병',\n",
       " '자연재해',\n",
       " '자연재해',\n",
       " '치안',\n",
       " '질병',\n",
       " '자연재해',\n",
       " '자연재해',\n",
       " '치안',\n",
       " '치안',\n",
       " '치안',\n",
       " '치안',\n",
       " '질병',\n",
       " '자연재해',\n",
       " '자연재해',\n",
       " '치안',\n",
       " '치안',\n",
       " '자연재해',\n",
       " '자연재해',\n",
       " '치안',\n",
       " '치안',\n",
       " '치안',\n",
       " '치안',\n",
       " '자연재해',\n",
       " '자연재해',\n",
       " '자연재해',\n",
       " '자연재해',\n",
       " '자연재해',\n",
       " '치안',\n",
       " '자연재해',\n",
       " '치안',\n",
       " '질병',\n",
       " '자연재해',\n",
       " '자연재해',\n",
       " '치안',\n",
       " '치안',\n",
       " '자연재해',\n",
       " '치안',\n",
       " '치안',\n",
       " '치안',\n",
       " '자연재해',\n",
       " '자연재해',\n",
       " '질병',\n",
       " '치안',\n",
       " '질병',\n",
       " '질병',\n",
       " '치안',\n",
       " '치안',\n",
       " '치안',\n",
       " '치안',\n",
       " '정보',\n",
       " '자연재해',\n",
       " '자연재해',\n",
       " '치안',\n",
       " '치안',\n",
       " '자연재해',\n",
       " '치안',\n",
       " '자연재해',\n",
       " '자연재해',\n",
       " '치안',\n",
       " '치안',\n",
       " '치안',\n",
       " '치안',\n",
       " '치안',\n",
       " '자연재해',\n",
       " '치안',\n",
       " '자연재해',\n",
       " '치안',\n",
       " '질병',\n",
       " '질병',\n",
       " '자연재해',\n",
       " '치안',\n",
       " '자연재해',\n",
       " '치안',\n",
       " '치안',\n",
       " '정보',\n",
       " '치안',\n",
       " '치안',\n",
       " '치안',\n",
       " '자연재해',\n",
       " '자연재해',\n",
       " '자연재해',\n",
       " '치안',\n",
       " '자연재해',\n",
       " '자연재해',\n",
       " '치안',\n",
       " '자연재해',\n",
       " '자연재해',\n",
       " '자연재해',\n",
       " '치안',\n",
       " '자연재해',\n",
       " '자연재해',\n",
       " '자연재해',\n",
       " '질병',\n",
       " '질병',\n",
       " '치안',\n",
       " '치안',\n",
       " '자연재해',\n",
       " '치안',\n",
       " '치안',\n",
       " '자연재해',\n",
       " '질병',\n",
       " '치안',\n",
       " '치안',\n",
       " '치안',\n",
       " '치안',\n",
       " '질병',\n",
       " '자연재해',\n",
       " '치안',\n",
       " '질병',\n",
       " '질병',\n",
       " '질병',\n",
       " '치안',\n",
       " '치안',\n",
       " '자연재해',\n",
       " '치안',\n",
       " '자연재해',\n",
       " '치안',\n",
       " '치안',\n",
       " '치안',\n",
       " '자연재해',\n",
       " '치안',\n",
       " '치안',\n",
       " '치안',\n",
       " '치안',\n",
       " '질병',\n",
       " '치안',\n",
       " '질병',\n",
       " '자연재해',\n",
       " '자연재해',\n",
       " '자연재해',\n",
       " '질병',\n",
       " '자연재해',\n",
       " '치안',\n",
       " '치안',\n",
       " '치안',\n",
       " '자연재해',\n",
       " '자연재해',\n",
       " '치안',\n",
       " '자연재해',\n",
       " '자연재해',\n",
       " '자연재해',\n",
       " '치안',\n",
       " '자연재해',\n",
       " '질병',\n",
       " '자연재해',\n",
       " '자연재해',\n",
       " '치안',\n",
       " '치안',\n",
       " '치안',\n",
       " '치안',\n",
       " '질병',\n",
       " '자연재해',\n",
       " '치안',\n",
       " '치안',\n",
       " '치안',\n",
       " '치안',\n",
       " '자연재해',\n",
       " '자연재해',\n",
       " '치안',\n",
       " '질병',\n",
       " '치안',\n",
       " '치안',\n",
       " '정보',\n",
       " '치안',\n",
       " '치안',\n",
       " '치안',\n",
       " '자연재해',\n",
       " '치안',\n",
       " '자연재해',\n",
       " '질병',\n",
       " '치안',\n",
       " '치안',\n",
       " '자연재해',\n",
       " '자연재해',\n",
       " '치안',\n",
       " '치안',\n",
       " '자연재해',\n",
       " '질병',\n",
       " '치안',\n",
       " '치안',\n",
       " '치안',\n",
       " '치안',\n",
       " '질병',\n",
       " '치안',\n",
       " '치안',\n",
       " '질병',\n",
       " '치안',\n",
       " '치안',\n",
       " '치안',\n",
       " '치안',\n",
       " '치안',\n",
       " '치안',\n",
       " '치안',\n",
       " '치안',\n",
       " '질병',\n",
       " '치안',\n",
       " '치안',\n",
       " '치안',\n",
       " '질병',\n",
       " '치안',\n",
       " '자연재해',\n",
       " '치안',\n",
       " ...]"
      ]
     },
     "execution_count": 33,
     "metadata": {},
     "output_type": "execute_result"
    }
   ],
   "source": [
    "dic = {\n",
    "    0: '정보',\n",
    "    1: '자연재해',\n",
    "    2: '질병',\n",
    "    3: '치안'\n",
    "}\n",
    "l = []\n",
    "for i in range(len(y_pred)):\n",
    "    l.append(dic[y_pred[i]])\n",
    "l"
   ]
  },
  {
   "cell_type": "code",
   "execution_count": 38,
   "metadata": {},
   "outputs": [],
   "source": [
    "div_df = pd.DataFrame(y_pred, columns =['pred_Div'])\n",
    "df['pred_Div'] = div_df['pred_Div']\n",
    "df = df[['Div', 'pred_Div']]\n",
    "df['Equal'] = (df['Div']==df['pred_Div'])"
   ]
  },
  {
   "cell_type": "code",
   "execution_count": 39,
   "metadata": {},
   "outputs": [],
   "source": [
    "df.to_excel(\"result_temp.xlsx\", index=False)"
   ]
  },
  {
   "cell_type": "code",
   "execution_count": null,
   "metadata": {},
   "outputs": [],
   "source": []
  }
 ],
 "metadata": {
  "kernelspec": {
   "display_name": "Python 3",
   "language": "python",
   "name": "python3"
  },
  "language_info": {
   "codemirror_mode": {
    "name": "ipython",
    "version": 3
   },
   "file_extension": ".py",
   "mimetype": "text/x-python",
   "name": "python",
   "nbconvert_exporter": "python",
   "pygments_lexer": "ipython3",
   "version": "3.7.2"
  }
 },
 "nbformat": 4,
 "nbformat_minor": 2
}
