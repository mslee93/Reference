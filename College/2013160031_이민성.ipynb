{
 "cells": [
  {
   "cell_type": "markdown",
   "metadata": {},
   "source": [
    "# 기계학습 TermProject \n",
    "\n",
    "\n",
    "###                                                    물리학과\n",
    "###                                                    2013160031 이민성"
   ]
  },
  {
   "cell_type": "code",
   "execution_count": 1,
   "metadata": {
    "collapsed": true
   },
   "outputs": [],
   "source": [
    "import pandas as pd"
   ]
  },
  {
   "cell_type": "markdown",
   "metadata": {},
   "source": [
    "# 1. 데이터가져오기"
   ]
  },
  {
   "cell_type": "code",
   "execution_count": 95,
   "metadata": {
    "collapsed": true
   },
   "outputs": [],
   "source": [
    "url = './Train_data.csv'"
   ]
  },
  {
   "cell_type": "code",
   "execution_count": 96,
   "metadata": {
    "collapsed": true
   },
   "outputs": [],
   "source": [
    "data=pd.read_csv(url)"
   ]
  },
  {
   "cell_type": "code",
   "execution_count": 97,
   "metadata": {
    "collapsed": true
   },
   "outputs": [],
   "source": [
    "url2 = './test_data.csv'"
   ]
  },
  {
   "cell_type": "code",
   "execution_count": 98,
   "metadata": {
    "collapsed": true
   },
   "outputs": [],
   "source": [
    "test=pd.read_csv(url2)"
   ]
  },
  {
   "cell_type": "markdown",
   "metadata": {},
   "source": [
    "데이터를 불러옴에 있어 data는 training할 데이터를 말하고 test는 test할 데이터로 구분해서 가져왔다."
   ]
  },
  {
   "cell_type": "markdown",
   "metadata": {},
   "source": [
    "# 2. 데이터 확인"
   ]
  },
  {
   "cell_type": "code",
   "execution_count": 99,
   "metadata": {},
   "outputs": [
    {
     "data": {
      "text/html": [
       "<div>\n",
       "<style>\n",
       "    .dataframe thead tr:only-child th {\n",
       "        text-align: right;\n",
       "    }\n",
       "\n",
       "    .dataframe thead th {\n",
       "        text-align: left;\n",
       "    }\n",
       "\n",
       "    .dataframe tbody tr th {\n",
       "        vertical-align: top;\n",
       "    }\n",
       "</style>\n",
       "<table border=\"1\" class=\"dataframe\">\n",
       "  <thead>\n",
       "    <tr style=\"text-align: right;\">\n",
       "      <th></th>\n",
       "      <th>duration</th>\n",
       "      <th>protocol_type</th>\n",
       "      <th>service</th>\n",
       "      <th>flag</th>\n",
       "      <th>src_bytes</th>\n",
       "      <th>dst_bytes</th>\n",
       "      <th>land</th>\n",
       "      <th>wrong_fragment</th>\n",
       "      <th>urgent</th>\n",
       "      <th>hot</th>\n",
       "      <th>...</th>\n",
       "      <th>dst_host_srv_count</th>\n",
       "      <th>dst_host_same_srv_rate</th>\n",
       "      <th>dst_host_diff_srv_rate</th>\n",
       "      <th>dst_host_same_src_port_rate</th>\n",
       "      <th>dst_host_srv_diff_host_rate</th>\n",
       "      <th>dst_host_serror_rate</th>\n",
       "      <th>dst_host_srv_serror_rate</th>\n",
       "      <th>dst_host_rerror_rate</th>\n",
       "      <th>dst_host_srv_rerror_rate</th>\n",
       "      <th>xAttack</th>\n",
       "    </tr>\n",
       "  </thead>\n",
       "  <tbody>\n",
       "    <tr>\n",
       "      <th>0</th>\n",
       "      <td>0</td>\n",
       "      <td>icmp</td>\n",
       "      <td>20</td>\n",
       "      <td>2</td>\n",
       "      <td>491</td>\n",
       "      <td>0</td>\n",
       "      <td>0</td>\n",
       "      <td>0</td>\n",
       "      <td>0</td>\n",
       "      <td>0</td>\n",
       "      <td>...</td>\n",
       "      <td>25</td>\n",
       "      <td>0.17</td>\n",
       "      <td>0.03</td>\n",
       "      <td>0.17</td>\n",
       "      <td>0.00</td>\n",
       "      <td>0.00</td>\n",
       "      <td>0.00</td>\n",
       "      <td>0.05</td>\n",
       "      <td>0.00</td>\n",
       "      <td>normal</td>\n",
       "    </tr>\n",
       "    <tr>\n",
       "      <th>1</th>\n",
       "      <td>0</td>\n",
       "      <td>udp</td>\n",
       "      <td>45</td>\n",
       "      <td>2</td>\n",
       "      <td>146</td>\n",
       "      <td>0</td>\n",
       "      <td>0</td>\n",
       "      <td>0</td>\n",
       "      <td>0</td>\n",
       "      <td>0</td>\n",
       "      <td>...</td>\n",
       "      <td>1</td>\n",
       "      <td>0.00</td>\n",
       "      <td>0.60</td>\n",
       "      <td>0.88</td>\n",
       "      <td>0.00</td>\n",
       "      <td>0.00</td>\n",
       "      <td>0.00</td>\n",
       "      <td>0.00</td>\n",
       "      <td>0.00</td>\n",
       "      <td>normal</td>\n",
       "    </tr>\n",
       "    <tr>\n",
       "      <th>2</th>\n",
       "      <td>0</td>\n",
       "      <td>icmp</td>\n",
       "      <td>50</td>\n",
       "      <td>4</td>\n",
       "      <td>0</td>\n",
       "      <td>0</td>\n",
       "      <td>0</td>\n",
       "      <td>0</td>\n",
       "      <td>0</td>\n",
       "      <td>0</td>\n",
       "      <td>...</td>\n",
       "      <td>26</td>\n",
       "      <td>0.10</td>\n",
       "      <td>0.05</td>\n",
       "      <td>0.00</td>\n",
       "      <td>0.00</td>\n",
       "      <td>1.00</td>\n",
       "      <td>1.00</td>\n",
       "      <td>0.00</td>\n",
       "      <td>0.00</td>\n",
       "      <td>dos</td>\n",
       "    </tr>\n",
       "    <tr>\n",
       "      <th>3</th>\n",
       "      <td>0</td>\n",
       "      <td>icmp</td>\n",
       "      <td>25</td>\n",
       "      <td>2</td>\n",
       "      <td>232</td>\n",
       "      <td>8153</td>\n",
       "      <td>0</td>\n",
       "      <td>0</td>\n",
       "      <td>0</td>\n",
       "      <td>0</td>\n",
       "      <td>...</td>\n",
       "      <td>255</td>\n",
       "      <td>1.00</td>\n",
       "      <td>0.00</td>\n",
       "      <td>0.03</td>\n",
       "      <td>0.04</td>\n",
       "      <td>0.03</td>\n",
       "      <td>0.01</td>\n",
       "      <td>0.00</td>\n",
       "      <td>0.01</td>\n",
       "      <td>normal</td>\n",
       "    </tr>\n",
       "    <tr>\n",
       "      <th>4</th>\n",
       "      <td>0</td>\n",
       "      <td>icmp</td>\n",
       "      <td>25</td>\n",
       "      <td>2</td>\n",
       "      <td>199</td>\n",
       "      <td>420</td>\n",
       "      <td>0</td>\n",
       "      <td>0</td>\n",
       "      <td>0</td>\n",
       "      <td>0</td>\n",
       "      <td>...</td>\n",
       "      <td>255</td>\n",
       "      <td>1.00</td>\n",
       "      <td>0.00</td>\n",
       "      <td>0.00</td>\n",
       "      <td>0.00</td>\n",
       "      <td>0.00</td>\n",
       "      <td>0.00</td>\n",
       "      <td>0.00</td>\n",
       "      <td>0.00</td>\n",
       "      <td>normal</td>\n",
       "    </tr>\n",
       "  </tbody>\n",
       "</table>\n",
       "<p>5 rows × 42 columns</p>\n",
       "</div>"
      ],
      "text/plain": [
       "   duration protocol_type  service  flag  src_bytes  dst_bytes  land  \\\n",
       "0         0          icmp       20     2        491          0     0   \n",
       "1         0           udp       45     2        146          0     0   \n",
       "2         0          icmp       50     4          0          0     0   \n",
       "3         0          icmp       25     2        232       8153     0   \n",
       "4         0          icmp       25     2        199        420     0   \n",
       "\n",
       "   wrong_fragment  urgent  hot   ...     dst_host_srv_count  \\\n",
       "0               0       0    0   ...                     25   \n",
       "1               0       0    0   ...                      1   \n",
       "2               0       0    0   ...                     26   \n",
       "3               0       0    0   ...                    255   \n",
       "4               0       0    0   ...                    255   \n",
       "\n",
       "   dst_host_same_srv_rate  dst_host_diff_srv_rate  \\\n",
       "0                    0.17                    0.03   \n",
       "1                    0.00                    0.60   \n",
       "2                    0.10                    0.05   \n",
       "3                    1.00                    0.00   \n",
       "4                    1.00                    0.00   \n",
       "\n",
       "   dst_host_same_src_port_rate  dst_host_srv_diff_host_rate  \\\n",
       "0                         0.17                         0.00   \n",
       "1                         0.88                         0.00   \n",
       "2                         0.00                         0.00   \n",
       "3                         0.03                         0.04   \n",
       "4                         0.00                         0.00   \n",
       "\n",
       "   dst_host_serror_rate  dst_host_srv_serror_rate  dst_host_rerror_rate  \\\n",
       "0                  0.00                      0.00                  0.05   \n",
       "1                  0.00                      0.00                  0.00   \n",
       "2                  1.00                      1.00                  0.00   \n",
       "3                  0.03                      0.01                  0.00   \n",
       "4                  0.00                      0.00                  0.00   \n",
       "\n",
       "   dst_host_srv_rerror_rate  xAttack  \n",
       "0                      0.00   normal  \n",
       "1                      0.00   normal  \n",
       "2                      0.00      dos  \n",
       "3                      0.01   normal  \n",
       "4                      0.00   normal  \n",
       "\n",
       "[5 rows x 42 columns]"
      ]
     },
     "execution_count": 99,
     "metadata": {},
     "output_type": "execute_result"
    }
   ],
   "source": [
    "data.head()"
   ]
  },
  {
   "cell_type": "code",
   "execution_count": 100,
   "metadata": {},
   "outputs": [
    {
     "data": {
      "text/plain": [
       "duration                            0\n",
       "protocol_type                     udp\n",
       "service                            45\n",
       "flag                                2\n",
       "src_bytes                         146\n",
       "dst_bytes                           0\n",
       "land                                0\n",
       "wrong_fragment                      0\n",
       "urgent                              0\n",
       "hot                                 0\n",
       "num_failed_logins                   0\n",
       "logged_in                           0\n",
       "num_compromised                     0\n",
       "root_shell                          0\n",
       "su_attempted                        0\n",
       "num_root                            0\n",
       "num_file_creations                  0\n",
       "num_shells                          0\n",
       "num_access_files                    0\n",
       "num_outbound_cmds                   0\n",
       "is_host_login                       0\n",
       "is_guest_login                      0\n",
       "count                              13\n",
       "srv_count                           1\n",
       "serror_rate                         0\n",
       "srv_serror_rate                     0\n",
       "rerror_rate                         0\n",
       "srv_rerror_rate                     0\n",
       "same_srv_rate                    0.08\n",
       "diff_srv_rate                    0.15\n",
       "srv_diff_host_rate                  0\n",
       "dst_host_count                    255\n",
       "dst_host_srv_count                  1\n",
       "dst_host_same_srv_rate              0\n",
       "dst_host_diff_srv_rate            0.6\n",
       "dst_host_same_src_port_rate      0.88\n",
       "dst_host_srv_diff_host_rate         0\n",
       "dst_host_serror_rate                0\n",
       "dst_host_srv_serror_rate            0\n",
       "dst_host_rerror_rate                0\n",
       "dst_host_srv_rerror_rate            0\n",
       "xAttack                        normal\n",
       "Name: 1, dtype: object"
      ]
     },
     "execution_count": 100,
     "metadata": {},
     "output_type": "execute_result"
    }
   ],
   "source": [
    "data.iloc[1,:]"
   ]
  },
  {
   "cell_type": "code",
   "execution_count": 101,
   "metadata": {
    "scrolled": true
   },
   "outputs": [
    {
     "data": {
      "text/html": [
       "<div>\n",
       "<style>\n",
       "    .dataframe thead tr:only-child th {\n",
       "        text-align: right;\n",
       "    }\n",
       "\n",
       "    .dataframe thead th {\n",
       "        text-align: left;\n",
       "    }\n",
       "\n",
       "    .dataframe tbody tr th {\n",
       "        vertical-align: top;\n",
       "    }\n",
       "</style>\n",
       "<table border=\"1\" class=\"dataframe\">\n",
       "  <thead>\n",
       "    <tr style=\"text-align: right;\">\n",
       "      <th></th>\n",
       "      <th>duration</th>\n",
       "      <th>service</th>\n",
       "      <th>flag</th>\n",
       "      <th>src_bytes</th>\n",
       "      <th>dst_bytes</th>\n",
       "      <th>land</th>\n",
       "      <th>wrong_fragment</th>\n",
       "      <th>urgent</th>\n",
       "      <th>hot</th>\n",
       "      <th>num_failed_logins</th>\n",
       "      <th>...</th>\n",
       "      <th>dst_host_count</th>\n",
       "      <th>dst_host_srv_count</th>\n",
       "      <th>dst_host_same_srv_rate</th>\n",
       "      <th>dst_host_diff_srv_rate</th>\n",
       "      <th>dst_host_same_src_port_rate</th>\n",
       "      <th>dst_host_srv_diff_host_rate</th>\n",
       "      <th>dst_host_serror_rate</th>\n",
       "      <th>dst_host_srv_serror_rate</th>\n",
       "      <th>dst_host_rerror_rate</th>\n",
       "      <th>dst_host_srv_rerror_rate</th>\n",
       "    </tr>\n",
       "  </thead>\n",
       "  <tbody>\n",
       "    <tr>\n",
       "      <th>count</th>\n",
       "      <td>125973.00000</td>\n",
       "      <td>125973.000000</td>\n",
       "      <td>125973.000000</td>\n",
       "      <td>1.259730e+05</td>\n",
       "      <td>1.259730e+05</td>\n",
       "      <td>125973.000000</td>\n",
       "      <td>125973.000000</td>\n",
       "      <td>125973.000000</td>\n",
       "      <td>125973.000000</td>\n",
       "      <td>125973.000000</td>\n",
       "      <td>...</td>\n",
       "      <td>125973.000000</td>\n",
       "      <td>125973.000000</td>\n",
       "      <td>125973.000000</td>\n",
       "      <td>125973.000000</td>\n",
       "      <td>125973.000000</td>\n",
       "      <td>125973.000000</td>\n",
       "      <td>125973.000000</td>\n",
       "      <td>125973.000000</td>\n",
       "      <td>125973.000000</td>\n",
       "      <td>125973.000000</td>\n",
       "    </tr>\n",
       "    <tr>\n",
       "      <th>mean</th>\n",
       "      <td>287.14465</td>\n",
       "      <td>32.086288</td>\n",
       "      <td>2.575179</td>\n",
       "      <td>4.556674e+04</td>\n",
       "      <td>1.977911e+04</td>\n",
       "      <td>0.000198</td>\n",
       "      <td>0.022687</td>\n",
       "      <td>0.000111</td>\n",
       "      <td>0.204409</td>\n",
       "      <td>0.001222</td>\n",
       "      <td>...</td>\n",
       "      <td>182.148945</td>\n",
       "      <td>115.653005</td>\n",
       "      <td>0.521242</td>\n",
       "      <td>0.082951</td>\n",
       "      <td>0.148379</td>\n",
       "      <td>0.032542</td>\n",
       "      <td>0.284452</td>\n",
       "      <td>0.278485</td>\n",
       "      <td>0.118832</td>\n",
       "      <td>0.120240</td>\n",
       "    </tr>\n",
       "    <tr>\n",
       "      <th>std</th>\n",
       "      <td>2604.51531</td>\n",
       "      <td>16.462574</td>\n",
       "      <td>1.141552</td>\n",
       "      <td>5.870331e+06</td>\n",
       "      <td>4.021269e+06</td>\n",
       "      <td>0.014086</td>\n",
       "      <td>0.253530</td>\n",
       "      <td>0.014366</td>\n",
       "      <td>2.149968</td>\n",
       "      <td>0.045239</td>\n",
       "      <td>...</td>\n",
       "      <td>99.206213</td>\n",
       "      <td>110.702741</td>\n",
       "      <td>0.448949</td>\n",
       "      <td>0.188922</td>\n",
       "      <td>0.308997</td>\n",
       "      <td>0.112564</td>\n",
       "      <td>0.444784</td>\n",
       "      <td>0.445669</td>\n",
       "      <td>0.306557</td>\n",
       "      <td>0.319459</td>\n",
       "    </tr>\n",
       "    <tr>\n",
       "      <th>min</th>\n",
       "      <td>0.00000</td>\n",
       "      <td>1.000000</td>\n",
       "      <td>1.000000</td>\n",
       "      <td>0.000000e+00</td>\n",
       "      <td>0.000000e+00</td>\n",
       "      <td>0.000000</td>\n",
       "      <td>0.000000</td>\n",
       "      <td>0.000000</td>\n",
       "      <td>0.000000</td>\n",
       "      <td>0.000000</td>\n",
       "      <td>...</td>\n",
       "      <td>0.000000</td>\n",
       "      <td>0.000000</td>\n",
       "      <td>0.000000</td>\n",
       "      <td>0.000000</td>\n",
       "      <td>0.000000</td>\n",
       "      <td>0.000000</td>\n",
       "      <td>0.000000</td>\n",
       "      <td>0.000000</td>\n",
       "      <td>0.000000</td>\n",
       "      <td>0.000000</td>\n",
       "    </tr>\n",
       "    <tr>\n",
       "      <th>25%</th>\n",
       "      <td>0.00000</td>\n",
       "      <td>20.000000</td>\n",
       "      <td>2.000000</td>\n",
       "      <td>0.000000e+00</td>\n",
       "      <td>0.000000e+00</td>\n",
       "      <td>0.000000</td>\n",
       "      <td>0.000000</td>\n",
       "      <td>0.000000</td>\n",
       "      <td>0.000000</td>\n",
       "      <td>0.000000</td>\n",
       "      <td>...</td>\n",
       "      <td>82.000000</td>\n",
       "      <td>10.000000</td>\n",
       "      <td>0.050000</td>\n",
       "      <td>0.000000</td>\n",
       "      <td>0.000000</td>\n",
       "      <td>0.000000</td>\n",
       "      <td>0.000000</td>\n",
       "      <td>0.000000</td>\n",
       "      <td>0.000000</td>\n",
       "      <td>0.000000</td>\n",
       "    </tr>\n",
       "    <tr>\n",
       "      <th>50%</th>\n",
       "      <td>0.00000</td>\n",
       "      <td>25.000000</td>\n",
       "      <td>2.000000</td>\n",
       "      <td>4.400000e+01</td>\n",
       "      <td>0.000000e+00</td>\n",
       "      <td>0.000000</td>\n",
       "      <td>0.000000</td>\n",
       "      <td>0.000000</td>\n",
       "      <td>0.000000</td>\n",
       "      <td>0.000000</td>\n",
       "      <td>...</td>\n",
       "      <td>255.000000</td>\n",
       "      <td>63.000000</td>\n",
       "      <td>0.510000</td>\n",
       "      <td>0.020000</td>\n",
       "      <td>0.000000</td>\n",
       "      <td>0.000000</td>\n",
       "      <td>0.000000</td>\n",
       "      <td>0.000000</td>\n",
       "      <td>0.000000</td>\n",
       "      <td>0.000000</td>\n",
       "    </tr>\n",
       "    <tr>\n",
       "      <th>75%</th>\n",
       "      <td>0.00000</td>\n",
       "      <td>50.000000</td>\n",
       "      <td>4.000000</td>\n",
       "      <td>2.760000e+02</td>\n",
       "      <td>5.160000e+02</td>\n",
       "      <td>0.000000</td>\n",
       "      <td>0.000000</td>\n",
       "      <td>0.000000</td>\n",
       "      <td>0.000000</td>\n",
       "      <td>0.000000</td>\n",
       "      <td>...</td>\n",
       "      <td>255.000000</td>\n",
       "      <td>255.000000</td>\n",
       "      <td>1.000000</td>\n",
       "      <td>0.070000</td>\n",
       "      <td>0.060000</td>\n",
       "      <td>0.020000</td>\n",
       "      <td>1.000000</td>\n",
       "      <td>1.000000</td>\n",
       "      <td>0.000000</td>\n",
       "      <td>0.000000</td>\n",
       "    </tr>\n",
       "    <tr>\n",
       "      <th>max</th>\n",
       "      <td>42908.00000</td>\n",
       "      <td>70.000000</td>\n",
       "      <td>11.000000</td>\n",
       "      <td>1.379964e+09</td>\n",
       "      <td>1.309937e+09</td>\n",
       "      <td>1.000000</td>\n",
       "      <td>3.000000</td>\n",
       "      <td>3.000000</td>\n",
       "      <td>77.000000</td>\n",
       "      <td>5.000000</td>\n",
       "      <td>...</td>\n",
       "      <td>255.000000</td>\n",
       "      <td>255.000000</td>\n",
       "      <td>1.000000</td>\n",
       "      <td>1.000000</td>\n",
       "      <td>1.000000</td>\n",
       "      <td>1.000000</td>\n",
       "      <td>1.000000</td>\n",
       "      <td>1.000000</td>\n",
       "      <td>1.000000</td>\n",
       "      <td>1.000000</td>\n",
       "    </tr>\n",
       "  </tbody>\n",
       "</table>\n",
       "<p>8 rows × 40 columns</p>\n",
       "</div>"
      ],
      "text/plain": [
       "           duration        service           flag     src_bytes     dst_bytes  \\\n",
       "count  125973.00000  125973.000000  125973.000000  1.259730e+05  1.259730e+05   \n",
       "mean      287.14465      32.086288       2.575179  4.556674e+04  1.977911e+04   \n",
       "std      2604.51531      16.462574       1.141552  5.870331e+06  4.021269e+06   \n",
       "min         0.00000       1.000000       1.000000  0.000000e+00  0.000000e+00   \n",
       "25%         0.00000      20.000000       2.000000  0.000000e+00  0.000000e+00   \n",
       "50%         0.00000      25.000000       2.000000  4.400000e+01  0.000000e+00   \n",
       "75%         0.00000      50.000000       4.000000  2.760000e+02  5.160000e+02   \n",
       "max     42908.00000      70.000000      11.000000  1.379964e+09  1.309937e+09   \n",
       "\n",
       "                land  wrong_fragment         urgent            hot  \\\n",
       "count  125973.000000   125973.000000  125973.000000  125973.000000   \n",
       "mean        0.000198        0.022687       0.000111       0.204409   \n",
       "std         0.014086        0.253530       0.014366       2.149968   \n",
       "min         0.000000        0.000000       0.000000       0.000000   \n",
       "25%         0.000000        0.000000       0.000000       0.000000   \n",
       "50%         0.000000        0.000000       0.000000       0.000000   \n",
       "75%         0.000000        0.000000       0.000000       0.000000   \n",
       "max         1.000000        3.000000       3.000000      77.000000   \n",
       "\n",
       "       num_failed_logins            ...             dst_host_count  \\\n",
       "count      125973.000000            ...              125973.000000   \n",
       "mean            0.001222            ...                 182.148945   \n",
       "std             0.045239            ...                  99.206213   \n",
       "min             0.000000            ...                   0.000000   \n",
       "25%             0.000000            ...                  82.000000   \n",
       "50%             0.000000            ...                 255.000000   \n",
       "75%             0.000000            ...                 255.000000   \n",
       "max             5.000000            ...                 255.000000   \n",
       "\n",
       "       dst_host_srv_count  dst_host_same_srv_rate  dst_host_diff_srv_rate  \\\n",
       "count       125973.000000           125973.000000           125973.000000   \n",
       "mean           115.653005                0.521242                0.082951   \n",
       "std            110.702741                0.448949                0.188922   \n",
       "min              0.000000                0.000000                0.000000   \n",
       "25%             10.000000                0.050000                0.000000   \n",
       "50%             63.000000                0.510000                0.020000   \n",
       "75%            255.000000                1.000000                0.070000   \n",
       "max            255.000000                1.000000                1.000000   \n",
       "\n",
       "       dst_host_same_src_port_rate  dst_host_srv_diff_host_rate  \\\n",
       "count                125973.000000                125973.000000   \n",
       "mean                      0.148379                     0.032542   \n",
       "std                       0.308997                     0.112564   \n",
       "min                       0.000000                     0.000000   \n",
       "25%                       0.000000                     0.000000   \n",
       "50%                       0.000000                     0.000000   \n",
       "75%                       0.060000                     0.020000   \n",
       "max                       1.000000                     1.000000   \n",
       "\n",
       "       dst_host_serror_rate  dst_host_srv_serror_rate  dst_host_rerror_rate  \\\n",
       "count         125973.000000             125973.000000         125973.000000   \n",
       "mean               0.284452                  0.278485              0.118832   \n",
       "std                0.444784                  0.445669              0.306557   \n",
       "min                0.000000                  0.000000              0.000000   \n",
       "25%                0.000000                  0.000000              0.000000   \n",
       "50%                0.000000                  0.000000              0.000000   \n",
       "75%                1.000000                  1.000000              0.000000   \n",
       "max                1.000000                  1.000000              1.000000   \n",
       "\n",
       "       dst_host_srv_rerror_rate  \n",
       "count             125973.000000  \n",
       "mean                   0.120240  \n",
       "std                    0.319459  \n",
       "min                    0.000000  \n",
       "25%                    0.000000  \n",
       "50%                    0.000000  \n",
       "75%                    0.000000  \n",
       "max                    1.000000  \n",
       "\n",
       "[8 rows x 40 columns]"
      ]
     },
     "execution_count": 101,
     "metadata": {},
     "output_type": "execute_result"
    }
   ],
   "source": [
    "data.describe()"
   ]
  },
  {
   "cell_type": "code",
   "execution_count": 102,
   "metadata": {},
   "outputs": [
    {
     "data": {
      "text/html": [
       "<div>\n",
       "<style>\n",
       "    .dataframe thead tr:only-child th {\n",
       "        text-align: right;\n",
       "    }\n",
       "\n",
       "    .dataframe thead th {\n",
       "        text-align: left;\n",
       "    }\n",
       "\n",
       "    .dataframe tbody tr th {\n",
       "        vertical-align: top;\n",
       "    }\n",
       "</style>\n",
       "<table border=\"1\" class=\"dataframe\">\n",
       "  <thead>\n",
       "    <tr style=\"text-align: right;\">\n",
       "      <th></th>\n",
       "      <th>Unnamed: 0</th>\n",
       "      <th>duration</th>\n",
       "      <th>protocol_type</th>\n",
       "      <th>service</th>\n",
       "      <th>flag</th>\n",
       "      <th>src_bytes</th>\n",
       "      <th>dst_bytes</th>\n",
       "      <th>land</th>\n",
       "      <th>wrong_fragment</th>\n",
       "      <th>urgent</th>\n",
       "      <th>...</th>\n",
       "      <th>dst_host_srv_count</th>\n",
       "      <th>dst_host_same_srv_rate</th>\n",
       "      <th>dst_host_diff_srv_rate</th>\n",
       "      <th>dst_host_same_src_port_rate</th>\n",
       "      <th>dst_host_srv_diff_host_rate</th>\n",
       "      <th>dst_host_serror_rate</th>\n",
       "      <th>dst_host_srv_serror_rate</th>\n",
       "      <th>dst_host_rerror_rate</th>\n",
       "      <th>dst_host_srv_rerror_rate</th>\n",
       "      <th>xAttack</th>\n",
       "    </tr>\n",
       "  </thead>\n",
       "  <tbody>\n",
       "    <tr>\n",
       "      <th>0</th>\n",
       "      <td>202</td>\n",
       "      <td>0</td>\n",
       "      <td>icmp</td>\n",
       "      <td>25</td>\n",
       "      <td>4</td>\n",
       "      <td>0</td>\n",
       "      <td>0</td>\n",
       "      <td>0</td>\n",
       "      <td>0</td>\n",
       "      <td>0</td>\n",
       "      <td>...</td>\n",
       "      <td>255</td>\n",
       "      <td>1.00</td>\n",
       "      <td>0.00</td>\n",
       "      <td>0.00</td>\n",
       "      <td>0.00</td>\n",
       "      <td>0.65</td>\n",
       "      <td>0.65</td>\n",
       "      <td>0.32</td>\n",
       "      <td>0.32</td>\n",
       "      <td>dos</td>\n",
       "    </tr>\n",
       "    <tr>\n",
       "      <th>1</th>\n",
       "      <td>768</td>\n",
       "      <td>0</td>\n",
       "      <td>icmp</td>\n",
       "      <td>25</td>\n",
       "      <td>2</td>\n",
       "      <td>312</td>\n",
       "      <td>1856</td>\n",
       "      <td>0</td>\n",
       "      <td>0</td>\n",
       "      <td>0</td>\n",
       "      <td>...</td>\n",
       "      <td>254</td>\n",
       "      <td>1.00</td>\n",
       "      <td>0.00</td>\n",
       "      <td>1.00</td>\n",
       "      <td>0.06</td>\n",
       "      <td>0.00</td>\n",
       "      <td>0.00</td>\n",
       "      <td>0.00</td>\n",
       "      <td>0.00</td>\n",
       "      <td>normal</td>\n",
       "    </tr>\n",
       "    <tr>\n",
       "      <th>2</th>\n",
       "      <td>3753</td>\n",
       "      <td>0</td>\n",
       "      <td>icmp</td>\n",
       "      <td>25</td>\n",
       "      <td>2</td>\n",
       "      <td>245</td>\n",
       "      <td>2058</td>\n",
       "      <td>0</td>\n",
       "      <td>0</td>\n",
       "      <td>0</td>\n",
       "      <td>...</td>\n",
       "      <td>255</td>\n",
       "      <td>1.00</td>\n",
       "      <td>0.00</td>\n",
       "      <td>0.01</td>\n",
       "      <td>0.05</td>\n",
       "      <td>0.01</td>\n",
       "      <td>0.00</td>\n",
       "      <td>0.00</td>\n",
       "      <td>0.00</td>\n",
       "      <td>normal</td>\n",
       "    </tr>\n",
       "    <tr>\n",
       "      <th>3</th>\n",
       "      <td>20087</td>\n",
       "      <td>0</td>\n",
       "      <td>icmp</td>\n",
       "      <td>25</td>\n",
       "      <td>2</td>\n",
       "      <td>298</td>\n",
       "      <td>1267</td>\n",
       "      <td>0</td>\n",
       "      <td>0</td>\n",
       "      <td>0</td>\n",
       "      <td>...</td>\n",
       "      <td>255</td>\n",
       "      <td>1.00</td>\n",
       "      <td>0.00</td>\n",
       "      <td>0.00</td>\n",
       "      <td>0.00</td>\n",
       "      <td>0.00</td>\n",
       "      <td>0.00</td>\n",
       "      <td>0.00</td>\n",
       "      <td>0.00</td>\n",
       "      <td>normal</td>\n",
       "    </tr>\n",
       "    <tr>\n",
       "      <th>4</th>\n",
       "      <td>16159</td>\n",
       "      <td>0</td>\n",
       "      <td>icmp</td>\n",
       "      <td>20</td>\n",
       "      <td>2</td>\n",
       "      <td>740</td>\n",
       "      <td>0</td>\n",
       "      <td>0</td>\n",
       "      <td>0</td>\n",
       "      <td>0</td>\n",
       "      <td>...</td>\n",
       "      <td>19</td>\n",
       "      <td>0.18</td>\n",
       "      <td>0.03</td>\n",
       "      <td>0.18</td>\n",
       "      <td>0.00</td>\n",
       "      <td>0.00</td>\n",
       "      <td>0.00</td>\n",
       "      <td>0.00</td>\n",
       "      <td>0.00</td>\n",
       "      <td>normal</td>\n",
       "    </tr>\n",
       "  </tbody>\n",
       "</table>\n",
       "<p>5 rows × 43 columns</p>\n",
       "</div>"
      ],
      "text/plain": [
       "   Unnamed: 0  duration protocol_type  service  flag  src_bytes  dst_bytes  \\\n",
       "0         202         0          icmp       25     4          0          0   \n",
       "1         768         0          icmp       25     2        312       1856   \n",
       "2        3753         0          icmp       25     2        245       2058   \n",
       "3       20087         0          icmp       25     2        298       1267   \n",
       "4       16159         0          icmp       20     2        740          0   \n",
       "\n",
       "   land  wrong_fragment  urgent   ...     dst_host_srv_count  \\\n",
       "0     0               0       0   ...                    255   \n",
       "1     0               0       0   ...                    254   \n",
       "2     0               0       0   ...                    255   \n",
       "3     0               0       0   ...                    255   \n",
       "4     0               0       0   ...                     19   \n",
       "\n",
       "   dst_host_same_srv_rate  dst_host_diff_srv_rate  \\\n",
       "0                    1.00                    0.00   \n",
       "1                    1.00                    0.00   \n",
       "2                    1.00                    0.00   \n",
       "3                    1.00                    0.00   \n",
       "4                    0.18                    0.03   \n",
       "\n",
       "   dst_host_same_src_port_rate  dst_host_srv_diff_host_rate  \\\n",
       "0                         0.00                         0.00   \n",
       "1                         1.00                         0.06   \n",
       "2                         0.01                         0.05   \n",
       "3                         0.00                         0.00   \n",
       "4                         0.18                         0.00   \n",
       "\n",
       "   dst_host_serror_rate  dst_host_srv_serror_rate  dst_host_rerror_rate  \\\n",
       "0                  0.65                      0.65                  0.32   \n",
       "1                  0.00                      0.00                  0.00   \n",
       "2                  0.01                      0.00                  0.00   \n",
       "3                  0.00                      0.00                  0.00   \n",
       "4                  0.00                      0.00                  0.00   \n",
       "\n",
       "   dst_host_srv_rerror_rate  xAttack  \n",
       "0                      0.32      dos  \n",
       "1                      0.00   normal  \n",
       "2                      0.00   normal  \n",
       "3                      0.00   normal  \n",
       "4                      0.00   normal  \n",
       "\n",
       "[5 rows x 43 columns]"
      ]
     },
     "execution_count": 102,
     "metadata": {},
     "output_type": "execute_result"
    }
   ],
   "source": [
    "test.head()"
   ]
  },
  {
   "cell_type": "code",
   "execution_count": 103,
   "metadata": {
    "collapsed": true
   },
   "outputs": [],
   "source": [
    "test=test.iloc[:,1:]"
   ]
  },
  {
   "cell_type": "code",
   "execution_count": 104,
   "metadata": {},
   "outputs": [
    {
     "data": {
      "text/html": [
       "<div>\n",
       "<style>\n",
       "    .dataframe thead tr:only-child th {\n",
       "        text-align: right;\n",
       "    }\n",
       "\n",
       "    .dataframe thead th {\n",
       "        text-align: left;\n",
       "    }\n",
       "\n",
       "    .dataframe tbody tr th {\n",
       "        vertical-align: top;\n",
       "    }\n",
       "</style>\n",
       "<table border=\"1\" class=\"dataframe\">\n",
       "  <thead>\n",
       "    <tr style=\"text-align: right;\">\n",
       "      <th></th>\n",
       "      <th>duration</th>\n",
       "      <th>protocol_type</th>\n",
       "      <th>service</th>\n",
       "      <th>flag</th>\n",
       "      <th>src_bytes</th>\n",
       "      <th>dst_bytes</th>\n",
       "      <th>land</th>\n",
       "      <th>wrong_fragment</th>\n",
       "      <th>urgent</th>\n",
       "      <th>hot</th>\n",
       "      <th>...</th>\n",
       "      <th>dst_host_srv_count</th>\n",
       "      <th>dst_host_same_srv_rate</th>\n",
       "      <th>dst_host_diff_srv_rate</th>\n",
       "      <th>dst_host_same_src_port_rate</th>\n",
       "      <th>dst_host_srv_diff_host_rate</th>\n",
       "      <th>dst_host_serror_rate</th>\n",
       "      <th>dst_host_srv_serror_rate</th>\n",
       "      <th>dst_host_rerror_rate</th>\n",
       "      <th>dst_host_srv_rerror_rate</th>\n",
       "      <th>xAttack</th>\n",
       "    </tr>\n",
       "  </thead>\n",
       "  <tbody>\n",
       "    <tr>\n",
       "      <th>0</th>\n",
       "      <td>0</td>\n",
       "      <td>icmp</td>\n",
       "      <td>25</td>\n",
       "      <td>4</td>\n",
       "      <td>0</td>\n",
       "      <td>0</td>\n",
       "      <td>0</td>\n",
       "      <td>0</td>\n",
       "      <td>0</td>\n",
       "      <td>0</td>\n",
       "      <td>...</td>\n",
       "      <td>255</td>\n",
       "      <td>1.00</td>\n",
       "      <td>0.00</td>\n",
       "      <td>0.00</td>\n",
       "      <td>0.00</td>\n",
       "      <td>0.65</td>\n",
       "      <td>0.65</td>\n",
       "      <td>0.32</td>\n",
       "      <td>0.32</td>\n",
       "      <td>dos</td>\n",
       "    </tr>\n",
       "    <tr>\n",
       "      <th>1</th>\n",
       "      <td>0</td>\n",
       "      <td>icmp</td>\n",
       "      <td>25</td>\n",
       "      <td>2</td>\n",
       "      <td>312</td>\n",
       "      <td>1856</td>\n",
       "      <td>0</td>\n",
       "      <td>0</td>\n",
       "      <td>0</td>\n",
       "      <td>0</td>\n",
       "      <td>...</td>\n",
       "      <td>254</td>\n",
       "      <td>1.00</td>\n",
       "      <td>0.00</td>\n",
       "      <td>1.00</td>\n",
       "      <td>0.06</td>\n",
       "      <td>0.00</td>\n",
       "      <td>0.00</td>\n",
       "      <td>0.00</td>\n",
       "      <td>0.00</td>\n",
       "      <td>normal</td>\n",
       "    </tr>\n",
       "    <tr>\n",
       "      <th>2</th>\n",
       "      <td>0</td>\n",
       "      <td>icmp</td>\n",
       "      <td>25</td>\n",
       "      <td>2</td>\n",
       "      <td>245</td>\n",
       "      <td>2058</td>\n",
       "      <td>0</td>\n",
       "      <td>0</td>\n",
       "      <td>0</td>\n",
       "      <td>0</td>\n",
       "      <td>...</td>\n",
       "      <td>255</td>\n",
       "      <td>1.00</td>\n",
       "      <td>0.00</td>\n",
       "      <td>0.01</td>\n",
       "      <td>0.05</td>\n",
       "      <td>0.01</td>\n",
       "      <td>0.00</td>\n",
       "      <td>0.00</td>\n",
       "      <td>0.00</td>\n",
       "      <td>normal</td>\n",
       "    </tr>\n",
       "    <tr>\n",
       "      <th>3</th>\n",
       "      <td>0</td>\n",
       "      <td>icmp</td>\n",
       "      <td>25</td>\n",
       "      <td>2</td>\n",
       "      <td>298</td>\n",
       "      <td>1267</td>\n",
       "      <td>0</td>\n",
       "      <td>0</td>\n",
       "      <td>0</td>\n",
       "      <td>0</td>\n",
       "      <td>...</td>\n",
       "      <td>255</td>\n",
       "      <td>1.00</td>\n",
       "      <td>0.00</td>\n",
       "      <td>0.00</td>\n",
       "      <td>0.00</td>\n",
       "      <td>0.00</td>\n",
       "      <td>0.00</td>\n",
       "      <td>0.00</td>\n",
       "      <td>0.00</td>\n",
       "      <td>normal</td>\n",
       "    </tr>\n",
       "    <tr>\n",
       "      <th>4</th>\n",
       "      <td>0</td>\n",
       "      <td>icmp</td>\n",
       "      <td>20</td>\n",
       "      <td>2</td>\n",
       "      <td>740</td>\n",
       "      <td>0</td>\n",
       "      <td>0</td>\n",
       "      <td>0</td>\n",
       "      <td>0</td>\n",
       "      <td>0</td>\n",
       "      <td>...</td>\n",
       "      <td>19</td>\n",
       "      <td>0.18</td>\n",
       "      <td>0.03</td>\n",
       "      <td>0.18</td>\n",
       "      <td>0.00</td>\n",
       "      <td>0.00</td>\n",
       "      <td>0.00</td>\n",
       "      <td>0.00</td>\n",
       "      <td>0.00</td>\n",
       "      <td>normal</td>\n",
       "    </tr>\n",
       "  </tbody>\n",
       "</table>\n",
       "<p>5 rows × 42 columns</p>\n",
       "</div>"
      ],
      "text/plain": [
       "   duration protocol_type  service  flag  src_bytes  dst_bytes  land  \\\n",
       "0         0          icmp       25     4          0          0     0   \n",
       "1         0          icmp       25     2        312       1856     0   \n",
       "2         0          icmp       25     2        245       2058     0   \n",
       "3         0          icmp       25     2        298       1267     0   \n",
       "4         0          icmp       20     2        740          0     0   \n",
       "\n",
       "   wrong_fragment  urgent  hot   ...     dst_host_srv_count  \\\n",
       "0               0       0    0   ...                    255   \n",
       "1               0       0    0   ...                    254   \n",
       "2               0       0    0   ...                    255   \n",
       "3               0       0    0   ...                    255   \n",
       "4               0       0    0   ...                     19   \n",
       "\n",
       "   dst_host_same_srv_rate  dst_host_diff_srv_rate  \\\n",
       "0                    1.00                    0.00   \n",
       "1                    1.00                    0.00   \n",
       "2                    1.00                    0.00   \n",
       "3                    1.00                    0.00   \n",
       "4                    0.18                    0.03   \n",
       "\n",
       "   dst_host_same_src_port_rate  dst_host_srv_diff_host_rate  \\\n",
       "0                         0.00                         0.00   \n",
       "1                         1.00                         0.06   \n",
       "2                         0.01                         0.05   \n",
       "3                         0.00                         0.00   \n",
       "4                         0.18                         0.00   \n",
       "\n",
       "   dst_host_serror_rate  dst_host_srv_serror_rate  dst_host_rerror_rate  \\\n",
       "0                  0.65                      0.65                  0.32   \n",
       "1                  0.00                      0.00                  0.00   \n",
       "2                  0.01                      0.00                  0.00   \n",
       "3                  0.00                      0.00                  0.00   \n",
       "4                  0.00                      0.00                  0.00   \n",
       "\n",
       "   dst_host_srv_rerror_rate  xAttack  \n",
       "0                      0.32      dos  \n",
       "1                      0.00   normal  \n",
       "2                      0.00   normal  \n",
       "3                      0.00   normal  \n",
       "4                      0.00   normal  \n",
       "\n",
       "[5 rows x 42 columns]"
      ]
     },
     "execution_count": 104,
     "metadata": {},
     "output_type": "execute_result"
    }
   ],
   "source": [
    "test.head()"
   ]
  },
  {
   "cell_type": "markdown",
   "metadata": {},
   "source": [
    "데이터에 nan이 파함되어 있지 않아 문제가 없는 것을 확인 하였고,   \n",
    "PROTOCOL_TYPE의 경우 string으로 되어있으므로 학습시킬때 문제가 생겨 integer로 바꾸어주려한다.  \n",
    "하지만 testdata의 경우 첫번째 열에 unnamed라는 이상한 값이 들어있어 제거해주었다."
   ]
  },
  {
   "cell_type": "markdown",
   "metadata": {
    "collapsed": true
   },
   "source": [
    "# 3. 데이터 처리"
   ]
  },
  {
   "cell_type": "markdown",
   "metadata": {},
   "source": [
    "데이터처리에 있어 우선 값이 string으로 존재하는 protocol_type feature의 값을  \n",
    "protocol_type의 distribution을 사용하여 각 string에 해당하는 값을 그 distribution의 probability로 사용하려 한다.   \n",
    "그것에 앞서 protocol_type feature을 확인하고 각 string의 distribution을 확인하려한다."
   ]
  },
  {
   "cell_type": "markdown",
   "metadata": {},
   "source": [
    "## (1) 각 value를 그에 해당하는 distribution 값으로 바꾸어주기"
   ]
  },
  {
   "cell_type": "markdown",
   "metadata": {},
   "source": [
    "string을 distribution에 해당하는 값으로 바꾸어주기 위하여 먼저 protocol_type의 distribution을 구하였다."
   ]
  },
  {
   "cell_type": "code",
   "execution_count": 105,
   "metadata": {
    "collapsed": true
   },
   "outputs": [],
   "source": [
    "prot=data['protocol_type']"
   ]
  },
  {
   "cell_type": "code",
   "execution_count": 106,
   "metadata": {},
   "outputs": [
    {
     "data": {
      "text/plain": [
       "count     125973\n",
       "unique         3\n",
       "top         icmp\n",
       "freq      102689\n",
       "Name: protocol_type, dtype: object"
      ]
     },
     "execution_count": 106,
     "metadata": {},
     "output_type": "execute_result"
    }
   ],
   "source": [
    "prot.describe()"
   ]
  },
  {
   "cell_type": "code",
   "execution_count": 107,
   "metadata": {},
   "outputs": [
    {
     "data": {
      "text/html": [
       "<div>\n",
       "<style>\n",
       "    .dataframe thead tr:only-child th {\n",
       "        text-align: right;\n",
       "    }\n",
       "\n",
       "    .dataframe thead th {\n",
       "        text-align: left;\n",
       "    }\n",
       "\n",
       "    .dataframe tbody tr th {\n",
       "        vertical-align: top;\n",
       "    }\n",
       "</style>\n",
       "<table border=\"1\" class=\"dataframe\">\n",
       "  <thead>\n",
       "    <tr style=\"text-align: right;\">\n",
       "      <th></th>\n",
       "      <th>duration</th>\n",
       "      <th>service</th>\n",
       "      <th>flag</th>\n",
       "      <th>src_bytes</th>\n",
       "      <th>dst_bytes</th>\n",
       "      <th>land</th>\n",
       "      <th>wrong_fragment</th>\n",
       "      <th>urgent</th>\n",
       "      <th>hot</th>\n",
       "      <th>num_failed_logins</th>\n",
       "      <th>...</th>\n",
       "      <th>dst_host_srv_count</th>\n",
       "      <th>dst_host_same_srv_rate</th>\n",
       "      <th>dst_host_diff_srv_rate</th>\n",
       "      <th>dst_host_same_src_port_rate</th>\n",
       "      <th>dst_host_srv_diff_host_rate</th>\n",
       "      <th>dst_host_serror_rate</th>\n",
       "      <th>dst_host_srv_serror_rate</th>\n",
       "      <th>dst_host_rerror_rate</th>\n",
       "      <th>dst_host_srv_rerror_rate</th>\n",
       "      <th>xAttack</th>\n",
       "    </tr>\n",
       "    <tr>\n",
       "      <th>protocol_type</th>\n",
       "      <th></th>\n",
       "      <th></th>\n",
       "      <th></th>\n",
       "      <th></th>\n",
       "      <th></th>\n",
       "      <th></th>\n",
       "      <th></th>\n",
       "      <th></th>\n",
       "      <th></th>\n",
       "      <th></th>\n",
       "      <th></th>\n",
       "      <th></th>\n",
       "      <th></th>\n",
       "      <th></th>\n",
       "      <th></th>\n",
       "      <th></th>\n",
       "      <th></th>\n",
       "      <th></th>\n",
       "      <th></th>\n",
       "      <th></th>\n",
       "      <th></th>\n",
       "    </tr>\n",
       "  </thead>\n",
       "  <tbody>\n",
       "    <tr>\n",
       "      <th>icmp</th>\n",
       "      <td>102689</td>\n",
       "      <td>102689</td>\n",
       "      <td>102689</td>\n",
       "      <td>102689</td>\n",
       "      <td>102689</td>\n",
       "      <td>102689</td>\n",
       "      <td>102689</td>\n",
       "      <td>102689</td>\n",
       "      <td>102689</td>\n",
       "      <td>102689</td>\n",
       "      <td>...</td>\n",
       "      <td>102689</td>\n",
       "      <td>102689</td>\n",
       "      <td>102689</td>\n",
       "      <td>102689</td>\n",
       "      <td>102689</td>\n",
       "      <td>102689</td>\n",
       "      <td>102689</td>\n",
       "      <td>102689</td>\n",
       "      <td>102689</td>\n",
       "      <td>102689</td>\n",
       "    </tr>\n",
       "    <tr>\n",
       "      <th>tcp</th>\n",
       "      <td>8291</td>\n",
       "      <td>8291</td>\n",
       "      <td>8291</td>\n",
       "      <td>8291</td>\n",
       "      <td>8291</td>\n",
       "      <td>8291</td>\n",
       "      <td>8291</td>\n",
       "      <td>8291</td>\n",
       "      <td>8291</td>\n",
       "      <td>8291</td>\n",
       "      <td>...</td>\n",
       "      <td>8291</td>\n",
       "      <td>8291</td>\n",
       "      <td>8291</td>\n",
       "      <td>8291</td>\n",
       "      <td>8291</td>\n",
       "      <td>8291</td>\n",
       "      <td>8291</td>\n",
       "      <td>8291</td>\n",
       "      <td>8291</td>\n",
       "      <td>8291</td>\n",
       "    </tr>\n",
       "    <tr>\n",
       "      <th>udp</th>\n",
       "      <td>14993</td>\n",
       "      <td>14993</td>\n",
       "      <td>14993</td>\n",
       "      <td>14993</td>\n",
       "      <td>14993</td>\n",
       "      <td>14993</td>\n",
       "      <td>14993</td>\n",
       "      <td>14993</td>\n",
       "      <td>14993</td>\n",
       "      <td>14993</td>\n",
       "      <td>...</td>\n",
       "      <td>14993</td>\n",
       "      <td>14993</td>\n",
       "      <td>14993</td>\n",
       "      <td>14993</td>\n",
       "      <td>14993</td>\n",
       "      <td>14993</td>\n",
       "      <td>14993</td>\n",
       "      <td>14993</td>\n",
       "      <td>14993</td>\n",
       "      <td>14993</td>\n",
       "    </tr>\n",
       "  </tbody>\n",
       "</table>\n",
       "<p>3 rows × 41 columns</p>\n",
       "</div>"
      ],
      "text/plain": [
       "               duration  service    flag  src_bytes  dst_bytes    land  \\\n",
       "protocol_type                                                            \n",
       "icmp             102689   102689  102689     102689     102689  102689   \n",
       "tcp                8291     8291    8291       8291       8291    8291   \n",
       "udp               14993    14993   14993      14993      14993   14993   \n",
       "\n",
       "               wrong_fragment  urgent     hot  num_failed_logins   ...     \\\n",
       "protocol_type                                                      ...      \n",
       "icmp                   102689  102689  102689             102689   ...      \n",
       "tcp                      8291    8291    8291               8291   ...      \n",
       "udp                     14993   14993   14993              14993   ...      \n",
       "\n",
       "               dst_host_srv_count  dst_host_same_srv_rate  \\\n",
       "protocol_type                                               \n",
       "icmp                       102689                  102689   \n",
       "tcp                          8291                    8291   \n",
       "udp                         14993                   14993   \n",
       "\n",
       "               dst_host_diff_srv_rate  dst_host_same_src_port_rate  \\\n",
       "protocol_type                                                        \n",
       "icmp                           102689                       102689   \n",
       "tcp                              8291                         8291   \n",
       "udp                             14993                        14993   \n",
       "\n",
       "               dst_host_srv_diff_host_rate  dst_host_serror_rate  \\\n",
       "protocol_type                                                      \n",
       "icmp                                102689                102689   \n",
       "tcp                                   8291                  8291   \n",
       "udp                                  14993                 14993   \n",
       "\n",
       "               dst_host_srv_serror_rate  dst_host_rerror_rate  \\\n",
       "protocol_type                                                   \n",
       "icmp                             102689                102689   \n",
       "tcp                                8291                  8291   \n",
       "udp                               14993                 14993   \n",
       "\n",
       "               dst_host_srv_rerror_rate  xAttack  \n",
       "protocol_type                                     \n",
       "icmp                             102689   102689  \n",
       "tcp                                8291     8291  \n",
       "udp                               14993    14993  \n",
       "\n",
       "[3 rows x 41 columns]"
      ]
     },
     "execution_count": 107,
     "metadata": {},
     "output_type": "execute_result"
    }
   ],
   "source": [
    "data.groupby('protocol_type').count()"
   ]
  },
  {
   "cell_type": "code",
   "execution_count": 108,
   "metadata": {
    "collapsed": true
   },
   "outputs": [],
   "source": [
    "prob=prot.value_counts('icmp')"
   ]
  },
  {
   "cell_type": "code",
   "execution_count": 109,
   "metadata": {},
   "outputs": [
    {
     "data": {
      "text/plain": [
       "icmp    0.815167\n",
       "udp     0.119018\n",
       "tcp     0.065816\n",
       "Name: protocol_type, dtype: float64"
      ]
     },
     "execution_count": 109,
     "metadata": {},
     "output_type": "execute_result"
    }
   ],
   "source": [
    "prob"
   ]
  },
  {
   "cell_type": "code",
   "execution_count": 110,
   "metadata": {},
   "outputs": [
    {
     "data": {
      "text/plain": [
       "0.81516674207965201"
      ]
     },
     "execution_count": 110,
     "metadata": {},
     "output_type": "execute_result"
    }
   ],
   "source": [
    "prob['icmp']"
   ]
  },
  {
   "cell_type": "code",
   "execution_count": 111,
   "metadata": {},
   "outputs": [
    {
     "data": {
      "text/plain": [
       "0.81516674207965201"
      ]
     },
     "execution_count": 111,
     "metadata": {},
     "output_type": "execute_result"
    }
   ],
   "source": [
    "prob[0]"
   ]
  },
  {
   "cell_type": "code",
   "execution_count": 112,
   "metadata": {},
   "outputs": [
    {
     "data": {
      "text/plain": [
       "'icmp'"
      ]
     },
     "execution_count": 112,
     "metadata": {},
     "output_type": "execute_result"
    }
   ],
   "source": [
    "prob.index[0]"
   ]
  },
  {
   "cell_type": "code",
   "execution_count": 113,
   "metadata": {
    "collapsed": true
   },
   "outputs": [],
   "source": [
    "prot=prot.replace(prob)"
   ]
  },
  {
   "cell_type": "code",
   "execution_count": 114,
   "metadata": {},
   "outputs": [
    {
     "data": {
      "text/plain": [
       "0    0.815167\n",
       "1    0.119018\n",
       "2    0.815167\n",
       "3    0.815167\n",
       "4    0.815167\n",
       "Name: protocol_type, dtype: float64"
      ]
     },
     "execution_count": 114,
     "metadata": {},
     "output_type": "execute_result"
    }
   ],
   "source": [
    "prot.head()"
   ]
  },
  {
   "cell_type": "code",
   "execution_count": 115,
   "metadata": {
    "collapsed": true
   },
   "outputs": [],
   "source": [
    "data['protocol_type']=prot\n",
    "test['protocol_type']=prot"
   ]
  },
  {
   "cell_type": "code",
   "execution_count": 116,
   "metadata": {},
   "outputs": [
    {
     "data": {
      "text/html": [
       "<div>\n",
       "<style>\n",
       "    .dataframe thead tr:only-child th {\n",
       "        text-align: right;\n",
       "    }\n",
       "\n",
       "    .dataframe thead th {\n",
       "        text-align: left;\n",
       "    }\n",
       "\n",
       "    .dataframe tbody tr th {\n",
       "        vertical-align: top;\n",
       "    }\n",
       "</style>\n",
       "<table border=\"1\" class=\"dataframe\">\n",
       "  <thead>\n",
       "    <tr style=\"text-align: right;\">\n",
       "      <th></th>\n",
       "      <th>duration</th>\n",
       "      <th>protocol_type</th>\n",
       "      <th>service</th>\n",
       "      <th>flag</th>\n",
       "      <th>src_bytes</th>\n",
       "      <th>dst_bytes</th>\n",
       "      <th>land</th>\n",
       "      <th>wrong_fragment</th>\n",
       "      <th>urgent</th>\n",
       "      <th>hot</th>\n",
       "      <th>...</th>\n",
       "      <th>dst_host_srv_count</th>\n",
       "      <th>dst_host_same_srv_rate</th>\n",
       "      <th>dst_host_diff_srv_rate</th>\n",
       "      <th>dst_host_same_src_port_rate</th>\n",
       "      <th>dst_host_srv_diff_host_rate</th>\n",
       "      <th>dst_host_serror_rate</th>\n",
       "      <th>dst_host_srv_serror_rate</th>\n",
       "      <th>dst_host_rerror_rate</th>\n",
       "      <th>dst_host_srv_rerror_rate</th>\n",
       "      <th>xAttack</th>\n",
       "    </tr>\n",
       "  </thead>\n",
       "  <tbody>\n",
       "    <tr>\n",
       "      <th>0</th>\n",
       "      <td>0</td>\n",
       "      <td>0.815167</td>\n",
       "      <td>20</td>\n",
       "      <td>2</td>\n",
       "      <td>491</td>\n",
       "      <td>0</td>\n",
       "      <td>0</td>\n",
       "      <td>0</td>\n",
       "      <td>0</td>\n",
       "      <td>0</td>\n",
       "      <td>...</td>\n",
       "      <td>25</td>\n",
       "      <td>0.17</td>\n",
       "      <td>0.03</td>\n",
       "      <td>0.17</td>\n",
       "      <td>0.00</td>\n",
       "      <td>0.00</td>\n",
       "      <td>0.00</td>\n",
       "      <td>0.05</td>\n",
       "      <td>0.00</td>\n",
       "      <td>normal</td>\n",
       "    </tr>\n",
       "    <tr>\n",
       "      <th>1</th>\n",
       "      <td>0</td>\n",
       "      <td>0.119018</td>\n",
       "      <td>45</td>\n",
       "      <td>2</td>\n",
       "      <td>146</td>\n",
       "      <td>0</td>\n",
       "      <td>0</td>\n",
       "      <td>0</td>\n",
       "      <td>0</td>\n",
       "      <td>0</td>\n",
       "      <td>...</td>\n",
       "      <td>1</td>\n",
       "      <td>0.00</td>\n",
       "      <td>0.60</td>\n",
       "      <td>0.88</td>\n",
       "      <td>0.00</td>\n",
       "      <td>0.00</td>\n",
       "      <td>0.00</td>\n",
       "      <td>0.00</td>\n",
       "      <td>0.00</td>\n",
       "      <td>normal</td>\n",
       "    </tr>\n",
       "    <tr>\n",
       "      <th>2</th>\n",
       "      <td>0</td>\n",
       "      <td>0.815167</td>\n",
       "      <td>50</td>\n",
       "      <td>4</td>\n",
       "      <td>0</td>\n",
       "      <td>0</td>\n",
       "      <td>0</td>\n",
       "      <td>0</td>\n",
       "      <td>0</td>\n",
       "      <td>0</td>\n",
       "      <td>...</td>\n",
       "      <td>26</td>\n",
       "      <td>0.10</td>\n",
       "      <td>0.05</td>\n",
       "      <td>0.00</td>\n",
       "      <td>0.00</td>\n",
       "      <td>1.00</td>\n",
       "      <td>1.00</td>\n",
       "      <td>0.00</td>\n",
       "      <td>0.00</td>\n",
       "      <td>dos</td>\n",
       "    </tr>\n",
       "    <tr>\n",
       "      <th>3</th>\n",
       "      <td>0</td>\n",
       "      <td>0.815167</td>\n",
       "      <td>25</td>\n",
       "      <td>2</td>\n",
       "      <td>232</td>\n",
       "      <td>8153</td>\n",
       "      <td>0</td>\n",
       "      <td>0</td>\n",
       "      <td>0</td>\n",
       "      <td>0</td>\n",
       "      <td>...</td>\n",
       "      <td>255</td>\n",
       "      <td>1.00</td>\n",
       "      <td>0.00</td>\n",
       "      <td>0.03</td>\n",
       "      <td>0.04</td>\n",
       "      <td>0.03</td>\n",
       "      <td>0.01</td>\n",
       "      <td>0.00</td>\n",
       "      <td>0.01</td>\n",
       "      <td>normal</td>\n",
       "    </tr>\n",
       "    <tr>\n",
       "      <th>4</th>\n",
       "      <td>0</td>\n",
       "      <td>0.815167</td>\n",
       "      <td>25</td>\n",
       "      <td>2</td>\n",
       "      <td>199</td>\n",
       "      <td>420</td>\n",
       "      <td>0</td>\n",
       "      <td>0</td>\n",
       "      <td>0</td>\n",
       "      <td>0</td>\n",
       "      <td>...</td>\n",
       "      <td>255</td>\n",
       "      <td>1.00</td>\n",
       "      <td>0.00</td>\n",
       "      <td>0.00</td>\n",
       "      <td>0.00</td>\n",
       "      <td>0.00</td>\n",
       "      <td>0.00</td>\n",
       "      <td>0.00</td>\n",
       "      <td>0.00</td>\n",
       "      <td>normal</td>\n",
       "    </tr>\n",
       "  </tbody>\n",
       "</table>\n",
       "<p>5 rows × 42 columns</p>\n",
       "</div>"
      ],
      "text/plain": [
       "   duration  protocol_type  service  flag  src_bytes  dst_bytes  land  \\\n",
       "0         0       0.815167       20     2        491          0     0   \n",
       "1         0       0.119018       45     2        146          0     0   \n",
       "2         0       0.815167       50     4          0          0     0   \n",
       "3         0       0.815167       25     2        232       8153     0   \n",
       "4         0       0.815167       25     2        199        420     0   \n",
       "\n",
       "   wrong_fragment  urgent  hot   ...     dst_host_srv_count  \\\n",
       "0               0       0    0   ...                     25   \n",
       "1               0       0    0   ...                      1   \n",
       "2               0       0    0   ...                     26   \n",
       "3               0       0    0   ...                    255   \n",
       "4               0       0    0   ...                    255   \n",
       "\n",
       "   dst_host_same_srv_rate  dst_host_diff_srv_rate  \\\n",
       "0                    0.17                    0.03   \n",
       "1                    0.00                    0.60   \n",
       "2                    0.10                    0.05   \n",
       "3                    1.00                    0.00   \n",
       "4                    1.00                    0.00   \n",
       "\n",
       "   dst_host_same_src_port_rate  dst_host_srv_diff_host_rate  \\\n",
       "0                         0.17                         0.00   \n",
       "1                         0.88                         0.00   \n",
       "2                         0.00                         0.00   \n",
       "3                         0.03                         0.04   \n",
       "4                         0.00                         0.00   \n",
       "\n",
       "   dst_host_serror_rate  dst_host_srv_serror_rate  dst_host_rerror_rate  \\\n",
       "0                  0.00                      0.00                  0.05   \n",
       "1                  0.00                      0.00                  0.00   \n",
       "2                  1.00                      1.00                  0.00   \n",
       "3                  0.03                      0.01                  0.00   \n",
       "4                  0.00                      0.00                  0.00   \n",
       "\n",
       "   dst_host_srv_rerror_rate  xAttack  \n",
       "0                      0.00   normal  \n",
       "1                      0.00   normal  \n",
       "2                      0.00      dos  \n",
       "3                      0.01   normal  \n",
       "4                      0.00   normal  \n",
       "\n",
       "[5 rows x 42 columns]"
      ]
     },
     "execution_count": 116,
     "metadata": {},
     "output_type": "execute_result"
    }
   ],
   "source": [
    "data.head()"
   ]
  },
  {
   "cell_type": "code",
   "execution_count": 117,
   "metadata": {},
   "outputs": [
    {
     "data": {
      "text/html": [
       "<div>\n",
       "<style>\n",
       "    .dataframe thead tr:only-child th {\n",
       "        text-align: right;\n",
       "    }\n",
       "\n",
       "    .dataframe thead th {\n",
       "        text-align: left;\n",
       "    }\n",
       "\n",
       "    .dataframe tbody tr th {\n",
       "        vertical-align: top;\n",
       "    }\n",
       "</style>\n",
       "<table border=\"1\" class=\"dataframe\">\n",
       "  <thead>\n",
       "    <tr style=\"text-align: right;\">\n",
       "      <th></th>\n",
       "      <th>duration</th>\n",
       "      <th>protocol_type</th>\n",
       "      <th>service</th>\n",
       "      <th>flag</th>\n",
       "      <th>src_bytes</th>\n",
       "      <th>dst_bytes</th>\n",
       "      <th>land</th>\n",
       "      <th>wrong_fragment</th>\n",
       "      <th>urgent</th>\n",
       "      <th>hot</th>\n",
       "      <th>...</th>\n",
       "      <th>dst_host_srv_count</th>\n",
       "      <th>dst_host_same_srv_rate</th>\n",
       "      <th>dst_host_diff_srv_rate</th>\n",
       "      <th>dst_host_same_src_port_rate</th>\n",
       "      <th>dst_host_srv_diff_host_rate</th>\n",
       "      <th>dst_host_serror_rate</th>\n",
       "      <th>dst_host_srv_serror_rate</th>\n",
       "      <th>dst_host_rerror_rate</th>\n",
       "      <th>dst_host_srv_rerror_rate</th>\n",
       "      <th>xAttack</th>\n",
       "    </tr>\n",
       "  </thead>\n",
       "  <tbody>\n",
       "    <tr>\n",
       "      <th>0</th>\n",
       "      <td>0</td>\n",
       "      <td>0.815167</td>\n",
       "      <td>25</td>\n",
       "      <td>4</td>\n",
       "      <td>0</td>\n",
       "      <td>0</td>\n",
       "      <td>0</td>\n",
       "      <td>0</td>\n",
       "      <td>0</td>\n",
       "      <td>0</td>\n",
       "      <td>...</td>\n",
       "      <td>255</td>\n",
       "      <td>1.00</td>\n",
       "      <td>0.00</td>\n",
       "      <td>0.00</td>\n",
       "      <td>0.00</td>\n",
       "      <td>0.65</td>\n",
       "      <td>0.65</td>\n",
       "      <td>0.32</td>\n",
       "      <td>0.32</td>\n",
       "      <td>dos</td>\n",
       "    </tr>\n",
       "    <tr>\n",
       "      <th>1</th>\n",
       "      <td>0</td>\n",
       "      <td>0.119018</td>\n",
       "      <td>25</td>\n",
       "      <td>2</td>\n",
       "      <td>312</td>\n",
       "      <td>1856</td>\n",
       "      <td>0</td>\n",
       "      <td>0</td>\n",
       "      <td>0</td>\n",
       "      <td>0</td>\n",
       "      <td>...</td>\n",
       "      <td>254</td>\n",
       "      <td>1.00</td>\n",
       "      <td>0.00</td>\n",
       "      <td>1.00</td>\n",
       "      <td>0.06</td>\n",
       "      <td>0.00</td>\n",
       "      <td>0.00</td>\n",
       "      <td>0.00</td>\n",
       "      <td>0.00</td>\n",
       "      <td>normal</td>\n",
       "    </tr>\n",
       "    <tr>\n",
       "      <th>2</th>\n",
       "      <td>0</td>\n",
       "      <td>0.815167</td>\n",
       "      <td>25</td>\n",
       "      <td>2</td>\n",
       "      <td>245</td>\n",
       "      <td>2058</td>\n",
       "      <td>0</td>\n",
       "      <td>0</td>\n",
       "      <td>0</td>\n",
       "      <td>0</td>\n",
       "      <td>...</td>\n",
       "      <td>255</td>\n",
       "      <td>1.00</td>\n",
       "      <td>0.00</td>\n",
       "      <td>0.01</td>\n",
       "      <td>0.05</td>\n",
       "      <td>0.01</td>\n",
       "      <td>0.00</td>\n",
       "      <td>0.00</td>\n",
       "      <td>0.00</td>\n",
       "      <td>normal</td>\n",
       "    </tr>\n",
       "    <tr>\n",
       "      <th>3</th>\n",
       "      <td>0</td>\n",
       "      <td>0.815167</td>\n",
       "      <td>25</td>\n",
       "      <td>2</td>\n",
       "      <td>298</td>\n",
       "      <td>1267</td>\n",
       "      <td>0</td>\n",
       "      <td>0</td>\n",
       "      <td>0</td>\n",
       "      <td>0</td>\n",
       "      <td>...</td>\n",
       "      <td>255</td>\n",
       "      <td>1.00</td>\n",
       "      <td>0.00</td>\n",
       "      <td>0.00</td>\n",
       "      <td>0.00</td>\n",
       "      <td>0.00</td>\n",
       "      <td>0.00</td>\n",
       "      <td>0.00</td>\n",
       "      <td>0.00</td>\n",
       "      <td>normal</td>\n",
       "    </tr>\n",
       "    <tr>\n",
       "      <th>4</th>\n",
       "      <td>0</td>\n",
       "      <td>0.815167</td>\n",
       "      <td>20</td>\n",
       "      <td>2</td>\n",
       "      <td>740</td>\n",
       "      <td>0</td>\n",
       "      <td>0</td>\n",
       "      <td>0</td>\n",
       "      <td>0</td>\n",
       "      <td>0</td>\n",
       "      <td>...</td>\n",
       "      <td>19</td>\n",
       "      <td>0.18</td>\n",
       "      <td>0.03</td>\n",
       "      <td>0.18</td>\n",
       "      <td>0.00</td>\n",
       "      <td>0.00</td>\n",
       "      <td>0.00</td>\n",
       "      <td>0.00</td>\n",
       "      <td>0.00</td>\n",
       "      <td>normal</td>\n",
       "    </tr>\n",
       "  </tbody>\n",
       "</table>\n",
       "<p>5 rows × 42 columns</p>\n",
       "</div>"
      ],
      "text/plain": [
       "   duration  protocol_type  service  flag  src_bytes  dst_bytes  land  \\\n",
       "0         0       0.815167       25     4          0          0     0   \n",
       "1         0       0.119018       25     2        312       1856     0   \n",
       "2         0       0.815167       25     2        245       2058     0   \n",
       "3         0       0.815167       25     2        298       1267     0   \n",
       "4         0       0.815167       20     2        740          0     0   \n",
       "\n",
       "   wrong_fragment  urgent  hot   ...     dst_host_srv_count  \\\n",
       "0               0       0    0   ...                    255   \n",
       "1               0       0    0   ...                    254   \n",
       "2               0       0    0   ...                    255   \n",
       "3               0       0    0   ...                    255   \n",
       "4               0       0    0   ...                     19   \n",
       "\n",
       "   dst_host_same_srv_rate  dst_host_diff_srv_rate  \\\n",
       "0                    1.00                    0.00   \n",
       "1                    1.00                    0.00   \n",
       "2                    1.00                    0.00   \n",
       "3                    1.00                    0.00   \n",
       "4                    0.18                    0.03   \n",
       "\n",
       "   dst_host_same_src_port_rate  dst_host_srv_diff_host_rate  \\\n",
       "0                         0.00                         0.00   \n",
       "1                         1.00                         0.06   \n",
       "2                         0.01                         0.05   \n",
       "3                         0.00                         0.00   \n",
       "4                         0.18                         0.00   \n",
       "\n",
       "   dst_host_serror_rate  dst_host_srv_serror_rate  dst_host_rerror_rate  \\\n",
       "0                  0.65                      0.65                  0.32   \n",
       "1                  0.00                      0.00                  0.00   \n",
       "2                  0.01                      0.00                  0.00   \n",
       "3                  0.00                      0.00                  0.00   \n",
       "4                  0.00                      0.00                  0.00   \n",
       "\n",
       "   dst_host_srv_rerror_rate  xAttack  \n",
       "0                      0.32      dos  \n",
       "1                      0.00   normal  \n",
       "2                      0.00   normal  \n",
       "3                      0.00   normal  \n",
       "4                      0.00   normal  \n",
       "\n",
       "[5 rows x 42 columns]"
      ]
     },
     "execution_count": 117,
     "metadata": {},
     "output_type": "execute_result"
    }
   ],
   "source": [
    "test.head()"
   ]
  },
  {
   "cell_type": "code",
   "execution_count": 118,
   "metadata": {},
   "outputs": [
    {
     "data": {
      "text/plain": [
       "duration                              0\n",
       "protocol_type                  0.815167\n",
       "service                              20\n",
       "flag                                  2\n",
       "src_bytes                           491\n",
       "dst_bytes                             0\n",
       "land                                  0\n",
       "wrong_fragment                        0\n",
       "urgent                                0\n",
       "hot                                   0\n",
       "num_failed_logins                     0\n",
       "logged_in                             0\n",
       "num_compromised                       0\n",
       "root_shell                            0\n",
       "su_attempted                          0\n",
       "num_root                              0\n",
       "num_file_creations                    0\n",
       "num_shells                            0\n",
       "num_access_files                      0\n",
       "num_outbound_cmds                     0\n",
       "is_host_login                         0\n",
       "is_guest_login                        0\n",
       "count                                 2\n",
       "srv_count                             2\n",
       "serror_rate                           0\n",
       "srv_serror_rate                       0\n",
       "rerror_rate                           0\n",
       "srv_rerror_rate                       0\n",
       "same_srv_rate                         1\n",
       "diff_srv_rate                         0\n",
       "srv_diff_host_rate                    0\n",
       "dst_host_count                      150\n",
       "dst_host_srv_count                   25\n",
       "dst_host_same_srv_rate             0.17\n",
       "dst_host_diff_srv_rate             0.03\n",
       "dst_host_same_src_port_rate        0.17\n",
       "dst_host_srv_diff_host_rate           0\n",
       "dst_host_serror_rate                  0\n",
       "dst_host_srv_serror_rate              0\n",
       "dst_host_rerror_rate               0.05\n",
       "dst_host_srv_rerror_rate              0\n",
       "xAttack                          normal\n",
       "Name: 0, dtype: object"
      ]
     },
     "execution_count": 118,
     "metadata": {},
     "output_type": "execute_result"
    }
   ],
   "source": [
    "data.iloc[0,:]"
   ]
  },
  {
   "cell_type": "markdown",
   "metadata": {},
   "source": [
    "우선 여기까지 한 것은 각 distribution을 보고 각 값을 그 값에 해당하는 distribution으로 바꾸어 주었다.  \n",
    "protocol_type에는 3종류의 feature인 'icmp', 'udp', tcp'가 있었다.  \n",
    "우선 먼저 data에서 protocol_type에 해당하는 값들을 따로빼어 prot라고 저장을 하고 그 다음 prot을 분석하여  \n",
    "feature 종류에 대한 distribution을 계산한 prob를 만들고 prot에서 각 값에 해당하는 distribution으로 바꾸어 주었다.   \n",
    "그리곤 다시 data에 넣어주고 제대로 바뀌었는지 확인 하였다.  \n",
    "그리고 testdata도 마찬가지로 prob의 값으로 바꾸어 주었다.  \n",
    "여기서 당연히 test만의 prob를 구하지 않고 traindata에서 구한 prob를 썼다."
   ]
  },
  {
   "cell_type": "markdown",
   "metadata": {},
   "source": [
    "## (2) normalization using min-max distribution"
   ]
  },
  {
   "cell_type": "markdown",
   "metadata": {},
   "source": [
    "다음단계로는 normalization을 해주었다. 이때 방법으로 min-max distribution을 사용하였고 data에서 41개의 feature에 해당하는 값을 모두 normalize해주었다. 그때 코드는 df=(df-df.min())/(df.max()-df.min())를 사용하였다."
   ]
  },
  {
   "cell_type": "markdown",
   "metadata": {
    "collapsed": true
   },
   "source": [
    "만약 바로 아래코드처럼 z-mean distribution을 취해준다면 평균은 0 그리고 모든 분포의 std가 1이되게 된다.  \n",
    "그런경우에 분포비교가 힘드므로 모양은 유지하고 normalize해주는 min-max를 사용하였다."
   ]
  },
  {
   "cell_type": "code",
   "execution_count": 119,
   "metadata": {
    "collapsed": true
   },
   "outputs": [],
   "source": [
    "output=data['xAttack']\n",
    "tsoutput=test['xAttack']"
   ]
  },
  {
   "cell_type": "code",
   "execution_count": 120,
   "metadata": {
    "collapsed": true
   },
   "outputs": [],
   "source": [
    "df=data.iloc[:,:-1]"
   ]
  },
  {
   "cell_type": "code",
   "execution_count": 121,
   "metadata": {
    "collapsed": true
   },
   "outputs": [],
   "source": [
    "#df=(data-data.mean())/data.std()"
   ]
  },
  {
   "cell_type": "code",
   "execution_count": 122,
   "metadata": {
    "collapsed": true
   },
   "outputs": [],
   "source": [
    "df=(df-df.min())/(df.max()-df.min())"
   ]
  },
  {
   "cell_type": "code",
   "execution_count": 123,
   "metadata": {
    "scrolled": true
   },
   "outputs": [
    {
     "data": {
      "text/html": [
       "<div>\n",
       "<style>\n",
       "    .dataframe thead tr:only-child th {\n",
       "        text-align: right;\n",
       "    }\n",
       "\n",
       "    .dataframe thead th {\n",
       "        text-align: left;\n",
       "    }\n",
       "\n",
       "    .dataframe tbody tr th {\n",
       "        vertical-align: top;\n",
       "    }\n",
       "</style>\n",
       "<table border=\"1\" class=\"dataframe\">\n",
       "  <thead>\n",
       "    <tr style=\"text-align: right;\">\n",
       "      <th></th>\n",
       "      <th>duration</th>\n",
       "      <th>protocol_type</th>\n",
       "      <th>service</th>\n",
       "      <th>flag</th>\n",
       "      <th>src_bytes</th>\n",
       "      <th>dst_bytes</th>\n",
       "      <th>land</th>\n",
       "      <th>wrong_fragment</th>\n",
       "      <th>urgent</th>\n",
       "      <th>hot</th>\n",
       "      <th>...</th>\n",
       "      <th>dst_host_count</th>\n",
       "      <th>dst_host_srv_count</th>\n",
       "      <th>dst_host_same_srv_rate</th>\n",
       "      <th>dst_host_diff_srv_rate</th>\n",
       "      <th>dst_host_same_src_port_rate</th>\n",
       "      <th>dst_host_srv_diff_host_rate</th>\n",
       "      <th>dst_host_serror_rate</th>\n",
       "      <th>dst_host_srv_serror_rate</th>\n",
       "      <th>dst_host_rerror_rate</th>\n",
       "      <th>dst_host_srv_rerror_rate</th>\n",
       "    </tr>\n",
       "  </thead>\n",
       "  <tbody>\n",
       "    <tr>\n",
       "      <th>0</th>\n",
       "      <td>0.0</td>\n",
       "      <td>1.000000</td>\n",
       "      <td>0.275362</td>\n",
       "      <td>0.1</td>\n",
       "      <td>3.558064e-07</td>\n",
       "      <td>0.000000e+00</td>\n",
       "      <td>0.0</td>\n",
       "      <td>0.0</td>\n",
       "      <td>0.0</td>\n",
       "      <td>0.0</td>\n",
       "      <td>...</td>\n",
       "      <td>0.588235</td>\n",
       "      <td>0.098039</td>\n",
       "      <td>0.17</td>\n",
       "      <td>0.03</td>\n",
       "      <td>0.17</td>\n",
       "      <td>0.00</td>\n",
       "      <td>0.00</td>\n",
       "      <td>0.00</td>\n",
       "      <td>0.05</td>\n",
       "      <td>0.00</td>\n",
       "    </tr>\n",
       "    <tr>\n",
       "      <th>1</th>\n",
       "      <td>0.0</td>\n",
       "      <td>0.070997</td>\n",
       "      <td>0.637681</td>\n",
       "      <td>0.1</td>\n",
       "      <td>1.057999e-07</td>\n",
       "      <td>0.000000e+00</td>\n",
       "      <td>0.0</td>\n",
       "      <td>0.0</td>\n",
       "      <td>0.0</td>\n",
       "      <td>0.0</td>\n",
       "      <td>...</td>\n",
       "      <td>1.000000</td>\n",
       "      <td>0.003922</td>\n",
       "      <td>0.00</td>\n",
       "      <td>0.60</td>\n",
       "      <td>0.88</td>\n",
       "      <td>0.00</td>\n",
       "      <td>0.00</td>\n",
       "      <td>0.00</td>\n",
       "      <td>0.00</td>\n",
       "      <td>0.00</td>\n",
       "    </tr>\n",
       "    <tr>\n",
       "      <th>2</th>\n",
       "      <td>0.0</td>\n",
       "      <td>1.000000</td>\n",
       "      <td>0.710145</td>\n",
       "      <td>0.3</td>\n",
       "      <td>0.000000e+00</td>\n",
       "      <td>0.000000e+00</td>\n",
       "      <td>0.0</td>\n",
       "      <td>0.0</td>\n",
       "      <td>0.0</td>\n",
       "      <td>0.0</td>\n",
       "      <td>...</td>\n",
       "      <td>1.000000</td>\n",
       "      <td>0.101961</td>\n",
       "      <td>0.10</td>\n",
       "      <td>0.05</td>\n",
       "      <td>0.00</td>\n",
       "      <td>0.00</td>\n",
       "      <td>1.00</td>\n",
       "      <td>1.00</td>\n",
       "      <td>0.00</td>\n",
       "      <td>0.00</td>\n",
       "    </tr>\n",
       "    <tr>\n",
       "      <th>3</th>\n",
       "      <td>0.0</td>\n",
       "      <td>1.000000</td>\n",
       "      <td>0.347826</td>\n",
       "      <td>0.1</td>\n",
       "      <td>1.681203e-07</td>\n",
       "      <td>6.223962e-06</td>\n",
       "      <td>0.0</td>\n",
       "      <td>0.0</td>\n",
       "      <td>0.0</td>\n",
       "      <td>0.0</td>\n",
       "      <td>...</td>\n",
       "      <td>0.117647</td>\n",
       "      <td>1.000000</td>\n",
       "      <td>1.00</td>\n",
       "      <td>0.00</td>\n",
       "      <td>0.03</td>\n",
       "      <td>0.04</td>\n",
       "      <td>0.03</td>\n",
       "      <td>0.01</td>\n",
       "      <td>0.00</td>\n",
       "      <td>0.01</td>\n",
       "    </tr>\n",
       "    <tr>\n",
       "      <th>4</th>\n",
       "      <td>0.0</td>\n",
       "      <td>1.000000</td>\n",
       "      <td>0.347826</td>\n",
       "      <td>0.1</td>\n",
       "      <td>1.442067e-07</td>\n",
       "      <td>3.206260e-07</td>\n",
       "      <td>0.0</td>\n",
       "      <td>0.0</td>\n",
       "      <td>0.0</td>\n",
       "      <td>0.0</td>\n",
       "      <td>...</td>\n",
       "      <td>1.000000</td>\n",
       "      <td>1.000000</td>\n",
       "      <td>1.00</td>\n",
       "      <td>0.00</td>\n",
       "      <td>0.00</td>\n",
       "      <td>0.00</td>\n",
       "      <td>0.00</td>\n",
       "      <td>0.00</td>\n",
       "      <td>0.00</td>\n",
       "      <td>0.00</td>\n",
       "    </tr>\n",
       "  </tbody>\n",
       "</table>\n",
       "<p>5 rows × 41 columns</p>\n",
       "</div>"
      ],
      "text/plain": [
       "   duration  protocol_type   service  flag     src_bytes     dst_bytes  land  \\\n",
       "0       0.0       1.000000  0.275362   0.1  3.558064e-07  0.000000e+00   0.0   \n",
       "1       0.0       0.070997  0.637681   0.1  1.057999e-07  0.000000e+00   0.0   \n",
       "2       0.0       1.000000  0.710145   0.3  0.000000e+00  0.000000e+00   0.0   \n",
       "3       0.0       1.000000  0.347826   0.1  1.681203e-07  6.223962e-06   0.0   \n",
       "4       0.0       1.000000  0.347826   0.1  1.442067e-07  3.206260e-07   0.0   \n",
       "\n",
       "   wrong_fragment  urgent  hot            ...             dst_host_count  \\\n",
       "0             0.0     0.0  0.0            ...                   0.588235   \n",
       "1             0.0     0.0  0.0            ...                   1.000000   \n",
       "2             0.0     0.0  0.0            ...                   1.000000   \n",
       "3             0.0     0.0  0.0            ...                   0.117647   \n",
       "4             0.0     0.0  0.0            ...                   1.000000   \n",
       "\n",
       "   dst_host_srv_count  dst_host_same_srv_rate  dst_host_diff_srv_rate  \\\n",
       "0            0.098039                    0.17                    0.03   \n",
       "1            0.003922                    0.00                    0.60   \n",
       "2            0.101961                    0.10                    0.05   \n",
       "3            1.000000                    1.00                    0.00   \n",
       "4            1.000000                    1.00                    0.00   \n",
       "\n",
       "   dst_host_same_src_port_rate  dst_host_srv_diff_host_rate  \\\n",
       "0                         0.17                         0.00   \n",
       "1                         0.88                         0.00   \n",
       "2                         0.00                         0.00   \n",
       "3                         0.03                         0.04   \n",
       "4                         0.00                         0.00   \n",
       "\n",
       "   dst_host_serror_rate  dst_host_srv_serror_rate  dst_host_rerror_rate  \\\n",
       "0                  0.00                      0.00                  0.05   \n",
       "1                  0.00                      0.00                  0.00   \n",
       "2                  1.00                      1.00                  0.00   \n",
       "3                  0.03                      0.01                  0.00   \n",
       "4                  0.00                      0.00                  0.00   \n",
       "\n",
       "   dst_host_srv_rerror_rate  \n",
       "0                      0.00  \n",
       "1                      0.00  \n",
       "2                      0.00  \n",
       "3                      0.01  \n",
       "4                      0.00  \n",
       "\n",
       "[5 rows x 41 columns]"
      ]
     },
     "execution_count": 123,
     "metadata": {},
     "output_type": "execute_result"
    }
   ],
   "source": [
    "df.head()"
   ]
  },
  {
   "cell_type": "code",
   "execution_count": 124,
   "metadata": {},
   "outputs": [
    {
     "data": {
      "text/plain": [
       "duration                       0.000000e+00\n",
       "protocol_type                  1.000000e+00\n",
       "service                        2.753623e-01\n",
       "flag                           1.000000e-01\n",
       "src_bytes                      3.558064e-07\n",
       "dst_bytes                      0.000000e+00\n",
       "land                           0.000000e+00\n",
       "wrong_fragment                 0.000000e+00\n",
       "urgent                         0.000000e+00\n",
       "hot                            0.000000e+00\n",
       "num_failed_logins              0.000000e+00\n",
       "logged_in                      0.000000e+00\n",
       "num_compromised                0.000000e+00\n",
       "root_shell                     0.000000e+00\n",
       "su_attempted                   0.000000e+00\n",
       "num_root                       0.000000e+00\n",
       "num_file_creations             0.000000e+00\n",
       "num_shells                     0.000000e+00\n",
       "num_access_files               0.000000e+00\n",
       "num_outbound_cmds                       NaN\n",
       "is_host_login                  0.000000e+00\n",
       "is_guest_login                 0.000000e+00\n",
       "count                          3.913894e-03\n",
       "srv_count                      3.913894e-03\n",
       "serror_rate                    0.000000e+00\n",
       "srv_serror_rate                0.000000e+00\n",
       "rerror_rate                    0.000000e+00\n",
       "srv_rerror_rate                0.000000e+00\n",
       "same_srv_rate                  1.000000e+00\n",
       "diff_srv_rate                  0.000000e+00\n",
       "srv_diff_host_rate             0.000000e+00\n",
       "dst_host_count                 5.882353e-01\n",
       "dst_host_srv_count             9.803922e-02\n",
       "dst_host_same_srv_rate         1.700000e-01\n",
       "dst_host_diff_srv_rate         3.000000e-02\n",
       "dst_host_same_src_port_rate    1.700000e-01\n",
       "dst_host_srv_diff_host_rate    0.000000e+00\n",
       "dst_host_serror_rate           0.000000e+00\n",
       "dst_host_srv_serror_rate       0.000000e+00\n",
       "dst_host_rerror_rate           5.000000e-02\n",
       "dst_host_srv_rerror_rate       0.000000e+00\n",
       "Name: 0, dtype: float64"
      ]
     },
     "execution_count": 124,
     "metadata": {},
     "output_type": "execute_result"
    }
   ],
   "source": [
    "df.iloc[0,:]"
   ]
  },
  {
   "cell_type": "markdown",
   "metadata": {},
   "source": [
    "data의 모든 value들을 normalize해주고 제대로 바뀌었는지 확인하였다.  \n",
    "확인 결과 중간에 nan값이 껴있는것을 확인 하였다.  \n",
    "이 값이 생긴이유는 아마 normalize시켜주는 과정에서 0/0꼴인 분수가 되거 nan이 되지 않았나 생각한다.  \n",
    "따라서 std가 매우낮은 값은 거의 영향을 주지 않으리라 생각하므로 제거해주려 한다.  "
   ]
  },
  {
   "cell_type": "markdown",
   "metadata": {},
   "source": [
    "## (3) First feature selection (deleting low variance feature)"
   ]
  },
  {
   "cell_type": "markdown",
   "metadata": {},
   "source": [
    "### - variation checking"
   ]
  },
  {
   "cell_type": "markdown",
   "metadata": {},
   "source": [
    "이 부분에선 variance가 낮은 데이터는 거의 비슷하여 영향을 크게 안끼친다고 보고 data를 확인하고 variance의 범위를 두어 제거한다."
   ]
  },
  {
   "cell_type": "code",
   "execution_count": 125,
   "metadata": {},
   "outputs": [
    {
     "data": {
      "text/html": [
       "<div>\n",
       "<style>\n",
       "    .dataframe thead tr:only-child th {\n",
       "        text-align: right;\n",
       "    }\n",
       "\n",
       "    .dataframe thead th {\n",
       "        text-align: left;\n",
       "    }\n",
       "\n",
       "    .dataframe tbody tr th {\n",
       "        vertical-align: top;\n",
       "    }\n",
       "</style>\n",
       "<table border=\"1\" class=\"dataframe\">\n",
       "  <thead>\n",
       "    <tr style=\"text-align: right;\">\n",
       "      <th></th>\n",
       "      <th>duration</th>\n",
       "      <th>protocol_type</th>\n",
       "      <th>service</th>\n",
       "      <th>flag</th>\n",
       "      <th>src_bytes</th>\n",
       "      <th>dst_bytes</th>\n",
       "      <th>land</th>\n",
       "      <th>wrong_fragment</th>\n",
       "      <th>urgent</th>\n",
       "      <th>hot</th>\n",
       "      <th>...</th>\n",
       "      <th>dst_host_count</th>\n",
       "      <th>dst_host_srv_count</th>\n",
       "      <th>dst_host_same_srv_rate</th>\n",
       "      <th>dst_host_diff_srv_rate</th>\n",
       "      <th>dst_host_same_src_port_rate</th>\n",
       "      <th>dst_host_srv_diff_host_rate</th>\n",
       "      <th>dst_host_serror_rate</th>\n",
       "      <th>dst_host_srv_serror_rate</th>\n",
       "      <th>dst_host_rerror_rate</th>\n",
       "      <th>dst_host_srv_rerror_rate</th>\n",
       "    </tr>\n",
       "  </thead>\n",
       "  <tbody>\n",
       "    <tr>\n",
       "      <th>count</th>\n",
       "      <td>125973.00000</td>\n",
       "      <td>125973.000000</td>\n",
       "      <td>125973.000000</td>\n",
       "      <td>125973.000000</td>\n",
       "      <td>1.259730e+05</td>\n",
       "      <td>1.259730e+05</td>\n",
       "      <td>125973.000000</td>\n",
       "      <td>125973.000000</td>\n",
       "      <td>125973.000000</td>\n",
       "      <td>125973.000000</td>\n",
       "      <td>...</td>\n",
       "      <td>125973.000000</td>\n",
       "      <td>125973.000000</td>\n",
       "      <td>125973.000000</td>\n",
       "      <td>125973.000000</td>\n",
       "      <td>125973.000000</td>\n",
       "      <td>125973.000000</td>\n",
       "      <td>125973.000000</td>\n",
       "      <td>125973.000000</td>\n",
       "      <td>125973.000000</td>\n",
       "      <td>125973.000000</td>\n",
       "    </tr>\n",
       "    <tr>\n",
       "      <th>mean</th>\n",
       "      <td>287.14465</td>\n",
       "      <td>0.682994</td>\n",
       "      <td>32.086288</td>\n",
       "      <td>2.575179</td>\n",
       "      <td>4.556674e+04</td>\n",
       "      <td>1.977911e+04</td>\n",
       "      <td>0.000198</td>\n",
       "      <td>0.022687</td>\n",
       "      <td>0.000111</td>\n",
       "      <td>0.204409</td>\n",
       "      <td>...</td>\n",
       "      <td>182.148945</td>\n",
       "      <td>115.653005</td>\n",
       "      <td>0.521242</td>\n",
       "      <td>0.082951</td>\n",
       "      <td>0.148379</td>\n",
       "      <td>0.032542</td>\n",
       "      <td>0.284452</td>\n",
       "      <td>0.278485</td>\n",
       "      <td>0.118832</td>\n",
       "      <td>0.120240</td>\n",
       "    </tr>\n",
       "    <tr>\n",
       "      <th>std</th>\n",
       "      <td>2604.51531</td>\n",
       "      <td>0.277789</td>\n",
       "      <td>16.462574</td>\n",
       "      <td>1.141552</td>\n",
       "      <td>5.870331e+06</td>\n",
       "      <td>4.021269e+06</td>\n",
       "      <td>0.014086</td>\n",
       "      <td>0.253530</td>\n",
       "      <td>0.014366</td>\n",
       "      <td>2.149968</td>\n",
       "      <td>...</td>\n",
       "      <td>99.206213</td>\n",
       "      <td>110.702741</td>\n",
       "      <td>0.448949</td>\n",
       "      <td>0.188922</td>\n",
       "      <td>0.308997</td>\n",
       "      <td>0.112564</td>\n",
       "      <td>0.444784</td>\n",
       "      <td>0.445669</td>\n",
       "      <td>0.306557</td>\n",
       "      <td>0.319459</td>\n",
       "    </tr>\n",
       "    <tr>\n",
       "      <th>min</th>\n",
       "      <td>0.00000</td>\n",
       "      <td>0.065816</td>\n",
       "      <td>1.000000</td>\n",
       "      <td>1.000000</td>\n",
       "      <td>0.000000e+00</td>\n",
       "      <td>0.000000e+00</td>\n",
       "      <td>0.000000</td>\n",
       "      <td>0.000000</td>\n",
       "      <td>0.000000</td>\n",
       "      <td>0.000000</td>\n",
       "      <td>...</td>\n",
       "      <td>0.000000</td>\n",
       "      <td>0.000000</td>\n",
       "      <td>0.000000</td>\n",
       "      <td>0.000000</td>\n",
       "      <td>0.000000</td>\n",
       "      <td>0.000000</td>\n",
       "      <td>0.000000</td>\n",
       "      <td>0.000000</td>\n",
       "      <td>0.000000</td>\n",
       "      <td>0.000000</td>\n",
       "    </tr>\n",
       "    <tr>\n",
       "      <th>25%</th>\n",
       "      <td>0.00000</td>\n",
       "      <td>0.815167</td>\n",
       "      <td>20.000000</td>\n",
       "      <td>2.000000</td>\n",
       "      <td>0.000000e+00</td>\n",
       "      <td>0.000000e+00</td>\n",
       "      <td>0.000000</td>\n",
       "      <td>0.000000</td>\n",
       "      <td>0.000000</td>\n",
       "      <td>0.000000</td>\n",
       "      <td>...</td>\n",
       "      <td>82.000000</td>\n",
       "      <td>10.000000</td>\n",
       "      <td>0.050000</td>\n",
       "      <td>0.000000</td>\n",
       "      <td>0.000000</td>\n",
       "      <td>0.000000</td>\n",
       "      <td>0.000000</td>\n",
       "      <td>0.000000</td>\n",
       "      <td>0.000000</td>\n",
       "      <td>0.000000</td>\n",
       "    </tr>\n",
       "    <tr>\n",
       "      <th>50%</th>\n",
       "      <td>0.00000</td>\n",
       "      <td>0.815167</td>\n",
       "      <td>25.000000</td>\n",
       "      <td>2.000000</td>\n",
       "      <td>4.400000e+01</td>\n",
       "      <td>0.000000e+00</td>\n",
       "      <td>0.000000</td>\n",
       "      <td>0.000000</td>\n",
       "      <td>0.000000</td>\n",
       "      <td>0.000000</td>\n",
       "      <td>...</td>\n",
       "      <td>255.000000</td>\n",
       "      <td>63.000000</td>\n",
       "      <td>0.510000</td>\n",
       "      <td>0.020000</td>\n",
       "      <td>0.000000</td>\n",
       "      <td>0.000000</td>\n",
       "      <td>0.000000</td>\n",
       "      <td>0.000000</td>\n",
       "      <td>0.000000</td>\n",
       "      <td>0.000000</td>\n",
       "    </tr>\n",
       "    <tr>\n",
       "      <th>75%</th>\n",
       "      <td>0.00000</td>\n",
       "      <td>0.815167</td>\n",
       "      <td>50.000000</td>\n",
       "      <td>4.000000</td>\n",
       "      <td>2.760000e+02</td>\n",
       "      <td>5.160000e+02</td>\n",
       "      <td>0.000000</td>\n",
       "      <td>0.000000</td>\n",
       "      <td>0.000000</td>\n",
       "      <td>0.000000</td>\n",
       "      <td>...</td>\n",
       "      <td>255.000000</td>\n",
       "      <td>255.000000</td>\n",
       "      <td>1.000000</td>\n",
       "      <td>0.070000</td>\n",
       "      <td>0.060000</td>\n",
       "      <td>0.020000</td>\n",
       "      <td>1.000000</td>\n",
       "      <td>1.000000</td>\n",
       "      <td>0.000000</td>\n",
       "      <td>0.000000</td>\n",
       "    </tr>\n",
       "    <tr>\n",
       "      <th>max</th>\n",
       "      <td>42908.00000</td>\n",
       "      <td>0.815167</td>\n",
       "      <td>70.000000</td>\n",
       "      <td>11.000000</td>\n",
       "      <td>1.379964e+09</td>\n",
       "      <td>1.309937e+09</td>\n",
       "      <td>1.000000</td>\n",
       "      <td>3.000000</td>\n",
       "      <td>3.000000</td>\n",
       "      <td>77.000000</td>\n",
       "      <td>...</td>\n",
       "      <td>255.000000</td>\n",
       "      <td>255.000000</td>\n",
       "      <td>1.000000</td>\n",
       "      <td>1.000000</td>\n",
       "      <td>1.000000</td>\n",
       "      <td>1.000000</td>\n",
       "      <td>1.000000</td>\n",
       "      <td>1.000000</td>\n",
       "      <td>1.000000</td>\n",
       "      <td>1.000000</td>\n",
       "    </tr>\n",
       "  </tbody>\n",
       "</table>\n",
       "<p>8 rows × 41 columns</p>\n",
       "</div>"
      ],
      "text/plain": [
       "           duration  protocol_type        service           flag  \\\n",
       "count  125973.00000  125973.000000  125973.000000  125973.000000   \n",
       "mean      287.14465       0.682994      32.086288       2.575179   \n",
       "std      2604.51531       0.277789      16.462574       1.141552   \n",
       "min         0.00000       0.065816       1.000000       1.000000   \n",
       "25%         0.00000       0.815167      20.000000       2.000000   \n",
       "50%         0.00000       0.815167      25.000000       2.000000   \n",
       "75%         0.00000       0.815167      50.000000       4.000000   \n",
       "max     42908.00000       0.815167      70.000000      11.000000   \n",
       "\n",
       "          src_bytes     dst_bytes           land  wrong_fragment  \\\n",
       "count  1.259730e+05  1.259730e+05  125973.000000   125973.000000   \n",
       "mean   4.556674e+04  1.977911e+04       0.000198        0.022687   \n",
       "std    5.870331e+06  4.021269e+06       0.014086        0.253530   \n",
       "min    0.000000e+00  0.000000e+00       0.000000        0.000000   \n",
       "25%    0.000000e+00  0.000000e+00       0.000000        0.000000   \n",
       "50%    4.400000e+01  0.000000e+00       0.000000        0.000000   \n",
       "75%    2.760000e+02  5.160000e+02       0.000000        0.000000   \n",
       "max    1.379964e+09  1.309937e+09       1.000000        3.000000   \n",
       "\n",
       "              urgent            hot            ...             dst_host_count  \\\n",
       "count  125973.000000  125973.000000            ...              125973.000000   \n",
       "mean        0.000111       0.204409            ...                 182.148945   \n",
       "std         0.014366       2.149968            ...                  99.206213   \n",
       "min         0.000000       0.000000            ...                   0.000000   \n",
       "25%         0.000000       0.000000            ...                  82.000000   \n",
       "50%         0.000000       0.000000            ...                 255.000000   \n",
       "75%         0.000000       0.000000            ...                 255.000000   \n",
       "max         3.000000      77.000000            ...                 255.000000   \n",
       "\n",
       "       dst_host_srv_count  dst_host_same_srv_rate  dst_host_diff_srv_rate  \\\n",
       "count       125973.000000           125973.000000           125973.000000   \n",
       "mean           115.653005                0.521242                0.082951   \n",
       "std            110.702741                0.448949                0.188922   \n",
       "min              0.000000                0.000000                0.000000   \n",
       "25%             10.000000                0.050000                0.000000   \n",
       "50%             63.000000                0.510000                0.020000   \n",
       "75%            255.000000                1.000000                0.070000   \n",
       "max            255.000000                1.000000                1.000000   \n",
       "\n",
       "       dst_host_same_src_port_rate  dst_host_srv_diff_host_rate  \\\n",
       "count                125973.000000                125973.000000   \n",
       "mean                      0.148379                     0.032542   \n",
       "std                       0.308997                     0.112564   \n",
       "min                       0.000000                     0.000000   \n",
       "25%                       0.000000                     0.000000   \n",
       "50%                       0.000000                     0.000000   \n",
       "75%                       0.060000                     0.020000   \n",
       "max                       1.000000                     1.000000   \n",
       "\n",
       "       dst_host_serror_rate  dst_host_srv_serror_rate  dst_host_rerror_rate  \\\n",
       "count         125973.000000             125973.000000         125973.000000   \n",
       "mean               0.284452                  0.278485              0.118832   \n",
       "std                0.444784                  0.445669              0.306557   \n",
       "min                0.000000                  0.000000              0.000000   \n",
       "25%                0.000000                  0.000000              0.000000   \n",
       "50%                0.000000                  0.000000              0.000000   \n",
       "75%                1.000000                  1.000000              0.000000   \n",
       "max                1.000000                  1.000000              1.000000   \n",
       "\n",
       "       dst_host_srv_rerror_rate  \n",
       "count             125973.000000  \n",
       "mean                   0.120240  \n",
       "std                    0.319459  \n",
       "min                    0.000000  \n",
       "25%                    0.000000  \n",
       "50%                    0.000000  \n",
       "75%                    0.000000  \n",
       "max                    1.000000  \n",
       "\n",
       "[8 rows x 41 columns]"
      ]
     },
     "execution_count": 125,
     "metadata": {},
     "output_type": "execute_result"
    }
   ],
   "source": [
    "data.describe()"
   ]
  },
  {
   "cell_type": "code",
   "execution_count": 126,
   "metadata": {
    "collapsed": true
   },
   "outputs": [],
   "source": [
    "df2=data.iloc[:,:-1]\n",
    "ts=test.iloc[:,:-1]"
   ]
  },
  {
   "cell_type": "code",
   "execution_count": 127,
   "metadata": {
    "collapsed": true
   },
   "outputs": [],
   "source": [
    "def check_data(data):\n",
    "    key=list(data.keys())\n",
    "    count=0\n",
    "    for i in key:\n",
    "        m1=data[i].mean()\n",
    "        s1=data[i].std()\n",
    "        if s1<0.1:\n",
    "            print(i)\n",
    "            count+=1\n",
    "    print(count)"
   ]
  },
  {
   "cell_type": "code",
   "execution_count": 128,
   "metadata": {},
   "outputs": [
    {
     "name": "stdout",
     "output_type": "stream",
     "text": [
      "land\n",
      "urgent\n",
      "num_failed_logins\n",
      "root_shell\n",
      "su_attempted\n",
      "num_shells\n",
      "num_access_files\n",
      "num_outbound_cmds\n",
      "is_host_login\n",
      "is_guest_login\n",
      "10\n"
     ]
    }
   ],
   "source": [
    "check_data(df2)"
   ]
  },
  {
   "cell_type": "code",
   "execution_count": 129,
   "metadata": {
    "collapsed": true
   },
   "outputs": [],
   "source": [
    "def del_col(data,test):\n",
    "    key=list(data.keys())\n",
    "    count=0\n",
    "    for i in key:\n",
    "        m1=data[i].mean()\n",
    "        s1=data[i].std()\n",
    "        if s1<0.1:\n",
    "            del data[i]\n",
    "            del test[i]\n",
    "    return data, test"
   ]
  },
  {
   "cell_type": "code",
   "execution_count": 130,
   "metadata": {},
   "outputs": [
    {
     "data": {
      "text/html": [
       "<div>\n",
       "<style>\n",
       "    .dataframe thead tr:only-child th {\n",
       "        text-align: right;\n",
       "    }\n",
       "\n",
       "    .dataframe thead th {\n",
       "        text-align: left;\n",
       "    }\n",
       "\n",
       "    .dataframe tbody tr th {\n",
       "        vertical-align: top;\n",
       "    }\n",
       "</style>\n",
       "<table border=\"1\" class=\"dataframe\">\n",
       "  <thead>\n",
       "    <tr style=\"text-align: right;\">\n",
       "      <th></th>\n",
       "      <th>duration</th>\n",
       "      <th>protocol_type</th>\n",
       "      <th>service</th>\n",
       "      <th>flag</th>\n",
       "      <th>src_bytes</th>\n",
       "      <th>dst_bytes</th>\n",
       "      <th>wrong_fragment</th>\n",
       "      <th>hot</th>\n",
       "      <th>logged_in</th>\n",
       "      <th>num_compromised</th>\n",
       "      <th>...</th>\n",
       "      <th>dst_host_count</th>\n",
       "      <th>dst_host_srv_count</th>\n",
       "      <th>dst_host_same_srv_rate</th>\n",
       "      <th>dst_host_diff_srv_rate</th>\n",
       "      <th>dst_host_same_src_port_rate</th>\n",
       "      <th>dst_host_srv_diff_host_rate</th>\n",
       "      <th>dst_host_serror_rate</th>\n",
       "      <th>dst_host_srv_serror_rate</th>\n",
       "      <th>dst_host_rerror_rate</th>\n",
       "      <th>dst_host_srv_rerror_rate</th>\n",
       "    </tr>\n",
       "  </thead>\n",
       "  <tbody>\n",
       "    <tr>\n",
       "      <th>0</th>\n",
       "      <td>0</td>\n",
       "      <td>0.815167</td>\n",
       "      <td>20</td>\n",
       "      <td>2</td>\n",
       "      <td>491</td>\n",
       "      <td>0</td>\n",
       "      <td>0</td>\n",
       "      <td>0</td>\n",
       "      <td>0</td>\n",
       "      <td>0</td>\n",
       "      <td>...</td>\n",
       "      <td>150</td>\n",
       "      <td>25</td>\n",
       "      <td>0.17</td>\n",
       "      <td>0.03</td>\n",
       "      <td>0.17</td>\n",
       "      <td>0.00</td>\n",
       "      <td>0.00</td>\n",
       "      <td>0.00</td>\n",
       "      <td>0.05</td>\n",
       "      <td>0.00</td>\n",
       "    </tr>\n",
       "    <tr>\n",
       "      <th>1</th>\n",
       "      <td>0</td>\n",
       "      <td>0.119018</td>\n",
       "      <td>45</td>\n",
       "      <td>2</td>\n",
       "      <td>146</td>\n",
       "      <td>0</td>\n",
       "      <td>0</td>\n",
       "      <td>0</td>\n",
       "      <td>0</td>\n",
       "      <td>0</td>\n",
       "      <td>...</td>\n",
       "      <td>255</td>\n",
       "      <td>1</td>\n",
       "      <td>0.00</td>\n",
       "      <td>0.60</td>\n",
       "      <td>0.88</td>\n",
       "      <td>0.00</td>\n",
       "      <td>0.00</td>\n",
       "      <td>0.00</td>\n",
       "      <td>0.00</td>\n",
       "      <td>0.00</td>\n",
       "    </tr>\n",
       "    <tr>\n",
       "      <th>2</th>\n",
       "      <td>0</td>\n",
       "      <td>0.815167</td>\n",
       "      <td>50</td>\n",
       "      <td>4</td>\n",
       "      <td>0</td>\n",
       "      <td>0</td>\n",
       "      <td>0</td>\n",
       "      <td>0</td>\n",
       "      <td>0</td>\n",
       "      <td>0</td>\n",
       "      <td>...</td>\n",
       "      <td>255</td>\n",
       "      <td>26</td>\n",
       "      <td>0.10</td>\n",
       "      <td>0.05</td>\n",
       "      <td>0.00</td>\n",
       "      <td>0.00</td>\n",
       "      <td>1.00</td>\n",
       "      <td>1.00</td>\n",
       "      <td>0.00</td>\n",
       "      <td>0.00</td>\n",
       "    </tr>\n",
       "    <tr>\n",
       "      <th>3</th>\n",
       "      <td>0</td>\n",
       "      <td>0.815167</td>\n",
       "      <td>25</td>\n",
       "      <td>2</td>\n",
       "      <td>232</td>\n",
       "      <td>8153</td>\n",
       "      <td>0</td>\n",
       "      <td>0</td>\n",
       "      <td>1</td>\n",
       "      <td>0</td>\n",
       "      <td>...</td>\n",
       "      <td>30</td>\n",
       "      <td>255</td>\n",
       "      <td>1.00</td>\n",
       "      <td>0.00</td>\n",
       "      <td>0.03</td>\n",
       "      <td>0.04</td>\n",
       "      <td>0.03</td>\n",
       "      <td>0.01</td>\n",
       "      <td>0.00</td>\n",
       "      <td>0.01</td>\n",
       "    </tr>\n",
       "    <tr>\n",
       "      <th>4</th>\n",
       "      <td>0</td>\n",
       "      <td>0.815167</td>\n",
       "      <td>25</td>\n",
       "      <td>2</td>\n",
       "      <td>199</td>\n",
       "      <td>420</td>\n",
       "      <td>0</td>\n",
       "      <td>0</td>\n",
       "      <td>1</td>\n",
       "      <td>0</td>\n",
       "      <td>...</td>\n",
       "      <td>255</td>\n",
       "      <td>255</td>\n",
       "      <td>1.00</td>\n",
       "      <td>0.00</td>\n",
       "      <td>0.00</td>\n",
       "      <td>0.00</td>\n",
       "      <td>0.00</td>\n",
       "      <td>0.00</td>\n",
       "      <td>0.00</td>\n",
       "      <td>0.00</td>\n",
       "    </tr>\n",
       "  </tbody>\n",
       "</table>\n",
       "<p>5 rows × 31 columns</p>\n",
       "</div>"
      ],
      "text/plain": [
       "   duration  protocol_type  service  flag  src_bytes  dst_bytes  \\\n",
       "0         0       0.815167       20     2        491          0   \n",
       "1         0       0.119018       45     2        146          0   \n",
       "2         0       0.815167       50     4          0          0   \n",
       "3         0       0.815167       25     2        232       8153   \n",
       "4         0       0.815167       25     2        199        420   \n",
       "\n",
       "   wrong_fragment  hot  logged_in  num_compromised            ...             \\\n",
       "0               0    0          0                0            ...              \n",
       "1               0    0          0                0            ...              \n",
       "2               0    0          0                0            ...              \n",
       "3               0    0          1                0            ...              \n",
       "4               0    0          1                0            ...              \n",
       "\n",
       "   dst_host_count  dst_host_srv_count  dst_host_same_srv_rate  \\\n",
       "0             150                  25                    0.17   \n",
       "1             255                   1                    0.00   \n",
       "2             255                  26                    0.10   \n",
       "3              30                 255                    1.00   \n",
       "4             255                 255                    1.00   \n",
       "\n",
       "   dst_host_diff_srv_rate  dst_host_same_src_port_rate  \\\n",
       "0                    0.03                         0.17   \n",
       "1                    0.60                         0.88   \n",
       "2                    0.05                         0.00   \n",
       "3                    0.00                         0.03   \n",
       "4                    0.00                         0.00   \n",
       "\n",
       "   dst_host_srv_diff_host_rate  dst_host_serror_rate  \\\n",
       "0                         0.00                  0.00   \n",
       "1                         0.00                  0.00   \n",
       "2                         0.00                  1.00   \n",
       "3                         0.04                  0.03   \n",
       "4                         0.00                  0.00   \n",
       "\n",
       "   dst_host_srv_serror_rate  dst_host_rerror_rate  dst_host_srv_rerror_rate  \n",
       "0                      0.00                  0.05                      0.00  \n",
       "1                      0.00                  0.00                      0.00  \n",
       "2                      1.00                  0.00                      0.00  \n",
       "3                      0.01                  0.00                      0.01  \n",
       "4                      0.00                  0.00                      0.00  \n",
       "\n",
       "[5 rows x 31 columns]"
      ]
     },
     "execution_count": 130,
     "metadata": {},
     "output_type": "execute_result"
    }
   ],
   "source": [
    "df2, ts=del_col(df2,ts)\n",
    "df2.head()"
   ]
  },
  {
   "cell_type": "code",
   "execution_count": 131,
   "metadata": {},
   "outputs": [
    {
     "data": {
      "text/html": [
       "<div>\n",
       "<style>\n",
       "    .dataframe thead tr:only-child th {\n",
       "        text-align: right;\n",
       "    }\n",
       "\n",
       "    .dataframe thead th {\n",
       "        text-align: left;\n",
       "    }\n",
       "\n",
       "    .dataframe tbody tr th {\n",
       "        vertical-align: top;\n",
       "    }\n",
       "</style>\n",
       "<table border=\"1\" class=\"dataframe\">\n",
       "  <thead>\n",
       "    <tr style=\"text-align: right;\">\n",
       "      <th></th>\n",
       "      <th>duration</th>\n",
       "      <th>protocol_type</th>\n",
       "      <th>service</th>\n",
       "      <th>flag</th>\n",
       "      <th>src_bytes</th>\n",
       "      <th>dst_bytes</th>\n",
       "      <th>wrong_fragment</th>\n",
       "      <th>hot</th>\n",
       "      <th>logged_in</th>\n",
       "      <th>num_compromised</th>\n",
       "      <th>...</th>\n",
       "      <th>dst_host_count</th>\n",
       "      <th>dst_host_srv_count</th>\n",
       "      <th>dst_host_same_srv_rate</th>\n",
       "      <th>dst_host_diff_srv_rate</th>\n",
       "      <th>dst_host_same_src_port_rate</th>\n",
       "      <th>dst_host_srv_diff_host_rate</th>\n",
       "      <th>dst_host_serror_rate</th>\n",
       "      <th>dst_host_srv_serror_rate</th>\n",
       "      <th>dst_host_rerror_rate</th>\n",
       "      <th>dst_host_srv_rerror_rate</th>\n",
       "    </tr>\n",
       "  </thead>\n",
       "  <tbody>\n",
       "    <tr>\n",
       "      <th>0</th>\n",
       "      <td>0</td>\n",
       "      <td>0.815167</td>\n",
       "      <td>25</td>\n",
       "      <td>4</td>\n",
       "      <td>0</td>\n",
       "      <td>0</td>\n",
       "      <td>0</td>\n",
       "      <td>0</td>\n",
       "      <td>0</td>\n",
       "      <td>0</td>\n",
       "      <td>...</td>\n",
       "      <td>255</td>\n",
       "      <td>255</td>\n",
       "      <td>1.00</td>\n",
       "      <td>0.00</td>\n",
       "      <td>0.00</td>\n",
       "      <td>0.00</td>\n",
       "      <td>0.65</td>\n",
       "      <td>0.65</td>\n",
       "      <td>0.32</td>\n",
       "      <td>0.32</td>\n",
       "    </tr>\n",
       "    <tr>\n",
       "      <th>1</th>\n",
       "      <td>0</td>\n",
       "      <td>0.119018</td>\n",
       "      <td>25</td>\n",
       "      <td>2</td>\n",
       "      <td>312</td>\n",
       "      <td>1856</td>\n",
       "      <td>0</td>\n",
       "      <td>0</td>\n",
       "      <td>1</td>\n",
       "      <td>0</td>\n",
       "      <td>...</td>\n",
       "      <td>1</td>\n",
       "      <td>254</td>\n",
       "      <td>1.00</td>\n",
       "      <td>0.00</td>\n",
       "      <td>1.00</td>\n",
       "      <td>0.06</td>\n",
       "      <td>0.00</td>\n",
       "      <td>0.00</td>\n",
       "      <td>0.00</td>\n",
       "      <td>0.00</td>\n",
       "    </tr>\n",
       "    <tr>\n",
       "      <th>2</th>\n",
       "      <td>0</td>\n",
       "      <td>0.815167</td>\n",
       "      <td>25</td>\n",
       "      <td>2</td>\n",
       "      <td>245</td>\n",
       "      <td>2058</td>\n",
       "      <td>0</td>\n",
       "      <td>0</td>\n",
       "      <td>1</td>\n",
       "      <td>0</td>\n",
       "      <td>...</td>\n",
       "      <td>114</td>\n",
       "      <td>255</td>\n",
       "      <td>1.00</td>\n",
       "      <td>0.00</td>\n",
       "      <td>0.01</td>\n",
       "      <td>0.05</td>\n",
       "      <td>0.01</td>\n",
       "      <td>0.00</td>\n",
       "      <td>0.00</td>\n",
       "      <td>0.00</td>\n",
       "    </tr>\n",
       "    <tr>\n",
       "      <th>3</th>\n",
       "      <td>0</td>\n",
       "      <td>0.815167</td>\n",
       "      <td>25</td>\n",
       "      <td>2</td>\n",
       "      <td>298</td>\n",
       "      <td>1267</td>\n",
       "      <td>0</td>\n",
       "      <td>0</td>\n",
       "      <td>1</td>\n",
       "      <td>0</td>\n",
       "      <td>...</td>\n",
       "      <td>255</td>\n",
       "      <td>255</td>\n",
       "      <td>1.00</td>\n",
       "      <td>0.00</td>\n",
       "      <td>0.00</td>\n",
       "      <td>0.00</td>\n",
       "      <td>0.00</td>\n",
       "      <td>0.00</td>\n",
       "      <td>0.00</td>\n",
       "      <td>0.00</td>\n",
       "    </tr>\n",
       "    <tr>\n",
       "      <th>4</th>\n",
       "      <td>0</td>\n",
       "      <td>0.815167</td>\n",
       "      <td>20</td>\n",
       "      <td>2</td>\n",
       "      <td>740</td>\n",
       "      <td>0</td>\n",
       "      <td>0</td>\n",
       "      <td>0</td>\n",
       "      <td>0</td>\n",
       "      <td>0</td>\n",
       "      <td>...</td>\n",
       "      <td>104</td>\n",
       "      <td>19</td>\n",
       "      <td>0.18</td>\n",
       "      <td>0.03</td>\n",
       "      <td>0.18</td>\n",
       "      <td>0.00</td>\n",
       "      <td>0.00</td>\n",
       "      <td>0.00</td>\n",
       "      <td>0.00</td>\n",
       "      <td>0.00</td>\n",
       "    </tr>\n",
       "  </tbody>\n",
       "</table>\n",
       "<p>5 rows × 31 columns</p>\n",
       "</div>"
      ],
      "text/plain": [
       "   duration  protocol_type  service  flag  src_bytes  dst_bytes  \\\n",
       "0         0       0.815167       25     4          0          0   \n",
       "1         0       0.119018       25     2        312       1856   \n",
       "2         0       0.815167       25     2        245       2058   \n",
       "3         0       0.815167       25     2        298       1267   \n",
       "4         0       0.815167       20     2        740          0   \n",
       "\n",
       "   wrong_fragment  hot  logged_in  num_compromised            ...             \\\n",
       "0               0    0          0                0            ...              \n",
       "1               0    0          1                0            ...              \n",
       "2               0    0          1                0            ...              \n",
       "3               0    0          1                0            ...              \n",
       "4               0    0          0                0            ...              \n",
       "\n",
       "   dst_host_count  dst_host_srv_count  dst_host_same_srv_rate  \\\n",
       "0             255                 255                    1.00   \n",
       "1               1                 254                    1.00   \n",
       "2             114                 255                    1.00   \n",
       "3             255                 255                    1.00   \n",
       "4             104                  19                    0.18   \n",
       "\n",
       "   dst_host_diff_srv_rate  dst_host_same_src_port_rate  \\\n",
       "0                    0.00                         0.00   \n",
       "1                    0.00                         1.00   \n",
       "2                    0.00                         0.01   \n",
       "3                    0.00                         0.00   \n",
       "4                    0.03                         0.18   \n",
       "\n",
       "   dst_host_srv_diff_host_rate  dst_host_serror_rate  \\\n",
       "0                         0.00                  0.65   \n",
       "1                         0.06                  0.00   \n",
       "2                         0.05                  0.01   \n",
       "3                         0.00                  0.00   \n",
       "4                         0.00                  0.00   \n",
       "\n",
       "   dst_host_srv_serror_rate  dst_host_rerror_rate  dst_host_srv_rerror_rate  \n",
       "0                      0.65                  0.32                      0.32  \n",
       "1                      0.00                  0.00                      0.00  \n",
       "2                      0.00                  0.00                      0.00  \n",
       "3                      0.00                  0.00                      0.00  \n",
       "4                      0.00                  0.00                      0.00  \n",
       "\n",
       "[5 rows x 31 columns]"
      ]
     },
     "execution_count": 131,
     "metadata": {},
     "output_type": "execute_result"
    }
   ],
   "source": [
    "ts.head()"
   ]
  },
  {
   "cell_type": "markdown",
   "metadata": {},
   "source": [
    "이 부분에서 한 개념은 std가 어느 수치보다 낮으면 모든 데이터가 비슷하게 뭉쳐있어 데이터가 거의 비슷하다라고 생각하고 지워버렸다.  \n",
    "실제로 데이터를 확인해본 결과 몇 feature에서 거의 0인것을 확인 할 수있었다.  \n",
    "그때 std의 한계를 0.1로 두어 그 이하의 vaiance를 가지는 feature는 제거하였다.   \n",
    "그 경우에 std가 0.1보다 작다는 것은 variance 즉, 분산이 0.01보다 작은 것으로 몇번 줄이고 늘려서 해봤을때 저 값에서 적당한 노이즈라고 생각해볼만 하였다.   \n",
    "결과 10개의 feature를 제거하고 31개의 feature를 가진 data로 바뀌게 되었다.  \n",
    "그리고 test data에서도 마찬가지로 traindata에서 제거한 coloumn을 제거해 주었다."
   ]
  },
  {
   "cell_type": "markdown",
   "metadata": {},
   "source": [
    "### - normalize again"
   ]
  },
  {
   "cell_type": "code",
   "execution_count": 132,
   "metadata": {
    "collapsed": true
   },
   "outputs": [],
   "source": [
    "df2n=(df2-df2.min())/(df2.max()-df2.min())"
   ]
  },
  {
   "cell_type": "code",
   "execution_count": 133,
   "metadata": {},
   "outputs": [
    {
     "data": {
      "text/html": [
       "<div>\n",
       "<style>\n",
       "    .dataframe thead tr:only-child th {\n",
       "        text-align: right;\n",
       "    }\n",
       "\n",
       "    .dataframe thead th {\n",
       "        text-align: left;\n",
       "    }\n",
       "\n",
       "    .dataframe tbody tr th {\n",
       "        vertical-align: top;\n",
       "    }\n",
       "</style>\n",
       "<table border=\"1\" class=\"dataframe\">\n",
       "  <thead>\n",
       "    <tr style=\"text-align: right;\">\n",
       "      <th></th>\n",
       "      <th>duration</th>\n",
       "      <th>protocol_type</th>\n",
       "      <th>service</th>\n",
       "      <th>flag</th>\n",
       "      <th>src_bytes</th>\n",
       "      <th>dst_bytes</th>\n",
       "      <th>wrong_fragment</th>\n",
       "      <th>hot</th>\n",
       "      <th>logged_in</th>\n",
       "      <th>num_compromised</th>\n",
       "      <th>...</th>\n",
       "      <th>dst_host_count</th>\n",
       "      <th>dst_host_srv_count</th>\n",
       "      <th>dst_host_same_srv_rate</th>\n",
       "      <th>dst_host_diff_srv_rate</th>\n",
       "      <th>dst_host_same_src_port_rate</th>\n",
       "      <th>dst_host_srv_diff_host_rate</th>\n",
       "      <th>dst_host_serror_rate</th>\n",
       "      <th>dst_host_srv_serror_rate</th>\n",
       "      <th>dst_host_rerror_rate</th>\n",
       "      <th>dst_host_srv_rerror_rate</th>\n",
       "    </tr>\n",
       "  </thead>\n",
       "  <tbody>\n",
       "    <tr>\n",
       "      <th>0</th>\n",
       "      <td>0.0</td>\n",
       "      <td>1.000000</td>\n",
       "      <td>0.275362</td>\n",
       "      <td>0.1</td>\n",
       "      <td>3.558064e-07</td>\n",
       "      <td>0.000000e+00</td>\n",
       "      <td>0.0</td>\n",
       "      <td>0.0</td>\n",
       "      <td>0.0</td>\n",
       "      <td>0.0</td>\n",
       "      <td>...</td>\n",
       "      <td>0.588235</td>\n",
       "      <td>0.098039</td>\n",
       "      <td>0.17</td>\n",
       "      <td>0.03</td>\n",
       "      <td>0.17</td>\n",
       "      <td>0.00</td>\n",
       "      <td>0.00</td>\n",
       "      <td>0.00</td>\n",
       "      <td>0.05</td>\n",
       "      <td>0.00</td>\n",
       "    </tr>\n",
       "    <tr>\n",
       "      <th>1</th>\n",
       "      <td>0.0</td>\n",
       "      <td>0.070997</td>\n",
       "      <td>0.637681</td>\n",
       "      <td>0.1</td>\n",
       "      <td>1.057999e-07</td>\n",
       "      <td>0.000000e+00</td>\n",
       "      <td>0.0</td>\n",
       "      <td>0.0</td>\n",
       "      <td>0.0</td>\n",
       "      <td>0.0</td>\n",
       "      <td>...</td>\n",
       "      <td>1.000000</td>\n",
       "      <td>0.003922</td>\n",
       "      <td>0.00</td>\n",
       "      <td>0.60</td>\n",
       "      <td>0.88</td>\n",
       "      <td>0.00</td>\n",
       "      <td>0.00</td>\n",
       "      <td>0.00</td>\n",
       "      <td>0.00</td>\n",
       "      <td>0.00</td>\n",
       "    </tr>\n",
       "    <tr>\n",
       "      <th>2</th>\n",
       "      <td>0.0</td>\n",
       "      <td>1.000000</td>\n",
       "      <td>0.710145</td>\n",
       "      <td>0.3</td>\n",
       "      <td>0.000000e+00</td>\n",
       "      <td>0.000000e+00</td>\n",
       "      <td>0.0</td>\n",
       "      <td>0.0</td>\n",
       "      <td>0.0</td>\n",
       "      <td>0.0</td>\n",
       "      <td>...</td>\n",
       "      <td>1.000000</td>\n",
       "      <td>0.101961</td>\n",
       "      <td>0.10</td>\n",
       "      <td>0.05</td>\n",
       "      <td>0.00</td>\n",
       "      <td>0.00</td>\n",
       "      <td>1.00</td>\n",
       "      <td>1.00</td>\n",
       "      <td>0.00</td>\n",
       "      <td>0.00</td>\n",
       "    </tr>\n",
       "    <tr>\n",
       "      <th>3</th>\n",
       "      <td>0.0</td>\n",
       "      <td>1.000000</td>\n",
       "      <td>0.347826</td>\n",
       "      <td>0.1</td>\n",
       "      <td>1.681203e-07</td>\n",
       "      <td>6.223962e-06</td>\n",
       "      <td>0.0</td>\n",
       "      <td>0.0</td>\n",
       "      <td>1.0</td>\n",
       "      <td>0.0</td>\n",
       "      <td>...</td>\n",
       "      <td>0.117647</td>\n",
       "      <td>1.000000</td>\n",
       "      <td>1.00</td>\n",
       "      <td>0.00</td>\n",
       "      <td>0.03</td>\n",
       "      <td>0.04</td>\n",
       "      <td>0.03</td>\n",
       "      <td>0.01</td>\n",
       "      <td>0.00</td>\n",
       "      <td>0.01</td>\n",
       "    </tr>\n",
       "    <tr>\n",
       "      <th>4</th>\n",
       "      <td>0.0</td>\n",
       "      <td>1.000000</td>\n",
       "      <td>0.347826</td>\n",
       "      <td>0.1</td>\n",
       "      <td>1.442067e-07</td>\n",
       "      <td>3.206260e-07</td>\n",
       "      <td>0.0</td>\n",
       "      <td>0.0</td>\n",
       "      <td>1.0</td>\n",
       "      <td>0.0</td>\n",
       "      <td>...</td>\n",
       "      <td>1.000000</td>\n",
       "      <td>1.000000</td>\n",
       "      <td>1.00</td>\n",
       "      <td>0.00</td>\n",
       "      <td>0.00</td>\n",
       "      <td>0.00</td>\n",
       "      <td>0.00</td>\n",
       "      <td>0.00</td>\n",
       "      <td>0.00</td>\n",
       "      <td>0.00</td>\n",
       "    </tr>\n",
       "  </tbody>\n",
       "</table>\n",
       "<p>5 rows × 31 columns</p>\n",
       "</div>"
      ],
      "text/plain": [
       "   duration  protocol_type   service  flag     src_bytes     dst_bytes  \\\n",
       "0       0.0       1.000000  0.275362   0.1  3.558064e-07  0.000000e+00   \n",
       "1       0.0       0.070997  0.637681   0.1  1.057999e-07  0.000000e+00   \n",
       "2       0.0       1.000000  0.710145   0.3  0.000000e+00  0.000000e+00   \n",
       "3       0.0       1.000000  0.347826   0.1  1.681203e-07  6.223962e-06   \n",
       "4       0.0       1.000000  0.347826   0.1  1.442067e-07  3.206260e-07   \n",
       "\n",
       "   wrong_fragment  hot  logged_in  num_compromised            ...             \\\n",
       "0             0.0  0.0        0.0              0.0            ...              \n",
       "1             0.0  0.0        0.0              0.0            ...              \n",
       "2             0.0  0.0        0.0              0.0            ...              \n",
       "3             0.0  0.0        1.0              0.0            ...              \n",
       "4             0.0  0.0        1.0              0.0            ...              \n",
       "\n",
       "   dst_host_count  dst_host_srv_count  dst_host_same_srv_rate  \\\n",
       "0        0.588235            0.098039                    0.17   \n",
       "1        1.000000            0.003922                    0.00   \n",
       "2        1.000000            0.101961                    0.10   \n",
       "3        0.117647            1.000000                    1.00   \n",
       "4        1.000000            1.000000                    1.00   \n",
       "\n",
       "   dst_host_diff_srv_rate  dst_host_same_src_port_rate  \\\n",
       "0                    0.03                         0.17   \n",
       "1                    0.60                         0.88   \n",
       "2                    0.05                         0.00   \n",
       "3                    0.00                         0.03   \n",
       "4                    0.00                         0.00   \n",
       "\n",
       "   dst_host_srv_diff_host_rate  dst_host_serror_rate  \\\n",
       "0                         0.00                  0.00   \n",
       "1                         0.00                  0.00   \n",
       "2                         0.00                  1.00   \n",
       "3                         0.04                  0.03   \n",
       "4                         0.00                  0.00   \n",
       "\n",
       "   dst_host_srv_serror_rate  dst_host_rerror_rate  dst_host_srv_rerror_rate  \n",
       "0                      0.00                  0.05                      0.00  \n",
       "1                      0.00                  0.00                      0.00  \n",
       "2                      1.00                  0.00                      0.00  \n",
       "3                      0.01                  0.00                      0.01  \n",
       "4                      0.00                  0.00                      0.00  \n",
       "\n",
       "[5 rows x 31 columns]"
      ]
     },
     "execution_count": 133,
     "metadata": {},
     "output_type": "execute_result"
    }
   ],
   "source": [
    "df2n.head()"
   ]
  },
  {
   "cell_type": "code",
   "execution_count": 134,
   "metadata": {},
   "outputs": [
    {
     "data": {
      "text/plain": [
       "duration                       0.000000e+00\n",
       "protocol_type                  7.099727e-02\n",
       "service                        6.376812e-01\n",
       "flag                           1.000000e-01\n",
       "src_bytes                      1.057999e-07\n",
       "dst_bytes                      0.000000e+00\n",
       "wrong_fragment                 0.000000e+00\n",
       "hot                            0.000000e+00\n",
       "logged_in                      0.000000e+00\n",
       "num_compromised                0.000000e+00\n",
       "num_root                       0.000000e+00\n",
       "num_file_creations             0.000000e+00\n",
       "count                          2.544031e-02\n",
       "srv_count                      1.956947e-03\n",
       "serror_rate                    0.000000e+00\n",
       "srv_serror_rate                0.000000e+00\n",
       "rerror_rate                    0.000000e+00\n",
       "srv_rerror_rate                0.000000e+00\n",
       "same_srv_rate                  8.000000e-02\n",
       "diff_srv_rate                  1.500000e-01\n",
       "srv_diff_host_rate             0.000000e+00\n",
       "dst_host_count                 1.000000e+00\n",
       "dst_host_srv_count             3.921569e-03\n",
       "dst_host_same_srv_rate         0.000000e+00\n",
       "dst_host_diff_srv_rate         6.000000e-01\n",
       "dst_host_same_src_port_rate    8.800000e-01\n",
       "dst_host_srv_diff_host_rate    0.000000e+00\n",
       "dst_host_serror_rate           0.000000e+00\n",
       "dst_host_srv_serror_rate       0.000000e+00\n",
       "dst_host_rerror_rate           0.000000e+00\n",
       "dst_host_srv_rerror_rate       0.000000e+00\n",
       "Name: 1, dtype: float64"
      ]
     },
     "execution_count": 134,
     "metadata": {},
     "output_type": "execute_result"
    }
   ],
   "source": [
    "df2n.iloc[1,:]"
   ]
  },
  {
   "cell_type": "markdown",
   "metadata": {},
   "source": [
    "이제는 nan을 가지는 값이 존재하지 않는것을 확인 할 수 있었다."
   ]
  },
  {
   "cell_type": "code",
   "execution_count": 137,
   "metadata": {
    "collapsed": true
   },
   "outputs": [],
   "source": [
    "df2['xAttack']=output\n",
    "ts['xAttack']=tsoutput\n",
    "data=df2\n",
    "test=ts"
   ]
  },
  {
   "cell_type": "markdown",
   "metadata": {},
   "source": [
    "## (4) Checking before last feature selection"
   ]
  },
  {
   "cell_type": "markdown",
   "metadata": {},
   "source": [
    "마지막 feature selection을 하기에 앞서 먼저 모델에 제대로 작동하는지 확인하려한다. 실험으로 DecisionTree와 Knn을 사용해보았다."
   ]
  },
  {
   "cell_type": "markdown",
   "metadata": {},
   "source": [
    "### - Decision Tree (just to check)"
   ]
  },
  {
   "cell_type": "code",
   "execution_count": 135,
   "metadata": {
    "collapsed": true
   },
   "outputs": [],
   "source": [
    "from sklearn.tree import DecisionTreeClassifier"
   ]
  },
  {
   "cell_type": "code",
   "execution_count": 136,
   "metadata": {
    "collapsed": true
   },
   "outputs": [],
   "source": [
    "tree = DecisionTreeClassifier()"
   ]
  },
  {
   "cell_type": "code",
   "execution_count": 138,
   "metadata": {},
   "outputs": [
    {
     "data": {
      "text/html": [
       "<div>\n",
       "<style>\n",
       "    .dataframe thead tr:only-child th {\n",
       "        text-align: right;\n",
       "    }\n",
       "\n",
       "    .dataframe thead th {\n",
       "        text-align: left;\n",
       "    }\n",
       "\n",
       "    .dataframe tbody tr th {\n",
       "        vertical-align: top;\n",
       "    }\n",
       "</style>\n",
       "<table border=\"1\" class=\"dataframe\">\n",
       "  <thead>\n",
       "    <tr style=\"text-align: right;\">\n",
       "      <th></th>\n",
       "      <th>duration</th>\n",
       "      <th>protocol_type</th>\n",
       "      <th>service</th>\n",
       "      <th>flag</th>\n",
       "      <th>src_bytes</th>\n",
       "      <th>dst_bytes</th>\n",
       "      <th>wrong_fragment</th>\n",
       "      <th>hot</th>\n",
       "      <th>logged_in</th>\n",
       "      <th>num_compromised</th>\n",
       "      <th>...</th>\n",
       "      <th>dst_host_srv_count</th>\n",
       "      <th>dst_host_same_srv_rate</th>\n",
       "      <th>dst_host_diff_srv_rate</th>\n",
       "      <th>dst_host_same_src_port_rate</th>\n",
       "      <th>dst_host_srv_diff_host_rate</th>\n",
       "      <th>dst_host_serror_rate</th>\n",
       "      <th>dst_host_srv_serror_rate</th>\n",
       "      <th>dst_host_rerror_rate</th>\n",
       "      <th>dst_host_srv_rerror_rate</th>\n",
       "      <th>xAttack</th>\n",
       "    </tr>\n",
       "  </thead>\n",
       "  <tbody>\n",
       "    <tr>\n",
       "      <th>0</th>\n",
       "      <td>0</td>\n",
       "      <td>0.815167</td>\n",
       "      <td>20</td>\n",
       "      <td>2</td>\n",
       "      <td>491</td>\n",
       "      <td>0</td>\n",
       "      <td>0</td>\n",
       "      <td>0</td>\n",
       "      <td>0</td>\n",
       "      <td>0</td>\n",
       "      <td>...</td>\n",
       "      <td>25</td>\n",
       "      <td>0.17</td>\n",
       "      <td>0.03</td>\n",
       "      <td>0.17</td>\n",
       "      <td>0.00</td>\n",
       "      <td>0.00</td>\n",
       "      <td>0.00</td>\n",
       "      <td>0.05</td>\n",
       "      <td>0.00</td>\n",
       "      <td>normal</td>\n",
       "    </tr>\n",
       "    <tr>\n",
       "      <th>1</th>\n",
       "      <td>0</td>\n",
       "      <td>0.119018</td>\n",
       "      <td>45</td>\n",
       "      <td>2</td>\n",
       "      <td>146</td>\n",
       "      <td>0</td>\n",
       "      <td>0</td>\n",
       "      <td>0</td>\n",
       "      <td>0</td>\n",
       "      <td>0</td>\n",
       "      <td>...</td>\n",
       "      <td>1</td>\n",
       "      <td>0.00</td>\n",
       "      <td>0.60</td>\n",
       "      <td>0.88</td>\n",
       "      <td>0.00</td>\n",
       "      <td>0.00</td>\n",
       "      <td>0.00</td>\n",
       "      <td>0.00</td>\n",
       "      <td>0.00</td>\n",
       "      <td>normal</td>\n",
       "    </tr>\n",
       "    <tr>\n",
       "      <th>2</th>\n",
       "      <td>0</td>\n",
       "      <td>0.815167</td>\n",
       "      <td>50</td>\n",
       "      <td>4</td>\n",
       "      <td>0</td>\n",
       "      <td>0</td>\n",
       "      <td>0</td>\n",
       "      <td>0</td>\n",
       "      <td>0</td>\n",
       "      <td>0</td>\n",
       "      <td>...</td>\n",
       "      <td>26</td>\n",
       "      <td>0.10</td>\n",
       "      <td>0.05</td>\n",
       "      <td>0.00</td>\n",
       "      <td>0.00</td>\n",
       "      <td>1.00</td>\n",
       "      <td>1.00</td>\n",
       "      <td>0.00</td>\n",
       "      <td>0.00</td>\n",
       "      <td>dos</td>\n",
       "    </tr>\n",
       "    <tr>\n",
       "      <th>3</th>\n",
       "      <td>0</td>\n",
       "      <td>0.815167</td>\n",
       "      <td>25</td>\n",
       "      <td>2</td>\n",
       "      <td>232</td>\n",
       "      <td>8153</td>\n",
       "      <td>0</td>\n",
       "      <td>0</td>\n",
       "      <td>1</td>\n",
       "      <td>0</td>\n",
       "      <td>...</td>\n",
       "      <td>255</td>\n",
       "      <td>1.00</td>\n",
       "      <td>0.00</td>\n",
       "      <td>0.03</td>\n",
       "      <td>0.04</td>\n",
       "      <td>0.03</td>\n",
       "      <td>0.01</td>\n",
       "      <td>0.00</td>\n",
       "      <td>0.01</td>\n",
       "      <td>normal</td>\n",
       "    </tr>\n",
       "    <tr>\n",
       "      <th>4</th>\n",
       "      <td>0</td>\n",
       "      <td>0.815167</td>\n",
       "      <td>25</td>\n",
       "      <td>2</td>\n",
       "      <td>199</td>\n",
       "      <td>420</td>\n",
       "      <td>0</td>\n",
       "      <td>0</td>\n",
       "      <td>1</td>\n",
       "      <td>0</td>\n",
       "      <td>...</td>\n",
       "      <td>255</td>\n",
       "      <td>1.00</td>\n",
       "      <td>0.00</td>\n",
       "      <td>0.00</td>\n",
       "      <td>0.00</td>\n",
       "      <td>0.00</td>\n",
       "      <td>0.00</td>\n",
       "      <td>0.00</td>\n",
       "      <td>0.00</td>\n",
       "      <td>normal</td>\n",
       "    </tr>\n",
       "  </tbody>\n",
       "</table>\n",
       "<p>5 rows × 32 columns</p>\n",
       "</div>"
      ],
      "text/plain": [
       "   duration  protocol_type  service  flag  src_bytes  dst_bytes  \\\n",
       "0         0       0.815167       20     2        491          0   \n",
       "1         0       0.119018       45     2        146          0   \n",
       "2         0       0.815167       50     4          0          0   \n",
       "3         0       0.815167       25     2        232       8153   \n",
       "4         0       0.815167       25     2        199        420   \n",
       "\n",
       "   wrong_fragment  hot  logged_in  num_compromised   ...     \\\n",
       "0               0    0          0                0   ...      \n",
       "1               0    0          0                0   ...      \n",
       "2               0    0          0                0   ...      \n",
       "3               0    0          1                0   ...      \n",
       "4               0    0          1                0   ...      \n",
       "\n",
       "   dst_host_srv_count  dst_host_same_srv_rate  dst_host_diff_srv_rate  \\\n",
       "0                  25                    0.17                    0.03   \n",
       "1                   1                    0.00                    0.60   \n",
       "2                  26                    0.10                    0.05   \n",
       "3                 255                    1.00                    0.00   \n",
       "4                 255                    1.00                    0.00   \n",
       "\n",
       "   dst_host_same_src_port_rate  dst_host_srv_diff_host_rate  \\\n",
       "0                         0.17                         0.00   \n",
       "1                         0.88                         0.00   \n",
       "2                         0.00                         0.00   \n",
       "3                         0.03                         0.04   \n",
       "4                         0.00                         0.00   \n",
       "\n",
       "   dst_host_serror_rate  dst_host_srv_serror_rate  dst_host_rerror_rate  \\\n",
       "0                  0.00                      0.00                  0.05   \n",
       "1                  0.00                      0.00                  0.00   \n",
       "2                  1.00                      1.00                  0.00   \n",
       "3                  0.03                      0.01                  0.00   \n",
       "4                  0.00                      0.00                  0.00   \n",
       "\n",
       "   dst_host_srv_rerror_rate  xAttack  \n",
       "0                      0.00   normal  \n",
       "1                      0.00   normal  \n",
       "2                      0.00      dos  \n",
       "3                      0.01   normal  \n",
       "4                      0.00   normal  \n",
       "\n",
       "[5 rows x 32 columns]"
      ]
     },
     "execution_count": 138,
     "metadata": {},
     "output_type": "execute_result"
    }
   ],
   "source": [
    "data.head()"
   ]
  },
  {
   "cell_type": "code",
   "execution_count": 139,
   "metadata": {},
   "outputs": [
    {
     "data": {
      "text/plain": [
       "DecisionTreeClassifier(class_weight=None, criterion='gini', max_depth=None,\n",
       "            max_features=None, max_leaf_nodes=None,\n",
       "            min_impurity_split=1e-07, min_samples_leaf=1,\n",
       "            min_samples_split=2, min_weight_fraction_leaf=0.0,\n",
       "            presort=False, random_state=None, splitter='best')"
      ]
     },
     "execution_count": 139,
     "metadata": {},
     "output_type": "execute_result"
    }
   ],
   "source": [
    "tree.fit(data.iloc[:,:19],data.iloc[:,-1])"
   ]
  },
  {
   "cell_type": "code",
   "execution_count": 140,
   "metadata": {},
   "outputs": [
    {
     "name": "stderr",
     "output_type": "stream",
     "text": [
      "C:\\Users\\mslee\\Anaconda3\\lib\\site-packages\\ipykernel_launcher.py:1: FutureWarning: reshape is deprecated and will raise in a subsequent release. Please use .values.reshape(...) instead\n",
      "  \"\"\"Entry point for launching an IPython kernel.\n"
     ]
    },
    {
     "data": {
      "text/plain": [
       "array(['normal'], dtype=object)"
      ]
     },
     "execution_count": 140,
     "metadata": {},
     "output_type": "execute_result"
    }
   ],
   "source": [
    "tree.predict(data.iloc[10000,:19].reshape(1,-1))"
   ]
  },
  {
   "cell_type": "code",
   "execution_count": 141,
   "metadata": {},
   "outputs": [
    {
     "data": {
      "text/plain": [
       "'normal'"
      ]
     },
     "execution_count": 141,
     "metadata": {},
     "output_type": "execute_result"
    }
   ],
   "source": [
    "data.iloc[10000,-1]"
   ]
  },
  {
   "cell_type": "markdown",
   "metadata": {},
   "source": [
    "Decision Tree를 사용해보면서 안 가장 큰 점은 모델에 Feature가 19개 까지밖에 안들어간다는 점이다.  \n",
    "아직 Dimension을 줄이지 않았으므로 실험으로 처음 19개의 feature를 사용하여 fitting하고,  \n",
    "한개의 test case를 사용하여 확인해본 결과 잘 맞는 것을 볼 수 있었다."
   ]
  },
  {
   "cell_type": "markdown",
   "metadata": {},
   "source": [
    "### - KNN(just to check)"
   ]
  },
  {
   "cell_type": "markdown",
   "metadata": {},
   "source": [
    "이번에도 마찬가지로 feature selection을 하기에 앞서 먼저 모델에 제대로 작동하는지 확인하려한다. 실험으로 Knn을 사용해보았다."
   ]
  },
  {
   "cell_type": "code",
   "execution_count": 142,
   "metadata": {
    "collapsed": true
   },
   "outputs": [],
   "source": [
    "from sklearn.neighbors import KNeighborsClassifier"
   ]
  },
  {
   "cell_type": "code",
   "execution_count": 143,
   "metadata": {
    "collapsed": true
   },
   "outputs": [],
   "source": [
    "knn = KNeighborsClassifier()"
   ]
  },
  {
   "cell_type": "code",
   "execution_count": 144,
   "metadata": {},
   "outputs": [
    {
     "data": {
      "text/plain": [
       "KNeighborsClassifier(algorithm='auto', leaf_size=30, metric='minkowski',\n",
       "           metric_params=None, n_jobs=1, n_neighbors=5, p=2,\n",
       "           weights='uniform')"
      ]
     },
     "execution_count": 144,
     "metadata": {},
     "output_type": "execute_result"
    }
   ],
   "source": [
    "knn.fit(data.iloc[:,:19], data.iloc[:,-1])"
   ]
  },
  {
   "cell_type": "code",
   "execution_count": 145,
   "metadata": {},
   "outputs": [
    {
     "name": "stderr",
     "output_type": "stream",
     "text": [
      "C:\\Users\\mslee\\Anaconda3\\lib\\site-packages\\ipykernel_launcher.py:1: FutureWarning: reshape is deprecated and will raise in a subsequent release. Please use .values.reshape(...) instead\n",
      "  \"\"\"Entry point for launching an IPython kernel.\n"
     ]
    },
    {
     "data": {
      "text/plain": [
       "array([[0, 0.1190175672564756, 45, 2, 516, 4, 0, 0, 0, 0, 0, 0, 148, 148,\n",
       "        0.0, 0.0, 0.0, 0.0, 1.0]], dtype=object)"
      ]
     },
     "execution_count": 145,
     "metadata": {},
     "output_type": "execute_result"
    }
   ],
   "source": [
    "data.iloc[1001,:19].reshape(1,-1)"
   ]
  },
  {
   "cell_type": "code",
   "execution_count": 146,
   "metadata": {},
   "outputs": [
    {
     "name": "stderr",
     "output_type": "stream",
     "text": [
      "C:\\Users\\mslee\\Anaconda3\\lib\\site-packages\\ipykernel_launcher.py:1: FutureWarning: reshape is deprecated and will raise in a subsequent release. Please use .values.reshape(...) instead\n",
      "  \"\"\"Entry point for launching an IPython kernel.\n"
     ]
    },
    {
     "data": {
      "text/plain": [
       "array(['dos'], dtype=object)"
      ]
     },
     "execution_count": 146,
     "metadata": {},
     "output_type": "execute_result"
    }
   ],
   "source": [
    "knn.predict(data.iloc[100002,:19].reshape(1,-1))"
   ]
  },
  {
   "cell_type": "code",
   "execution_count": 147,
   "metadata": {},
   "outputs": [
    {
     "data": {
      "text/plain": [
       "'dos'"
      ]
     },
     "execution_count": 147,
     "metadata": {},
     "output_type": "execute_result"
    }
   ],
   "source": [
    "data.iloc[100002,-1]"
   ]
  },
  {
   "cell_type": "markdown",
   "metadata": {},
   "source": [
    "Decision Tree와 마찬가지로 Knn을 사용해보면서 안 가장 큰 점은 모델에 Feature가 19개 까지밖에 안들어간다는 점이다.  \n",
    "아직 Dimension을 줄이지 않았으므로 실험으로 처음 19개의 feature를 사용하여 fitting하고,  \n",
    "한개의 test case를 사용하여 확인해본 결과 잘 맞는 것을 볼 수 있었다."
   ]
  },
  {
   "cell_type": "markdown",
   "metadata": {},
   "source": [
    "두개의 모델로 실험을 해 본 결과 다음단계로 Feature selection을 해야한다는 것을 확인 할 수 있었고 최소한 19개로 줄여야 한다는 것을 알 수 있었다."
   ]
  },
  {
   "cell_type": "markdown",
   "metadata": {},
   "source": [
    "## (5) Feature Selection ( at least 19 features)"
   ]
  },
  {
   "cell_type": "markdown",
   "metadata": {},
   "source": [
    "### - noise 제거"
   ]
  },
  {
   "cell_type": "markdown",
   "metadata": {},
   "source": [
    "첫번째 Feature selection으로 dimension을 줄이는 방법으로 feature들 중 noise가 존재하는 데이터는 지우려한다.  \n",
    "예를 들어 10000만개의 데이터가 있을 경우 이중 9990개의 값은 0이지만 10개가 100000의 값을 가져 std로 구별 불가능 한 것을 찾으려 한다.  \n",
    "따라서 data describe를 이용하여 percentage를 늘리고 min max를 확인하여 보려한다."
   ]
  },
  {
   "cell_type": "code",
   "execution_count": 148,
   "metadata": {
    "collapsed": true
   },
   "outputs": [],
   "source": [
    "def noise_check(data):\n",
    "    key=list(data.keys())\n",
    "    for i in key:\n",
    "        hp=data[i].quantile(0.993)\n",
    "        lp=data[i].quantile(0.007)\n",
    "        if hp==data[i].min() or lp==data[i].max():\n",
    "            print(i)"
   ]
  },
  {
   "cell_type": "code",
   "execution_count": 149,
   "metadata": {},
   "outputs": [
    {
     "name": "stdout",
     "output_type": "stream",
     "text": [
      "num_root\n",
      "num_file_creations\n"
     ]
    }
   ],
   "source": [
    "noise_check(data.iloc[:,:-1])"
   ]
  },
  {
   "cell_type": "code",
   "execution_count": 150,
   "metadata": {},
   "outputs": [
    {
     "data": {
      "text/html": [
       "<div>\n",
       "<style>\n",
       "    .dataframe thead tr:only-child th {\n",
       "        text-align: right;\n",
       "    }\n",
       "\n",
       "    .dataframe thead th {\n",
       "        text-align: left;\n",
       "    }\n",
       "\n",
       "    .dataframe tbody tr th {\n",
       "        vertical-align: top;\n",
       "    }\n",
       "</style>\n",
       "<table border=\"1\" class=\"dataframe\">\n",
       "  <thead>\n",
       "    <tr style=\"text-align: right;\">\n",
       "      <th></th>\n",
       "      <th>duration</th>\n",
       "      <th>protocol_type</th>\n",
       "      <th>service</th>\n",
       "      <th>flag</th>\n",
       "      <th>src_bytes</th>\n",
       "      <th>dst_bytes</th>\n",
       "      <th>wrong_fragment</th>\n",
       "      <th>hot</th>\n",
       "      <th>logged_in</th>\n",
       "      <th>num_compromised</th>\n",
       "      <th>...</th>\n",
       "      <th>dst_host_srv_count</th>\n",
       "      <th>dst_host_same_srv_rate</th>\n",
       "      <th>dst_host_diff_srv_rate</th>\n",
       "      <th>dst_host_same_src_port_rate</th>\n",
       "      <th>dst_host_srv_diff_host_rate</th>\n",
       "      <th>dst_host_serror_rate</th>\n",
       "      <th>dst_host_srv_serror_rate</th>\n",
       "      <th>dst_host_rerror_rate</th>\n",
       "      <th>dst_host_srv_rerror_rate</th>\n",
       "      <th>xAttack</th>\n",
       "    </tr>\n",
       "  </thead>\n",
       "  <tbody>\n",
       "    <tr>\n",
       "      <th>0</th>\n",
       "      <td>0</td>\n",
       "      <td>0.815167</td>\n",
       "      <td>20</td>\n",
       "      <td>2</td>\n",
       "      <td>491</td>\n",
       "      <td>0</td>\n",
       "      <td>0</td>\n",
       "      <td>0</td>\n",
       "      <td>0</td>\n",
       "      <td>0</td>\n",
       "      <td>...</td>\n",
       "      <td>25</td>\n",
       "      <td>0.17</td>\n",
       "      <td>0.03</td>\n",
       "      <td>0.17</td>\n",
       "      <td>0.00</td>\n",
       "      <td>0.00</td>\n",
       "      <td>0.00</td>\n",
       "      <td>0.05</td>\n",
       "      <td>0.00</td>\n",
       "      <td>normal</td>\n",
       "    </tr>\n",
       "    <tr>\n",
       "      <th>1</th>\n",
       "      <td>0</td>\n",
       "      <td>0.119018</td>\n",
       "      <td>45</td>\n",
       "      <td>2</td>\n",
       "      <td>146</td>\n",
       "      <td>0</td>\n",
       "      <td>0</td>\n",
       "      <td>0</td>\n",
       "      <td>0</td>\n",
       "      <td>0</td>\n",
       "      <td>...</td>\n",
       "      <td>1</td>\n",
       "      <td>0.00</td>\n",
       "      <td>0.60</td>\n",
       "      <td>0.88</td>\n",
       "      <td>0.00</td>\n",
       "      <td>0.00</td>\n",
       "      <td>0.00</td>\n",
       "      <td>0.00</td>\n",
       "      <td>0.00</td>\n",
       "      <td>normal</td>\n",
       "    </tr>\n",
       "    <tr>\n",
       "      <th>2</th>\n",
       "      <td>0</td>\n",
       "      <td>0.815167</td>\n",
       "      <td>50</td>\n",
       "      <td>4</td>\n",
       "      <td>0</td>\n",
       "      <td>0</td>\n",
       "      <td>0</td>\n",
       "      <td>0</td>\n",
       "      <td>0</td>\n",
       "      <td>0</td>\n",
       "      <td>...</td>\n",
       "      <td>26</td>\n",
       "      <td>0.10</td>\n",
       "      <td>0.05</td>\n",
       "      <td>0.00</td>\n",
       "      <td>0.00</td>\n",
       "      <td>1.00</td>\n",
       "      <td>1.00</td>\n",
       "      <td>0.00</td>\n",
       "      <td>0.00</td>\n",
       "      <td>dos</td>\n",
       "    </tr>\n",
       "    <tr>\n",
       "      <th>3</th>\n",
       "      <td>0</td>\n",
       "      <td>0.815167</td>\n",
       "      <td>25</td>\n",
       "      <td>2</td>\n",
       "      <td>232</td>\n",
       "      <td>8153</td>\n",
       "      <td>0</td>\n",
       "      <td>0</td>\n",
       "      <td>1</td>\n",
       "      <td>0</td>\n",
       "      <td>...</td>\n",
       "      <td>255</td>\n",
       "      <td>1.00</td>\n",
       "      <td>0.00</td>\n",
       "      <td>0.03</td>\n",
       "      <td>0.04</td>\n",
       "      <td>0.03</td>\n",
       "      <td>0.01</td>\n",
       "      <td>0.00</td>\n",
       "      <td>0.01</td>\n",
       "      <td>normal</td>\n",
       "    </tr>\n",
       "    <tr>\n",
       "      <th>4</th>\n",
       "      <td>0</td>\n",
       "      <td>0.815167</td>\n",
       "      <td>25</td>\n",
       "      <td>2</td>\n",
       "      <td>199</td>\n",
       "      <td>420</td>\n",
       "      <td>0</td>\n",
       "      <td>0</td>\n",
       "      <td>1</td>\n",
       "      <td>0</td>\n",
       "      <td>...</td>\n",
       "      <td>255</td>\n",
       "      <td>1.00</td>\n",
       "      <td>0.00</td>\n",
       "      <td>0.00</td>\n",
       "      <td>0.00</td>\n",
       "      <td>0.00</td>\n",
       "      <td>0.00</td>\n",
       "      <td>0.00</td>\n",
       "      <td>0.00</td>\n",
       "      <td>normal</td>\n",
       "    </tr>\n",
       "  </tbody>\n",
       "</table>\n",
       "<p>5 rows × 32 columns</p>\n",
       "</div>"
      ],
      "text/plain": [
       "   duration  protocol_type  service  flag  src_bytes  dst_bytes  \\\n",
       "0         0       0.815167       20     2        491          0   \n",
       "1         0       0.119018       45     2        146          0   \n",
       "2         0       0.815167       50     4          0          0   \n",
       "3         0       0.815167       25     2        232       8153   \n",
       "4         0       0.815167       25     2        199        420   \n",
       "\n",
       "   wrong_fragment  hot  logged_in  num_compromised   ...     \\\n",
       "0               0    0          0                0   ...      \n",
       "1               0    0          0                0   ...      \n",
       "2               0    0          0                0   ...      \n",
       "3               0    0          1                0   ...      \n",
       "4               0    0          1                0   ...      \n",
       "\n",
       "   dst_host_srv_count  dst_host_same_srv_rate  dst_host_diff_srv_rate  \\\n",
       "0                  25                    0.17                    0.03   \n",
       "1                   1                    0.00                    0.60   \n",
       "2                  26                    0.10                    0.05   \n",
       "3                 255                    1.00                    0.00   \n",
       "4                 255                    1.00                    0.00   \n",
       "\n",
       "   dst_host_same_src_port_rate  dst_host_srv_diff_host_rate  \\\n",
       "0                         0.17                         0.00   \n",
       "1                         0.88                         0.00   \n",
       "2                         0.00                         0.00   \n",
       "3                         0.03                         0.04   \n",
       "4                         0.00                         0.00   \n",
       "\n",
       "   dst_host_serror_rate  dst_host_srv_serror_rate  dst_host_rerror_rate  \\\n",
       "0                  0.00                      0.00                  0.05   \n",
       "1                  0.00                      0.00                  0.00   \n",
       "2                  1.00                      1.00                  0.00   \n",
       "3                  0.03                      0.01                  0.00   \n",
       "4                  0.00                      0.00                  0.00   \n",
       "\n",
       "   dst_host_srv_rerror_rate  xAttack  \n",
       "0                      0.00   normal  \n",
       "1                      0.00   normal  \n",
       "2                      0.00      dos  \n",
       "3                      0.01   normal  \n",
       "4                      0.00   normal  \n",
       "\n",
       "[5 rows x 32 columns]"
      ]
     },
     "execution_count": 150,
     "metadata": {},
     "output_type": "execute_result"
    }
   ],
   "source": [
    "data.head()"
   ]
  },
  {
   "cell_type": "code",
   "execution_count": 151,
   "metadata": {
    "collapsed": true
   },
   "outputs": [],
   "source": [
    "def noise_removal(data,test):\n",
    "    key=list(data.keys()[:-1])\n",
    "    for i in key:\n",
    "        hp=data[i].quantile(0.993)\n",
    "        lp=data[i].quantile(0.007)\n",
    "        if hp==data[i].min() or lp==data[i].max():\n",
    "            del data[i]\n",
    "            del test[i]\n",
    "    return data, test"
   ]
  },
  {
   "cell_type": "code",
   "execution_count": 152,
   "metadata": {
    "collapsed": true
   },
   "outputs": [],
   "source": [
    "data,test=noise_removal(data,test)"
   ]
  },
  {
   "cell_type": "code",
   "execution_count": 153,
   "metadata": {},
   "outputs": [
    {
     "data": {
      "text/html": [
       "<div>\n",
       "<style>\n",
       "    .dataframe thead tr:only-child th {\n",
       "        text-align: right;\n",
       "    }\n",
       "\n",
       "    .dataframe thead th {\n",
       "        text-align: left;\n",
       "    }\n",
       "\n",
       "    .dataframe tbody tr th {\n",
       "        vertical-align: top;\n",
       "    }\n",
       "</style>\n",
       "<table border=\"1\" class=\"dataframe\">\n",
       "  <thead>\n",
       "    <tr style=\"text-align: right;\">\n",
       "      <th></th>\n",
       "      <th>duration</th>\n",
       "      <th>protocol_type</th>\n",
       "      <th>service</th>\n",
       "      <th>flag</th>\n",
       "      <th>src_bytes</th>\n",
       "      <th>dst_bytes</th>\n",
       "      <th>wrong_fragment</th>\n",
       "      <th>hot</th>\n",
       "      <th>logged_in</th>\n",
       "      <th>num_compromised</th>\n",
       "      <th>...</th>\n",
       "      <th>dst_host_srv_count</th>\n",
       "      <th>dst_host_same_srv_rate</th>\n",
       "      <th>dst_host_diff_srv_rate</th>\n",
       "      <th>dst_host_same_src_port_rate</th>\n",
       "      <th>dst_host_srv_diff_host_rate</th>\n",
       "      <th>dst_host_serror_rate</th>\n",
       "      <th>dst_host_srv_serror_rate</th>\n",
       "      <th>dst_host_rerror_rate</th>\n",
       "      <th>dst_host_srv_rerror_rate</th>\n",
       "      <th>xAttack</th>\n",
       "    </tr>\n",
       "  </thead>\n",
       "  <tbody>\n",
       "    <tr>\n",
       "      <th>0</th>\n",
       "      <td>0</td>\n",
       "      <td>0.815167</td>\n",
       "      <td>20</td>\n",
       "      <td>2</td>\n",
       "      <td>491</td>\n",
       "      <td>0</td>\n",
       "      <td>0</td>\n",
       "      <td>0</td>\n",
       "      <td>0</td>\n",
       "      <td>0</td>\n",
       "      <td>...</td>\n",
       "      <td>25</td>\n",
       "      <td>0.17</td>\n",
       "      <td>0.03</td>\n",
       "      <td>0.17</td>\n",
       "      <td>0.00</td>\n",
       "      <td>0.00</td>\n",
       "      <td>0.00</td>\n",
       "      <td>0.05</td>\n",
       "      <td>0.00</td>\n",
       "      <td>normal</td>\n",
       "    </tr>\n",
       "    <tr>\n",
       "      <th>1</th>\n",
       "      <td>0</td>\n",
       "      <td>0.119018</td>\n",
       "      <td>45</td>\n",
       "      <td>2</td>\n",
       "      <td>146</td>\n",
       "      <td>0</td>\n",
       "      <td>0</td>\n",
       "      <td>0</td>\n",
       "      <td>0</td>\n",
       "      <td>0</td>\n",
       "      <td>...</td>\n",
       "      <td>1</td>\n",
       "      <td>0.00</td>\n",
       "      <td>0.60</td>\n",
       "      <td>0.88</td>\n",
       "      <td>0.00</td>\n",
       "      <td>0.00</td>\n",
       "      <td>0.00</td>\n",
       "      <td>0.00</td>\n",
       "      <td>0.00</td>\n",
       "      <td>normal</td>\n",
       "    </tr>\n",
       "    <tr>\n",
       "      <th>2</th>\n",
       "      <td>0</td>\n",
       "      <td>0.815167</td>\n",
       "      <td>50</td>\n",
       "      <td>4</td>\n",
       "      <td>0</td>\n",
       "      <td>0</td>\n",
       "      <td>0</td>\n",
       "      <td>0</td>\n",
       "      <td>0</td>\n",
       "      <td>0</td>\n",
       "      <td>...</td>\n",
       "      <td>26</td>\n",
       "      <td>0.10</td>\n",
       "      <td>0.05</td>\n",
       "      <td>0.00</td>\n",
       "      <td>0.00</td>\n",
       "      <td>1.00</td>\n",
       "      <td>1.00</td>\n",
       "      <td>0.00</td>\n",
       "      <td>0.00</td>\n",
       "      <td>dos</td>\n",
       "    </tr>\n",
       "    <tr>\n",
       "      <th>3</th>\n",
       "      <td>0</td>\n",
       "      <td>0.815167</td>\n",
       "      <td>25</td>\n",
       "      <td>2</td>\n",
       "      <td>232</td>\n",
       "      <td>8153</td>\n",
       "      <td>0</td>\n",
       "      <td>0</td>\n",
       "      <td>1</td>\n",
       "      <td>0</td>\n",
       "      <td>...</td>\n",
       "      <td>255</td>\n",
       "      <td>1.00</td>\n",
       "      <td>0.00</td>\n",
       "      <td>0.03</td>\n",
       "      <td>0.04</td>\n",
       "      <td>0.03</td>\n",
       "      <td>0.01</td>\n",
       "      <td>0.00</td>\n",
       "      <td>0.01</td>\n",
       "      <td>normal</td>\n",
       "    </tr>\n",
       "    <tr>\n",
       "      <th>4</th>\n",
       "      <td>0</td>\n",
       "      <td>0.815167</td>\n",
       "      <td>25</td>\n",
       "      <td>2</td>\n",
       "      <td>199</td>\n",
       "      <td>420</td>\n",
       "      <td>0</td>\n",
       "      <td>0</td>\n",
       "      <td>1</td>\n",
       "      <td>0</td>\n",
       "      <td>...</td>\n",
       "      <td>255</td>\n",
       "      <td>1.00</td>\n",
       "      <td>0.00</td>\n",
       "      <td>0.00</td>\n",
       "      <td>0.00</td>\n",
       "      <td>0.00</td>\n",
       "      <td>0.00</td>\n",
       "      <td>0.00</td>\n",
       "      <td>0.00</td>\n",
       "      <td>normal</td>\n",
       "    </tr>\n",
       "  </tbody>\n",
       "</table>\n",
       "<p>5 rows × 30 columns</p>\n",
       "</div>"
      ],
      "text/plain": [
       "   duration  protocol_type  service  flag  src_bytes  dst_bytes  \\\n",
       "0         0       0.815167       20     2        491          0   \n",
       "1         0       0.119018       45     2        146          0   \n",
       "2         0       0.815167       50     4          0          0   \n",
       "3         0       0.815167       25     2        232       8153   \n",
       "4         0       0.815167       25     2        199        420   \n",
       "\n",
       "   wrong_fragment  hot  logged_in  num_compromised   ...     \\\n",
       "0               0    0          0                0   ...      \n",
       "1               0    0          0                0   ...      \n",
       "2               0    0          0                0   ...      \n",
       "3               0    0          1                0   ...      \n",
       "4               0    0          1                0   ...      \n",
       "\n",
       "   dst_host_srv_count  dst_host_same_srv_rate  dst_host_diff_srv_rate  \\\n",
       "0                  25                    0.17                    0.03   \n",
       "1                   1                    0.00                    0.60   \n",
       "2                  26                    0.10                    0.05   \n",
       "3                 255                    1.00                    0.00   \n",
       "4                 255                    1.00                    0.00   \n",
       "\n",
       "   dst_host_same_src_port_rate  dst_host_srv_diff_host_rate  \\\n",
       "0                         0.17                         0.00   \n",
       "1                         0.88                         0.00   \n",
       "2                         0.00                         0.00   \n",
       "3                         0.03                         0.04   \n",
       "4                         0.00                         0.00   \n",
       "\n",
       "   dst_host_serror_rate  dst_host_srv_serror_rate  dst_host_rerror_rate  \\\n",
       "0                  0.00                      0.00                  0.05   \n",
       "1                  0.00                      0.00                  0.00   \n",
       "2                  1.00                      1.00                  0.00   \n",
       "3                  0.03                      0.01                  0.00   \n",
       "4                  0.00                      0.00                  0.00   \n",
       "\n",
       "   dst_host_srv_rerror_rate  xAttack  \n",
       "0                      0.00   normal  \n",
       "1                      0.00   normal  \n",
       "2                      0.00      dos  \n",
       "3                      0.01   normal  \n",
       "4                      0.00   normal  \n",
       "\n",
       "[5 rows x 30 columns]"
      ]
     },
     "execution_count": 153,
     "metadata": {},
     "output_type": "execute_result"
    }
   ],
   "source": [
    "data.head()"
   ]
  },
  {
   "cell_type": "code",
   "execution_count": 154,
   "metadata": {},
   "outputs": [
    {
     "data": {
      "text/html": [
       "<div>\n",
       "<style>\n",
       "    .dataframe thead tr:only-child th {\n",
       "        text-align: right;\n",
       "    }\n",
       "\n",
       "    .dataframe thead th {\n",
       "        text-align: left;\n",
       "    }\n",
       "\n",
       "    .dataframe tbody tr th {\n",
       "        vertical-align: top;\n",
       "    }\n",
       "</style>\n",
       "<table border=\"1\" class=\"dataframe\">\n",
       "  <thead>\n",
       "    <tr style=\"text-align: right;\">\n",
       "      <th></th>\n",
       "      <th>duration</th>\n",
       "      <th>protocol_type</th>\n",
       "      <th>service</th>\n",
       "      <th>flag</th>\n",
       "      <th>src_bytes</th>\n",
       "      <th>dst_bytes</th>\n",
       "      <th>wrong_fragment</th>\n",
       "      <th>hot</th>\n",
       "      <th>logged_in</th>\n",
       "      <th>num_compromised</th>\n",
       "      <th>...</th>\n",
       "      <th>dst_host_srv_count</th>\n",
       "      <th>dst_host_same_srv_rate</th>\n",
       "      <th>dst_host_diff_srv_rate</th>\n",
       "      <th>dst_host_same_src_port_rate</th>\n",
       "      <th>dst_host_srv_diff_host_rate</th>\n",
       "      <th>dst_host_serror_rate</th>\n",
       "      <th>dst_host_srv_serror_rate</th>\n",
       "      <th>dst_host_rerror_rate</th>\n",
       "      <th>dst_host_srv_rerror_rate</th>\n",
       "      <th>xAttack</th>\n",
       "    </tr>\n",
       "  </thead>\n",
       "  <tbody>\n",
       "    <tr>\n",
       "      <th>0</th>\n",
       "      <td>0</td>\n",
       "      <td>0.815167</td>\n",
       "      <td>25</td>\n",
       "      <td>4</td>\n",
       "      <td>0</td>\n",
       "      <td>0</td>\n",
       "      <td>0</td>\n",
       "      <td>0</td>\n",
       "      <td>0</td>\n",
       "      <td>0</td>\n",
       "      <td>...</td>\n",
       "      <td>255</td>\n",
       "      <td>1.00</td>\n",
       "      <td>0.00</td>\n",
       "      <td>0.00</td>\n",
       "      <td>0.00</td>\n",
       "      <td>0.65</td>\n",
       "      <td>0.65</td>\n",
       "      <td>0.32</td>\n",
       "      <td>0.32</td>\n",
       "      <td>dos</td>\n",
       "    </tr>\n",
       "    <tr>\n",
       "      <th>1</th>\n",
       "      <td>0</td>\n",
       "      <td>0.119018</td>\n",
       "      <td>25</td>\n",
       "      <td>2</td>\n",
       "      <td>312</td>\n",
       "      <td>1856</td>\n",
       "      <td>0</td>\n",
       "      <td>0</td>\n",
       "      <td>1</td>\n",
       "      <td>0</td>\n",
       "      <td>...</td>\n",
       "      <td>254</td>\n",
       "      <td>1.00</td>\n",
       "      <td>0.00</td>\n",
       "      <td>1.00</td>\n",
       "      <td>0.06</td>\n",
       "      <td>0.00</td>\n",
       "      <td>0.00</td>\n",
       "      <td>0.00</td>\n",
       "      <td>0.00</td>\n",
       "      <td>normal</td>\n",
       "    </tr>\n",
       "    <tr>\n",
       "      <th>2</th>\n",
       "      <td>0</td>\n",
       "      <td>0.815167</td>\n",
       "      <td>25</td>\n",
       "      <td>2</td>\n",
       "      <td>245</td>\n",
       "      <td>2058</td>\n",
       "      <td>0</td>\n",
       "      <td>0</td>\n",
       "      <td>1</td>\n",
       "      <td>0</td>\n",
       "      <td>...</td>\n",
       "      <td>255</td>\n",
       "      <td>1.00</td>\n",
       "      <td>0.00</td>\n",
       "      <td>0.01</td>\n",
       "      <td>0.05</td>\n",
       "      <td>0.01</td>\n",
       "      <td>0.00</td>\n",
       "      <td>0.00</td>\n",
       "      <td>0.00</td>\n",
       "      <td>normal</td>\n",
       "    </tr>\n",
       "    <tr>\n",
       "      <th>3</th>\n",
       "      <td>0</td>\n",
       "      <td>0.815167</td>\n",
       "      <td>25</td>\n",
       "      <td>2</td>\n",
       "      <td>298</td>\n",
       "      <td>1267</td>\n",
       "      <td>0</td>\n",
       "      <td>0</td>\n",
       "      <td>1</td>\n",
       "      <td>0</td>\n",
       "      <td>...</td>\n",
       "      <td>255</td>\n",
       "      <td>1.00</td>\n",
       "      <td>0.00</td>\n",
       "      <td>0.00</td>\n",
       "      <td>0.00</td>\n",
       "      <td>0.00</td>\n",
       "      <td>0.00</td>\n",
       "      <td>0.00</td>\n",
       "      <td>0.00</td>\n",
       "      <td>normal</td>\n",
       "    </tr>\n",
       "    <tr>\n",
       "      <th>4</th>\n",
       "      <td>0</td>\n",
       "      <td>0.815167</td>\n",
       "      <td>20</td>\n",
       "      <td>2</td>\n",
       "      <td>740</td>\n",
       "      <td>0</td>\n",
       "      <td>0</td>\n",
       "      <td>0</td>\n",
       "      <td>0</td>\n",
       "      <td>0</td>\n",
       "      <td>...</td>\n",
       "      <td>19</td>\n",
       "      <td>0.18</td>\n",
       "      <td>0.03</td>\n",
       "      <td>0.18</td>\n",
       "      <td>0.00</td>\n",
       "      <td>0.00</td>\n",
       "      <td>0.00</td>\n",
       "      <td>0.00</td>\n",
       "      <td>0.00</td>\n",
       "      <td>normal</td>\n",
       "    </tr>\n",
       "  </tbody>\n",
       "</table>\n",
       "<p>5 rows × 30 columns</p>\n",
       "</div>"
      ],
      "text/plain": [
       "   duration  protocol_type  service  flag  src_bytes  dst_bytes  \\\n",
       "0         0       0.815167       25     4          0          0   \n",
       "1         0       0.119018       25     2        312       1856   \n",
       "2         0       0.815167       25     2        245       2058   \n",
       "3         0       0.815167       25     2        298       1267   \n",
       "4         0       0.815167       20     2        740          0   \n",
       "\n",
       "   wrong_fragment  hot  logged_in  num_compromised   ...     \\\n",
       "0               0    0          0                0   ...      \n",
       "1               0    0          1                0   ...      \n",
       "2               0    0          1                0   ...      \n",
       "3               0    0          1                0   ...      \n",
       "4               0    0          0                0   ...      \n",
       "\n",
       "   dst_host_srv_count  dst_host_same_srv_rate  dst_host_diff_srv_rate  \\\n",
       "0                 255                    1.00                    0.00   \n",
       "1                 254                    1.00                    0.00   \n",
       "2                 255                    1.00                    0.00   \n",
       "3                 255                    1.00                    0.00   \n",
       "4                  19                    0.18                    0.03   \n",
       "\n",
       "   dst_host_same_src_port_rate  dst_host_srv_diff_host_rate  \\\n",
       "0                         0.00                         0.00   \n",
       "1                         1.00                         0.06   \n",
       "2                         0.01                         0.05   \n",
       "3                         0.00                         0.00   \n",
       "4                         0.18                         0.00   \n",
       "\n",
       "   dst_host_serror_rate  dst_host_srv_serror_rate  dst_host_rerror_rate  \\\n",
       "0                  0.65                      0.65                  0.32   \n",
       "1                  0.00                      0.00                  0.00   \n",
       "2                  0.01                      0.00                  0.00   \n",
       "3                  0.00                      0.00                  0.00   \n",
       "4                  0.00                      0.00                  0.00   \n",
       "\n",
       "   dst_host_srv_rerror_rate  xAttack  \n",
       "0                      0.32      dos  \n",
       "1                      0.00   normal  \n",
       "2                      0.00   normal  \n",
       "3                      0.00   normal  \n",
       "4                      0.00   normal  \n",
       "\n",
       "[5 rows x 30 columns]"
      ]
     },
     "execution_count": 154,
     "metadata": {},
     "output_type": "execute_result"
    }
   ],
   "source": [
    "test.head()"
   ]
  },
  {
   "cell_type": "markdown",
   "metadata": {},
   "source": [
    "위에서 noise 제거하는 방식으로 총 데이터의 99.3% 이상이 min과 max의 값과 같다면 그 데이터는 거의 비슷한 데이터를 가지고 있지만,  \n",
    "작은 개수의 데이터가 갑자기 큰값을 가져 std가 크게 나오고 결과적으로 노이즈를 준다는 판단하에 제거 하였다.  \n",
    "그때 그런 feature는 두가지가 있었고 그때의 feature들을 제거한 결과 30개만 남게 되었다.  \n",
    "test data의 경우도 위와 마찬가지로 trian data에서 제거한 값을 제거해 주었다."
   ]
  },
  {
   "cell_type": "markdown",
   "metadata": {},
   "source": [
    "### - Dimension reduction using PCA method"
   ]
  },
  {
   "cell_type": "markdown",
   "metadata": {},
   "source": [
    "#### choosing dimension using eigenvectors derived from diagonalized co-variance matrix"
   ]
  },
  {
   "cell_type": "markdown",
   "metadata": {},
   "source": [
    "이제 기본적인 데이터 처리는 끝냈다고 생각하고 차원을 줄이려고 한다.  \n",
    "이제 남은 데이터들은 함부로 없앨 수 없으며 각 데이터간에 연관성이 있을 수 있으므로 PCA방법을 사용하여 dimension을 줄이려고 한다.  \n",
    "PCA방법에서 우선적으로 중요한 원리는 각 feature들의 variance가 아닌  \n",
    "total_feature by total_feature의 matrix에서 각 feature들 사이에서 co-variance를 구하고,  \n",
    "이를 diagonalize 시키고 그때 eigenvalue를 구한다.  \n",
    "구한 eigenvalue들 사이에서 큰값을 가지는 eigenvalue를 선정하고 그에해당하는 eigenvector들로 차원을 바꾸어준다.  \n",
    "따라서 가장 먼저 몇차원으로 바꿀것인지를 보기위하여 eigenvalue를 구하고 그에 해당하는 값을 보려한다.  \n",
    "이때 현존하는 라이브러리가 있어 numpy library를 써서 구하였다.  "
   ]
  },
  {
   "cell_type": "code",
   "execution_count": 182,
   "metadata": {
    "collapsed": true
   },
   "outputs": [],
   "source": [
    "df3=data.iloc[:,:-1]\n",
    "ts2=test.iloc[:,:-1]"
   ]
  },
  {
   "cell_type": "code",
   "execution_count": 183,
   "metadata": {
    "collapsed": true
   },
   "outputs": [],
   "source": [
    "covm=df3.cov()"
   ]
  },
  {
   "cell_type": "code",
   "execution_count": 184,
   "metadata": {},
   "outputs": [
    {
     "data": {
      "text/html": [
       "<div>\n",
       "<style>\n",
       "    .dataframe thead tr:only-child th {\n",
       "        text-align: right;\n",
       "    }\n",
       "\n",
       "    .dataframe thead th {\n",
       "        text-align: left;\n",
       "    }\n",
       "\n",
       "    .dataframe tbody tr th {\n",
       "        vertical-align: top;\n",
       "    }\n",
       "</style>\n",
       "<table border=\"1\" class=\"dataframe\">\n",
       "  <thead>\n",
       "    <tr style=\"text-align: right;\">\n",
       "      <th></th>\n",
       "      <th>duration</th>\n",
       "      <th>protocol_type</th>\n",
       "      <th>service</th>\n",
       "      <th>flag</th>\n",
       "      <th>src_bytes</th>\n",
       "      <th>dst_bytes</th>\n",
       "      <th>wrong_fragment</th>\n",
       "      <th>hot</th>\n",
       "      <th>logged_in</th>\n",
       "      <th>num_compromised</th>\n",
       "      <th>...</th>\n",
       "      <th>dst_host_count</th>\n",
       "      <th>dst_host_srv_count</th>\n",
       "      <th>dst_host_same_srv_rate</th>\n",
       "      <th>dst_host_diff_srv_rate</th>\n",
       "      <th>dst_host_same_src_port_rate</th>\n",
       "      <th>dst_host_srv_diff_host_rate</th>\n",
       "      <th>dst_host_serror_rate</th>\n",
       "      <th>dst_host_srv_serror_rate</th>\n",
       "      <th>dst_host_rerror_rate</th>\n",
       "      <th>dst_host_srv_rerror_rate</th>\n",
       "    </tr>\n",
       "  </thead>\n",
       "  <tbody>\n",
       "    <tr>\n",
       "      <th>duration</th>\n",
       "      <td>6.783500e+06</td>\n",
       "      <td>-2.262243</td>\n",
       "      <td>3989.829634</td>\n",
       "      <td>436.330479</td>\n",
       "      <td>1.081521e+09</td>\n",
       "      <td>3.652911e+08</td>\n",
       "      <td>-6.514618</td>\n",
       "      <td>3.948411</td>\n",
       "      <td>-81.789827</td>\n",
       "      <td>2661.381748</td>\n",
       "      <td>...</td>\n",
       "      <td>1.306649e+04</td>\n",
       "      <td>-3.165126e+04</td>\n",
       "      <td>-135.644072</td>\n",
       "      <td>125.076665</td>\n",
       "      <td>184.085040</td>\n",
       "      <td>-7.818772</td>\n",
       "      <td>-75.238764</td>\n",
       "      <td>-74.706600</td>\n",
       "      <td>138.779966</td>\n",
       "      <td>165.594977</td>\n",
       "    </tr>\n",
       "    <tr>\n",
       "      <th>protocol_type</th>\n",
       "      <td>-2.262243e+00</td>\n",
       "      <td>0.077167</td>\n",
       "      <td>1.123660</td>\n",
       "      <td>0.076024</td>\n",
       "      <td>6.000015e+03</td>\n",
       "      <td>2.608418e+03</td>\n",
       "      <td>-0.012879</td>\n",
       "      <td>0.027018</td>\n",
       "      <td>0.052306</td>\n",
       "      <td>0.036910</td>\n",
       "      <td>...</td>\n",
       "      <td>-1.687224e-01</td>\n",
       "      <td>-3.046647e+00</td>\n",
       "      <td>-0.025294</td>\n",
       "      <td>-0.001288</td>\n",
       "      <td>-0.041837</td>\n",
       "      <td>-0.007484</td>\n",
       "      <td>0.036921</td>\n",
       "      <td>0.036808</td>\n",
       "      <td>0.011750</td>\n",
       "      <td>0.015893</td>\n",
       "    </tr>\n",
       "    <tr>\n",
       "      <th>service</th>\n",
       "      <td>3.989830e+03</td>\n",
       "      <td>1.123660</td>\n",
       "      <td>271.016337</td>\n",
       "      <td>4.458545</td>\n",
       "      <td>-1.571016e+05</td>\n",
       "      <td>2.382856e+05</td>\n",
       "      <td>0.352978</td>\n",
       "      <td>-2.224144</td>\n",
       "      <td>-1.090692</td>\n",
       "      <td>7.787243</td>\n",
       "      <td>...</td>\n",
       "      <td>3.104575e+02</td>\n",
       "      <td>-7.400567e+02</td>\n",
       "      <td>-3.334547</td>\n",
       "      <td>0.882544</td>\n",
       "      <td>-0.564409</td>\n",
       "      <td>-0.284644</td>\n",
       "      <td>2.065861</td>\n",
       "      <td>2.041380</td>\n",
       "      <td>0.766316</td>\n",
       "      <td>0.787745</td>\n",
       "    </tr>\n",
       "    <tr>\n",
       "      <th>flag</th>\n",
       "      <td>4.363305e+02</td>\n",
       "      <td>0.076024</td>\n",
       "      <td>4.458545</td>\n",
       "      <td>1.303141</td>\n",
       "      <td>1.162442e+04</td>\n",
       "      <td>3.985700e+04</td>\n",
       "      <td>-0.013049</td>\n",
       "      <td>-0.102101</td>\n",
       "      <td>-0.197344</td>\n",
       "      <td>0.003115</td>\n",
       "      <td>...</td>\n",
       "      <td>3.518754e+01</td>\n",
       "      <td>-5.654583e+01</td>\n",
       "      <td>-0.256566</td>\n",
       "      <td>0.010263</td>\n",
       "      <td>-0.035572</td>\n",
       "      <td>-0.021551</td>\n",
       "      <td>0.392681</td>\n",
       "      <td>0.398216</td>\n",
       "      <td>-0.093165</td>\n",
       "      <td>-0.088155</td>\n",
       "    </tr>\n",
       "    <tr>\n",
       "      <th>src_bytes</th>\n",
       "      <td>1.081521e+09</td>\n",
       "      <td>6000.015201</td>\n",
       "      <td>-157101.646107</td>\n",
       "      <td>11624.416691</td>\n",
       "      <td>3.446079e+13</td>\n",
       "      <td>4.812896e+09</td>\n",
       "      <td>-1030.881716</td>\n",
       "      <td>3722.506547</td>\n",
       "      <td>-9624.436915</td>\n",
       "      <td>-12027.793115</td>\n",
       "      <td>...</td>\n",
       "      <td>-3.372456e+06</td>\n",
       "      <td>-4.458378e+06</td>\n",
       "      <td>-17319.999754</td>\n",
       "      <td>998.278802</td>\n",
       "      <td>782.377278</td>\n",
       "      <td>-1093.517301</td>\n",
       "      <td>-11756.792716</td>\n",
       "      <td>-8887.372122</td>\n",
       "      <td>-2642.288941</td>\n",
       "      <td>23346.556402</td>\n",
       "    </tr>\n",
       "    <tr>\n",
       "      <th>dst_bytes</th>\n",
       "      <td>3.652911e+08</td>\n",
       "      <td>2608.417795</td>\n",
       "      <td>238285.625776</td>\n",
       "      <td>39857.002972</td>\n",
       "      <td>4.812896e+09</td>\n",
       "      <td>1.617061e+13</td>\n",
       "      <td>-448.738934</td>\n",
       "      <td>-2973.520229</td>\n",
       "      <td>-5691.193933</td>\n",
       "      <td>118672.973819</td>\n",
       "      <td>...</td>\n",
       "      <td>1.008435e+06</td>\n",
       "      <td>-1.880244e+06</td>\n",
       "      <td>-7985.975722</td>\n",
       "      <td>8380.635658</td>\n",
       "      <td>14596.752535</td>\n",
       "      <td>-579.667117</td>\n",
       "      <td>-5407.938785</td>\n",
       "      <td>-5275.970418</td>\n",
       "      <td>14459.261178</td>\n",
       "      <td>14417.852035</td>\n",
       "    </tr>\n",
       "    <tr>\n",
       "      <th>wrong_fragment</th>\n",
       "      <td>-6.514618e+00</td>\n",
       "      <td>-0.012879</td>\n",
       "      <td>0.352978</td>\n",
       "      <td>-0.013049</td>\n",
       "      <td>-1.030882e+03</td>\n",
       "      <td>-4.487389e+02</td>\n",
       "      <td>0.064277</td>\n",
       "      <td>-0.004638</td>\n",
       "      <td>-0.008978</td>\n",
       "      <td>-0.006336</td>\n",
       "      <td>...</td>\n",
       "      <td>1.032637e+00</td>\n",
       "      <td>-1.269729e+00</td>\n",
       "      <td>-0.005547</td>\n",
       "      <td>0.002864</td>\n",
       "      <td>0.002912</td>\n",
       "      <td>-0.000464</td>\n",
       "      <td>-0.005854</td>\n",
       "      <td>-0.006318</td>\n",
       "      <td>0.002245</td>\n",
       "      <td>-0.002728</td>\n",
       "    </tr>\n",
       "    <tr>\n",
       "      <th>hot</th>\n",
       "      <td>3.948411e+00</td>\n",
       "      <td>0.027018</td>\n",
       "      <td>-2.224144</td>\n",
       "      <td>-0.102101</td>\n",
       "      <td>3.722507e+03</td>\n",
       "      <td>-2.973520e+03</td>\n",
       "      <td>-0.004638</td>\n",
       "      <td>4.622364</td>\n",
       "      <td>0.122415</td>\n",
       "      <td>0.103644</td>\n",
       "      <td>...</td>\n",
       "      <td>-2.612686e+00</td>\n",
       "      <td>-1.234399e+01</td>\n",
       "      <td>-0.035031</td>\n",
       "      <td>-0.004993</td>\n",
       "      <td>-0.022944</td>\n",
       "      <td>-0.005981</td>\n",
       "      <td>-0.055677</td>\n",
       "      <td>-0.055780</td>\n",
       "      <td>-0.020138</td>\n",
       "      <td>-0.021752</td>\n",
       "    </tr>\n",
       "    <tr>\n",
       "      <th>logged_in</th>\n",
       "      <td>-8.178983e+01</td>\n",
       "      <td>0.052306</td>\n",
       "      <td>-1.090692</td>\n",
       "      <td>-0.197344</td>\n",
       "      <td>-9.624437e+03</td>\n",
       "      <td>-5.691194e+03</td>\n",
       "      <td>-0.008978</td>\n",
       "      <td>0.122415</td>\n",
       "      <td>0.239131</td>\n",
       "      <td>0.168742</td>\n",
       "      <td>...</td>\n",
       "      <td>-1.945771e+01</td>\n",
       "      <td>3.379982e+01</td>\n",
       "      <td>0.132615</td>\n",
       "      <td>-0.023656</td>\n",
       "      <td>-0.024327</td>\n",
       "      <td>-0.003080</td>\n",
       "      <td>-0.106898</td>\n",
       "      <td>-0.107500</td>\n",
       "      <td>-0.041371</td>\n",
       "      <td>-0.042617</td>\n",
       "    </tr>\n",
       "    <tr>\n",
       "      <th>num_compromised</th>\n",
       "      <td>2.661382e+03</td>\n",
       "      <td>0.036910</td>\n",
       "      <td>7.787243</td>\n",
       "      <td>0.003115</td>\n",
       "      <td>-1.202779e+04</td>\n",
       "      <td>1.186730e+05</td>\n",
       "      <td>-0.006336</td>\n",
       "      <td>0.103644</td>\n",
       "      <td>0.168742</td>\n",
       "      <td>573.221387</td>\n",
       "      <td>...</td>\n",
       "      <td>-2.595632e+01</td>\n",
       "      <td>-2.735650e+01</td>\n",
       "      <td>-0.053690</td>\n",
       "      <td>0.013482</td>\n",
       "      <td>-0.015127</td>\n",
       "      <td>0.011458</td>\n",
       "      <td>-0.046615</td>\n",
       "      <td>-0.052261</td>\n",
       "      <td>-0.026765</td>\n",
       "      <td>-0.024620</td>\n",
       "    </tr>\n",
       "    <tr>\n",
       "      <th>count</th>\n",
       "      <td>-2.357354e+04</td>\n",
       "      <td>-1.634453</td>\n",
       "      <td>185.980566</td>\n",
       "      <td>34.482416</td>\n",
       "      <td>-3.463266e+06</td>\n",
       "      <td>-1.631439e+06</td>\n",
       "      <td>-0.604391</td>\n",
       "      <td>-16.912556</td>\n",
       "      <td>-30.223969</td>\n",
       "      <td>-23.121928</td>\n",
       "      <td>...</td>\n",
       "      <td>5.317507e+03</td>\n",
       "      <td>-5.019494e+03</td>\n",
       "      <td>-24.365453</td>\n",
       "      <td>3.622561</td>\n",
       "      <td>-4.890979</td>\n",
       "      <td>-2.649991</td>\n",
       "      <td>23.379979</td>\n",
       "      <td>23.516433</td>\n",
       "      <td>6.259835</td>\n",
       "      <td>6.134909</td>\n",
       "    </tr>\n",
       "    <tr>\n",
       "      <th>srv_count</th>\n",
       "      <td>-7.467025e+03</td>\n",
       "      <td>-10.747927</td>\n",
       "      <td>-316.255190</td>\n",
       "      <td>-10.110050</td>\n",
       "      <td>-1.190658e+06</td>\n",
       "      <td>-5.124428e+05</td>\n",
       "      <td>0.450379</td>\n",
       "      <td>-5.399451</td>\n",
       "      <td>-7.094840</td>\n",
       "      <td>-7.442118</td>\n",
       "      <td>...</td>\n",
       "      <td>1.083820e+03</td>\n",
       "      <td>1.626276e+03</td>\n",
       "      <td>5.906159</td>\n",
       "      <td>-1.459576</td>\n",
       "      <td>3.558302</td>\n",
       "      <td>-0.483549</td>\n",
       "      <td>-4.711211</td>\n",
       "      <td>-4.696472</td>\n",
       "      <td>-2.252284</td>\n",
       "      <td>-2.616667</td>\n",
       "    </tr>\n",
       "    <tr>\n",
       "      <th>serror_rate</th>\n",
       "      <td>-8.124831e+01</td>\n",
       "      <td>0.037194</td>\n",
       "      <td>2.035767</td>\n",
       "      <td>0.414216</td>\n",
       "      <td>-8.461047e+03</td>\n",
       "      <td>-5.491719e+03</td>\n",
       "      <td>-0.004903</td>\n",
       "      <td>-0.056711</td>\n",
       "      <td>-0.107398</td>\n",
       "      <td>-0.056624</td>\n",
       "      <td>...</td>\n",
       "      <td>1.752085e+01</td>\n",
       "      <td>-2.756878e+01</td>\n",
       "      <td>-0.124831</td>\n",
       "      <td>-0.001534</td>\n",
       "      <td>-0.038072</td>\n",
       "      <td>-0.008687</td>\n",
       "      <td>0.194480</td>\n",
       "      <td>0.195219</td>\n",
       "      <td>-0.031727</td>\n",
       "      <td>-0.032322</td>\n",
       "    </tr>\n",
       "    <tr>\n",
       "      <th>srv_serror_rate</th>\n",
       "      <td>-8.092922e+01</td>\n",
       "      <td>0.037337</td>\n",
       "      <td>2.017077</td>\n",
       "      <td>0.415106</td>\n",
       "      <td>-9.022378e+03</td>\n",
       "      <td>-5.461007e+03</td>\n",
       "      <td>-0.006409</td>\n",
       "      <td>-0.056428</td>\n",
       "      <td>-0.107150</td>\n",
       "      <td>-0.056483</td>\n",
       "      <td>...</td>\n",
       "      <td>1.744422e+01</td>\n",
       "      <td>-2.746663e+01</td>\n",
       "      <td>-0.124253</td>\n",
       "      <td>-0.002423</td>\n",
       "      <td>-0.037995</td>\n",
       "      <td>-0.008609</td>\n",
       "      <td>0.194374</td>\n",
       "      <td>0.196485</td>\n",
       "      <td>-0.032213</td>\n",
       "      <td>-0.033294</td>\n",
       "    </tr>\n",
       "    <tr>\n",
       "      <th>rerror_rate</th>\n",
       "      <td>1.674850e+02</td>\n",
       "      <td>0.015826</td>\n",
       "      <td>0.786912</td>\n",
       "      <td>-0.085563</td>\n",
       "      <td>2.592418e+04</td>\n",
       "      <td>1.440143e+04</td>\n",
       "      <td>-0.002685</td>\n",
       "      <td>-0.022309</td>\n",
       "      <td>-0.045052</td>\n",
       "      <td>-0.028248</td>\n",
       "      <td>...</td>\n",
       "      <td>2.176149e+00</td>\n",
       "      <td>-8.906419e+00</td>\n",
       "      <td>-0.037060</td>\n",
       "      <td>0.022762</td>\n",
       "      <td>0.003236</td>\n",
       "      <td>0.001230</td>\n",
       "      <td>-0.032247</td>\n",
       "      <td>-0.032130</td>\n",
       "      <td>0.091036</td>\n",
       "      <td>0.098727</td>\n",
       "    </tr>\n",
       "    <tr>\n",
       "      <th>srv_rerror_rate</th>\n",
       "      <td>1.685560e+02</td>\n",
       "      <td>0.016017</td>\n",
       "      <td>0.790623</td>\n",
       "      <td>-0.088730</td>\n",
       "      <td>2.655205e+04</td>\n",
       "      <td>1.438339e+04</td>\n",
       "      <td>-0.002749</td>\n",
       "      <td>-0.021874</td>\n",
       "      <td>-0.044874</td>\n",
       "      <td>-0.028224</td>\n",
       "      <td>...</td>\n",
       "      <td>2.280262e+00</td>\n",
       "      <td>-8.939249e+00</td>\n",
       "      <td>-0.037134</td>\n",
       "      <td>0.023241</td>\n",
       "      <td>0.002980</td>\n",
       "      <td>0.001128</td>\n",
       "      <td>-0.032601</td>\n",
       "      <td>-0.033283</td>\n",
       "      <td>0.091063</td>\n",
       "      <td>0.100312</td>\n",
       "    </tr>\n",
       "    <tr>\n",
       "      <th>same_srv_rate</th>\n",
       "      <td>8.550961e+01</td>\n",
       "      <td>-0.032635</td>\n",
       "      <td>-2.680912</td>\n",
       "      <td>-0.249352</td>\n",
       "      <td>1.006149e+04</td>\n",
       "      <td>6.696130e+03</td>\n",
       "      <td>0.006103</td>\n",
       "      <td>0.065562</td>\n",
       "      <td>0.129103</td>\n",
       "      <td>0.094135</td>\n",
       "      <td>...</td>\n",
       "      <td>-2.223322e+01</td>\n",
       "      <td>3.433050e+01</td>\n",
       "      <td>0.155719</td>\n",
       "      <td>-0.013828</td>\n",
       "      <td>0.037998</td>\n",
       "      <td>0.010702</td>\n",
       "      <td>-0.148735</td>\n",
       "      <td>-0.149947</td>\n",
       "      <td>-0.028937</td>\n",
       "      <td>-0.030067</td>\n",
       "    </tr>\n",
       "    <tr>\n",
       "      <th>diff_srv_rate</th>\n",
       "      <td>-6.451602e+00</td>\n",
       "      <td>0.000364</td>\n",
       "      <td>0.622881</td>\n",
       "      <td>-0.009796</td>\n",
       "      <td>-4.572799e+02</td>\n",
       "      <td>-1.234652e+03</td>\n",
       "      <td>-0.001218</td>\n",
       "      <td>-0.006285</td>\n",
       "      <td>-0.019515</td>\n",
       "      <td>-0.017418</td>\n",
       "      <td>...</td>\n",
       "      <td>3.413842e+00</td>\n",
       "      <td>-5.997238e+00</td>\n",
       "      <td>-0.026774</td>\n",
       "      <td>0.016916</td>\n",
       "      <td>-0.000594</td>\n",
       "      <td>-0.001737</td>\n",
       "      <td>0.004042</td>\n",
       "      <td>0.003803</td>\n",
       "      <td>0.012459</td>\n",
       "      <td>0.016020</td>\n",
       "    </tr>\n",
       "    <tr>\n",
       "      <th>srv_diff_host_rate</th>\n",
       "      <td>-2.717629e+01</td>\n",
       "      <td>-0.013333</td>\n",
       "      <td>-0.378234</td>\n",
       "      <td>-0.054351</td>\n",
       "      <td>-3.978106e+03</td>\n",
       "      <td>-1.749404e+03</td>\n",
       "      <td>-0.001729</td>\n",
       "      <td>-0.014960</td>\n",
       "      <td>0.016654</td>\n",
       "      <td>-0.026297</td>\n",
       "      <td>...</td>\n",
       "      <td>-9.280932e+00</td>\n",
       "      <td>4.402275e+00</td>\n",
       "      <td>0.033994</td>\n",
       "      <td>-0.005828</td>\n",
       "      <td>0.019940</td>\n",
       "      <td>0.011105</td>\n",
       "      <td>-0.026201</td>\n",
       "      <td>-0.026289</td>\n",
       "      <td>-0.006117</td>\n",
       "      <td>-0.006759</td>\n",
       "    </tr>\n",
       "    <tr>\n",
       "      <th>dst_host_count</th>\n",
       "      <td>1.306649e+04</td>\n",
       "      <td>-0.168722</td>\n",
       "      <td>310.457514</td>\n",
       "      <td>35.187541</td>\n",
       "      <td>-3.372456e+06</td>\n",
       "      <td>1.008435e+06</td>\n",
       "      <td>1.032637</td>\n",
       "      <td>-2.612686</td>\n",
       "      <td>-19.457706</td>\n",
       "      <td>-25.956320</td>\n",
       "      <td>...</td>\n",
       "      <td>9.841873e+03</td>\n",
       "      <td>-3.329944e+03</td>\n",
       "      <td>-23.077421</td>\n",
       "      <td>2.705809</td>\n",
       "      <td>-9.595279</td>\n",
       "      <td>-5.090726</td>\n",
       "      <td>18.132079</td>\n",
       "      <td>18.018255</td>\n",
       "      <td>2.187370</td>\n",
       "      <td>2.127918</td>\n",
       "    </tr>\n",
       "    <tr>\n",
       "      <th>dst_host_srv_count</th>\n",
       "      <td>-3.165126e+04</td>\n",
       "      <td>-3.046647</td>\n",
       "      <td>-740.056720</td>\n",
       "      <td>-56.545826</td>\n",
       "      <td>-4.458378e+06</td>\n",
       "      <td>-1.880244e+06</td>\n",
       "      <td>-1.269729</td>\n",
       "      <td>-12.343988</td>\n",
       "      <td>33.799824</td>\n",
       "      <td>-27.356503</td>\n",
       "      <td>...</td>\n",
       "      <td>-3.329944e+03</td>\n",
       "      <td>1.225510e+04</td>\n",
       "      <td>44.564107</td>\n",
       "      <td>-8.163097</td>\n",
       "      <td>-2.347533</td>\n",
       "      <td>-0.058197</td>\n",
       "      <td>-28.193932</td>\n",
       "      <td>-28.003248</td>\n",
       "      <td>-8.494612</td>\n",
       "      <td>-8.941978</td>\n",
       "    </tr>\n",
       "    <tr>\n",
       "      <th>dst_host_same_srv_rate</th>\n",
       "      <td>-1.356441e+02</td>\n",
       "      <td>-0.025294</td>\n",
       "      <td>-3.334547</td>\n",
       "      <td>-0.256566</td>\n",
       "      <td>-1.732000e+04</td>\n",
       "      <td>-7.985976e+03</td>\n",
       "      <td>-0.005547</td>\n",
       "      <td>-0.035031</td>\n",
       "      <td>0.132615</td>\n",
       "      <td>-0.053690</td>\n",
       "      <td>...</td>\n",
       "      <td>-2.307742e+01</td>\n",
       "      <td>4.456411e+01</td>\n",
       "      <td>0.201556</td>\n",
       "      <td>-0.035567</td>\n",
       "      <td>0.018859</td>\n",
       "      <td>0.010066</td>\n",
       "      <td>-0.127640</td>\n",
       "      <td>-0.126462</td>\n",
       "      <td>-0.035395</td>\n",
       "      <td>-0.037024</td>\n",
       "    </tr>\n",
       "    <tr>\n",
       "      <th>dst_host_diff_srv_rate</th>\n",
       "      <td>1.250767e+02</td>\n",
       "      <td>-0.001288</td>\n",
       "      <td>0.882544</td>\n",
       "      <td>0.010263</td>\n",
       "      <td>9.982788e+02</td>\n",
       "      <td>8.380636e+03</td>\n",
       "      <td>0.002864</td>\n",
       "      <td>-0.004993</td>\n",
       "      <td>-0.023656</td>\n",
       "      <td>0.013482</td>\n",
       "      <td>...</td>\n",
       "      <td>2.705809e+00</td>\n",
       "      <td>-8.163097e+00</td>\n",
       "      <td>-0.035567</td>\n",
       "      <td>0.035691</td>\n",
       "      <td>0.013576</td>\n",
       "      <td>0.000355</td>\n",
       "      <td>-0.001490</td>\n",
       "      <td>-0.002198</td>\n",
       "      <td>0.023695</td>\n",
       "      <td>0.023241</td>\n",
       "    </tr>\n",
       "    <tr>\n",
       "      <th>dst_host_same_src_port_rate</th>\n",
       "      <td>1.840850e+02</td>\n",
       "      <td>-0.041837</td>\n",
       "      <td>-0.564409</td>\n",
       "      <td>-0.035572</td>\n",
       "      <td>7.823773e+02</td>\n",
       "      <td>1.459675e+04</td>\n",
       "      <td>0.002912</td>\n",
       "      <td>-0.022944</td>\n",
       "      <td>-0.024327</td>\n",
       "      <td>-0.015127</td>\n",
       "      <td>...</td>\n",
       "      <td>-9.595279e+00</td>\n",
       "      <td>-2.347533e+00</td>\n",
       "      <td>0.018859</td>\n",
       "      <td>0.013576</td>\n",
       "      <td>0.095479</td>\n",
       "      <td>0.014094</td>\n",
       "      <td>-0.038333</td>\n",
       "      <td>-0.038077</td>\n",
       "      <td>0.003608</td>\n",
       "      <td>0.002741</td>\n",
       "    </tr>\n",
       "    <tr>\n",
       "      <th>dst_host_srv_diff_host_rate</th>\n",
       "      <td>-7.818772e+00</td>\n",
       "      <td>-0.007484</td>\n",
       "      <td>-0.284644</td>\n",
       "      <td>-0.021551</td>\n",
       "      <td>-1.093517e+03</td>\n",
       "      <td>-5.796671e+02</td>\n",
       "      <td>-0.000464</td>\n",
       "      <td>-0.005981</td>\n",
       "      <td>-0.003080</td>\n",
       "      <td>0.011458</td>\n",
       "      <td>...</td>\n",
       "      <td>-5.090726e+00</td>\n",
       "      <td>-5.819725e-02</td>\n",
       "      <td>0.010066</td>\n",
       "      <td>0.000355</td>\n",
       "      <td>0.014094</td>\n",
       "      <td>0.012671</td>\n",
       "      <td>-0.008750</td>\n",
       "      <td>-0.008694</td>\n",
       "      <td>0.001373</td>\n",
       "      <td>0.001451</td>\n",
       "    </tr>\n",
       "    <tr>\n",
       "      <th>dst_host_serror_rate</th>\n",
       "      <td>-7.523876e+01</td>\n",
       "      <td>0.036921</td>\n",
       "      <td>2.065861</td>\n",
       "      <td>0.392681</td>\n",
       "      <td>-1.175679e+04</td>\n",
       "      <td>-5.407939e+03</td>\n",
       "      <td>-0.005854</td>\n",
       "      <td>-0.055677</td>\n",
       "      <td>-0.106898</td>\n",
       "      <td>-0.046615</td>\n",
       "      <td>...</td>\n",
       "      <td>1.813208e+01</td>\n",
       "      <td>-2.819393e+01</td>\n",
       "      <td>-0.127640</td>\n",
       "      <td>-0.001490</td>\n",
       "      <td>-0.038333</td>\n",
       "      <td>-0.008750</td>\n",
       "      <td>0.197833</td>\n",
       "      <td>0.195263</td>\n",
       "      <td>-0.032116</td>\n",
       "      <td>-0.032384</td>\n",
       "    </tr>\n",
       "    <tr>\n",
       "      <th>dst_host_srv_serror_rate</th>\n",
       "      <td>-7.470660e+01</td>\n",
       "      <td>0.036808</td>\n",
       "      <td>2.041380</td>\n",
       "      <td>0.398216</td>\n",
       "      <td>-8.887372e+03</td>\n",
       "      <td>-5.275970e+03</td>\n",
       "      <td>-0.006318</td>\n",
       "      <td>-0.055780</td>\n",
       "      <td>-0.107500</td>\n",
       "      <td>-0.052261</td>\n",
       "      <td>...</td>\n",
       "      <td>1.801826e+01</td>\n",
       "      <td>-2.800325e+01</td>\n",
       "      <td>-0.126462</td>\n",
       "      <td>-0.002198</td>\n",
       "      <td>-0.038077</td>\n",
       "      <td>-0.008694</td>\n",
       "      <td>0.195263</td>\n",
       "      <td>0.198621</td>\n",
       "      <td>-0.032039</td>\n",
       "      <td>-0.033161</td>\n",
       "    </tr>\n",
       "    <tr>\n",
       "      <th>dst_host_rerror_rate</th>\n",
       "      <td>1.387800e+02</td>\n",
       "      <td>0.011750</td>\n",
       "      <td>0.766316</td>\n",
       "      <td>-0.093165</td>\n",
       "      <td>-2.642289e+03</td>\n",
       "      <td>1.445926e+04</td>\n",
       "      <td>0.002245</td>\n",
       "      <td>-0.020138</td>\n",
       "      <td>-0.041371</td>\n",
       "      <td>-0.026765</td>\n",
       "      <td>...</td>\n",
       "      <td>2.187370e+00</td>\n",
       "      <td>-8.494612e+00</td>\n",
       "      <td>-0.035395</td>\n",
       "      <td>0.023695</td>\n",
       "      <td>0.003608</td>\n",
       "      <td>0.001373</td>\n",
       "      <td>-0.032116</td>\n",
       "      <td>-0.032039</td>\n",
       "      <td>0.093977</td>\n",
       "      <td>0.090557</td>\n",
       "    </tr>\n",
       "    <tr>\n",
       "      <th>dst_host_srv_rerror_rate</th>\n",
       "      <td>1.655950e+02</td>\n",
       "      <td>0.015893</td>\n",
       "      <td>0.787745</td>\n",
       "      <td>-0.088155</td>\n",
       "      <td>2.334656e+04</td>\n",
       "      <td>1.441785e+04</td>\n",
       "      <td>-0.002728</td>\n",
       "      <td>-0.021752</td>\n",
       "      <td>-0.042617</td>\n",
       "      <td>-0.024620</td>\n",
       "      <td>...</td>\n",
       "      <td>2.127918e+00</td>\n",
       "      <td>-8.941978e+00</td>\n",
       "      <td>-0.037024</td>\n",
       "      <td>0.023241</td>\n",
       "      <td>0.002741</td>\n",
       "      <td>0.001451</td>\n",
       "      <td>-0.032384</td>\n",
       "      <td>-0.033161</td>\n",
       "      <td>0.090557</td>\n",
       "      <td>0.102054</td>\n",
       "    </tr>\n",
       "  </tbody>\n",
       "</table>\n",
       "<p>29 rows × 29 columns</p>\n",
       "</div>"
      ],
      "text/plain": [
       "                                 duration  protocol_type        service  \\\n",
       "duration                     6.783500e+06      -2.262243    3989.829634   \n",
       "protocol_type               -2.262243e+00       0.077167       1.123660   \n",
       "service                      3.989830e+03       1.123660     271.016337   \n",
       "flag                         4.363305e+02       0.076024       4.458545   \n",
       "src_bytes                    1.081521e+09    6000.015201 -157101.646107   \n",
       "dst_bytes                    3.652911e+08    2608.417795  238285.625776   \n",
       "wrong_fragment              -6.514618e+00      -0.012879       0.352978   \n",
       "hot                          3.948411e+00       0.027018      -2.224144   \n",
       "logged_in                   -8.178983e+01       0.052306      -1.090692   \n",
       "num_compromised              2.661382e+03       0.036910       7.787243   \n",
       "count                       -2.357354e+04      -1.634453     185.980566   \n",
       "srv_count                   -7.467025e+03     -10.747927    -316.255190   \n",
       "serror_rate                 -8.124831e+01       0.037194       2.035767   \n",
       "srv_serror_rate             -8.092922e+01       0.037337       2.017077   \n",
       "rerror_rate                  1.674850e+02       0.015826       0.786912   \n",
       "srv_rerror_rate              1.685560e+02       0.016017       0.790623   \n",
       "same_srv_rate                8.550961e+01      -0.032635      -2.680912   \n",
       "diff_srv_rate               -6.451602e+00       0.000364       0.622881   \n",
       "srv_diff_host_rate          -2.717629e+01      -0.013333      -0.378234   \n",
       "dst_host_count               1.306649e+04      -0.168722     310.457514   \n",
       "dst_host_srv_count          -3.165126e+04      -3.046647    -740.056720   \n",
       "dst_host_same_srv_rate      -1.356441e+02      -0.025294      -3.334547   \n",
       "dst_host_diff_srv_rate       1.250767e+02      -0.001288       0.882544   \n",
       "dst_host_same_src_port_rate  1.840850e+02      -0.041837      -0.564409   \n",
       "dst_host_srv_diff_host_rate -7.818772e+00      -0.007484      -0.284644   \n",
       "dst_host_serror_rate        -7.523876e+01       0.036921       2.065861   \n",
       "dst_host_srv_serror_rate    -7.470660e+01       0.036808       2.041380   \n",
       "dst_host_rerror_rate         1.387800e+02       0.011750       0.766316   \n",
       "dst_host_srv_rerror_rate     1.655950e+02       0.015893       0.787745   \n",
       "\n",
       "                                     flag     src_bytes     dst_bytes  \\\n",
       "duration                       436.330479  1.081521e+09  3.652911e+08   \n",
       "protocol_type                    0.076024  6.000015e+03  2.608418e+03   \n",
       "service                          4.458545 -1.571016e+05  2.382856e+05   \n",
       "flag                             1.303141  1.162442e+04  3.985700e+04   \n",
       "src_bytes                    11624.416691  3.446079e+13  4.812896e+09   \n",
       "dst_bytes                    39857.002972  4.812896e+09  1.617061e+13   \n",
       "wrong_fragment                  -0.013049 -1.030882e+03 -4.487389e+02   \n",
       "hot                             -0.102101  3.722507e+03 -2.973520e+03   \n",
       "logged_in                       -0.197344 -9.624437e+03 -5.691194e+03   \n",
       "num_compromised                  0.003115 -1.202779e+04  1.186730e+05   \n",
       "count                           34.482416 -3.463266e+06 -1.631439e+06   \n",
       "srv_count                      -10.110050 -1.190658e+06 -5.124428e+05   \n",
       "serror_rate                      0.414216 -8.461047e+03 -5.491719e+03   \n",
       "srv_serror_rate                  0.415106 -9.022378e+03 -5.461007e+03   \n",
       "rerror_rate                     -0.085563  2.592418e+04  1.440143e+04   \n",
       "srv_rerror_rate                 -0.088730  2.655205e+04  1.438339e+04   \n",
       "same_srv_rate                   -0.249352  1.006149e+04  6.696130e+03   \n",
       "diff_srv_rate                   -0.009796 -4.572799e+02 -1.234652e+03   \n",
       "srv_diff_host_rate              -0.054351 -3.978106e+03 -1.749404e+03   \n",
       "dst_host_count                  35.187541 -3.372456e+06  1.008435e+06   \n",
       "dst_host_srv_count             -56.545826 -4.458378e+06 -1.880244e+06   \n",
       "dst_host_same_srv_rate          -0.256566 -1.732000e+04 -7.985976e+03   \n",
       "dst_host_diff_srv_rate           0.010263  9.982788e+02  8.380636e+03   \n",
       "dst_host_same_src_port_rate     -0.035572  7.823773e+02  1.459675e+04   \n",
       "dst_host_srv_diff_host_rate     -0.021551 -1.093517e+03 -5.796671e+02   \n",
       "dst_host_serror_rate             0.392681 -1.175679e+04 -5.407939e+03   \n",
       "dst_host_srv_serror_rate         0.398216 -8.887372e+03 -5.275970e+03   \n",
       "dst_host_rerror_rate            -0.093165 -2.642289e+03  1.445926e+04   \n",
       "dst_host_srv_rerror_rate        -0.088155  2.334656e+04  1.441785e+04   \n",
       "\n",
       "                             wrong_fragment          hot    logged_in  \\\n",
       "duration                          -6.514618     3.948411   -81.789827   \n",
       "protocol_type                     -0.012879     0.027018     0.052306   \n",
       "service                            0.352978    -2.224144    -1.090692   \n",
       "flag                              -0.013049    -0.102101    -0.197344   \n",
       "src_bytes                      -1030.881716  3722.506547 -9624.436915   \n",
       "dst_bytes                       -448.738934 -2973.520229 -5691.193933   \n",
       "wrong_fragment                     0.064277    -0.004638    -0.008978   \n",
       "hot                               -0.004638     4.622364     0.122415   \n",
       "logged_in                         -0.008978     0.122415     0.239131   \n",
       "num_compromised                   -0.006336     0.103644     0.168742   \n",
       "count                             -0.604391   -16.912556   -30.223969   \n",
       "srv_count                          0.450379    -5.399451    -7.094840   \n",
       "serror_rate                       -0.004903    -0.056711    -0.107398   \n",
       "srv_serror_rate                   -0.006409    -0.056428    -0.107150   \n",
       "rerror_rate                       -0.002685    -0.022309    -0.045052   \n",
       "srv_rerror_rate                   -0.002749    -0.021874    -0.044874   \n",
       "same_srv_rate                      0.006103     0.065562     0.129103   \n",
       "diff_srv_rate                     -0.001218    -0.006285    -0.019515   \n",
       "srv_diff_host_rate                -0.001729    -0.014960     0.016654   \n",
       "dst_host_count                     1.032637    -2.612686   -19.457706   \n",
       "dst_host_srv_count                -1.269729   -12.343988    33.799824   \n",
       "dst_host_same_srv_rate            -0.005547    -0.035031     0.132615   \n",
       "dst_host_diff_srv_rate             0.002864    -0.004993    -0.023656   \n",
       "dst_host_same_src_port_rate        0.002912    -0.022944    -0.024327   \n",
       "dst_host_srv_diff_host_rate       -0.000464    -0.005981    -0.003080   \n",
       "dst_host_serror_rate              -0.005854    -0.055677    -0.106898   \n",
       "dst_host_srv_serror_rate          -0.006318    -0.055780    -0.107500   \n",
       "dst_host_rerror_rate               0.002245    -0.020138    -0.041371   \n",
       "dst_host_srv_rerror_rate          -0.002728    -0.021752    -0.042617   \n",
       "\n",
       "                             num_compromised            ...             \\\n",
       "duration                         2661.381748            ...              \n",
       "protocol_type                       0.036910            ...              \n",
       "service                             7.787243            ...              \n",
       "flag                                0.003115            ...              \n",
       "src_bytes                      -12027.793115            ...              \n",
       "dst_bytes                      118672.973819            ...              \n",
       "wrong_fragment                     -0.006336            ...              \n",
       "hot                                 0.103644            ...              \n",
       "logged_in                           0.168742            ...              \n",
       "num_compromised                   573.221387            ...              \n",
       "count                             -23.121928            ...              \n",
       "srv_count                          -7.442118            ...              \n",
       "serror_rate                        -0.056624            ...              \n",
       "srv_serror_rate                    -0.056483            ...              \n",
       "rerror_rate                        -0.028248            ...              \n",
       "srv_rerror_rate                    -0.028224            ...              \n",
       "same_srv_rate                       0.094135            ...              \n",
       "diff_srv_rate                      -0.017418            ...              \n",
       "srv_diff_host_rate                 -0.026297            ...              \n",
       "dst_host_count                    -25.956320            ...              \n",
       "dst_host_srv_count                -27.356503            ...              \n",
       "dst_host_same_srv_rate             -0.053690            ...              \n",
       "dst_host_diff_srv_rate              0.013482            ...              \n",
       "dst_host_same_src_port_rate        -0.015127            ...              \n",
       "dst_host_srv_diff_host_rate         0.011458            ...              \n",
       "dst_host_serror_rate               -0.046615            ...              \n",
       "dst_host_srv_serror_rate           -0.052261            ...              \n",
       "dst_host_rerror_rate               -0.026765            ...              \n",
       "dst_host_srv_rerror_rate           -0.024620            ...              \n",
       "\n",
       "                             dst_host_count  dst_host_srv_count  \\\n",
       "duration                       1.306649e+04       -3.165126e+04   \n",
       "protocol_type                 -1.687224e-01       -3.046647e+00   \n",
       "service                        3.104575e+02       -7.400567e+02   \n",
       "flag                           3.518754e+01       -5.654583e+01   \n",
       "src_bytes                     -3.372456e+06       -4.458378e+06   \n",
       "dst_bytes                      1.008435e+06       -1.880244e+06   \n",
       "wrong_fragment                 1.032637e+00       -1.269729e+00   \n",
       "hot                           -2.612686e+00       -1.234399e+01   \n",
       "logged_in                     -1.945771e+01        3.379982e+01   \n",
       "num_compromised               -2.595632e+01       -2.735650e+01   \n",
       "count                          5.317507e+03       -5.019494e+03   \n",
       "srv_count                      1.083820e+03        1.626276e+03   \n",
       "serror_rate                    1.752085e+01       -2.756878e+01   \n",
       "srv_serror_rate                1.744422e+01       -2.746663e+01   \n",
       "rerror_rate                    2.176149e+00       -8.906419e+00   \n",
       "srv_rerror_rate                2.280262e+00       -8.939249e+00   \n",
       "same_srv_rate                 -2.223322e+01        3.433050e+01   \n",
       "diff_srv_rate                  3.413842e+00       -5.997238e+00   \n",
       "srv_diff_host_rate            -9.280932e+00        4.402275e+00   \n",
       "dst_host_count                 9.841873e+03       -3.329944e+03   \n",
       "dst_host_srv_count            -3.329944e+03        1.225510e+04   \n",
       "dst_host_same_srv_rate        -2.307742e+01        4.456411e+01   \n",
       "dst_host_diff_srv_rate         2.705809e+00       -8.163097e+00   \n",
       "dst_host_same_src_port_rate   -9.595279e+00       -2.347533e+00   \n",
       "dst_host_srv_diff_host_rate   -5.090726e+00       -5.819725e-02   \n",
       "dst_host_serror_rate           1.813208e+01       -2.819393e+01   \n",
       "dst_host_srv_serror_rate       1.801826e+01       -2.800325e+01   \n",
       "dst_host_rerror_rate           2.187370e+00       -8.494612e+00   \n",
       "dst_host_srv_rerror_rate       2.127918e+00       -8.941978e+00   \n",
       "\n",
       "                             dst_host_same_srv_rate  dst_host_diff_srv_rate  \\\n",
       "duration                                -135.644072              125.076665   \n",
       "protocol_type                             -0.025294               -0.001288   \n",
       "service                                   -3.334547                0.882544   \n",
       "flag                                      -0.256566                0.010263   \n",
       "src_bytes                             -17319.999754              998.278802   \n",
       "dst_bytes                              -7985.975722             8380.635658   \n",
       "wrong_fragment                            -0.005547                0.002864   \n",
       "hot                                       -0.035031               -0.004993   \n",
       "logged_in                                  0.132615               -0.023656   \n",
       "num_compromised                           -0.053690                0.013482   \n",
       "count                                    -24.365453                3.622561   \n",
       "srv_count                                  5.906159               -1.459576   \n",
       "serror_rate                               -0.124831               -0.001534   \n",
       "srv_serror_rate                           -0.124253               -0.002423   \n",
       "rerror_rate                               -0.037060                0.022762   \n",
       "srv_rerror_rate                           -0.037134                0.023241   \n",
       "same_srv_rate                              0.155719               -0.013828   \n",
       "diff_srv_rate                             -0.026774                0.016916   \n",
       "srv_diff_host_rate                         0.033994               -0.005828   \n",
       "dst_host_count                           -23.077421                2.705809   \n",
       "dst_host_srv_count                        44.564107               -8.163097   \n",
       "dst_host_same_srv_rate                     0.201556               -0.035567   \n",
       "dst_host_diff_srv_rate                    -0.035567                0.035691   \n",
       "dst_host_same_src_port_rate                0.018859                0.013576   \n",
       "dst_host_srv_diff_host_rate                0.010066                0.000355   \n",
       "dst_host_serror_rate                      -0.127640               -0.001490   \n",
       "dst_host_srv_serror_rate                  -0.126462               -0.002198   \n",
       "dst_host_rerror_rate                      -0.035395                0.023695   \n",
       "dst_host_srv_rerror_rate                  -0.037024                0.023241   \n",
       "\n",
       "                             dst_host_same_src_port_rate  \\\n",
       "duration                                      184.085040   \n",
       "protocol_type                                  -0.041837   \n",
       "service                                        -0.564409   \n",
       "flag                                           -0.035572   \n",
       "src_bytes                                     782.377278   \n",
       "dst_bytes                                   14596.752535   \n",
       "wrong_fragment                                  0.002912   \n",
       "hot                                            -0.022944   \n",
       "logged_in                                      -0.024327   \n",
       "num_compromised                                -0.015127   \n",
       "count                                          -4.890979   \n",
       "srv_count                                       3.558302   \n",
       "serror_rate                                    -0.038072   \n",
       "srv_serror_rate                                -0.037995   \n",
       "rerror_rate                                     0.003236   \n",
       "srv_rerror_rate                                 0.002980   \n",
       "same_srv_rate                                   0.037998   \n",
       "diff_srv_rate                                  -0.000594   \n",
       "srv_diff_host_rate                              0.019940   \n",
       "dst_host_count                                 -9.595279   \n",
       "dst_host_srv_count                             -2.347533   \n",
       "dst_host_same_srv_rate                          0.018859   \n",
       "dst_host_diff_srv_rate                          0.013576   \n",
       "dst_host_same_src_port_rate                     0.095479   \n",
       "dst_host_srv_diff_host_rate                     0.014094   \n",
       "dst_host_serror_rate                           -0.038333   \n",
       "dst_host_srv_serror_rate                       -0.038077   \n",
       "dst_host_rerror_rate                            0.003608   \n",
       "dst_host_srv_rerror_rate                        0.002741   \n",
       "\n",
       "                             dst_host_srv_diff_host_rate  \\\n",
       "duration                                       -7.818772   \n",
       "protocol_type                                  -0.007484   \n",
       "service                                        -0.284644   \n",
       "flag                                           -0.021551   \n",
       "src_bytes                                   -1093.517301   \n",
       "dst_bytes                                    -579.667117   \n",
       "wrong_fragment                                 -0.000464   \n",
       "hot                                            -0.005981   \n",
       "logged_in                                      -0.003080   \n",
       "num_compromised                                 0.011458   \n",
       "count                                          -2.649991   \n",
       "srv_count                                      -0.483549   \n",
       "serror_rate                                    -0.008687   \n",
       "srv_serror_rate                                -0.008609   \n",
       "rerror_rate                                     0.001230   \n",
       "srv_rerror_rate                                 0.001128   \n",
       "same_srv_rate                                   0.010702   \n",
       "diff_srv_rate                                  -0.001737   \n",
       "srv_diff_host_rate                              0.011105   \n",
       "dst_host_count                                 -5.090726   \n",
       "dst_host_srv_count                             -0.058197   \n",
       "dst_host_same_srv_rate                          0.010066   \n",
       "dst_host_diff_srv_rate                          0.000355   \n",
       "dst_host_same_src_port_rate                     0.014094   \n",
       "dst_host_srv_diff_host_rate                     0.012671   \n",
       "dst_host_serror_rate                           -0.008750   \n",
       "dst_host_srv_serror_rate                       -0.008694   \n",
       "dst_host_rerror_rate                            0.001373   \n",
       "dst_host_srv_rerror_rate                        0.001451   \n",
       "\n",
       "                             dst_host_serror_rate  dst_host_srv_serror_rate  \\\n",
       "duration                               -75.238764                -74.706600   \n",
       "protocol_type                            0.036921                  0.036808   \n",
       "service                                  2.065861                  2.041380   \n",
       "flag                                     0.392681                  0.398216   \n",
       "src_bytes                           -11756.792716              -8887.372122   \n",
       "dst_bytes                            -5407.938785              -5275.970418   \n",
       "wrong_fragment                          -0.005854                 -0.006318   \n",
       "hot                                     -0.055677                 -0.055780   \n",
       "logged_in                               -0.106898                 -0.107500   \n",
       "num_compromised                         -0.046615                 -0.052261   \n",
       "count                                   23.379979                 23.516433   \n",
       "srv_count                               -4.711211                 -4.696472   \n",
       "serror_rate                              0.194480                  0.195219   \n",
       "srv_serror_rate                          0.194374                  0.196485   \n",
       "rerror_rate                             -0.032247                 -0.032130   \n",
       "srv_rerror_rate                         -0.032601                 -0.033283   \n",
       "same_srv_rate                           -0.148735                 -0.149947   \n",
       "diff_srv_rate                            0.004042                  0.003803   \n",
       "srv_diff_host_rate                      -0.026201                 -0.026289   \n",
       "dst_host_count                          18.132079                 18.018255   \n",
       "dst_host_srv_count                     -28.193932                -28.003248   \n",
       "dst_host_same_srv_rate                  -0.127640                 -0.126462   \n",
       "dst_host_diff_srv_rate                  -0.001490                 -0.002198   \n",
       "dst_host_same_src_port_rate             -0.038333                 -0.038077   \n",
       "dst_host_srv_diff_host_rate             -0.008750                 -0.008694   \n",
       "dst_host_serror_rate                     0.197833                  0.195263   \n",
       "dst_host_srv_serror_rate                 0.195263                  0.198621   \n",
       "dst_host_rerror_rate                    -0.032116                 -0.032039   \n",
       "dst_host_srv_rerror_rate                -0.032384                 -0.033161   \n",
       "\n",
       "                             dst_host_rerror_rate  dst_host_srv_rerror_rate  \n",
       "duration                               138.779966                165.594977  \n",
       "protocol_type                            0.011750                  0.015893  \n",
       "service                                  0.766316                  0.787745  \n",
       "flag                                    -0.093165                 -0.088155  \n",
       "src_bytes                            -2642.288941              23346.556402  \n",
       "dst_bytes                            14459.261178              14417.852035  \n",
       "wrong_fragment                           0.002245                 -0.002728  \n",
       "hot                                     -0.020138                 -0.021752  \n",
       "logged_in                               -0.041371                 -0.042617  \n",
       "num_compromised                         -0.026765                 -0.024620  \n",
       "count                                    6.259835                  6.134909  \n",
       "srv_count                               -2.252284                 -2.616667  \n",
       "serror_rate                             -0.031727                 -0.032322  \n",
       "srv_serror_rate                         -0.032213                 -0.033294  \n",
       "rerror_rate                              0.091036                  0.098727  \n",
       "srv_rerror_rate                          0.091063                  0.100312  \n",
       "same_srv_rate                           -0.028937                 -0.030067  \n",
       "diff_srv_rate                            0.012459                  0.016020  \n",
       "srv_diff_host_rate                      -0.006117                 -0.006759  \n",
       "dst_host_count                           2.187370                  2.127918  \n",
       "dst_host_srv_count                      -8.494612                 -8.941978  \n",
       "dst_host_same_srv_rate                  -0.035395                 -0.037024  \n",
       "dst_host_diff_srv_rate                   0.023695                  0.023241  \n",
       "dst_host_same_src_port_rate              0.003608                  0.002741  \n",
       "dst_host_srv_diff_host_rate              0.001373                  0.001451  \n",
       "dst_host_serror_rate                    -0.032116                 -0.032384  \n",
       "dst_host_srv_serror_rate                -0.032039                 -0.033161  \n",
       "dst_host_rerror_rate                     0.093977                  0.090557  \n",
       "dst_host_srv_rerror_rate                 0.090557                  0.102054  \n",
       "\n",
       "[29 rows x 29 columns]"
      ]
     },
     "execution_count": 184,
     "metadata": {},
     "output_type": "execute_result"
    }
   ],
   "source": [
    "covm"
   ]
  },
  {
   "cell_type": "code",
   "execution_count": 185,
   "metadata": {
    "collapsed": true
   },
   "outputs": [],
   "source": [
    "import numpy as np"
   ]
  },
  {
   "cell_type": "code",
   "execution_count": 186,
   "metadata": {
    "collapsed": true
   },
   "outputs": [],
   "source": [
    "eigenval ,eignvec= np.linalg.eig(covm)"
   ]
  },
  {
   "cell_type": "code",
   "execution_count": 187,
   "metadata": {},
   "outputs": [
    {
     "data": {
      "text/plain": [
       "array([  3.44607895e+13,   1.61706043e+13,   6.74157829e+06,\n",
       "         2.14700779e+04,   1.02823989e+04,   6.29941356e+03,\n",
       "         2.22778511e+03,   5.72084544e+02,   2.11359193e+02,\n",
       "         4.52707173e+00,   1.38148768e+00,   2.47039210e-01,\n",
       "         1.50024436e-01,   1.35608032e-01,   6.55014576e-02,\n",
       "         5.35271070e-02,   4.07726072e-02,   3.45369823e-02,\n",
       "         2.52348394e-02,   1.89712656e-02,   1.19427321e-02,\n",
       "         6.63147756e-04,   1.23222280e-03,   7.57400499e-03,\n",
       "         6.42350315e-03,   2.86406011e-03,   5.57005512e-03,\n",
       "         4.04325396e-03,   4.39311464e-03])"
      ]
     },
     "execution_count": 187,
     "metadata": {},
     "output_type": "execute_result"
    }
   ],
   "source": [
    "eigenval"
   ]
  },
  {
   "cell_type": "markdown",
   "metadata": {},
   "source": [
    "co-variance matrix를 구하고 그에맞는 eigen value를 구한결과 위와 같이 결과가 나왔고,  \n",
    "19개 미만으로 차원을 줄여야 하므로 첫번째로 14개(10^-1까지)를 고르기로 하였다.  \n",
    "그리고 다음으로는 9개(10^2까지) 선택해서 실험해 보기로 하였다."
   ]
  },
  {
   "cell_type": "markdown",
   "metadata": {},
   "source": [
    "#### Dimension reduction from 30 to 14 using PCA (dimension choosed by eigenvalues)"
   ]
  },
  {
   "cell_type": "markdown",
   "metadata": {},
   "source": [
    "** 시행착오 **"
   ]
  },
  {
   "cell_type": "markdown",
   "metadata": {},
   "source": [
    "PCA library가 있는줄 모르고 처음에는 직접 함수를 써서 구해보려고 하였다.  \n",
    "하지만 계산 결과에 자꾸 오류가 생겨 library를 써서 사용하기로 하였다. 아래는 그간의 시행착오이다."
   ]
  },
  {
   "cell_type": "code",
   "execution_count": 161,
   "metadata": {
    "collapsed": true
   },
   "outputs": [],
   "source": [
    "dt=data.iloc[:1000,:-1].as_matrix()"
   ]
  },
  {
   "cell_type": "code",
   "execution_count": 162,
   "metadata": {},
   "outputs": [
    {
     "data": {
      "text/plain": [
       "array([  0.00000000e+00,   8.15166742e-01,   2.00000000e+01,\n",
       "         2.00000000e+00,   4.91000000e+02,   0.00000000e+00,\n",
       "         0.00000000e+00,   0.00000000e+00,   0.00000000e+00,\n",
       "         0.00000000e+00,   2.00000000e+00,   2.00000000e+00,\n",
       "         0.00000000e+00,   0.00000000e+00,   0.00000000e+00,\n",
       "         0.00000000e+00,   1.00000000e+00,   0.00000000e+00,\n",
       "         0.00000000e+00,   1.50000000e+02,   2.50000000e+01,\n",
       "         1.70000000e-01,   3.00000000e-02,   1.70000000e-01,\n",
       "         0.00000000e+00,   0.00000000e+00,   0.00000000e+00,\n",
       "         5.00000000e-02,   0.00000000e+00])"
      ]
     },
     "execution_count": 162,
     "metadata": {},
     "output_type": "execute_result"
    }
   ],
   "source": [
    "dt[0]"
   ]
  },
  {
   "cell_type": "code",
   "execution_count": 163,
   "metadata": {
    "collapsed": true
   },
   "outputs": [],
   "source": [
    "def getvec(data):\n",
    "    dt=data.as_matrix()\n",
    "    lst=[]\n",
    "    for i in range(41):\n",
    "        lst.append([])\n",
    "    key=list(data.keys())\n",
    "    count=0\n",
    "    for i in key:\n",
    "        idx1=key.index(i)\n",
    "        m1=data[i].mean()\n",
    "        for j in key:\n",
    "            idx2=key.index(j)\n",
    "            if idx2<idx1:\n",
    "                lst[idx1].append(lst[idx2][idx1])\n",
    "            else:\n",
    "                m2=data[j].mean()\n",
    "                for k in range(len(dt)):\n",
    "                    count+=(dt[k][idx1]-m1)*(dt[k][idx2]-m2)\n",
    "                lst[idx1].append(count)\n",
    "                count=0\n",
    "    return lst\n"
   ]
  },
  {
   "cell_type": "code",
   "execution_count": 62,
   "metadata": {},
   "outputs": [
    {
     "data": {
      "text/plain": [
       "[6589140402.3988447,\n",
       " -7628.56397528038,\n",
       " 3774876.2269999832,\n",
       " 459806.73699999711,\n",
       " 23443155174.760738,\n",
       " 868549817.19000983,\n",
       " -10677.733999999782,\n",
       " 69822.635999995604,\n",
       " -80774.736999999208,\n",
       " 141622.11300000414,\n",
       " -25004343.252000112,\n",
       " -6611696.4789999733,\n",
       " -92689.012139998726,\n",
       " -91480.510539999887,\n",
       " 175947.7147200013,\n",
       " 175686.10935000126,\n",
       " 94841.899859999743,\n",
       " -4169.7463399999888,\n",
       " -9316.283039999953,\n",
       " 17199858.493000221,\n",
       " -30539633.333000179,\n",
       " -130215.73269999966,\n",
       " 140330.03317000068,\n",
       " 206335.93744000138,\n",
       " -10036.67522000011,\n",
       " -91603.816710000232,\n",
       " -90748.681290000488,\n",
       " 154162.12206000093,\n",
       " 175806.3399100012]"
      ]
     },
     "execution_count": 62,
     "metadata": {},
     "output_type": "execute_result"
    }
   ],
   "source": [
    "getvec(data.iloc[:1000,:-1])[0]"
   ]
  },
  {
   "cell_type": "markdown",
   "metadata": {},
   "source": [
    "하다보니 힘들어서 sklearn에 있는 PCA를 가져다 쓰기로 하였다."
   ]
  },
  {
   "cell_type": "markdown",
   "metadata": {},
   "source": [
    "#### Apply PCA using sklearn library"
   ]
  },
  {
   "cell_type": "markdown",
   "metadata": {},
   "source": [
    "sklearn에 존재하는 PCA를 사용하여 14차원으로 줄이기로 하였다."
   ]
  },
  {
   "cell_type": "code",
   "execution_count": 164,
   "metadata": {
    "collapsed": true
   },
   "outputs": [],
   "source": [
    "from sklearn.decomposition import PCA"
   ]
  },
  {
   "cell_type": "code",
   "execution_count": 165,
   "metadata": {
    "collapsed": true
   },
   "outputs": [],
   "source": [
    "pca=PCA(n_components=14)"
   ]
  },
  {
   "cell_type": "code",
   "execution_count": 166,
   "metadata": {},
   "outputs": [
    {
     "data": {
      "text/plain": [
       "PCA(copy=True, iterated_power='auto', n_components=14, random_state=None,\n",
       "  svd_solver='auto', tol=0.0, whiten=False)"
      ]
     },
     "execution_count": 166,
     "metadata": {},
     "output_type": "execute_result"
    }
   ],
   "source": [
    "pca.fit(df3)\n"
   ]
  },
  {
   "cell_type": "code",
   "execution_count": 167,
   "metadata": {
    "collapsed": true
   },
   "outputs": [],
   "source": [
    "pcm=pca.transform(df3)"
   ]
  },
  {
   "cell_type": "code",
   "execution_count": 168,
   "metadata": {},
   "outputs": [
    {
     "data": {
      "text/plain": [
       "125973"
      ]
     },
     "execution_count": 168,
     "metadata": {},
     "output_type": "execute_result"
    }
   ],
   "source": [
    "len(pcm)"
   ]
  },
  {
   "cell_type": "code",
   "execution_count": 169,
   "metadata": {},
   "outputs": [
    {
     "data": {
      "text/plain": [
       "125973"
      ]
     },
     "execution_count": 169,
     "metadata": {},
     "output_type": "execute_result"
    }
   ],
   "source": [
    "len(output)"
   ]
  },
  {
   "cell_type": "code",
   "execution_count": 170,
   "metadata": {},
   "outputs": [
    {
     "data": {
      "text/plain": [
       "array([ -4.50809551e+04,  -1.97672589e+04,  -2.84610139e+02,\n",
       "        -2.85445975e+01,  -1.15816656e+02,   7.93907973e+00,\n",
       "         5.12944320e+01,  -9.49007386e-01,   1.62601723e+01,\n",
       "        -7.93277348e-01,  -7.97718017e-01,  -3.08942533e-01,\n",
       "         1.25227801e-01,  -1.81610963e-03])"
      ]
     },
     "execution_count": 170,
     "metadata": {},
     "output_type": "execute_result"
    }
   ],
   "source": [
    "pcm[0]"
   ]
  },
  {
   "cell_type": "code",
   "execution_count": 188,
   "metadata": {},
   "outputs": [
    {
     "data": {
      "text/plain": [
       "PCA(copy=True, iterated_power='auto', n_components=14, random_state=None,\n",
       "  svd_solver='auto', tol=0.0, whiten=False)"
      ]
     },
     "execution_count": 188,
     "metadata": {},
     "output_type": "execute_result"
    }
   ],
   "source": [
    "pca.fit(ts2)"
   ]
  },
  {
   "cell_type": "code",
   "execution_count": 189,
   "metadata": {
    "collapsed": true
   },
   "outputs": [],
   "source": [
    "tspcm=pca.transform(ts2)"
   ]
  },
  {
   "cell_type": "code",
   "execution_count": 190,
   "metadata": {},
   "outputs": [
    {
     "data": {
      "text/plain": [
       "array([ -6.84508418e+03,  -1.99977721e+03,  -2.02421692e+02,\n",
       "         3.24657677e+01,   1.41179747e+02,  -5.28218045e+01,\n",
       "         6.00295766e+00,   6.25184079e+00,   2.13805839e+00,\n",
       "        -2.75942056e-01,   1.81090914e-01,   1.01544243e+00,\n",
       "        -1.24550063e-01,  -1.11635159e-01])"
      ]
     },
     "execution_count": 190,
     "metadata": {},
     "output_type": "execute_result"
    }
   ],
   "source": [
    "tspcm[0]"
   ]
  },
  {
   "cell_type": "markdown",
   "metadata": {},
   "source": [
    "14차원으로 줄이고 데이터가 잘바뀌었는지 확인하였다.  \n",
    "그리고 개수도 안바뀌고 잘 있는지 확인하였다.  \n",
    "현재 PCA를 적용한 PCM matrix는 numpy를 써서 output이 없는 값들로만 이루어진 matrix로 존재하고 원래 데이터의 결과값은 output으로 편의상 따로 저장해 두었다.  \n",
    "그리고 test set의 값도 바꾸어주었다."
   ]
  },
  {
   "cell_type": "markdown",
   "metadata": {},
   "source": [
    "다음으로는 9차원이로 줄이기로 하였다."
   ]
  },
  {
   "cell_type": "code",
   "execution_count": 191,
   "metadata": {
    "collapsed": true
   },
   "outputs": [],
   "source": [
    "pca=PCA(n_components=9)"
   ]
  },
  {
   "cell_type": "code",
   "execution_count": 192,
   "metadata": {},
   "outputs": [
    {
     "data": {
      "text/plain": [
       "PCA(copy=True, iterated_power='auto', n_components=9, random_state=None,\n",
       "  svd_solver='auto', tol=0.0, whiten=False)"
      ]
     },
     "execution_count": 192,
     "metadata": {},
     "output_type": "execute_result"
    }
   ],
   "source": [
    "pca.fit(df3)"
   ]
  },
  {
   "cell_type": "code",
   "execution_count": 193,
   "metadata": {
    "collapsed": true
   },
   "outputs": [],
   "source": [
    "pcm2=pca.transform(df3)"
   ]
  },
  {
   "cell_type": "code",
   "execution_count": 194,
   "metadata": {},
   "outputs": [
    {
     "data": {
      "text/plain": [
       "array([ -4.50809551e+04,  -1.97672589e+04,  -2.84610139e+02,\n",
       "        -2.85445975e+01,  -1.15816656e+02,   7.93907973e+00,\n",
       "         5.12944320e+01,  -9.49007386e-01,   1.62601723e+01])"
      ]
     },
     "execution_count": 194,
     "metadata": {},
     "output_type": "execute_result"
    }
   ],
   "source": [
    "pcm2[0]"
   ]
  },
  {
   "cell_type": "code",
   "execution_count": 195,
   "metadata": {},
   "outputs": [
    {
     "data": {
      "text/plain": [
       "PCA(copy=True, iterated_power='auto', n_components=9, random_state=None,\n",
       "  svd_solver='auto', tol=0.0, whiten=False)"
      ]
     },
     "execution_count": 195,
     "metadata": {},
     "output_type": "execute_result"
    }
   ],
   "source": [
    "pca.fit(ts2)"
   ]
  },
  {
   "cell_type": "code",
   "execution_count": 196,
   "metadata": {
    "collapsed": true
   },
   "outputs": [],
   "source": [
    "tspcm2=pca.transform(ts2)"
   ]
  },
  {
   "cell_type": "code",
   "execution_count": 197,
   "metadata": {},
   "outputs": [
    {
     "data": {
      "text/plain": [
       "array([ -6.84508418e+03,  -1.99977721e+03,  -2.02421692e+02,\n",
       "         3.24657677e+01,   1.41179747e+02,  -5.28218045e+01,\n",
       "         6.00295766e+00,   6.25184079e+00,   2.13805839e+00])"
      ]
     },
     "execution_count": 197,
     "metadata": {},
     "output_type": "execute_result"
    }
   ],
   "source": [
    "tspcm2[0]"
   ]
  },
  {
   "cell_type": "markdown",
   "metadata": {},
   "source": [
    "14개와 마찬가지로 train data와 test data가 모두 9개로 잘 바뀐것을 볼 수 있었다."
   ]
  },
  {
   "cell_type": "markdown",
   "metadata": {},
   "source": [
    "다음으로는 5개의 차원으로 줄이려고 한다."
   ]
  },
  {
   "cell_type": "code",
   "execution_count": 198,
   "metadata": {
    "collapsed": true
   },
   "outputs": [],
   "source": [
    "pca=PCA(n_components=5)"
   ]
  },
  {
   "cell_type": "code",
   "execution_count": 200,
   "metadata": {},
   "outputs": [
    {
     "data": {
      "text/plain": [
       "array([ -4.50809551e+04,  -1.97672589e+04,  -2.84610139e+02,\n",
       "        -2.85445975e+01,  -1.15816656e+02])"
      ]
     },
     "execution_count": 200,
     "metadata": {},
     "output_type": "execute_result"
    }
   ],
   "source": [
    "pca.fit(df3)\n",
    "pcm3=pca.transform(df3)\n",
    "pcm3[0]"
   ]
  },
  {
   "cell_type": "code",
   "execution_count": 201,
   "metadata": {},
   "outputs": [
    {
     "data": {
      "text/plain": [
       "array([-6845.08417549, -1999.77720606,  -202.4216916 ,    32.46576772,\n",
       "         141.17974712])"
      ]
     },
     "execution_count": 201,
     "metadata": {},
     "output_type": "execute_result"
    }
   ],
   "source": [
    "pca.fit(ts2)\n",
    "tspcm3=pca.transform(ts2)\n",
    "tspcm3[0]"
   ]
  },
  {
   "cell_type": "markdown",
   "metadata": {},
   "source": [
    "**bonus 2차원"
   ]
  },
  {
   "cell_type": "code",
   "execution_count": 255,
   "metadata": {
    "collapsed": true
   },
   "outputs": [],
   "source": [
    "pca=PCA(n_components=2)"
   ]
  },
  {
   "cell_type": "code",
   "execution_count": 256,
   "metadata": {},
   "outputs": [
    {
     "data": {
      "text/plain": [
       "array([-45080.95511273, -19767.2588634 ])"
      ]
     },
     "execution_count": 256,
     "metadata": {},
     "output_type": "execute_result"
    }
   ],
   "source": [
    "pca.fit(df3)\n",
    "pcm4=pca.transform(df3)\n",
    "pcm4[0]"
   ]
  },
  {
   "cell_type": "code",
   "execution_count": 257,
   "metadata": {},
   "outputs": [
    {
     "data": {
      "text/plain": [
       "array([-6845.08417549, -1999.77720606])"
      ]
     },
     "execution_count": 257,
     "metadata": {},
     "output_type": "execute_result"
    }
   ],
   "source": [
    "pca.fit(ts2)\n",
    "tspcm4=pca.transform(ts2)\n",
    "tspcm4[0]"
   ]
  },
  {
   "cell_type": "markdown",
   "metadata": {},
   "source": [
    "** bonus 19차원으로 줄이기"
   ]
  },
  {
   "cell_type": "code",
   "execution_count": 267,
   "metadata": {
    "collapsed": true
   },
   "outputs": [],
   "source": [
    "pca=PCA(n_components=19)"
   ]
  },
  {
   "cell_type": "code",
   "execution_count": 268,
   "metadata": {
    "collapsed": true
   },
   "outputs": [],
   "source": [
    "pca.fit(df3)\n",
    "pcm5=pca.transform(df3)\n",
    "pca.fit(ts2)\n",
    "tspcm5=pca.transform(ts2)"
   ]
  },
  {
   "cell_type": "markdown",
   "metadata": {},
   "source": [
    "위와 마찬가지로 5개의 차원으로 잘 바뀐것을 볼 수 있었다.  \n",
    "정리를 하자면  \n",
    "pcm,tspcm ==> 14차원!!  \n",
    "pcm2,tspcm2 ==> 9차원!!  \n",
    "pcm3,tspcm3 ==> 5차원!!  \n",
    "그리고 그에 해당하는 결과로 output과 tsoutput을 따로 두었다."
   ]
  },
  {
   "cell_type": "markdown",
   "metadata": {},
   "source": [
    "#### Small experiment by Decision-tree in order to check the rightness of transfromed data"
   ]
  },
  {
   "cell_type": "markdown",
   "metadata": {},
   "source": [
    "데이터가 잘 변환됬는지 확인하기 위하여 Decision Tree를 이용한 test를 해보았다."
   ]
  },
  {
   "cell_type": "markdown",
   "metadata": {},
   "source": [
    "14차원에서 tree로 실험"
   ]
  },
  {
   "cell_type": "code",
   "execution_count": 202,
   "metadata": {},
   "outputs": [
    {
     "data": {
      "text/plain": [
       "DecisionTreeClassifier(class_weight=None, criterion='gini', max_depth=None,\n",
       "            max_features=None, max_leaf_nodes=None,\n",
       "            min_impurity_split=1e-07, min_samples_leaf=1,\n",
       "            min_samples_split=2, min_weight_fraction_leaf=0.0,\n",
       "            presort=False, random_state=None, splitter='best')"
      ]
     },
     "execution_count": 202,
     "metadata": {},
     "output_type": "execute_result"
    }
   ],
   "source": [
    "tree.fit(pcm,output)"
   ]
  },
  {
   "cell_type": "code",
   "execution_count": 174,
   "metadata": {
    "collapsed": true
   },
   "outputs": [],
   "source": [
    "from sklearn.model_selection import learning_curve, validation_curve"
   ]
  },
  {
   "cell_type": "code",
   "execution_count": 210,
   "metadata": {
    "collapsed": true
   },
   "outputs": [],
   "source": [
    "train_sizes, train_scores, test_scores = learning_curve(\n",
    "        tree, pcm, output)"
   ]
  },
  {
   "cell_type": "code",
   "execution_count": 176,
   "metadata": {},
   "outputs": [
    {
     "name": "stdout",
     "output_type": "stream",
     "text": [
      "Requirement already satisfied: sklearn_evaluation in c:\\users\\mslee\\anaconda3\\lib\\site-packages\n",
      "Requirement already satisfied: six in c:\\users\\mslee\\anaconda3\\lib\\site-packages (from sklearn_evaluation)\n",
      "Requirement already satisfied: scikit-learn in c:\\users\\mslee\\anaconda3\\lib\\site-packages (from sklearn_evaluation)\n",
      "Requirement already satisfied: decorator in c:\\users\\mslee\\anaconda3\\lib\\site-packages (from sklearn_evaluation)\n",
      "Requirement already satisfied: matplotlib in c:\\users\\mslee\\anaconda3\\lib\\site-packages (from sklearn_evaluation)\n",
      "Requirement already satisfied: numpy>=1.7.1 in c:\\users\\mslee\\anaconda3\\lib\\site-packages (from matplotlib->sklearn_evaluation)\n",
      "Requirement already satisfied: python-dateutil in c:\\users\\mslee\\anaconda3\\lib\\site-packages (from matplotlib->sklearn_evaluation)\n",
      "Requirement already satisfied: pytz in c:\\users\\mslee\\anaconda3\\lib\\site-packages (from matplotlib->sklearn_evaluation)\n",
      "Requirement already satisfied: cycler>=0.10 in c:\\users\\mslee\\anaconda3\\lib\\site-packages (from matplotlib->sklearn_evaluation)\n",
      "Requirement already satisfied: pyparsing!=2.0.4,!=2.1.2,!=2.1.6,>=1.5.6 in c:\\users\\mslee\\anaconda3\\lib\\site-packages (from matplotlib->sklearn_evaluation)\n"
     ]
    }
   ],
   "source": [
    "!pip install sklearn_evaluation"
   ]
  },
  {
   "cell_type": "code",
   "execution_count": 205,
   "metadata": {
    "collapsed": true
   },
   "outputs": [],
   "source": [
    "%matplotlib inline"
   ]
  },
  {
   "cell_type": "code",
   "execution_count": 206,
   "metadata": {
    "collapsed": true
   },
   "outputs": [],
   "source": [
    "from sklearn_evaluation import plot"
   ]
  },
  {
   "cell_type": "code",
   "execution_count": 211,
   "metadata": {},
   "outputs": [
    {
     "data": {
      "text/plain": [
       "<matplotlib.axes._subplots.AxesSubplot at 0x26334d54a58>"
      ]
     },
     "execution_count": 211,
     "metadata": {},
     "output_type": "execute_result"
    },
    {
     "data": {
      "image/png": "[encoded data removed]",
      "text/plain": [
       "<matplotlib.figure.Figure at 0x26334d44a58>"
      ]
     },
     "metadata": {},
     "output_type": "display_data"
    }
   ],
   "source": [
    "plot.feature_importances(tree, top_n=5)"
   ]
  },
  {
   "cell_type": "code",
   "execution_count": 212,
   "metadata": {},
   "outputs": [
    {
     "data": {
      "text/plain": [
       "<matplotlib.axes._subplots.AxesSubplot at 0x26334d75e10>"
      ]
     },
     "execution_count": 212,
     "metadata": {},
     "output_type": "execute_result"
    },
    {
     "data": {
      "image/png": "[encoded data removed]",
      "text/plain": [
       "<matplotlib.figure.Figure at 0x26334de8668>"
      ]
     },
     "metadata": {},
     "output_type": "display_data"
    }
   ],
   "source": [
    "plot.feature_importances(tree, top_n=10)"
   ]
  },
  {
   "cell_type": "markdown",
   "metadata": {},
   "source": [
    "feature에서 가장 영향을 많이주는 것들을 골라 확인해보았다.  \n",
    "이 결과를 보았을때 5개가 주된 비율을 차지 하는 것을 확인 할 수 있었다.  \n",
    "따라서 아까 구했던 14, 9, 5의 순으로 실험하려 한다.  \n",
    "다음으로는 learning curve와 validation curve를 확인 하였다."
   ]
  },
  {
   "cell_type": "code",
   "execution_count": 213,
   "metadata": {},
   "outputs": [
    {
     "data": {
      "text/plain": [
       "<matplotlib.axes._subplots.AxesSubplot at 0x26334e89908>"
      ]
     },
     "execution_count": 213,
     "metadata": {},
     "output_type": "execute_result"
    },
    {
     "data": {
      "image/png": "[encoded data removed]",
      "text/plain": [
       "<matplotlib.figure.Figure at 0x26334d5ce80>"
      ]
     },
     "metadata": {},
     "output_type": "display_data"
    }
   ],
   "source": [
    "plot.learning_curve(train_scores, test_scores, train_sizes)"
   ]
  },
  {
   "cell_type": "code",
   "execution_count": 214,
   "metadata": {
    "collapsed": true
   },
   "outputs": [],
   "source": [
    "param_range = np.array([1, 10, 100])\n",
    "param_name = 'random_state'\n",
    "train_scores, test_scores = validation_curve(tree, pcm, output, param_name=param_name, param_range=param_range)"
   ]
  },
  {
   "cell_type": "code",
   "execution_count": 215,
   "metadata": {},
   "outputs": [
    {
     "data": {
      "text/plain": [
       "<matplotlib.axes._subplots.AxesSubplot at 0x26334f836a0>"
      ]
     },
     "execution_count": 215,
     "metadata": {},
     "output_type": "execute_result"
    },
    {
     "data": {
      "image/png": "[encoded data removed]",
      "text/plain": [
       "<matplotlib.figure.Figure at 0x26334f4cc88>"
      ]
     },
     "metadata": {},
     "output_type": "display_data"
    }
   ],
   "source": [
    "plot.validation_curve(train_scores, test_scores, param_range, param_name)"
   ]
  },
  {
   "cell_type": "markdown",
   "metadata": {},
   "source": [
    "위의 그래프를 보면 training score가 1에 근접한 것을 보아 상당히 overfitting되었다는 것을 볼 수 있다.  \n",
    "다음단계로 cross validation을 써보기로 하였다."
   ]
  },
  {
   "cell_type": "markdown",
   "metadata": {},
   "source": [
    "#### predictions by cross-validation(CV=10)"
   ]
  },
  {
   "cell_type": "markdown",
   "metadata": {},
   "source": [
    "cross_val_predict를 사용하여 accuracy score를 계산해보았다."
   ]
  },
  {
   "cell_type": "code",
   "execution_count": 217,
   "metadata": {
    "collapsed": true
   },
   "outputs": [],
   "source": [
    "from sklearn.model_selection import cross_val_predict"
   ]
  },
  {
   "cell_type": "code",
   "execution_count": 218,
   "metadata": {
    "collapsed": true
   },
   "outputs": [],
   "source": [
    "from sklearn import metrics"
   ]
  },
  {
   "cell_type": "code",
   "execution_count": 219,
   "metadata": {
    "collapsed": true
   },
   "outputs": [],
   "source": [
    "predicted = cross_val_predict(tree,pcm,output,cv=10)"
   ]
  },
  {
   "cell_type": "code",
   "execution_count": 220,
   "metadata": {},
   "outputs": [
    {
     "data": {
      "text/plain": [
       "0.99699141879609121"
      ]
     },
     "execution_count": 220,
     "metadata": {},
     "output_type": "execute_result"
    }
   ],
   "source": [
    "metrics.accuracy_score(output,predicted)"
   ]
  },
  {
   "cell_type": "markdown",
   "metadata": {},
   "source": [
    "위의 결과를 보면 결과값이 너무 좋은 것을 보아 overfitting되었음을 알 수 있고  이를 시험 하기 위해 test data로 score를 내보았다."
   ]
  },
  {
   "cell_type": "code",
   "execution_count": 221,
   "metadata": {},
   "outputs": [
    {
     "data": {
      "text/plain": [
       "0.41099999999999998"
      ]
     },
     "execution_count": 221,
     "metadata": {},
     "output_type": "execute_result"
    }
   ],
   "source": [
    "tree.score(tspcm,tsoutput)"
   ]
  },
  {
   "cell_type": "markdown",
   "metadata": {},
   "source": [
    "testdata로 실험해본결과 결과가 상당히 안좋음을 볼 수 있었다.  \n",
    "다음으로는 14차원말고 9, 5차원으로 score를 보려한다."
   ]
  },
  {
   "cell_type": "markdown",
   "metadata": {},
   "source": [
    "9차원 test"
   ]
  },
  {
   "cell_type": "code",
   "execution_count": 222,
   "metadata": {},
   "outputs": [
    {
     "data": {
      "text/plain": [
       "DecisionTreeClassifier(class_weight=None, criterion='gini', max_depth=None,\n",
       "            max_features=None, max_leaf_nodes=None,\n",
       "            min_impurity_split=1e-07, min_samples_leaf=1,\n",
       "            min_samples_split=2, min_weight_fraction_leaf=0.0,\n",
       "            presort=False, random_state=100, splitter='best')"
      ]
     },
     "execution_count": 222,
     "metadata": {},
     "output_type": "execute_result"
    }
   ],
   "source": [
    "tree.fit(pcm2,output)"
   ]
  },
  {
   "cell_type": "code",
   "execution_count": 223,
   "metadata": {},
   "outputs": [
    {
     "data": {
      "text/plain": [
       "0.34549999999999997"
      ]
     },
     "execution_count": 223,
     "metadata": {},
     "output_type": "execute_result"
    }
   ],
   "source": [
    "tree.score(tspcm2,tsoutput)"
   ]
  },
  {
   "cell_type": "markdown",
   "metadata": {},
   "source": [
    "이를 보면 확률이 더 안좋음을 볼 수 있었다."
   ]
  },
  {
   "cell_type": "markdown",
   "metadata": {},
   "source": [
    "5차원에서 test"
   ]
  },
  {
   "cell_type": "code",
   "execution_count": 224,
   "metadata": {},
   "outputs": [
    {
     "data": {
      "text/plain": [
       "DecisionTreeClassifier(class_weight=None, criterion='gini', max_depth=None,\n",
       "            max_features=None, max_leaf_nodes=None,\n",
       "            min_impurity_split=1e-07, min_samples_leaf=1,\n",
       "            min_samples_split=2, min_weight_fraction_leaf=0.0,\n",
       "            presort=False, random_state=100, splitter='best')"
      ]
     },
     "execution_count": 224,
     "metadata": {},
     "output_type": "execute_result"
    }
   ],
   "source": [
    "tree.fit(pcm3,output)"
   ]
  },
  {
   "cell_type": "code",
   "execution_count": 225,
   "metadata": {},
   "outputs": [
    {
     "data": {
      "text/plain": [
       "0.40939999999999999"
      ]
     },
     "execution_count": 225,
     "metadata": {},
     "output_type": "execute_result"
    }
   ],
   "source": [
    "tree.score(tspcm3,tsoutput)"
   ]
  },
  {
   "cell_type": "markdown",
   "metadata": {},
   "source": [
    "신기하게도 오히려 5차원으로 줄였을때 9차원보다 더 잘 맞는 것을 볼 수 있었다."
   ]
  },
  {
   "cell_type": "markdown",
   "metadata": {},
   "source": [
    "# 4. 여러 모델 실험"
   ]
  },
  {
   "cell_type": "markdown",
   "metadata": {},
   "source": [
    "9가지의 모델로 실험 하려한다."
   ]
  },
  {
   "cell_type": "markdown",
   "metadata": {},
   "source": [
    "decisionTree, knn, naive-bayes, randomforest, LinearSVC, mlp, clustring(Kmeans)(x), logistic regression, ensemble(bagging)"
   ]
  },
  {
   "cell_type": "markdown",
   "metadata": {},
   "source": [
    "## (1). Decision Tree"
   ]
  },
  {
   "cell_type": "code",
   "execution_count": 228,
   "metadata": {
    "collapsed": true
   },
   "outputs": [],
   "source": [
    "from sklearn.tree import DecisionTreeClassifier\n",
    "tree=DecisionTreeClassifier()"
   ]
  },
  {
   "cell_type": "code",
   "execution_count": 229,
   "metadata": {
    "collapsed": true
   },
   "outputs": [],
   "source": [
    "from sklearn.model_selection import learning_curve, validation_curve\n",
    "from sklearn_evaluation import plot\n",
    "train_sizes, train_scores, test_scores = learning_curve(tree, pcm, output)"
   ]
  },
  {
   "cell_type": "code",
   "execution_count": 230,
   "metadata": {},
   "outputs": [
    {
     "data": {
      "text/plain": [
       "<matplotlib.axes._subplots.AxesSubplot at 0x26334ef5048>"
      ]
     },
     "execution_count": 230,
     "metadata": {},
     "output_type": "execute_result"
    },
    {
     "data": {
      "image/png": "[encoded data removed]",
      "text/plain": [
       "<matplotlib.figure.Figure at 0x2633501da58>"
      ]
     },
     "metadata": {},
     "output_type": "display_data"
    }
   ],
   "source": [
    "plot.learning_curve(train_scores, test_scores, train_sizes)"
   ]
  },
  {
   "cell_type": "code",
   "execution_count": 231,
   "metadata": {},
   "outputs": [
    {
     "data": {
      "text/plain": [
       "<matplotlib.axes._subplots.AxesSubplot at 0x263350cce80>"
      ]
     },
     "execution_count": 231,
     "metadata": {},
     "output_type": "execute_result"
    },
    {
     "data": {
      "image/png": "[encoded data removed]",
      "text/plain": [
       "<matplotlib.figure.Figure at 0x26334defa20>"
      ]
     },
     "metadata": {},
     "output_type": "display_data"
    }
   ],
   "source": [
    "tree=DecisionTreeClassifier()\n",
    "param_range = np.array([1, 10, 100])\n",
    "param_name = 'random_state'\n",
    "train_scores, test_scores = validation_curve(tree, pcm, output, param_name=param_name, param_range=param_range)\n",
    "plot.validation_curve(train_scores, test_scores, param_range, param_name)"
   ]
  },
  {
   "cell_type": "code",
   "execution_count": 232,
   "metadata": {},
   "outputs": [
    {
     "data": {
      "text/plain": [
       "0.99699141879609121"
      ]
     },
     "execution_count": 232,
     "metadata": {},
     "output_type": "execute_result"
    }
   ],
   "source": [
    "from sklearn.model_selection import cross_val_predict\n",
    "from sklearn import metrics\n",
    "predicted = cross_val_predict(tree,pcm,output,cv=10)\n",
    "metrics.accuracy_score(output,predicted)"
   ]
  },
  {
   "cell_type": "code",
   "execution_count": 233,
   "metadata": {},
   "outputs": [
    {
     "data": {
      "text/plain": [
       "<matplotlib.axes._subplots.AxesSubplot at 0x26335001be0>"
      ]
     },
     "execution_count": 233,
     "metadata": {},
     "output_type": "execute_result"
    },
    {
     "data": {
      "image/png": "[encoded data removed]",
      "text/plain": [
       "<matplotlib.figure.Figure at 0x26335046780>"
      ]
     },
     "metadata": {},
     "output_type": "display_data"
    }
   ],
   "source": [
    "plot.roc(output, tree.predict_proba(pcm))"
   ]
  },
  {
   "cell_type": "markdown",
   "metadata": {},
   "source": [
    "이 값들을보면 앞서 본바와 같이 overfitting되었음을 알 수 있고 실제 test값으로 결과를 보면 다음과 같다."
   ]
  },
  {
   "cell_type": "code",
   "execution_count": 234,
   "metadata": {},
   "outputs": [
    {
     "data": {
      "text/plain": [
       "0.41099999999999998"
      ]
     },
     "execution_count": 234,
     "metadata": {},
     "output_type": "execute_result"
    }
   ],
   "source": [
    "tree.score(tspcm,tsoutput)"
   ]
  },
  {
   "cell_type": "markdown",
   "metadata": {},
   "source": [
    "모델을 돌려보고 확인 그 결과를 여러 그래프들로 확인해보고 testset으로 확인 해본 결과,  \n",
    "많이 overfitting 되었고 정확도가 좋은 모델이 아님을 볼 수 있었다."
   ]
  },
  {
   "cell_type": "markdown",
   "metadata": {},
   "source": [
    "## (2). KNN"
   ]
  },
  {
   "cell_type": "code",
   "execution_count": 235,
   "metadata": {},
   "outputs": [
    {
     "data": {
      "text/plain": [
       "KNeighborsClassifier(algorithm='auto', leaf_size=30, metric='minkowski',\n",
       "           metric_params=None, n_jobs=1, n_neighbors=5, p=2,\n",
       "           weights='uniform')"
      ]
     },
     "execution_count": 235,
     "metadata": {},
     "output_type": "execute_result"
    }
   ],
   "source": [
    "from sklearn.neighbors import KNeighborsClassifier\n",
    "knn=KNeighborsClassifier()\n",
    "knn.fit(pcm,output)"
   ]
  },
  {
   "cell_type": "code",
   "execution_count": 236,
   "metadata": {},
   "outputs": [
    {
     "data": {
      "text/plain": [
       "<matplotlib.axes._subplots.AxesSubplot at 0x2633c7d2198>"
      ]
     },
     "execution_count": 236,
     "metadata": {},
     "output_type": "execute_result"
    },
    {
     "data": {
      "image/png": "[encoded data removed]",
      "text/plain": [
       "<matplotlib.figure.Figure at 0x263351ed9b0>"
      ]
     },
     "metadata": {},
     "output_type": "display_data"
    }
   ],
   "source": [
    "from sklearn.model_selection import learning_curve, validation_curve\n",
    "from sklearn_evaluation import plot\n",
    "train_sizes, train_scores, test_scores = learning_curve(knn, pcm, output)\n",
    "plot.learning_curve(train_scores, test_scores, train_sizes)"
   ]
  },
  {
   "cell_type": "code",
   "execution_count": 282,
   "metadata": {},
   "outputs": [
    {
     "data": {
      "text/plain": [
       "<matplotlib.axes._subplots.AxesSubplot at 0x20e8a2faa20>"
      ]
     },
     "execution_count": 282,
     "metadata": {},
     "output_type": "execute_result"
    },
    {
     "data": {
      "image/png": "[encoded data removed]",
      "text/plain": [
       "<matplotlib.figure.Figure at 0x20e8a297160>"
      ]
     },
     "metadata": {},
     "output_type": "display_data"
    }
   ],
   "source": [
    "param_range = np.array([1, 10, 100])\n",
    "param_name = 'n_neighbors'\n",
    "train_scores, test_scores = validation_curve(knn, pcm, output, param_name=param_name, param_range=param_range)\n",
    "plot.validation_curve(train_scores, test_scores, param_range, param_name)"
   ]
  },
  {
   "cell_type": "code",
   "execution_count": 283,
   "metadata": {},
   "outputs": [
    {
     "data": {
      "text/plain": [
       "<matplotlib.axes._subplots.AxesSubplot at 0x20e89e2eeb8>"
      ]
     },
     "execution_count": 283,
     "metadata": {},
     "output_type": "execute_result"
    },
    {
     "data": {
      "image/png": "[encoded data removed]",
      "text/plain": [
       "<matplotlib.figure.Figure at 0x20e8a1e9320>"
      ]
     },
     "metadata": {},
     "output_type": "display_data"
    }
   ],
   "source": [
    "plot.roc(output, knn.predict_proba(pcm))"
   ]
  },
  {
   "cell_type": "code",
   "execution_count": 284,
   "metadata": {},
   "outputs": [
    {
     "data": {
      "text/plain": [
       "0.97252585871575659"
      ]
     },
     "execution_count": 284,
     "metadata": {},
     "output_type": "execute_result"
    }
   ],
   "source": [
    "from sklearn.model_selection import cross_val_predict\n",
    "from sklearn import metrics\n",
    "predicted = cross_val_predict(knn,pcm,output,cv=10)\n",
    "metrics.accuracy_score(output,predicted)"
   ]
  },
  {
   "cell_type": "markdown",
   "metadata": {},
   "source": [
    "14차원에서의 test값 score"
   ]
  },
  {
   "cell_type": "code",
   "execution_count": 237,
   "metadata": {},
   "outputs": [
    {
     "data": {
      "text/plain": [
       "0.36470000000000002"
      ]
     },
     "execution_count": 237,
     "metadata": {},
     "output_type": "execute_result"
    }
   ],
   "source": [
    "knn=KNeighborsClassifier()\n",
    "knn.fit(pcm,output)\n",
    "knn.score(tspcm,tsoutput)"
   ]
  },
  {
   "cell_type": "markdown",
   "metadata": {},
   "source": [
    "9차원에서의 test값 score"
   ]
  },
  {
   "cell_type": "code",
   "execution_count": 239,
   "metadata": {},
   "outputs": [
    {
     "data": {
      "text/plain": [
       "0.36470000000000002"
      ]
     },
     "execution_count": 239,
     "metadata": {},
     "output_type": "execute_result"
    }
   ],
   "source": [
    "knn=KNeighborsClassifier()\n",
    "knn.fit(pcm2,output)\n",
    "knn.score(tspcm2,tsoutput)"
   ]
  },
  {
   "cell_type": "markdown",
   "metadata": {},
   "source": [
    "5차원에서의 test값 score"
   ]
  },
  {
   "cell_type": "code",
   "execution_count": 240,
   "metadata": {},
   "outputs": [
    {
     "data": {
      "text/plain": [
       "0.36470000000000002"
      ]
     },
     "execution_count": 240,
     "metadata": {},
     "output_type": "execute_result"
    }
   ],
   "source": [
    "knn=KNeighborsClassifier()\n",
    "knn.fit(pcm3,output)\n",
    "knn.score(tspcm3,tsoutput)"
   ]
  },
  {
   "cell_type": "markdown",
   "metadata": {},
   "source": [
    "KNN의 경우 Decision-Tree 보다 learning-curve와 validation-curve, 그리고 accuracy에서는 안좋았지만 ROC curve에서는 조금 더 좋음을 알 수 있었다.  \n",
    "그리고 이 경우도 마찬가지로 overfitting이 일어나 실제 예측률을 좋지 않은 것으로 나타났다.    \n",
    "하지만 신기하게도 차원을 바꾸어 fitting을 해도 정확도가 바뀌지는 않은 것을 볼 수 있었다.  \n",
    "전반적으로는 둘다 좋지는 않지만 Decision Tree의 경우가 조금더 성능이 좋은것으로 확인 되었다."
   ]
  },
  {
   "cell_type": "markdown",
   "metadata": {},
   "source": [
    "## (3). Naive-bayes"
   ]
  },
  {
   "cell_type": "code",
   "execution_count": 241,
   "metadata": {},
   "outputs": [
    {
     "data": {
      "text/plain": [
       "GaussianNB(priors=None)"
      ]
     },
     "execution_count": 241,
     "metadata": {},
     "output_type": "execute_result"
    }
   ],
   "source": [
    "from sklearn.naive_bayes import GaussianNB\n",
    "nb=GaussianNB()\n",
    "nb.fit(pcm,output)"
   ]
  },
  {
   "cell_type": "code",
   "execution_count": 242,
   "metadata": {},
   "outputs": [
    {
     "data": {
      "text/plain": [
       "<matplotlib.axes._subplots.AxesSubplot at 0x2633518fc88>"
      ]
     },
     "execution_count": 242,
     "metadata": {},
     "output_type": "execute_result"
    },
    {
     "data": {
      "image/png": "[encoded data removed]",
      "text/plain": [
       "<matplotlib.figure.Figure at 0x2633c813940>"
      ]
     },
     "metadata": {},
     "output_type": "display_data"
    }
   ],
   "source": [
    "from sklearn.model_selection import learning_curve, validation_curve\n",
    "from sklearn_evaluation import plot\n",
    "train_sizes, train_scores, test_scores = learning_curve(nb, pcm, output)\n",
    "plot.learning_curve(train_scores, test_scores, train_sizes)"
   ]
  },
  {
   "cell_type": "code",
   "execution_count": 243,
   "metadata": {},
   "outputs": [
    {
     "data": {
      "text/plain": [
       "<matplotlib.axes._subplots.AxesSubplot at 0x26341ba4fd0>"
      ]
     },
     "execution_count": 243,
     "metadata": {},
     "output_type": "execute_result"
    },
    {
     "data": {
      "image/png": "[encoded data removed]",
      "text/plain": [
       "<matplotlib.figure.Figure at 0x26334d28208>"
      ]
     },
     "metadata": {},
     "output_type": "display_data"
    }
   ],
   "source": [
    "plot.roc(output, nb.predict_proba(pcm))"
   ]
  },
  {
   "cell_type": "code",
   "execution_count": 244,
   "metadata": {},
   "outputs": [
    {
     "data": {
      "text/plain": [
       "0.38713057559953323"
      ]
     },
     "execution_count": 244,
     "metadata": {},
     "output_type": "execute_result"
    }
   ],
   "source": [
    "from sklearn.model_selection import cross_val_predict\n",
    "from sklearn import metrics\n",
    "predicted = cross_val_predict(nb,pcm,output,cv=10)\n",
    "metrics.accuracy_score(output,predicted)"
   ]
  },
  {
   "cell_type": "markdown",
   "metadata": {},
   "source": [
    "14차원에서 test score"
   ]
  },
  {
   "cell_type": "code",
   "execution_count": 245,
   "metadata": {},
   "outputs": [
    {
     "data": {
      "text/plain": [
       "0.43149999999999999"
      ]
     },
     "execution_count": 245,
     "metadata": {},
     "output_type": "execute_result"
    }
   ],
   "source": [
    "nb=GaussianNB()\n",
    "nb.fit(pcm,output)\n",
    "nb.score(tspcm,tsoutput)"
   ]
  },
  {
   "cell_type": "markdown",
   "metadata": {},
   "source": [
    "9차원에서의 test score"
   ]
  },
  {
   "cell_type": "code",
   "execution_count": 247,
   "metadata": {},
   "outputs": [
    {
     "data": {
      "text/plain": [
       "0.43149999999999999"
      ]
     },
     "execution_count": 247,
     "metadata": {},
     "output_type": "execute_result"
    }
   ],
   "source": [
    "nb.fit(pcm2,output)\n",
    "nb.score(tspcm2,tsoutput)"
   ]
  },
  {
   "cell_type": "code",
   "execution_count": 248,
   "metadata": {},
   "outputs": [
    {
     "data": {
      "text/plain": [
       "0.43149999999999999"
      ]
     },
     "execution_count": 248,
     "metadata": {},
     "output_type": "execute_result"
    }
   ],
   "source": [
    "nb.fit(pcm3,output)\n",
    "nb.score(tspcm3,tsoutput)"
   ]
  },
  {
   "cell_type": "markdown",
   "metadata": {},
   "source": [
    "naive baysian의 경우에 traindata에 대해서 좋지 않게 보였으나 오히려 test data에 대해서 조금더 좋은 accuracy를 보였다.  \n",
    "그리고 이도 knn과 마찬가지로 차원에 영향을 받지 않고 다 비슷한 score를 보였다.  \n",
    "결과적으로는 앞선 두 모델보다 좋음을 알 수 있었다."
   ]
  },
  {
   "cell_type": "markdown",
   "metadata": {},
   "source": [
    "## (4). Random Forest "
   ]
  },
  {
   "cell_type": "code",
   "execution_count": 249,
   "metadata": {},
   "outputs": [
    {
     "data": {
      "text/plain": [
       "RandomForestClassifier(bootstrap=True, class_weight=None, criterion='gini',\n",
       "            max_depth=None, max_features='auto', max_leaf_nodes=None,\n",
       "            min_impurity_split=1e-07, min_samples_leaf=1,\n",
       "            min_samples_split=2, min_weight_fraction_leaf=0.0,\n",
       "            n_estimators=10, n_jobs=1, oob_score=False, random_state=None,\n",
       "            verbose=0, warm_start=False)"
      ]
     },
     "execution_count": 249,
     "metadata": {},
     "output_type": "execute_result"
    }
   ],
   "source": [
    "from sklearn.ensemble import RandomForestClassifier\n",
    "rf = RandomForestClassifier()\n",
    "rf.fit(pcm, output)"
   ]
  },
  {
   "cell_type": "code",
   "execution_count": 297,
   "metadata": {},
   "outputs": [
    {
     "data": {
      "text/plain": [
       "<matplotlib.axes._subplots.AxesSubplot at 0x20e8944ca20>"
      ]
     },
     "execution_count": 297,
     "metadata": {},
     "output_type": "execute_result"
    },
    {
     "data": {
      "image/png": "[encoded data removed]",
      "text/plain": [
       "<matplotlib.figure.Figure at 0x20e88143710>"
      ]
     },
     "metadata": {},
     "output_type": "display_data"
    }
   ],
   "source": [
    "from sklearn.model_selection import learning_curve, validation_curve\n",
    "from sklearn_evaluation import plot\n",
    "train_sizes, train_scores, test_scores = learning_curve(rf, pcm, output)\n",
    "plot.learning_curve(train_scores, test_scores, train_sizes)"
   ]
  },
  {
   "cell_type": "code",
   "execution_count": 298,
   "metadata": {
    "collapsed": true
   },
   "outputs": [],
   "source": [
    "param_range = np.array([1, 10, 100])\n",
    "param_name = \"n_estimators\"\n",
    "train_scores, test_scores = validation_curve(rf, pcm, output, param_name=param_name, param_range=param_range)"
   ]
  },
  {
   "cell_type": "code",
   "execution_count": 299,
   "metadata": {},
   "outputs": [
    {
     "data": {
      "text/plain": [
       "<matplotlib.axes._subplots.AxesSubplot at 0x20e89477358>"
      ]
     },
     "execution_count": 299,
     "metadata": {},
     "output_type": "execute_result"
    },
    {
     "data": {
      "image/png": "[encoded data removed]",
      "text/plain": [
       "<matplotlib.figure.Figure at 0x20e894810f0>"
      ]
     },
     "metadata": {},
     "output_type": "display_data"
    }
   ],
   "source": [
    "plot.validation_curve(train_scores, test_scores, param_range, param_name)"
   ]
  },
  {
   "cell_type": "code",
   "execution_count": 300,
   "metadata": {},
   "outputs": [
    {
     "data": {
      "text/plain": [
       "<matplotlib.axes._subplots.AxesSubplot at 0x20e894cbf60>"
      ]
     },
     "execution_count": 300,
     "metadata": {},
     "output_type": "execute_result"
    },
    {
     "data": {
      "image/png": "[encoded data removed]",
      "text/plain": [
       "<matplotlib.figure.Figure at 0x20e89562b38>"
      ]
     },
     "metadata": {},
     "output_type": "display_data"
    }
   ],
   "source": [
    "plot.roc(output, rf.predict_proba(pcm))"
   ]
  },
  {
   "cell_type": "code",
   "execution_count": 301,
   "metadata": {},
   "outputs": [
    {
     "data": {
      "text/plain": [
       "0.99830122327800397"
      ]
     },
     "execution_count": 301,
     "metadata": {},
     "output_type": "execute_result"
    }
   ],
   "source": [
    "from sklearn.model_selection import cross_val_predict\n",
    "from sklearn import metrics\n",
    "predicted = cross_val_predict(rf,pcm,output,cv=10)\n",
    "metrics.accuracy_score(output,predicted)"
   ]
  },
  {
   "cell_type": "markdown",
   "metadata": {},
   "source": [
    "14차원에서의 test score"
   ]
  },
  {
   "cell_type": "code",
   "execution_count": 250,
   "metadata": {},
   "outputs": [
    {
     "data": {
      "text/plain": [
       "0.438"
      ]
     },
     "execution_count": 250,
     "metadata": {},
     "output_type": "execute_result"
    }
   ],
   "source": [
    "rf = RandomForestClassifier()\n",
    "rf.fit(pcm, output)\n",
    "rf.score(tspcm,tsoutput)"
   ]
  },
  {
   "cell_type": "markdown",
   "metadata": {},
   "source": [
    "9차원에서의 test score"
   ]
  },
  {
   "cell_type": "code",
   "execution_count": 251,
   "metadata": {},
   "outputs": [
    {
     "data": {
      "text/plain": [
       "0.41889999999999999"
      ]
     },
     "execution_count": 251,
     "metadata": {},
     "output_type": "execute_result"
    }
   ],
   "source": [
    "rf = RandomForestClassifier()\n",
    "rf.fit(pcm2, output)\n",
    "rf.score(tspcm2,tsoutput)"
   ]
  },
  {
   "cell_type": "markdown",
   "metadata": {},
   "source": [
    "5차원에서의 test score"
   ]
  },
  {
   "cell_type": "code",
   "execution_count": 252,
   "metadata": {},
   "outputs": [
    {
     "data": {
      "text/plain": [
       "0.43969999999999998"
      ]
     },
     "execution_count": 252,
     "metadata": {},
     "output_type": "execute_result"
    }
   ],
   "source": [
    "rf = RandomForestClassifier()\n",
    "rf.fit(pcm3, output)\n",
    "rf.score(tspcm3,tsoutput)"
   ]
  },
  {
   "cell_type": "markdown",
   "metadata": {},
   "source": [
    "**추가로 2차원에서의 test score"
   ]
  },
  {
   "cell_type": "code",
   "execution_count": 258,
   "metadata": {},
   "outputs": [
    {
     "data": {
      "text/plain": [
       "0.43290000000000001"
      ]
     },
     "execution_count": 258,
     "metadata": {},
     "output_type": "execute_result"
    }
   ],
   "source": [
    "rf = RandomForestClassifier()\n",
    "rf.fit(pcm4, output)\n",
    "rf.score(tspcm4,tsoutput)"
   ]
  },
  {
   "cell_type": "markdown",
   "metadata": {},
   "source": [
    "결과를보면 모든면에서 여태까지 한것중에 가장 성능이 좋았다.  \n",
    "하지만 마찬가지로 overfitting된 것을 볼 수 있었고 testset에 대해서 성능이 그렇게 좋아 보이지 않았다.  \n",
    "그나마 test set에 대해서 여태가장 좋았던 naive baysian과 비교하면 성능은 미세한 차이로 높았다."
   ]
  },
  {
   "cell_type": "markdown",
   "metadata": {},
   "source": [
    "## (5). SVM //맨뒤에서 다시\n",
    "시간오래걸려서 pass"
   ]
  },
  {
   "cell_type": "code",
   "execution_count": 50,
   "metadata": {
    "collapsed": true
   },
   "outputs": [],
   "source": [
    "from sklearn.decomposition import PCA\n",
    "pca=PCA(n_components=4)\n",
    "pca.fit(df3)\n",
    "pcm2=pca.transform(df3)"
   ]
  },
  {
   "cell_type": "code",
   "execution_count": null,
   "metadata": {
    "collapsed": true
   },
   "outputs": [],
   "source": [
    "'''from sklearn.svm import SVC\n",
    "svm=SVC()\n",
    "svm.fit(pcm2,output)'''"
   ]
  },
  {
   "cell_type": "code",
   "execution_count": null,
   "metadata": {
    "collapsed": true
   },
   "outputs": [],
   "source": [
    "'''svm.score(pcm2,output)'''"
   ]
  },
  {
   "cell_type": "markdown",
   "metadata": {
    "collapsed": true
   },
   "source": [
    "처음에 일반 data로 svm을 돌렸으나 매우오래 동안 돌려도 fitting이 되지 않았다. 따라서 차원을 4로 더 줄여서 해보았으나 여전히 오랜시간동안 되지않아 이 모델은 pass하였다."
   ]
  },
  {
   "cell_type": "markdown",
   "metadata": {
    "collapsed": true
   },
   "source": [
    "## (6). Multi Layer Perceptron"
   ]
  },
  {
   "cell_type": "code",
   "execution_count": 259,
   "metadata": {},
   "outputs": [
    {
     "data": {
      "text/plain": [
       "MLPClassifier(activation='relu', alpha=0.0001, batch_size='auto', beta_1=0.9,\n",
       "       beta_2=0.999, early_stopping=False, epsilon=1e-08,\n",
       "       hidden_layer_sizes=(100,), learning_rate='constant',\n",
       "       learning_rate_init=0.001, max_iter=200, momentum=0.9,\n",
       "       nesterovs_momentum=True, power_t=0.5, random_state=None,\n",
       "       shuffle=True, solver='adam', tol=0.0001, validation_fraction=0.1,\n",
       "       verbose=False, warm_start=False)"
      ]
     },
     "execution_count": 259,
     "metadata": {},
     "output_type": "execute_result"
    }
   ],
   "source": [
    "from sklearn.neural_network import MLPClassifier\n",
    "mlp=MLPClassifier()\n",
    "mlp.fit(pcm,output)"
   ]
  },
  {
   "cell_type": "code",
   "execution_count": 88,
   "metadata": {},
   "outputs": [
    {
     "data": {
      "text/plain": [
       "<matplotlib.axes._subplots.AxesSubplot at 0x22da8da3b70>"
      ]
     },
     "execution_count": 88,
     "metadata": {},
     "output_type": "execute_result"
    },
    {
     "data": {
      "image/png": "[encoded data removed]",
      "text/plain": [
       "<matplotlib.figure.Figure at 0x22daa53c2e8>"
      ]
     },
     "metadata": {},
     "output_type": "display_data"
    }
   ],
   "source": [
    "from sklearn.model_selection import learning_curve, validation_curve\n",
    "from sklearn_evaluation import plot\n",
    "train_sizes, train_scores, test_scores = learning_curve(mlp, pcm, output)\n",
    "plot.learning_curve(train_scores, test_scores, train_sizes)"
   ]
  },
  {
   "cell_type": "code",
   "execution_count": 89,
   "metadata": {},
   "outputs": [
    {
     "data": {
      "text/plain": [
       "<matplotlib.axes._subplots.AxesSubplot at 0x22da8dc8fd0>"
      ]
     },
     "execution_count": 89,
     "metadata": {},
     "output_type": "execute_result"
    },
    {
     "data": {
      "image/png": "[encoded data removed]",
      "text/plain": [
       "<matplotlib.figure.Figure at 0x22daa58a518>"
      ]
     },
     "metadata": {},
     "output_type": "display_data"
    }
   ],
   "source": [
    "plot.roc(output, mlp.predict_proba(pcm))"
   ]
  },
  {
   "cell_type": "code",
   "execution_count": 90,
   "metadata": {},
   "outputs": [
    {
     "data": {
      "text/plain": [
       "0.8836258563342938"
      ]
     },
     "execution_count": 90,
     "metadata": {},
     "output_type": "execute_result"
    }
   ],
   "source": [
    "from sklearn.model_selection import cross_val_predict\n",
    "from sklearn import metrics\n",
    "predicted = cross_val_predict(mlp,pcm,output,cv=10)\n",
    "metrics.accuracy_score(output,predicted)"
   ]
  },
  {
   "cell_type": "markdown",
   "metadata": {},
   "source": [
    "14차원에서의 test score"
   ]
  },
  {
   "cell_type": "code",
   "execution_count": 264,
   "metadata": {},
   "outputs": [
    {
     "data": {
      "text/plain": [
       "0.50829999999999997"
      ]
     },
     "execution_count": 264,
     "metadata": {},
     "output_type": "execute_result"
    }
   ],
   "source": [
    "mlp=MLPClassifier()\n",
    "mlp.fit(pcm,output)\n",
    "mlp.score(tspcm,tsoutput)"
   ]
  },
  {
   "cell_type": "markdown",
   "metadata": {},
   "source": [
    "9차원에서의 test score"
   ]
  },
  {
   "cell_type": "code",
   "execution_count": 265,
   "metadata": {},
   "outputs": [
    {
     "data": {
      "text/plain": [
       "0.44600000000000001"
      ]
     },
     "execution_count": 265,
     "metadata": {},
     "output_type": "execute_result"
    }
   ],
   "source": [
    "mlp=MLPClassifier()\n",
    "mlp.fit(pcm2,output)\n",
    "mlp.score(tspcm2,tsoutput)"
   ]
  },
  {
   "cell_type": "markdown",
   "metadata": {},
   "source": [
    "5차원에서의 test score"
   ]
  },
  {
   "cell_type": "code",
   "execution_count": 266,
   "metadata": {},
   "outputs": [
    {
     "data": {
      "text/plain": [
       "0.3856"
      ]
     },
     "execution_count": 266,
     "metadata": {},
     "output_type": "execute_result"
    }
   ],
   "source": [
    "mlp=MLPClassifier()\n",
    "mlp.fit(pcm3,output)\n",
    "mlp.score(tspcm3,tsoutput)"
   ]
  },
  {
   "cell_type": "markdown",
   "metadata": {},
   "source": [
    "** 19차원"
   ]
  },
  {
   "cell_type": "code",
   "execution_count": 269,
   "metadata": {},
   "outputs": [
    {
     "data": {
      "text/plain": [
       "0.40179999999999999"
      ]
     },
     "execution_count": 269,
     "metadata": {},
     "output_type": "execute_result"
    }
   ],
   "source": [
    "mlp=MLPClassifier()\n",
    "mlp.fit(pcm5,output)\n",
    "mlp.score(tspcm5,tsoutput)"
   ]
  },
  {
   "cell_type": "markdown",
   "metadata": {},
   "source": [
    "결과를 보면 여태 했던 모델중 가장 성능이 좋았다.  \n",
    "차원이 높으면 성능이 좋은 것을 보아 혹시 max인 19차원을 했을때 좋을까 해보았지만 더 안좋아짐을 확인 할 수 있었다.  \n",
    "결과적으로는 14차원에서 가장좋은 에측률을 보였다.  \n",
    "하지만 여전히 overfitting이 나는 것을 볼 수 있고 test set에 대해서는 그렇게 좋은 결과를 보지 못했다."
   ]
  },
  {
   "cell_type": "markdown",
   "metadata": {},
   "source": [
    "## (7). Clustering(Kmeans)"
   ]
  },
  {
   "cell_type": "code",
   "execution_count": 283,
   "metadata": {},
   "outputs": [
    {
     "data": {
      "text/plain": [
       "KMeans(algorithm='auto', copy_x=True, init='k-means++', max_iter=100000,\n",
       "    n_clusters=4, n_init=10, n_jobs=1, precompute_distances='auto',\n",
       "    random_state=None, tol=0.0001, verbose=0)"
      ]
     },
     "execution_count": 283,
     "metadata": {},
     "output_type": "execute_result"
    }
   ],
   "source": [
    "from sklearn.cluster import KMeans\n",
    "km=KMeans(n_clusters=4,max_iter=100000)\n",
    "km.fit(pcm,output)"
   ]
  },
  {
   "cell_type": "code",
   "execution_count": 277,
   "metadata": {},
   "outputs": [
    {
     "data": {
      "text/plain": [
       "<matplotlib.axes._subplots.AxesSubplot at 0x263443e45c0>"
      ]
     },
     "execution_count": 277,
     "metadata": {},
     "output_type": "execute_result"
    },
    {
     "data": {
      "image/png": "[encoded data removed]",
      "text/plain": [
       "<matplotlib.figure.Figure at 0x263443d2e80>"
      ]
     },
     "metadata": {},
     "output_type": "display_data"
    }
   ],
   "source": [
    "from sklearn.model_selection import learning_curve, validation_curve\n",
    "from sklearn_evaluation import plot\n",
    "train_sizes, train_scores, test_scores = learning_curve(km, pcm, output)\n",
    "plot.learning_curve(train_scores, test_scores, train_sizes)"
   ]
  },
  {
   "cell_type": "code",
   "execution_count": 279,
   "metadata": {},
   "outputs": [
    {
     "data": {
      "text/plain": [
       "<matplotlib.axes._subplots.AxesSubplot at 0x26346e45320>"
      ]
     },
     "execution_count": 279,
     "metadata": {},
     "output_type": "execute_result"
    },
    {
     "data": {
      "image/png": "[encoded data removed]",
      "text/plain": [
       "<matplotlib.figure.Figure at 0x26346eb85f8>"
      ]
     },
     "metadata": {},
     "output_type": "display_data"
    }
   ],
   "source": [
    "param_range = np.array([1, 10])\n",
    "param_name = \"n_clusters\"\n",
    "train_scores, test_scores = validation_curve(km, pcm, output, param_name=param_name, param_range=param_range)\n",
    "plot.validation_curve(train_scores, test_scores, param_range, param_name)"
   ]
  },
  {
   "cell_type": "code",
   "execution_count": 285,
   "metadata": {},
   "outputs": [
    {
     "data": {
      "text/plain": [
       "-50853690283746.0"
      ]
     },
     "execution_count": 285,
     "metadata": {},
     "output_type": "execute_result"
    }
   ],
   "source": [
    "km=KMeans(n_clusters=10,max_iter=100000)\n",
    "km.fit(pcm,output)\n",
    "km.score(tspcm,tsoutput)"
   ]
  },
  {
   "cell_type": "markdown",
   "metadata": {},
   "source": [
    "결과 score및 여러 값들이 이상하게 나와 다른것으로 하기로 결정하였다."
   ]
  },
  {
   "cell_type": "markdown",
   "metadata": {},
   "source": [
    "## (8). LogisticRegression"
   ]
  },
  {
   "cell_type": "code",
   "execution_count": 287,
   "metadata": {},
   "outputs": [
    {
     "data": {
      "text/plain": [
       "LogisticRegression(C=1.0, class_weight=None, dual=False, fit_intercept=True,\n",
       "          intercept_scaling=1, max_iter=100, multi_class='ovr', n_jobs=1,\n",
       "          penalty='l2', random_state=None, solver='liblinear', tol=0.0001,\n",
       "          verbose=0, warm_start=False)"
      ]
     },
     "execution_count": 287,
     "metadata": {},
     "output_type": "execute_result"
    }
   ],
   "source": [
    "from sklearn.linear_model import LogisticRegression\n",
    "lg=LogisticRegression()\n",
    "lg.fit(pcm,output)"
   ]
  },
  {
   "cell_type": "code",
   "execution_count": 288,
   "metadata": {},
   "outputs": [
    {
     "data": {
      "text/plain": [
       "<matplotlib.axes._subplots.AxesSubplot at 0x26346f76c88>"
      ]
     },
     "execution_count": 288,
     "metadata": {},
     "output_type": "execute_result"
    },
    {
     "data": {
      "image/png": "[encoded data removed]",
      "text/plain": [
       "<matplotlib.figure.Figure at 0x26346f42828>"
      ]
     },
     "metadata": {},
     "output_type": "display_data"
    }
   ],
   "source": [
    "from sklearn.model_selection import learning_curve, validation_curve\n",
    "from sklearn_evaluation import plot\n",
    "train_sizes, train_scores, test_scores = learning_curve(lg, pcm, output)\n",
    "plot.learning_curve(train_scores, test_scores, train_sizes)"
   ]
  },
  {
   "cell_type": "code",
   "execution_count": 289,
   "metadata": {},
   "outputs": [
    {
     "data": {
      "text/plain": [
       "<matplotlib.axes._subplots.AxesSubplot at 0x26346f54898>"
      ]
     },
     "execution_count": 289,
     "metadata": {},
     "output_type": "execute_result"
    },
    {
     "data": {
      "image/png": "[encoded data removed]",
      "text/plain": [
       "<matplotlib.figure.Figure at 0x26346fa3048>"
      ]
     },
     "metadata": {},
     "output_type": "display_data"
    }
   ],
   "source": [
    "plot.roc(output, lg.predict_proba(pcm))"
   ]
  },
  {
   "cell_type": "markdown",
   "metadata": {},
   "source": [
    "14차원에서의 test score"
   ]
  },
  {
   "cell_type": "code",
   "execution_count": 290,
   "metadata": {},
   "outputs": [
    {
     "data": {
      "text/plain": [
       "0.63600000000000001"
      ]
     },
     "execution_count": 290,
     "metadata": {},
     "output_type": "execute_result"
    }
   ],
   "source": [
    "lg=LogisticRegression()\n",
    "lg.fit(pcm,output)\n",
    "lg.score(tspcm,tsoutput)"
   ]
  },
  {
   "cell_type": "markdown",
   "metadata": {},
   "source": [
    "9차원에서의 test score"
   ]
  },
  {
   "cell_type": "code",
   "execution_count": 291,
   "metadata": {},
   "outputs": [
    {
     "data": {
      "text/plain": [
       "0.63919999999999999"
      ]
     },
     "execution_count": 291,
     "metadata": {},
     "output_type": "execute_result"
    }
   ],
   "source": [
    "lg=LogisticRegression()\n",
    "lg.fit(pcm2,output)\n",
    "lg.score(tspcm2,tsoutput)"
   ]
  },
  {
   "cell_type": "markdown",
   "metadata": {},
   "source": [
    "5차원에서의 test score"
   ]
  },
  {
   "cell_type": "code",
   "execution_count": 292,
   "metadata": {},
   "outputs": [
    {
     "data": {
      "text/plain": [
       "0.61809999999999998"
      ]
     },
     "execution_count": 292,
     "metadata": {},
     "output_type": "execute_result"
    }
   ],
   "source": [
    "lg=LogisticRegression()\n",
    "lg.fit(pcm3,output)\n",
    "lg.score(tspcm3,tsoutput)"
   ]
  },
  {
   "cell_type": "markdown",
   "metadata": {},
   "source": [
    "logistic regression에서 여태까지 한 다른 모델들보다 성능이 월등히 좋은 것을 볼 수 있다.   \n",
    "약간 overfitting되긴 하였지만 그래도 여태까지 한 다른 모델들에 비해서 overfitting된것도 적고 정확도가 아직 많이 좋지는 않지만 그나마 다른 것들에 비해 봐줄만 한 정도로 나왔다.  \n",
    "따라서 여태까지 한 모델들 중에서 가장 낫고 9차원일때 제일 확률이 좋음을 볼 수 있었다."
   ]
  },
  {
   "cell_type": "markdown",
   "metadata": {},
   "source": [
    "## (9). Ensemble(bagging)"
   ]
  },
  {
   "cell_type": "code",
   "execution_count": 295,
   "metadata": {
    "collapsed": true
   },
   "outputs": [],
   "source": [
    "from sklearn.ensemble import BaggingClassifier\n",
    "from sklearn.neighbors import KNeighborsClassifier\n",
    "bagging = BaggingClassifier(KNeighborsClassifier(), max_samples=0.5, max_features=0.5)"
   ]
  },
  {
   "cell_type": "code",
   "execution_count": 296,
   "metadata": {},
   "outputs": [
    {
     "data": {
      "text/plain": [
       "BaggingClassifier(base_estimator=KNeighborsClassifier(algorithm='auto', leaf_size=30, metric='minkowski',\n",
       "           metric_params=None, n_jobs=1, n_neighbors=5, p=2,\n",
       "           weights='uniform'),\n",
       "         bootstrap=True, bootstrap_features=False, max_features=0.5,\n",
       "         max_samples=0.5, n_estimators=10, n_jobs=1, oob_score=False,\n",
       "         random_state=None, verbose=0, warm_start=False)"
      ]
     },
     "execution_count": 296,
     "metadata": {},
     "output_type": "execute_result"
    }
   ],
   "source": [
    "bagging.fit(pcm,output)"
   ]
  },
  {
   "cell_type": "code",
   "execution_count": 297,
   "metadata": {},
   "outputs": [
    {
     "data": {
      "text/plain": [
       "<matplotlib.axes._subplots.AxesSubplot at 0x26347adbb00>"
      ]
     },
     "execution_count": 297,
     "metadata": {},
     "output_type": "execute_result"
    },
    {
     "data": {
      "image/png": "[encoded data removed]",
      "text/plain": [
       "<matplotlib.figure.Figure at 0x26346f594e0>"
      ]
     },
     "metadata": {},
     "output_type": "display_data"
    }
   ],
   "source": [
    "from sklearn.model_selection import learning_curve, validation_curve\n",
    "from sklearn_evaluation import plot\n",
    "train_sizes, train_scores, test_scores = learning_curve(bagging, pcm, output)\n",
    "plot.learning_curve(train_scores, test_scores, train_sizes)"
   ]
  },
  {
   "cell_type": "code",
   "execution_count": 298,
   "metadata": {},
   "outputs": [
    {
     "data": {
      "text/plain": [
       "0.99145848713613238"
      ]
     },
     "execution_count": 298,
     "metadata": {},
     "output_type": "execute_result"
    }
   ],
   "source": [
    "from sklearn.model_selection import cross_val_predict\n",
    "from sklearn import metrics\n",
    "predicted = cross_val_predict(bagging,pcm,output,cv=10)\n",
    "metrics.accuracy_score(output,predicted)"
   ]
  },
  {
   "cell_type": "markdown",
   "metadata": {},
   "source": [
    "14차원에서의 test score"
   ]
  },
  {
   "cell_type": "code",
   "execution_count": 299,
   "metadata": {},
   "outputs": [
    {
     "data": {
      "text/plain": [
       "0.37819999999999998"
      ]
     },
     "execution_count": 299,
     "metadata": {},
     "output_type": "execute_result"
    }
   ],
   "source": [
    "bagging.fit(pcm,output)\n",
    "bagging.score(tspcm,tsoutput)"
   ]
  },
  {
   "cell_type": "markdown",
   "metadata": {},
   "source": [
    "9차원에서의 test score"
   ]
  },
  {
   "cell_type": "code",
   "execution_count": 300,
   "metadata": {},
   "outputs": [
    {
     "data": {
      "text/plain": [
       "0.43290000000000001"
      ]
     },
     "execution_count": 300,
     "metadata": {},
     "output_type": "execute_result"
    }
   ],
   "source": [
    "bagging.fit(pcm2,output)\n",
    "bagging.score(tspcm2,tsoutput)"
   ]
  },
  {
   "cell_type": "markdown",
   "metadata": {},
   "source": [
    "5차원에서의 test score"
   ]
  },
  {
   "cell_type": "code",
   "execution_count": 301,
   "metadata": {},
   "outputs": [
    {
     "data": {
      "text/plain": [
       "0.432"
      ]
     },
     "execution_count": 301,
     "metadata": {},
     "output_type": "execute_result"
    }
   ],
   "source": [
    "bagging.fit(pcm3,output)\n",
    "bagging.score(tspcm3,tsoutput)"
   ]
  },
  {
   "cell_type": "markdown",
   "metadata": {},
   "source": [
    "bagging방법을써서 해본 결과 앞서한 모델들에 비해서 안좋은것을 확인 할 수 있었고,  \n",
    "train set에서 overfitting이 심하게 일어나는 것을 볼 수 있었다.  \n",
    "반대로 test set에서의 효과는 그렇게 좋지 않음을 볼 수 있었다."
   ]
  },
  {
   "cell_type": "markdown",
   "metadata": {},
   "source": [
    "## (10). LinearSVC  // 앞선 SVM에서 SVC대체"
   ]
  },
  {
   "cell_type": "code",
   "execution_count": 310,
   "metadata": {},
   "outputs": [
    {
     "data": {
      "text/plain": [
       "LinearSVC(C=1.0, class_weight=None, dual=True, fit_intercept=True,\n",
       "     intercept_scaling=1, loss='squared_hinge', max_iter=1000,\n",
       "     multi_class='ovr', penalty='l2', random_state=None, tol=0.0001,\n",
       "     verbose=0)"
      ]
     },
     "execution_count": 310,
     "metadata": {},
     "output_type": "execute_result"
    }
   ],
   "source": [
    "from sklearn.svm import LinearSVC\n",
    "ls=LinearSVC()\n",
    "ls.fit(pcm,output)"
   ]
  },
  {
   "cell_type": "code",
   "execution_count": 311,
   "metadata": {},
   "outputs": [
    {
     "data": {
      "text/plain": [
       "0.61609999999999998"
      ]
     },
     "execution_count": 311,
     "metadata": {},
     "output_type": "execute_result"
    }
   ],
   "source": [
    "ls.score(tspcm,tsoutput)"
   ]
  },
  {
   "cell_type": "markdown",
   "metadata": {},
   "source": [
    "이 경우에는 간략하게 보려한다.  \n",
    "SVM을 해보려 했으나 시간이 오래걸리므로 대안책으로 SVC를 시험해보았다.  \n",
    "다른것에 비해 시간이 오래걸려 그래프 그리는 것은 안하기로 하고 test data에 대하여 score를 보았다.  \n",
    "결과를 보았을때 다른것에 비해 좋은편이였지만 LogisticRegression에 비해선 안좋음을 볼 수 있었다.  \n",
    "그래도 그와 별반 차이 안나고 두번째로 좋은 모델이다."
   ]
  },
  {
   "cell_type": "markdown",
   "metadata": {},
   "source": [
    "# 5. 실험 결과"
   ]
  },
  {
   "cell_type": "markdown",
   "metadata": {},
   "source": [
    "총 9모델을 돌려보았다.  \n",
    "그중 시간이 너무 오래걸리는 SVM에서 SVC대신 뒤에서 LinearSVC로 대채하였고,  \n",
    "결과값이 이상하게 나오는 Kmeans를 빼면 총 8개의 모델이 된다. //clustring(Kmeans)(x)  \n",
    "==>decisionTree, knn, naive-bayes, randomforest, LinearSVC, mlp, logistic regression, ensemble(bagging)  \n",
    "여기서 test set에 대해서 가장 결과가 좋게나온 두 모델은 LinearSVC와 logistic regression이다.  \n",
    "그리고 이 둘 중에서도 logisticRegression에서 가장 좋은 결과가 나왔다.  \n",
    "이처럼 결과 내는 점이 맞는지는 확실하지 않지만 대부분 overfittig이 많이 남을 볼 수 있었고 그나마 저 두 모델에서 overfitting이 덜나고  \n",
    "test data에 대해서 조금더 좋은 결과를 얻을 수 있었다.  \n",
    "하지만 아직 미숙한터라 결과예측을 저렇게 하는 것이 맞는지에 대해선 확신을 못하겠다.  \n",
    "그래도 분석을 하자면 모델에 대해서 결과가 다르게 나오는 이유를 고르자면 가장큰 이유로 data처리에 있는 것 같다.  \n",
    "10만개이상의 데이터이고 각데이터마다 41개의 feature를 가지고 있는 이 데이터에서 feature scaling을 하는데 방법이 미숙하여  \n",
    "정확도가 많이 떨어지지 않았나 싶다.  \n",
    "그리고 내가 한 방법에서는 다른 모델들 보다 logistic regression에서 했을때 test data에 대해서 가장 좋은 accuracy를 보였다.  \n",
    "당연히 이 예측률도 좋지 않음을 알고 만약 더 많은 데이터가 있고 더 큰 데이터로 학습시킬수 있다면 더 좋은 성과를 낼 수 있을 것 같다.  \n",
    "정확도가 떨어지는 이유에는 기존의 주어진 train data와는 test data의 구성이 조금은 다르지 않나 싶다.  \n",
    "그이유로 대부분의 모델에서 overfitting이 나고 cross-validation의 값도 좋게 나오지만 test data에 대해선 좋지 않은 결과를 보인다.  \n",
    "test data와 비슷한 data또한 학습 data에 포함시킨다면 조금더 나은 정확도를 보일 수 있을 것이라 생각한다.  \n",
    "이번 실험에서 결과로는 위와 같은 방법으로 처리한 데이터에서는 logistic regression에서 주어진 test data가 가장 잘 맞았다.  \n",
    "하지만 또다른 test data가 주어진다면 다른 모델에서 더 높은 정확도를 보일 것같아, 어떤 모델이 더 확실히 좋다고 말하기는 힘들지 않나싶다.  \n",
    "따라서 만약 채점시 다른 데이터로 채점한다면 꼭 우리에게 주어진 data로 평가했을때 그 정확도가 높게나온 logisticRegression이 잘 예측한다고\n",
    "보장하기는 어렵고 다른 모델들을 다 돌려보아야 알수 있다고 생각한다.  \n",
    "아니면 조금더 많은 train data가 주어지고 적은비율의 test data가 주어진다면 더 좋은 예측률을 보일 것이다.\n"
   ]
  },
  {
   "cell_type": "code",
   "execution_count": null,
   "metadata": {
    "collapsed": true
   },
   "outputs": [],
   "source": []
  }
 ],
 "metadata": {
  "kernelspec": {
   "display_name": "Python 3",
   "language": "python",
   "name": "python3"
  },
  "language_info": {
   "codemirror_mode": {
    "name": "ipython",
    "version": 3
   },
   "file_extension": ".py",
   "mimetype": "text/x-python",
   "name": "python",
   "nbconvert_exporter": "python",
   "pygments_lexer": "ipython3",
   "version": "3.6.1"
  }
 },
 "nbformat": 4,
 "nbformat_minor": 2
}
